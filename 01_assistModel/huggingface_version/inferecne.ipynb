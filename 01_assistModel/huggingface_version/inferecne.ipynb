{
 "cells": [
  {
   "cell_type": "markdown",
   "metadata": {
    "id": "fOjNmCSjTcX-"
   },
   "source": [
    "## 환경 설정하기"
   ]
  },
  {
   "cell_type": "code",
   "execution_count": null,
   "metadata": {
    "colab": {
     "base_uri": "https://localhost:8080/"
    },
    "collapsed": true,
    "executionInfo": {
     "elapsed": 233609,
     "status": "ok",
     "timestamp": 1749620615474,
     "user": {
      "displayName": "최두성",
      "userId": "08438271081794727685"
     },
     "user_tz": -540
    },
    "id": "wJjVSS8YTZDw",
    "outputId": "f9af79b6-79a5-4c16-fbbc-70c65b4c0ad9"
   },
   "outputs": [
    {
     "name": "stdout",
     "output_type": "stream",
     "text": [
      "  Installing build dependencies ... \u001b[?25l\u001b[?25hdone\n",
      "  Getting requirements to build wheel ... \u001b[?25l\u001b[?25hdone\n",
      "  Preparing metadata (pyproject.toml) ... \u001b[?25l\u001b[?25hdone\n",
      "  Installing build dependencies ... \u001b[?25l\u001b[?25hdone\n",
      "  Getting requirements to build wheel ... \u001b[?25l\u001b[?25hdone\n",
      "  Preparing metadata (pyproject.toml) ... \u001b[?25l\u001b[?25hdone\n",
      "\u001b[2K   \u001b[90m━━━━━━━━━━━━━━━━━━━━━━━━━━━━━━━━━━━━━━━━\u001b[0m \u001b[32m491.5/491.5 kB\u001b[0m \u001b[31m32.1 MB/s\u001b[0m eta \u001b[36m0:00:00\u001b[0m\n",
      "\u001b[2K   \u001b[90m━━━━━━━━━━━━━━━━━━━━━━━━━━━━━━━━━━━━━━━━\u001b[0m \u001b[32m67.0/67.0 MB\u001b[0m \u001b[31m38.2 MB/s\u001b[0m eta \u001b[36m0:00:00\u001b[0m\n",
      "\u001b[2K   \u001b[90m━━━━━━━━━━━━━━━━━━━━━━━━━━━━━━━━━━━━━━━━\u001b[0m \u001b[32m23.2/23.2 MB\u001b[0m \u001b[31m85.4 MB/s\u001b[0m eta \u001b[36m0:00:00\u001b[0m\n",
      "\u001b[2K   \u001b[90m━━━━━━━━━━━━━━━━━━━━━━━━━━━━━━━━━━━━━━━━\u001b[0m \u001b[32m193.6/193.6 kB\u001b[0m \u001b[31m15.6 MB/s\u001b[0m eta \u001b[36m0:00:00\u001b[0m\n",
      "\u001b[2K   \u001b[90m━━━━━━━━━━━━━━━━━━━━━━━━━━━━━━━━━━━━━━━━\u001b[0m \u001b[32m363.4/363.4 MB\u001b[0m \u001b[31m3.1 MB/s\u001b[0m eta \u001b[36m0:00:00\u001b[0m\n",
      "\u001b[2K   \u001b[90m━━━━━━━━━━━━━━━━━━━━━━━━━━━━━━━━━━━━━━━━\u001b[0m \u001b[32m13.8/13.8 MB\u001b[0m \u001b[31m122.2 MB/s\u001b[0m eta \u001b[36m0:00:00\u001b[0m\n",
      "\u001b[2K   \u001b[90m━━━━━━━━━━━━━━━━━━━━━━━━━━━━━━━━━━━━━━━━\u001b[0m \u001b[32m24.6/24.6 MB\u001b[0m \u001b[31m77.2 MB/s\u001b[0m eta \u001b[36m0:00:00\u001b[0m\n",
      "\u001b[2K   \u001b[90m━━━━━━━━━━━━━━━━━━━━━━━━━━━━━━━━━━━━━━━━\u001b[0m \u001b[32m883.7/883.7 kB\u001b[0m \u001b[31m51.6 MB/s\u001b[0m eta \u001b[36m0:00:00\u001b[0m\n",
      "\u001b[2K   \u001b[90m━━━━━━━━━━━━━━━━━━━━━━━━━━━━━━━━━━━━━━━━\u001b[0m \u001b[32m664.8/664.8 MB\u001b[0m \u001b[31m1.7 MB/s\u001b[0m eta \u001b[36m0:00:00\u001b[0m\n",
      "\u001b[2K   \u001b[90m━━━━━━━━━━━━━━━━━━━━━━━━━━━━━━━━━━━━━━━━\u001b[0m \u001b[32m211.5/211.5 MB\u001b[0m \u001b[31m11.6 MB/s\u001b[0m eta \u001b[36m0:00:00\u001b[0m\n",
      "\u001b[2K   \u001b[90m━━━━━━━━━━━━━━━━━━━━━━━━━━━━━━━━━━━━━━━━\u001b[0m \u001b[32m56.3/56.3 MB\u001b[0m \u001b[31m42.3 MB/s\u001b[0m eta \u001b[36m0:00:00\u001b[0m\n",
      "\u001b[2K   \u001b[90m━━━━━━━━━━━━━━━━━━━━━━━━━━━━━━━━━━━━━━━━\u001b[0m \u001b[32m127.9/127.9 MB\u001b[0m \u001b[31m19.1 MB/s\u001b[0m eta \u001b[36m0:00:00\u001b[0m\n",
      "\u001b[2K   \u001b[90m━━━━━━━━━━━━━━━━━━━━━━━━━━━━━━━━━━━━━━━━\u001b[0m \u001b[32m207.5/207.5 MB\u001b[0m \u001b[31m3.3 MB/s\u001b[0m eta \u001b[36m0:00:00\u001b[0m\n",
      "\u001b[2K   \u001b[90m━━━━━━━━━━━━━━━━━━━━━━━━━━━━━━━━━━━━━━━━\u001b[0m \u001b[32m21.1/21.1 MB\u001b[0m \u001b[31m103.0 MB/s\u001b[0m eta \u001b[36m0:00:00\u001b[0m\n",
      "\u001b[2K   \u001b[90m━━━━━━━━━━━━━━━━━━━━━━━━━━━━━━━━━━━━━━━━\u001b[0m \u001b[32m35.3/35.3 MB\u001b[0m \u001b[31m64.0 MB/s\u001b[0m eta \u001b[36m0:00:00\u001b[0m\n",
      "\u001b[?25h  Building wheel for transformers (pyproject.toml) ... \u001b[?25l\u001b[?25hdone\n",
      "  Building wheel for trl (pyproject.toml) ... \u001b[?25l\u001b[?25hdone\n",
      "\u001b[31mERROR: pip's dependency resolver does not currently take into account all the packages that are installed. This behaviour is the source of the following dependency conflicts.\n",
      "gcsfs 2025.3.2 requires fsspec==2025.3.2, but you have fsspec 2025.3.0 which is incompatible.\u001b[0m\u001b[31m\n",
      "\u001b[2K     \u001b[90m━━━━━━━━━━━━━━━━━━━━━━━━━━━━━━━━━━━━━━━\u001b[0m \u001b[32m799.0/799.0 MB\u001b[0m \u001b[31m1.5 MB/s\u001b[0m eta \u001b[36m0:00:00\u001b[0m\n",
      "\u001b[2K     \u001b[90m━━━━━━━━━━━━━━━━━━━━━━━━━━━━━━━━━━━━━━━━\u001b[0m \u001b[32m7.1/7.1 MB\u001b[0m \u001b[31m124.2 MB/s\u001b[0m eta \u001b[36m0:00:00\u001b[0m\n",
      "\u001b[2K     \u001b[90m━━━━━━━━━━━━━━━━━━━━━━━━━━━━━━━━━━━━━━━━\u001b[0m \u001b[32m3.4/3.4 MB\u001b[0m \u001b[31m105.2 MB/s\u001b[0m eta \u001b[36m0:00:00\u001b[0m\n",
      "\u001b[2K     \u001b[90m━━━━━━━━━━━━━━━━━━━━━━━━━━━━━━━━━━━━━━━━\u001b[0m \u001b[32m23.7/23.7 MB\u001b[0m \u001b[31m96.9 MB/s\u001b[0m eta \u001b[36m0:00:00\u001b[0m\n",
      "\u001b[2K     \u001b[90m━━━━━━━━━━━━━━━━━━━━━━━━━━━━━━━━━━━━━━\u001b[0m \u001b[32m823.6/823.6 kB\u001b[0m \u001b[31m45.3 MB/s\u001b[0m eta \u001b[36m0:00:00\u001b[0m\n",
      "\u001b[2K     \u001b[90m━━━━━━━━━━━━━━━━━━━━━━━━━━━━━━━━━━━━━━━\u001b[0m \u001b[32m14.1/14.1 MB\u001b[0m \u001b[31m121.7 MB/s\u001b[0m eta \u001b[36m0:00:00\u001b[0m\n",
      "\u001b[2K     \u001b[90m━━━━━━━━━━━━━━━━━━━━━━━━━━━━━━━━━━━━━━━\u001b[0m \u001b[32m410.6/410.6 MB\u001b[0m \u001b[31m2.5 MB/s\u001b[0m eta \u001b[36m0:00:00\u001b[0m\n",
      "\u001b[2K     \u001b[90m━━━━━━━━━━━━━━━━━━━━━━━━━━━━━━━━━━━━━━\u001b[0m \u001b[32m121.6/121.6 MB\u001b[0m \u001b[31m20.5 MB/s\u001b[0m eta \u001b[36m0:00:00\u001b[0m\n",
      "\u001b[2K     \u001b[90m━━━━━━━━━━━━━━━━━━━━━━━━━━━━━━━━━━━━━━━━\u001b[0m \u001b[32m56.5/56.5 MB\u001b[0m \u001b[31m44.1 MB/s\u001b[0m eta \u001b[36m0:00:00\u001b[0m\n",
      "\u001b[2K     \u001b[90m━━━━━━━━━━━━━━━━━━━━━━━━━━━━━━━━━━━━━━━\u001b[0m \u001b[32m124.2/124.2 MB\u001b[0m \u001b[31m7.4 MB/s\u001b[0m eta \u001b[36m0:00:00\u001b[0m\n",
      "\u001b[2K     \u001b[90m━━━━━━━━━━━━━━━━━━━━━━━━━━━━━━━━━━━━━━\u001b[0m \u001b[32m196.0/196.0 MB\u001b[0m \u001b[31m12.9 MB/s\u001b[0m eta \u001b[36m0:00:00\u001b[0m\n",
      "\u001b[2K     \u001b[90m━━━━━━━━━━━━━━━━━━━━━━━━━━━━━━━━━━━━━━━\u001b[0m \u001b[32m176.2/176.2 MB\u001b[0m \u001b[31m6.3 MB/s\u001b[0m eta \u001b[36m0:00:00\u001b[0m\n",
      "\u001b[2K     \u001b[90m━━━━━━━━━━━━━━━━━━━━━━━━━━━━━━━━━━━━━━━━\u001b[0m \u001b[32m99.1/99.1 kB\u001b[0m \u001b[31m7.9 MB/s\u001b[0m eta \u001b[36m0:00:00\u001b[0m\n",
      "\u001b[2K     \u001b[90m━━━━━━━━━━━━━━━━━━━━━━━━━━━━━━━━━━━━━━━\u001b[0m \u001b[32m209.4/209.4 MB\u001b[0m \u001b[31m6.5 MB/s\u001b[0m eta \u001b[36m0:00:00\u001b[0m\n",
      "\u001b[?25h"
     ]
    }
   ],
   "source": [
    "!pip install  -U -q git+https://github.com/huggingface/transformers.git git+https://github.com/huggingface/trl.git datasets bitsandbytes peft qwen-vl-utils wandb accelerate\n",
    "# Tested with transformers==4.47.0.dev0, trl==0.12.0.dev0, datasets==3.0.2, bitsandbytes==0.44.1, peft==0.13.2, qwen-vl-utils==0.0.8, wandb==0.18.5, accelerate==1.0.1\n",
    "\n",
    "!pip install -q torch==2.4.1+cu121 torchvision==0.19.1+cu121 torchaudio==2.4.1+cu121 --extra-index-url https://download.pytorch.org/whl/cu121"
   ]
  },
  {
   "cell_type": "code",
   "execution_count": null,
   "metadata": {
    "colab": {
     "base_uri": "https://localhost:8080/"
    },
    "collapsed": true,
    "executionInfo": {
     "elapsed": 27187,
     "status": "ok",
     "timestamp": 1749620642656,
     "user": {
      "displayName": "최두성",
      "userId": "08438271081794727685"
     },
     "user_tz": -540
    },
    "id": "1876p88RVGf4",
    "outputId": "b9c93af3-751f-42dd-fb06-0dabe89e762a"
   },
   "outputs": [
    {
     "name": "stdout",
     "output_type": "stream",
     "text": [
      "Requirement already satisfied: datasets in /usr/local/lib/python3.11/dist-packages (3.6.0)\n",
      "Requirement already satisfied: huggingface_hub in /usr/local/lib/python3.11/dist-packages (0.32.4)\n",
      "Collecting huggingface_hub\n",
      "  Downloading huggingface_hub-0.32.5-py3-none-any.whl.metadata (14 kB)\n",
      "Requirement already satisfied: fsspec in /usr/local/lib/python3.11/dist-packages (2025.3.0)\n",
      "Collecting fsspec\n",
      "  Downloading fsspec-2025.5.1-py3-none-any.whl.metadata (11 kB)\n",
      "Requirement already satisfied: filelock in /usr/local/lib/python3.11/dist-packages (from datasets) (3.18.0)\n",
      "Requirement already satisfied: numpy>=1.17 in /usr/local/lib/python3.11/dist-packages (from datasets) (2.0.2)\n",
      "Requirement already satisfied: pyarrow>=15.0.0 in /usr/local/lib/python3.11/dist-packages (from datasets) (18.1.0)\n",
      "Requirement already satisfied: dill<0.3.9,>=0.3.0 in /usr/local/lib/python3.11/dist-packages (from datasets) (0.3.7)\n",
      "Requirement already satisfied: pandas in /usr/local/lib/python3.11/dist-packages (from datasets) (2.2.2)\n",
      "Requirement already satisfied: requests>=2.32.2 in /usr/local/lib/python3.11/dist-packages (from datasets) (2.32.3)\n",
      "Requirement already satisfied: tqdm>=4.66.3 in /usr/local/lib/python3.11/dist-packages (from datasets) (4.67.1)\n",
      "Requirement already satisfied: xxhash in /usr/local/lib/python3.11/dist-packages (from datasets) (3.5.0)\n",
      "Requirement already satisfied: multiprocess<0.70.17 in /usr/local/lib/python3.11/dist-packages (from datasets) (0.70.15)\n",
      "Requirement already satisfied: packaging in /usr/local/lib/python3.11/dist-packages (from datasets) (24.2)\n",
      "Requirement already satisfied: pyyaml>=5.1 in /usr/local/lib/python3.11/dist-packages (from datasets) (6.0.2)\n",
      "Requirement already satisfied: typing-extensions>=3.7.4.3 in /usr/local/lib/python3.11/dist-packages (from huggingface_hub) (4.14.0)\n",
      "Requirement already satisfied: hf-xet<2.0.0,>=1.1.2 in /usr/local/lib/python3.11/dist-packages (from huggingface_hub) (1.1.2)\n",
      "Requirement already satisfied: aiohttp!=4.0.0a0,!=4.0.0a1 in /usr/local/lib/python3.11/dist-packages (from fsspec[http]<=2025.3.0,>=2023.1.0->datasets) (3.11.15)\n",
      "Requirement already satisfied: charset-normalizer<4,>=2 in /usr/local/lib/python3.11/dist-packages (from requests>=2.32.2->datasets) (3.4.2)\n",
      "Requirement already satisfied: idna<4,>=2.5 in /usr/local/lib/python3.11/dist-packages (from requests>=2.32.2->datasets) (3.10)\n",
      "Requirement already satisfied: urllib3<3,>=1.21.1 in /usr/local/lib/python3.11/dist-packages (from requests>=2.32.2->datasets) (2.4.0)\n",
      "Requirement already satisfied: certifi>=2017.4.17 in /usr/local/lib/python3.11/dist-packages (from requests>=2.32.2->datasets) (2025.4.26)\n",
      "Requirement already satisfied: python-dateutil>=2.8.2 in /usr/local/lib/python3.11/dist-packages (from pandas->datasets) (2.9.0.post0)\n",
      "Requirement already satisfied: pytz>=2020.1 in /usr/local/lib/python3.11/dist-packages (from pandas->datasets) (2025.2)\n",
      "Requirement already satisfied: tzdata>=2022.7 in /usr/local/lib/python3.11/dist-packages (from pandas->datasets) (2025.2)\n",
      "Requirement already satisfied: aiohappyeyeballs>=2.3.0 in /usr/local/lib/python3.11/dist-packages (from aiohttp!=4.0.0a0,!=4.0.0a1->fsspec[http]<=2025.3.0,>=2023.1.0->datasets) (2.6.1)\n",
      "Requirement already satisfied: aiosignal>=1.1.2 in /usr/local/lib/python3.11/dist-packages (from aiohttp!=4.0.0a0,!=4.0.0a1->fsspec[http]<=2025.3.0,>=2023.1.0->datasets) (1.3.2)\n",
      "Requirement already satisfied: attrs>=17.3.0 in /usr/local/lib/python3.11/dist-packages (from aiohttp!=4.0.0a0,!=4.0.0a1->fsspec[http]<=2025.3.0,>=2023.1.0->datasets) (25.3.0)\n",
      "Requirement already satisfied: frozenlist>=1.1.1 in /usr/local/lib/python3.11/dist-packages (from aiohttp!=4.0.0a0,!=4.0.0a1->fsspec[http]<=2025.3.0,>=2023.1.0->datasets) (1.6.0)\n",
      "Requirement already satisfied: multidict<7.0,>=4.5 in /usr/local/lib/python3.11/dist-packages (from aiohttp!=4.0.0a0,!=4.0.0a1->fsspec[http]<=2025.3.0,>=2023.1.0->datasets) (6.4.4)\n",
      "Requirement already satisfied: propcache>=0.2.0 in /usr/local/lib/python3.11/dist-packages (from aiohttp!=4.0.0a0,!=4.0.0a1->fsspec[http]<=2025.3.0,>=2023.1.0->datasets) (0.3.1)\n",
      "Requirement already satisfied: yarl<2.0,>=1.17.0 in /usr/local/lib/python3.11/dist-packages (from aiohttp!=4.0.0a0,!=4.0.0a1->fsspec[http]<=2025.3.0,>=2023.1.0->datasets) (1.20.0)\n",
      "Requirement already satisfied: six>=1.5 in /usr/local/lib/python3.11/dist-packages (from python-dateutil>=2.8.2->pandas->datasets) (1.17.0)\n",
      "Downloading huggingface_hub-0.32.5-py3-none-any.whl (512 kB)\n",
      "\u001b[2K   \u001b[90m━━━━━━━━━━━━━━━━━━━━━━━━━━━━━━━━━━━━━━━━\u001b[0m \u001b[32m512.8/512.8 kB\u001b[0m \u001b[31m29.0 MB/s\u001b[0m eta \u001b[36m0:00:00\u001b[0m\n",
      "\u001b[?25hInstalling collected packages: huggingface_hub\n",
      "  Attempting uninstall: huggingface_hub\n",
      "    Found existing installation: huggingface-hub 0.32.4\n",
      "    Uninstalling huggingface-hub-0.32.4:\n",
      "      Successfully uninstalled huggingface-hub-0.32.4\n",
      "Successfully installed huggingface_hub-0.32.5\n",
      "Requirement already satisfied: openai in /usr/local/lib/python3.11/dist-packages (1.84.0)\n",
      "Collecting openai\n",
      "  Downloading openai-1.86.0-py3-none-any.whl.metadata (25 kB)\n",
      "Requirement already satisfied: anyio<5,>=3.5.0 in /usr/local/lib/python3.11/dist-packages (from openai) (4.9.0)\n",
      "Requirement already satisfied: distro<2,>=1.7.0 in /usr/local/lib/python3.11/dist-packages (from openai) (1.9.0)\n",
      "Requirement already satisfied: httpx<1,>=0.23.0 in /usr/local/lib/python3.11/dist-packages (from openai) (0.28.1)\n",
      "Requirement already satisfied: jiter<1,>=0.4.0 in /usr/local/lib/python3.11/dist-packages (from openai) (0.10.0)\n",
      "Requirement already satisfied: pydantic<3,>=1.9.0 in /usr/local/lib/python3.11/dist-packages (from openai) (2.11.5)\n",
      "Requirement already satisfied: sniffio in /usr/local/lib/python3.11/dist-packages (from openai) (1.3.1)\n",
      "Requirement already satisfied: tqdm>4 in /usr/local/lib/python3.11/dist-packages (from openai) (4.67.1)\n",
      "Requirement already satisfied: typing-extensions<5,>=4.11 in /usr/local/lib/python3.11/dist-packages (from openai) (4.14.0)\n",
      "Requirement already satisfied: idna>=2.8 in /usr/local/lib/python3.11/dist-packages (from anyio<5,>=3.5.0->openai) (3.10)\n",
      "Requirement already satisfied: certifi in /usr/local/lib/python3.11/dist-packages (from httpx<1,>=0.23.0->openai) (2025.4.26)\n",
      "Requirement already satisfied: httpcore==1.* in /usr/local/lib/python3.11/dist-packages (from httpx<1,>=0.23.0->openai) (1.0.9)\n",
      "Requirement already satisfied: h11>=0.16 in /usr/local/lib/python3.11/dist-packages (from httpcore==1.*->httpx<1,>=0.23.0->openai) (0.16.0)\n",
      "Requirement already satisfied: annotated-types>=0.6.0 in /usr/local/lib/python3.11/dist-packages (from pydantic<3,>=1.9.0->openai) (0.7.0)\n",
      "Requirement already satisfied: pydantic-core==2.33.2 in /usr/local/lib/python3.11/dist-packages (from pydantic<3,>=1.9.0->openai) (2.33.2)\n",
      "Requirement already satisfied: typing-inspection>=0.4.0 in /usr/local/lib/python3.11/dist-packages (from pydantic<3,>=1.9.0->openai) (0.4.1)\n",
      "Downloading openai-1.86.0-py3-none-any.whl (730 kB)\n",
      "\u001b[2K   \u001b[90m━━━━━━━━━━━━━━━━━━━━━━━━━━━━━━━━━━━━━━━━\u001b[0m \u001b[32m730.3/730.3 kB\u001b[0m \u001b[31m37.9 MB/s\u001b[0m eta \u001b[36m0:00:00\u001b[0m\n",
      "\u001b[?25hInstalling collected packages: openai\n",
      "  Attempting uninstall: openai\n",
      "    Found existing installation: openai 1.84.0\n",
      "    Uninstalling openai-1.84.0:\n",
      "      Successfully uninstalled openai-1.84.0\n",
      "Successfully installed openai-1.86.0\n",
      "Collecting langchain-openai\n",
      "  Downloading langchain_openai-0.3.22-py3-none-any.whl.metadata (2.3 kB)\n",
      "Collecting langchain-core<1.0.0,>=0.3.64 (from langchain-openai)\n",
      "  Downloading langchain_core-0.3.65-py3-none-any.whl.metadata (5.8 kB)\n",
      "Requirement already satisfied: openai<2.0.0,>=1.68.2 in /usr/local/lib/python3.11/dist-packages (from langchain-openai) (1.86.0)\n",
      "Requirement already satisfied: tiktoken<1,>=0.7 in /usr/local/lib/python3.11/dist-packages (from langchain-openai) (0.9.0)\n",
      "Collecting langsmith<0.4,>=0.3.45 (from langchain-core<1.0.0,>=0.3.64->langchain-openai)\n",
      "  Downloading langsmith-0.3.45-py3-none-any.whl.metadata (15 kB)\n",
      "Requirement already satisfied: tenacity!=8.4.0,<10.0.0,>=8.1.0 in /usr/local/lib/python3.11/dist-packages (from langchain-core<1.0.0,>=0.3.64->langchain-openai) (9.1.2)\n",
      "Requirement already satisfied: jsonpatch<2.0,>=1.33 in /usr/local/lib/python3.11/dist-packages (from langchain-core<1.0.0,>=0.3.64->langchain-openai) (1.33)\n",
      "Requirement already satisfied: PyYAML>=5.3 in /usr/local/lib/python3.11/dist-packages (from langchain-core<1.0.0,>=0.3.64->langchain-openai) (6.0.2)\n",
      "Requirement already satisfied: packaging<25,>=23.2 in /usr/local/lib/python3.11/dist-packages (from langchain-core<1.0.0,>=0.3.64->langchain-openai) (24.2)\n",
      "Requirement already satisfied: typing-extensions>=4.7 in /usr/local/lib/python3.11/dist-packages (from langchain-core<1.0.0,>=0.3.64->langchain-openai) (4.14.0)\n",
      "Requirement already satisfied: pydantic>=2.7.4 in /usr/local/lib/python3.11/dist-packages (from langchain-core<1.0.0,>=0.3.64->langchain-openai) (2.11.5)\n",
      "Requirement already satisfied: anyio<5,>=3.5.0 in /usr/local/lib/python3.11/dist-packages (from openai<2.0.0,>=1.68.2->langchain-openai) (4.9.0)\n",
      "Requirement already satisfied: distro<2,>=1.7.0 in /usr/local/lib/python3.11/dist-packages (from openai<2.0.0,>=1.68.2->langchain-openai) (1.9.0)\n",
      "Requirement already satisfied: httpx<1,>=0.23.0 in /usr/local/lib/python3.11/dist-packages (from openai<2.0.0,>=1.68.2->langchain-openai) (0.28.1)\n",
      "Requirement already satisfied: jiter<1,>=0.4.0 in /usr/local/lib/python3.11/dist-packages (from openai<2.0.0,>=1.68.2->langchain-openai) (0.10.0)\n",
      "Requirement already satisfied: sniffio in /usr/local/lib/python3.11/dist-packages (from openai<2.0.0,>=1.68.2->langchain-openai) (1.3.1)\n",
      "Requirement already satisfied: tqdm>4 in /usr/local/lib/python3.11/dist-packages (from openai<2.0.0,>=1.68.2->langchain-openai) (4.67.1)\n",
      "Requirement already satisfied: regex>=2022.1.18 in /usr/local/lib/python3.11/dist-packages (from tiktoken<1,>=0.7->langchain-openai) (2024.11.6)\n",
      "Requirement already satisfied: requests>=2.26.0 in /usr/local/lib/python3.11/dist-packages (from tiktoken<1,>=0.7->langchain-openai) (2.32.3)\n",
      "Requirement already satisfied: idna>=2.8 in /usr/local/lib/python3.11/dist-packages (from anyio<5,>=3.5.0->openai<2.0.0,>=1.68.2->langchain-openai) (3.10)\n",
      "Requirement already satisfied: certifi in /usr/local/lib/python3.11/dist-packages (from httpx<1,>=0.23.0->openai<2.0.0,>=1.68.2->langchain-openai) (2025.4.26)\n",
      "Requirement already satisfied: httpcore==1.* in /usr/local/lib/python3.11/dist-packages (from httpx<1,>=0.23.0->openai<2.0.0,>=1.68.2->langchain-openai) (1.0.9)\n",
      "Requirement already satisfied: h11>=0.16 in /usr/local/lib/python3.11/dist-packages (from httpcore==1.*->httpx<1,>=0.23.0->openai<2.0.0,>=1.68.2->langchain-openai) (0.16.0)\n",
      "Requirement already satisfied: jsonpointer>=1.9 in /usr/local/lib/python3.11/dist-packages (from jsonpatch<2.0,>=1.33->langchain-core<1.0.0,>=0.3.64->langchain-openai) (3.0.0)\n",
      "Requirement already satisfied: orjson<4.0.0,>=3.9.14 in /usr/local/lib/python3.11/dist-packages (from langsmith<0.4,>=0.3.45->langchain-core<1.0.0,>=0.3.64->langchain-openai) (3.10.18)\n",
      "Requirement already satisfied: requests-toolbelt<2.0.0,>=1.0.0 in /usr/local/lib/python3.11/dist-packages (from langsmith<0.4,>=0.3.45->langchain-core<1.0.0,>=0.3.64->langchain-openai) (1.0.0)\n",
      "Requirement already satisfied: zstandard<0.24.0,>=0.23.0 in /usr/local/lib/python3.11/dist-packages (from langsmith<0.4,>=0.3.45->langchain-core<1.0.0,>=0.3.64->langchain-openai) (0.23.0)\n",
      "Requirement already satisfied: annotated-types>=0.6.0 in /usr/local/lib/python3.11/dist-packages (from pydantic>=2.7.4->langchain-core<1.0.0,>=0.3.64->langchain-openai) (0.7.0)\n",
      "Requirement already satisfied: pydantic-core==2.33.2 in /usr/local/lib/python3.11/dist-packages (from pydantic>=2.7.4->langchain-core<1.0.0,>=0.3.64->langchain-openai) (2.33.2)\n",
      "Requirement already satisfied: typing-inspection>=0.4.0 in /usr/local/lib/python3.11/dist-packages (from pydantic>=2.7.4->langchain-core<1.0.0,>=0.3.64->langchain-openai) (0.4.1)\n",
      "Requirement already satisfied: charset-normalizer<4,>=2 in /usr/local/lib/python3.11/dist-packages (from requests>=2.26.0->tiktoken<1,>=0.7->langchain-openai) (3.4.2)\n",
      "Requirement already satisfied: urllib3<3,>=1.21.1 in /usr/local/lib/python3.11/dist-packages (from requests>=2.26.0->tiktoken<1,>=0.7->langchain-openai) (2.4.0)\n",
      "Downloading langchain_openai-0.3.22-py3-none-any.whl (65 kB)\n",
      "\u001b[2K   \u001b[90m━━━━━━━━━━━━━━━━━━━━━━━━━━━━━━━━━━━━━━━━\u001b[0m \u001b[32m65.3/65.3 kB\u001b[0m \u001b[31m5.1 MB/s\u001b[0m eta \u001b[36m0:00:00\u001b[0m\n",
      "\u001b[?25hDownloading langchain_core-0.3.65-py3-none-any.whl (438 kB)\n",
      "\u001b[2K   \u001b[90m━━━━━━━━━━━━━━━━━━━━━━━━━━━━━━━━━━━━━━━━\u001b[0m \u001b[32m438.1/438.1 kB\u001b[0m \u001b[31m28.5 MB/s\u001b[0m eta \u001b[36m0:00:00\u001b[0m\n",
      "\u001b[?25hDownloading langsmith-0.3.45-py3-none-any.whl (363 kB)\n",
      "\u001b[2K   \u001b[90m━━━━━━━━━━━━━━━━━━━━━━━━━━━━━━━━━━━━━━━━\u001b[0m \u001b[32m363.0/363.0 kB\u001b[0m \u001b[31m25.2 MB/s\u001b[0m eta \u001b[36m0:00:00\u001b[0m\n",
      "\u001b[?25hInstalling collected packages: langsmith, langchain-core, langchain-openai\n",
      "  Attempting uninstall: langsmith\n",
      "    Found existing installation: langsmith 0.3.44\n",
      "    Uninstalling langsmith-0.3.44:\n",
      "      Successfully uninstalled langsmith-0.3.44\n",
      "  Attempting uninstall: langchain-core\n",
      "    Found existing installation: langchain-core 0.3.63\n",
      "    Uninstalling langchain-core-0.3.63:\n",
      "      Successfully uninstalled langchain-core-0.3.63\n",
      "Successfully installed langchain-core-0.3.65 langchain-openai-0.3.22 langsmith-0.3.45\n",
      "Requirement already satisfied: tiktoken in /usr/local/lib/python3.11/dist-packages (0.9.0)\n",
      "Requirement already satisfied: regex>=2022.1.18 in /usr/local/lib/python3.11/dist-packages (from tiktoken) (2024.11.6)\n",
      "Requirement already satisfied: requests>=2.26.0 in /usr/local/lib/python3.11/dist-packages (from tiktoken) (2.32.3)\n",
      "Requirement already satisfied: charset-normalizer<4,>=2 in /usr/local/lib/python3.11/dist-packages (from requests>=2.26.0->tiktoken) (3.4.2)\n",
      "Requirement already satisfied: idna<4,>=2.5 in /usr/local/lib/python3.11/dist-packages (from requests>=2.26.0->tiktoken) (3.10)\n",
      "Requirement already satisfied: urllib3<3,>=1.21.1 in /usr/local/lib/python3.11/dist-packages (from requests>=2.26.0->tiktoken) (2.4.0)\n",
      "Requirement already satisfied: certifi>=2017.4.17 in /usr/local/lib/python3.11/dist-packages (from requests>=2.26.0->tiktoken) (2025.4.26)\n",
      "Collecting langgraph\n",
      "  Downloading langgraph-0.4.8-py3-none-any.whl.metadata (6.8 kB)\n",
      "Requirement already satisfied: langchain-core>=0.1 in /usr/local/lib/python3.11/dist-packages (from langgraph) (0.3.65)\n",
      "Collecting langgraph-checkpoint>=2.0.26 (from langgraph)\n",
      "  Downloading langgraph_checkpoint-2.0.26-py3-none-any.whl.metadata (4.6 kB)\n",
      "Collecting langgraph-prebuilt>=0.2.0 (from langgraph)\n",
      "  Downloading langgraph_prebuilt-0.2.2-py3-none-any.whl.metadata (4.5 kB)\n",
      "Collecting langgraph-sdk>=0.1.42 (from langgraph)\n",
      "  Downloading langgraph_sdk-0.1.70-py3-none-any.whl.metadata (1.5 kB)\n",
      "Requirement already satisfied: pydantic>=2.7.4 in /usr/local/lib/python3.11/dist-packages (from langgraph) (2.11.5)\n",
      "Requirement already satisfied: xxhash>=3.5.0 in /usr/local/lib/python3.11/dist-packages (from langgraph) (3.5.0)\n",
      "Requirement already satisfied: langsmith<0.4,>=0.3.45 in /usr/local/lib/python3.11/dist-packages (from langchain-core>=0.1->langgraph) (0.3.45)\n",
      "Requirement already satisfied: tenacity!=8.4.0,<10.0.0,>=8.1.0 in /usr/local/lib/python3.11/dist-packages (from langchain-core>=0.1->langgraph) (9.1.2)\n",
      "Requirement already satisfied: jsonpatch<2.0,>=1.33 in /usr/local/lib/python3.11/dist-packages (from langchain-core>=0.1->langgraph) (1.33)\n",
      "Requirement already satisfied: PyYAML>=5.3 in /usr/local/lib/python3.11/dist-packages (from langchain-core>=0.1->langgraph) (6.0.2)\n",
      "Requirement already satisfied: packaging<25,>=23.2 in /usr/local/lib/python3.11/dist-packages (from langchain-core>=0.1->langgraph) (24.2)\n",
      "Requirement already satisfied: typing-extensions>=4.7 in /usr/local/lib/python3.11/dist-packages (from langchain-core>=0.1->langgraph) (4.14.0)\n",
      "Collecting ormsgpack<2.0.0,>=1.8.0 (from langgraph-checkpoint>=2.0.26->langgraph)\n",
      "  Downloading ormsgpack-1.10.0-cp311-cp311-manylinux_2_17_x86_64.manylinux2014_x86_64.whl.metadata (43 kB)\n",
      "\u001b[2K     \u001b[90m━━━━━━━━━━━━━━━━━━━━━━━━━━━━━━━━━━━━━━━━\u001b[0m \u001b[32m43.7/43.7 kB\u001b[0m \u001b[31m3.0 MB/s\u001b[0m eta \u001b[36m0:00:00\u001b[0m\n",
      "\u001b[?25hRequirement already satisfied: httpx>=0.25.2 in /usr/local/lib/python3.11/dist-packages (from langgraph-sdk>=0.1.42->langgraph) (0.28.1)\n",
      "Requirement already satisfied: orjson>=3.10.1 in /usr/local/lib/python3.11/dist-packages (from langgraph-sdk>=0.1.42->langgraph) (3.10.18)\n",
      "Requirement already satisfied: annotated-types>=0.6.0 in /usr/local/lib/python3.11/dist-packages (from pydantic>=2.7.4->langgraph) (0.7.0)\n",
      "Requirement already satisfied: pydantic-core==2.33.2 in /usr/local/lib/python3.11/dist-packages (from pydantic>=2.7.4->langgraph) (2.33.2)\n",
      "Requirement already satisfied: typing-inspection>=0.4.0 in /usr/local/lib/python3.11/dist-packages (from pydantic>=2.7.4->langgraph) (0.4.1)\n",
      "Requirement already satisfied: anyio in /usr/local/lib/python3.11/dist-packages (from httpx>=0.25.2->langgraph-sdk>=0.1.42->langgraph) (4.9.0)\n",
      "Requirement already satisfied: certifi in /usr/local/lib/python3.11/dist-packages (from httpx>=0.25.2->langgraph-sdk>=0.1.42->langgraph) (2025.4.26)\n",
      "Requirement already satisfied: httpcore==1.* in /usr/local/lib/python3.11/dist-packages (from httpx>=0.25.2->langgraph-sdk>=0.1.42->langgraph) (1.0.9)\n",
      "Requirement already satisfied: idna in /usr/local/lib/python3.11/dist-packages (from httpx>=0.25.2->langgraph-sdk>=0.1.42->langgraph) (3.10)\n",
      "Requirement already satisfied: h11>=0.16 in /usr/local/lib/python3.11/dist-packages (from httpcore==1.*->httpx>=0.25.2->langgraph-sdk>=0.1.42->langgraph) (0.16.0)\n",
      "Requirement already satisfied: jsonpointer>=1.9 in /usr/local/lib/python3.11/dist-packages (from jsonpatch<2.0,>=1.33->langchain-core>=0.1->langgraph) (3.0.0)\n",
      "Requirement already satisfied: requests<3,>=2 in /usr/local/lib/python3.11/dist-packages (from langsmith<0.4,>=0.3.45->langchain-core>=0.1->langgraph) (2.32.3)\n",
      "Requirement already satisfied: requests-toolbelt<2.0.0,>=1.0.0 in /usr/local/lib/python3.11/dist-packages (from langsmith<0.4,>=0.3.45->langchain-core>=0.1->langgraph) (1.0.0)\n",
      "Requirement already satisfied: zstandard<0.24.0,>=0.23.0 in /usr/local/lib/python3.11/dist-packages (from langsmith<0.4,>=0.3.45->langchain-core>=0.1->langgraph) (0.23.0)\n",
      "Requirement already satisfied: charset-normalizer<4,>=2 in /usr/local/lib/python3.11/dist-packages (from requests<3,>=2->langsmith<0.4,>=0.3.45->langchain-core>=0.1->langgraph) (3.4.2)\n",
      "Requirement already satisfied: urllib3<3,>=1.21.1 in /usr/local/lib/python3.11/dist-packages (from requests<3,>=2->langsmith<0.4,>=0.3.45->langchain-core>=0.1->langgraph) (2.4.0)\n",
      "Requirement already satisfied: sniffio>=1.1 in /usr/local/lib/python3.11/dist-packages (from anyio->httpx>=0.25.2->langgraph-sdk>=0.1.42->langgraph) (1.3.1)\n",
      "Downloading langgraph-0.4.8-py3-none-any.whl (152 kB)\n",
      "\u001b[2K   \u001b[90m━━━━━━━━━━━━━━━━━━━━━━━━━━━━━━━━━━━━━━━━\u001b[0m \u001b[32m152.4/152.4 kB\u001b[0m \u001b[31m12.4 MB/s\u001b[0m eta \u001b[36m0:00:00\u001b[0m\n",
      "\u001b[?25hDownloading langgraph_checkpoint-2.0.26-py3-none-any.whl (44 kB)\n",
      "\u001b[2K   \u001b[90m━━━━━━━━━━━━━━━━━━━━━━━━━━━━━━━━━━━━━━━━\u001b[0m \u001b[32m44.2/44.2 kB\u001b[0m \u001b[31m3.8 MB/s\u001b[0m eta \u001b[36m0:00:00\u001b[0m\n",
      "\u001b[?25hDownloading langgraph_prebuilt-0.2.2-py3-none-any.whl (23 kB)\n",
      "Downloading langgraph_sdk-0.1.70-py3-none-any.whl (49 kB)\n",
      "\u001b[2K   \u001b[90m━━━━━━━━━━━━━━━━━━━━━━━━━━━━━━━━━━━━━━━━\u001b[0m \u001b[32m50.0/50.0 kB\u001b[0m \u001b[31m3.9 MB/s\u001b[0m eta \u001b[36m0:00:00\u001b[0m\n",
      "\u001b[?25hDownloading ormsgpack-1.10.0-cp311-cp311-manylinux_2_17_x86_64.manylinux2014_x86_64.whl (216 kB)\n",
      "\u001b[2K   \u001b[90m━━━━━━━━━━━━━━━━━━━━━━━━━━━━━━━━━━━━━━━━\u001b[0m \u001b[32m216.5/216.5 kB\u001b[0m \u001b[31m17.8 MB/s\u001b[0m eta \u001b[36m0:00:00\u001b[0m\n",
      "\u001b[?25hInstalling collected packages: ormsgpack, langgraph-sdk, langgraph-checkpoint, langgraph-prebuilt, langgraph\n",
      "Successfully installed langgraph-0.4.8 langgraph-checkpoint-2.0.26 langgraph-prebuilt-0.2.2 langgraph-sdk-0.1.70 ormsgpack-1.10.0\n",
      "Requirement already satisfied: langchain in /usr/local/lib/python3.11/dist-packages (0.3.25)\n",
      "Requirement already satisfied: langchain-core<1.0.0,>=0.3.58 in /usr/local/lib/python3.11/dist-packages (from langchain) (0.3.65)\n",
      "Requirement already satisfied: langchain-text-splitters<1.0.0,>=0.3.8 in /usr/local/lib/python3.11/dist-packages (from langchain) (0.3.8)\n",
      "Requirement already satisfied: langsmith<0.4,>=0.1.17 in /usr/local/lib/python3.11/dist-packages (from langchain) (0.3.45)\n",
      "Requirement already satisfied: pydantic<3.0.0,>=2.7.4 in /usr/local/lib/python3.11/dist-packages (from langchain) (2.11.5)\n",
      "Requirement already satisfied: SQLAlchemy<3,>=1.4 in /usr/local/lib/python3.11/dist-packages (from langchain) (2.0.41)\n",
      "Requirement already satisfied: requests<3,>=2 in /usr/local/lib/python3.11/dist-packages (from langchain) (2.32.3)\n",
      "Requirement already satisfied: PyYAML>=5.3 in /usr/local/lib/python3.11/dist-packages (from langchain) (6.0.2)\n",
      "Requirement already satisfied: tenacity!=8.4.0,<10.0.0,>=8.1.0 in /usr/local/lib/python3.11/dist-packages (from langchain-core<1.0.0,>=0.3.58->langchain) (9.1.2)\n",
      "Requirement already satisfied: jsonpatch<2.0,>=1.33 in /usr/local/lib/python3.11/dist-packages (from langchain-core<1.0.0,>=0.3.58->langchain) (1.33)\n",
      "Requirement already satisfied: packaging<25,>=23.2 in /usr/local/lib/python3.11/dist-packages (from langchain-core<1.0.0,>=0.3.58->langchain) (24.2)\n",
      "Requirement already satisfied: typing-extensions>=4.7 in /usr/local/lib/python3.11/dist-packages (from langchain-core<1.0.0,>=0.3.58->langchain) (4.14.0)\n",
      "Requirement already satisfied: httpx<1,>=0.23.0 in /usr/local/lib/python3.11/dist-packages (from langsmith<0.4,>=0.1.17->langchain) (0.28.1)\n",
      "Requirement already satisfied: orjson<4.0.0,>=3.9.14 in /usr/local/lib/python3.11/dist-packages (from langsmith<0.4,>=0.1.17->langchain) (3.10.18)\n",
      "Requirement already satisfied: requests-toolbelt<2.0.0,>=1.0.0 in /usr/local/lib/python3.11/dist-packages (from langsmith<0.4,>=0.1.17->langchain) (1.0.0)\n",
      "Requirement already satisfied: zstandard<0.24.0,>=0.23.0 in /usr/local/lib/python3.11/dist-packages (from langsmith<0.4,>=0.1.17->langchain) (0.23.0)\n",
      "Requirement already satisfied: annotated-types>=0.6.0 in /usr/local/lib/python3.11/dist-packages (from pydantic<3.0.0,>=2.7.4->langchain) (0.7.0)\n",
      "Requirement already satisfied: pydantic-core==2.33.2 in /usr/local/lib/python3.11/dist-packages (from pydantic<3.0.0,>=2.7.4->langchain) (2.33.2)\n",
      "Requirement already satisfied: typing-inspection>=0.4.0 in /usr/local/lib/python3.11/dist-packages (from pydantic<3.0.0,>=2.7.4->langchain) (0.4.1)\n",
      "Requirement already satisfied: charset-normalizer<4,>=2 in /usr/local/lib/python3.11/dist-packages (from requests<3,>=2->langchain) (3.4.2)\n",
      "Requirement already satisfied: idna<4,>=2.5 in /usr/local/lib/python3.11/dist-packages (from requests<3,>=2->langchain) (3.10)\n",
      "Requirement already satisfied: urllib3<3,>=1.21.1 in /usr/local/lib/python3.11/dist-packages (from requests<3,>=2->langchain) (2.4.0)\n",
      "Requirement already satisfied: certifi>=2017.4.17 in /usr/local/lib/python3.11/dist-packages (from requests<3,>=2->langchain) (2025.4.26)\n",
      "Requirement already satisfied: greenlet>=1 in /usr/local/lib/python3.11/dist-packages (from SQLAlchemy<3,>=1.4->langchain) (3.2.2)\n",
      "Requirement already satisfied: anyio in /usr/local/lib/python3.11/dist-packages (from httpx<1,>=0.23.0->langsmith<0.4,>=0.1.17->langchain) (4.9.0)\n",
      "Requirement already satisfied: httpcore==1.* in /usr/local/lib/python3.11/dist-packages (from httpx<1,>=0.23.0->langsmith<0.4,>=0.1.17->langchain) (1.0.9)\n",
      "Requirement already satisfied: h11>=0.16 in /usr/local/lib/python3.11/dist-packages (from httpcore==1.*->httpx<1,>=0.23.0->langsmith<0.4,>=0.1.17->langchain) (0.16.0)\n",
      "Requirement already satisfied: jsonpointer>=1.9 in /usr/local/lib/python3.11/dist-packages (from jsonpatch<2.0,>=1.33->langchain-core<1.0.0,>=0.3.58->langchain) (3.0.0)\n",
      "Requirement already satisfied: sniffio>=1.1 in /usr/local/lib/python3.11/dist-packages (from anyio->httpx<1,>=0.23.0->langsmith<0.4,>=0.1.17->langchain) (1.3.1)\n",
      "Requirement already satisfied: langchain-openai in /usr/local/lib/python3.11/dist-packages (0.3.22)\n",
      "Requirement already satisfied: langchain-core<1.0.0,>=0.3.64 in /usr/local/lib/python3.11/dist-packages (from langchain-openai) (0.3.65)\n",
      "Requirement already satisfied: openai<2.0.0,>=1.68.2 in /usr/local/lib/python3.11/dist-packages (from langchain-openai) (1.86.0)\n",
      "Requirement already satisfied: tiktoken<1,>=0.7 in /usr/local/lib/python3.11/dist-packages (from langchain-openai) (0.9.0)\n",
      "Requirement already satisfied: langsmith<0.4,>=0.3.45 in /usr/local/lib/python3.11/dist-packages (from langchain-core<1.0.0,>=0.3.64->langchain-openai) (0.3.45)\n",
      "Requirement already satisfied: tenacity!=8.4.0,<10.0.0,>=8.1.0 in /usr/local/lib/python3.11/dist-packages (from langchain-core<1.0.0,>=0.3.64->langchain-openai) (9.1.2)\n",
      "Requirement already satisfied: jsonpatch<2.0,>=1.33 in /usr/local/lib/python3.11/dist-packages (from langchain-core<1.0.0,>=0.3.64->langchain-openai) (1.33)\n",
      "Requirement already satisfied: PyYAML>=5.3 in /usr/local/lib/python3.11/dist-packages (from langchain-core<1.0.0,>=0.3.64->langchain-openai) (6.0.2)\n",
      "Requirement already satisfied: packaging<25,>=23.2 in /usr/local/lib/python3.11/dist-packages (from langchain-core<1.0.0,>=0.3.64->langchain-openai) (24.2)\n",
      "Requirement already satisfied: typing-extensions>=4.7 in /usr/local/lib/python3.11/dist-packages (from langchain-core<1.0.0,>=0.3.64->langchain-openai) (4.14.0)\n",
      "Requirement already satisfied: pydantic>=2.7.4 in /usr/local/lib/python3.11/dist-packages (from langchain-core<1.0.0,>=0.3.64->langchain-openai) (2.11.5)\n",
      "Requirement already satisfied: anyio<5,>=3.5.0 in /usr/local/lib/python3.11/dist-packages (from openai<2.0.0,>=1.68.2->langchain-openai) (4.9.0)\n",
      "Requirement already satisfied: distro<2,>=1.7.0 in /usr/local/lib/python3.11/dist-packages (from openai<2.0.0,>=1.68.2->langchain-openai) (1.9.0)\n",
      "Requirement already satisfied: httpx<1,>=0.23.0 in /usr/local/lib/python3.11/dist-packages (from openai<2.0.0,>=1.68.2->langchain-openai) (0.28.1)\n",
      "Requirement already satisfied: jiter<1,>=0.4.0 in /usr/local/lib/python3.11/dist-packages (from openai<2.0.0,>=1.68.2->langchain-openai) (0.10.0)\n",
      "Requirement already satisfied: sniffio in /usr/local/lib/python3.11/dist-packages (from openai<2.0.0,>=1.68.2->langchain-openai) (1.3.1)\n",
      "Requirement already satisfied: tqdm>4 in /usr/local/lib/python3.11/dist-packages (from openai<2.0.0,>=1.68.2->langchain-openai) (4.67.1)\n",
      "Requirement already satisfied: regex>=2022.1.18 in /usr/local/lib/python3.11/dist-packages (from tiktoken<1,>=0.7->langchain-openai) (2024.11.6)\n",
      "Requirement already satisfied: requests>=2.26.0 in /usr/local/lib/python3.11/dist-packages (from tiktoken<1,>=0.7->langchain-openai) (2.32.3)\n",
      "Requirement already satisfied: idna>=2.8 in /usr/local/lib/python3.11/dist-packages (from anyio<5,>=3.5.0->openai<2.0.0,>=1.68.2->langchain-openai) (3.10)\n",
      "Requirement already satisfied: certifi in /usr/local/lib/python3.11/dist-packages (from httpx<1,>=0.23.0->openai<2.0.0,>=1.68.2->langchain-openai) (2025.4.26)\n",
      "Requirement already satisfied: httpcore==1.* in /usr/local/lib/python3.11/dist-packages (from httpx<1,>=0.23.0->openai<2.0.0,>=1.68.2->langchain-openai) (1.0.9)\n",
      "Requirement already satisfied: h11>=0.16 in /usr/local/lib/python3.11/dist-packages (from httpcore==1.*->httpx<1,>=0.23.0->openai<2.0.0,>=1.68.2->langchain-openai) (0.16.0)\n",
      "Requirement already satisfied: jsonpointer>=1.9 in /usr/local/lib/python3.11/dist-packages (from jsonpatch<2.0,>=1.33->langchain-core<1.0.0,>=0.3.64->langchain-openai) (3.0.0)\n",
      "Requirement already satisfied: orjson<4.0.0,>=3.9.14 in /usr/local/lib/python3.11/dist-packages (from langsmith<0.4,>=0.3.45->langchain-core<1.0.0,>=0.3.64->langchain-openai) (3.10.18)\n",
      "Requirement already satisfied: requests-toolbelt<2.0.0,>=1.0.0 in /usr/local/lib/python3.11/dist-packages (from langsmith<0.4,>=0.3.45->langchain-core<1.0.0,>=0.3.64->langchain-openai) (1.0.0)\n",
      "Requirement already satisfied: zstandard<0.24.0,>=0.23.0 in /usr/local/lib/python3.11/dist-packages (from langsmith<0.4,>=0.3.45->langchain-core<1.0.0,>=0.3.64->langchain-openai) (0.23.0)\n",
      "Requirement already satisfied: annotated-types>=0.6.0 in /usr/local/lib/python3.11/dist-packages (from pydantic>=2.7.4->langchain-core<1.0.0,>=0.3.64->langchain-openai) (0.7.0)\n",
      "Requirement already satisfied: pydantic-core==2.33.2 in /usr/local/lib/python3.11/dist-packages (from pydantic>=2.7.4->langchain-core<1.0.0,>=0.3.64->langchain-openai) (2.33.2)\n",
      "Requirement already satisfied: typing-inspection>=0.4.0 in /usr/local/lib/python3.11/dist-packages (from pydantic>=2.7.4->langchain-core<1.0.0,>=0.3.64->langchain-openai) (0.4.1)\n",
      "Requirement already satisfied: charset-normalizer<4,>=2 in /usr/local/lib/python3.11/dist-packages (from requests>=2.26.0->tiktoken<1,>=0.7->langchain-openai) (3.4.2)\n",
      "Requirement already satisfied: urllib3<3,>=1.21.1 in /usr/local/lib/python3.11/dist-packages (from requests>=2.26.0->tiktoken<1,>=0.7->langchain-openai) (2.4.0)\n",
      "Collecting langchain_community\n",
      "  Downloading langchain_community-0.3.25-py3-none-any.whl.metadata (2.9 kB)\n",
      "Requirement already satisfied: langchain-core<1.0.0,>=0.3.65 in /usr/local/lib/python3.11/dist-packages (from langchain_community) (0.3.65)\n",
      "Requirement already satisfied: langchain<1.0.0,>=0.3.25 in /usr/local/lib/python3.11/dist-packages (from langchain_community) (0.3.25)\n",
      "Requirement already satisfied: SQLAlchemy<3,>=1.4 in /usr/local/lib/python3.11/dist-packages (from langchain_community) (2.0.41)\n",
      "Requirement already satisfied: requests<3,>=2 in /usr/local/lib/python3.11/dist-packages (from langchain_community) (2.32.3)\n",
      "Requirement already satisfied: PyYAML>=5.3 in /usr/local/lib/python3.11/dist-packages (from langchain_community) (6.0.2)\n",
      "Requirement already satisfied: aiohttp<4.0.0,>=3.8.3 in /usr/local/lib/python3.11/dist-packages (from langchain_community) (3.11.15)\n",
      "Requirement already satisfied: tenacity!=8.4.0,<10,>=8.1.0 in /usr/local/lib/python3.11/dist-packages (from langchain_community) (9.1.2)\n",
      "Collecting dataclasses-json<0.7,>=0.5.7 (from langchain_community)\n",
      "  Downloading dataclasses_json-0.6.7-py3-none-any.whl.metadata (25 kB)\n",
      "Collecting pydantic-settings<3.0.0,>=2.4.0 (from langchain_community)\n",
      "  Downloading pydantic_settings-2.9.1-py3-none-any.whl.metadata (3.8 kB)\n",
      "Requirement already satisfied: langsmith<0.4,>=0.1.125 in /usr/local/lib/python3.11/dist-packages (from langchain_community) (0.3.45)\n",
      "Collecting httpx-sse<1.0.0,>=0.4.0 (from langchain_community)\n",
      "  Downloading httpx_sse-0.4.0-py3-none-any.whl.metadata (9.0 kB)\n",
      "Requirement already satisfied: numpy>=1.26.2 in /usr/local/lib/python3.11/dist-packages (from langchain_community) (2.0.2)\n",
      "Requirement already satisfied: aiohappyeyeballs>=2.3.0 in /usr/local/lib/python3.11/dist-packages (from aiohttp<4.0.0,>=3.8.3->langchain_community) (2.6.1)\n",
      "Requirement already satisfied: aiosignal>=1.1.2 in /usr/local/lib/python3.11/dist-packages (from aiohttp<4.0.0,>=3.8.3->langchain_community) (1.3.2)\n",
      "Requirement already satisfied: attrs>=17.3.0 in /usr/local/lib/python3.11/dist-packages (from aiohttp<4.0.0,>=3.8.3->langchain_community) (25.3.0)\n",
      "Requirement already satisfied: frozenlist>=1.1.1 in /usr/local/lib/python3.11/dist-packages (from aiohttp<4.0.0,>=3.8.3->langchain_community) (1.6.0)\n",
      "Requirement already satisfied: multidict<7.0,>=4.5 in /usr/local/lib/python3.11/dist-packages (from aiohttp<4.0.0,>=3.8.3->langchain_community) (6.4.4)\n",
      "Requirement already satisfied: propcache>=0.2.0 in /usr/local/lib/python3.11/dist-packages (from aiohttp<4.0.0,>=3.8.3->langchain_community) (0.3.1)\n",
      "Requirement already satisfied: yarl<2.0,>=1.17.0 in /usr/local/lib/python3.11/dist-packages (from aiohttp<4.0.0,>=3.8.3->langchain_community) (1.20.0)\n",
      "Collecting marshmallow<4.0.0,>=3.18.0 (from dataclasses-json<0.7,>=0.5.7->langchain_community)\n",
      "  Downloading marshmallow-3.26.1-py3-none-any.whl.metadata (7.3 kB)\n",
      "Collecting typing-inspect<1,>=0.4.0 (from dataclasses-json<0.7,>=0.5.7->langchain_community)\n",
      "  Downloading typing_inspect-0.9.0-py3-none-any.whl.metadata (1.5 kB)\n",
      "Requirement already satisfied: langchain-text-splitters<1.0.0,>=0.3.8 in /usr/local/lib/python3.11/dist-packages (from langchain<1.0.0,>=0.3.25->langchain_community) (0.3.8)\n",
      "Requirement already satisfied: pydantic<3.0.0,>=2.7.4 in /usr/local/lib/python3.11/dist-packages (from langchain<1.0.0,>=0.3.25->langchain_community) (2.11.5)\n",
      "Requirement already satisfied: jsonpatch<2.0,>=1.33 in /usr/local/lib/python3.11/dist-packages (from langchain-core<1.0.0,>=0.3.65->langchain_community) (1.33)\n",
      "Requirement already satisfied: packaging<25,>=23.2 in /usr/local/lib/python3.11/dist-packages (from langchain-core<1.0.0,>=0.3.65->langchain_community) (24.2)\n",
      "Requirement already satisfied: typing-extensions>=4.7 in /usr/local/lib/python3.11/dist-packages (from langchain-core<1.0.0,>=0.3.65->langchain_community) (4.14.0)\n",
      "Requirement already satisfied: httpx<1,>=0.23.0 in /usr/local/lib/python3.11/dist-packages (from langsmith<0.4,>=0.1.125->langchain_community) (0.28.1)\n",
      "Requirement already satisfied: orjson<4.0.0,>=3.9.14 in /usr/local/lib/python3.11/dist-packages (from langsmith<0.4,>=0.1.125->langchain_community) (3.10.18)\n",
      "Requirement already satisfied: requests-toolbelt<2.0.0,>=1.0.0 in /usr/local/lib/python3.11/dist-packages (from langsmith<0.4,>=0.1.125->langchain_community) (1.0.0)\n",
      "Requirement already satisfied: zstandard<0.24.0,>=0.23.0 in /usr/local/lib/python3.11/dist-packages (from langsmith<0.4,>=0.1.125->langchain_community) (0.23.0)\n",
      "Collecting python-dotenv>=0.21.0 (from pydantic-settings<3.0.0,>=2.4.0->langchain_community)\n",
      "  Downloading python_dotenv-1.1.0-py3-none-any.whl.metadata (24 kB)\n",
      "Requirement already satisfied: typing-inspection>=0.4.0 in /usr/local/lib/python3.11/dist-packages (from pydantic-settings<3.0.0,>=2.4.0->langchain_community) (0.4.1)\n",
      "Requirement already satisfied: charset-normalizer<4,>=2 in /usr/local/lib/python3.11/dist-packages (from requests<3,>=2->langchain_community) (3.4.2)\n",
      "Requirement already satisfied: idna<4,>=2.5 in /usr/local/lib/python3.11/dist-packages (from requests<3,>=2->langchain_community) (3.10)\n",
      "Requirement already satisfied: urllib3<3,>=1.21.1 in /usr/local/lib/python3.11/dist-packages (from requests<3,>=2->langchain_community) (2.4.0)\n",
      "Requirement already satisfied: certifi>=2017.4.17 in /usr/local/lib/python3.11/dist-packages (from requests<3,>=2->langchain_community) (2025.4.26)\n",
      "Requirement already satisfied: greenlet>=1 in /usr/local/lib/python3.11/dist-packages (from SQLAlchemy<3,>=1.4->langchain_community) (3.2.2)\n",
      "Requirement already satisfied: anyio in /usr/local/lib/python3.11/dist-packages (from httpx<1,>=0.23.0->langsmith<0.4,>=0.1.125->langchain_community) (4.9.0)\n",
      "Requirement already satisfied: httpcore==1.* in /usr/local/lib/python3.11/dist-packages (from httpx<1,>=0.23.0->langsmith<0.4,>=0.1.125->langchain_community) (1.0.9)\n",
      "Requirement already satisfied: h11>=0.16 in /usr/local/lib/python3.11/dist-packages (from httpcore==1.*->httpx<1,>=0.23.0->langsmith<0.4,>=0.1.125->langchain_community) (0.16.0)\n",
      "Requirement already satisfied: jsonpointer>=1.9 in /usr/local/lib/python3.11/dist-packages (from jsonpatch<2.0,>=1.33->langchain-core<1.0.0,>=0.3.65->langchain_community) (3.0.0)\n",
      "Requirement already satisfied: annotated-types>=0.6.0 in /usr/local/lib/python3.11/dist-packages (from pydantic<3.0.0,>=2.7.4->langchain<1.0.0,>=0.3.25->langchain_community) (0.7.0)\n",
      "Requirement already satisfied: pydantic-core==2.33.2 in /usr/local/lib/python3.11/dist-packages (from pydantic<3.0.0,>=2.7.4->langchain<1.0.0,>=0.3.25->langchain_community) (2.33.2)\n",
      "Collecting mypy-extensions>=0.3.0 (from typing-inspect<1,>=0.4.0->dataclasses-json<0.7,>=0.5.7->langchain_community)\n",
      "  Downloading mypy_extensions-1.1.0-py3-none-any.whl.metadata (1.1 kB)\n",
      "Requirement already satisfied: sniffio>=1.1 in /usr/local/lib/python3.11/dist-packages (from anyio->httpx<1,>=0.23.0->langsmith<0.4,>=0.1.125->langchain_community) (1.3.1)\n",
      "Downloading langchain_community-0.3.25-py3-none-any.whl (2.5 MB)\n",
      "\u001b[2K   \u001b[90m━━━━━━━━━━━━━━━━━━━━━━━━━━━━━━━━━━━━━━━━\u001b[0m \u001b[32m2.5/2.5 MB\u001b[0m \u001b[31m76.8 MB/s\u001b[0m eta \u001b[36m0:00:00\u001b[0m\n",
      "\u001b[?25hDownloading dataclasses_json-0.6.7-py3-none-any.whl (28 kB)\n",
      "Downloading httpx_sse-0.4.0-py3-none-any.whl (7.8 kB)\n",
      "Downloading pydantic_settings-2.9.1-py3-none-any.whl (44 kB)\n",
      "\u001b[2K   \u001b[90m━━━━━━━━━━━━━━━━━━━━━━━━━━━━━━━━━━━━━━━━\u001b[0m \u001b[32m44.4/44.4 kB\u001b[0m \u001b[31m3.1 MB/s\u001b[0m eta \u001b[36m0:00:00\u001b[0m\n",
      "\u001b[?25hDownloading marshmallow-3.26.1-py3-none-any.whl (50 kB)\n",
      "\u001b[2K   \u001b[90m━━━━━━━━━━━━━━━━━━━━━━━━━━━━━━━━━━━━━━━━\u001b[0m \u001b[32m50.9/50.9 kB\u001b[0m \u001b[31m4.1 MB/s\u001b[0m eta \u001b[36m0:00:00\u001b[0m\n",
      "\u001b[?25hDownloading python_dotenv-1.1.0-py3-none-any.whl (20 kB)\n",
      "Downloading typing_inspect-0.9.0-py3-none-any.whl (8.8 kB)\n",
      "Downloading mypy_extensions-1.1.0-py3-none-any.whl (5.0 kB)\n",
      "Installing collected packages: python-dotenv, mypy-extensions, marshmallow, httpx-sse, typing-inspect, pydantic-settings, dataclasses-json, langchain_community\n",
      "Successfully installed dataclasses-json-0.6.7 httpx-sse-0.4.0 langchain_community-0.3.25 marshmallow-3.26.1 mypy-extensions-1.1.0 pydantic-settings-2.9.1 python-dotenv-1.1.0 typing-inspect-0.9.0\n"
     ]
    }
   ],
   "source": [
    "!pip install -U datasets huggingface_hub fsspec\n",
    "!pip install --upgrade openai\n",
    "!pip install langchain-openai\n",
    "!pip install tiktoken\n",
    "!pip install langgraph\n",
    "!pip install langchain\n",
    "!pip install langchain-openai\n",
    "!pip install langchain_community"
   ]
  },
  {
   "cell_type": "code",
   "execution_count": null,
   "metadata": {
    "colab": {
     "base_uri": "https://localhost:8080/"
    },
    "executionInfo": {
     "elapsed": 2642,
     "status": "ok",
     "timestamp": 1749620645302,
     "user": {
      "displayName": "최두성",
      "userId": "08438271081794727685"
     },
     "user_tz": -540
    },
    "id": "ZwdvkIi7ahQQ",
    "outputId": "ed1d47b5-12af-425f-9539-46b27f90178f"
   },
   "outputs": [
    {
     "name": "stdout",
     "output_type": "stream",
     "text": [
      "Collecting nbimporter\n",
      "  Downloading nbimporter-0.3.4-py3-none-any.whl.metadata (252 bytes)\n",
      "Downloading nbimporter-0.3.4-py3-none-any.whl (4.9 kB)\n",
      "Installing collected packages: nbimporter\n",
      "Successfully installed nbimporter-0.3.4\n"
     ]
    }
   ],
   "source": [
    "!pip install nbimporter # ipynb 파일을 로드하기 위한 라이브러리"
   ]
  },
  {
   "cell_type": "code",
   "execution_count": null,
   "metadata": {
    "id": "d-OL--bsVIJX"
   },
   "outputs": [],
   "source": [
    "from huggingface_hub import login\n",
    "import os\n",
    "\n",
    "login(\n",
    "  token=os.getenv(\"HF_TOKEN\"), # ADD YOUR TOKEN HERE\n",
    "  add_to_git_credential=True\n",
    ")"
   ]
  },
  {
   "cell_type": "code",
   "execution_count": null,
   "metadata": {
    "id": "b24awVCfmDJG"
   },
   "outputs": [],
   "source": [
    "\n",
    "import openai   # 1.x 이상\n",
    "\n",
    "# (선택) 환경변수로 키 설정\n",
    "os.environ[\"OPENAI_API_KEY\"] = os.getenv(\"OPENAI_API_KEY\")  # ADD YOUR OPENAI API KEY HERE"
   ]
  },
  {
   "cell_type": "code",
   "execution_count": null,
   "metadata": {
    "colab": {
     "base_uri": "https://localhost:8080/"
    },
    "collapsed": true,
    "executionInfo": {
     "elapsed": 5428,
     "status": "ok",
     "timestamp": 1749620651884,
     "user": {
      "displayName": "최두성",
      "userId": "08438271081794727685"
     },
     "user_tz": -540
    },
    "id": "5j6QmanFZ5j-",
    "outputId": "e8bb0468-4903-45bd-f2ca-b4fa94dc2394"
   },
   "outputs": [
    {
     "name": "stdout",
     "output_type": "stream",
     "text": [
      "Collecting selenium\n",
      "  Downloading selenium-4.33.0-py3-none-any.whl.metadata (7.5 kB)\n",
      "Requirement already satisfied: urllib3~=2.4.0 in /usr/local/lib/python3.11/dist-packages (from urllib3[socks]~=2.4.0->selenium) (2.4.0)\n",
      "Collecting trio~=0.30.0 (from selenium)\n",
      "  Downloading trio-0.30.0-py3-none-any.whl.metadata (8.5 kB)\n",
      "Collecting trio-websocket~=0.12.2 (from selenium)\n",
      "  Downloading trio_websocket-0.12.2-py3-none-any.whl.metadata (5.1 kB)\n",
      "Requirement already satisfied: certifi>=2025.4.26 in /usr/local/lib/python3.11/dist-packages (from selenium) (2025.4.26)\n",
      "Collecting typing_extensions~=4.13.2 (from selenium)\n",
      "  Downloading typing_extensions-4.13.2-py3-none-any.whl.metadata (3.0 kB)\n",
      "Requirement already satisfied: websocket-client~=1.8.0 in /usr/local/lib/python3.11/dist-packages (from selenium) (1.8.0)\n",
      "Requirement already satisfied: attrs>=23.2.0 in /usr/local/lib/python3.11/dist-packages (from trio~=0.30.0->selenium) (25.3.0)\n",
      "Requirement already satisfied: sortedcontainers in /usr/local/lib/python3.11/dist-packages (from trio~=0.30.0->selenium) (2.4.0)\n",
      "Requirement already satisfied: idna in /usr/local/lib/python3.11/dist-packages (from trio~=0.30.0->selenium) (3.10)\n",
      "Collecting outcome (from trio~=0.30.0->selenium)\n",
      "  Downloading outcome-1.3.0.post0-py2.py3-none-any.whl.metadata (2.6 kB)\n",
      "Requirement already satisfied: sniffio>=1.3.0 in /usr/local/lib/python3.11/dist-packages (from trio~=0.30.0->selenium) (1.3.1)\n",
      "Collecting wsproto>=0.14 (from trio-websocket~=0.12.2->selenium)\n",
      "  Downloading wsproto-1.2.0-py3-none-any.whl.metadata (5.6 kB)\n",
      "Requirement already satisfied: pysocks!=1.5.7,<2.0,>=1.5.6 in /usr/local/lib/python3.11/dist-packages (from urllib3[socks]~=2.4.0->selenium) (1.7.1)\n",
      "Requirement already satisfied: h11<1,>=0.9.0 in /usr/local/lib/python3.11/dist-packages (from wsproto>=0.14->trio-websocket~=0.12.2->selenium) (0.16.0)\n",
      "Downloading selenium-4.33.0-py3-none-any.whl (9.4 MB)\n",
      "\u001b[2K   \u001b[90m━━━━━━━━━━━━━━━━━━━━━━━━━━━━━━━━━━━━━━━━\u001b[0m \u001b[32m9.4/9.4 MB\u001b[0m \u001b[31m54.6 MB/s\u001b[0m eta \u001b[36m0:00:00\u001b[0m\n",
      "\u001b[?25hDownloading trio-0.30.0-py3-none-any.whl (499 kB)\n",
      "\u001b[2K   \u001b[90m━━━━━━━━━━━━━━━━━━━━━━━━━━━━━━━━━━━━━━━━\u001b[0m \u001b[32m499.2/499.2 kB\u001b[0m \u001b[31m37.1 MB/s\u001b[0m eta \u001b[36m0:00:00\u001b[0m\n",
      "\u001b[?25hDownloading trio_websocket-0.12.2-py3-none-any.whl (21 kB)\n",
      "Downloading typing_extensions-4.13.2-py3-none-any.whl (45 kB)\n",
      "\u001b[2K   \u001b[90m━━━━━━━━━━━━━━━━━━━━━━━━━━━━━━━━━━━━━━━━\u001b[0m \u001b[32m45.8/45.8 kB\u001b[0m \u001b[31m4.1 MB/s\u001b[0m eta \u001b[36m0:00:00\u001b[0m\n",
      "\u001b[?25hDownloading outcome-1.3.0.post0-py2.py3-none-any.whl (10 kB)\n",
      "Downloading wsproto-1.2.0-py3-none-any.whl (24 kB)\n",
      "Installing collected packages: wsproto, typing_extensions, outcome, trio, trio-websocket, selenium\n",
      "  Attempting uninstall: typing_extensions\n",
      "    Found existing installation: typing_extensions 4.14.0\n",
      "    Uninstalling typing_extensions-4.14.0:\n",
      "      Successfully uninstalled typing_extensions-4.14.0\n",
      "Successfully installed outcome-1.3.0.post0 selenium-4.33.0 trio-0.30.0 trio-websocket-0.12.2 typing_extensions-4.13.2 wsproto-1.2.0\n"
     ]
    }
   ],
   "source": [
    "!pip install selenium"
   ]
  },
  {
   "cell_type": "markdown",
   "metadata": {
    "id": "nV7X-oULVJhe"
   },
   "source": [
    "## 전처리"
   ]
  },
  {
   "cell_type": "code",
   "execution_count": null,
   "metadata": {
    "id": "yAtq8PyCVQG5"
   },
   "outputs": [],
   "source": [
    "#HTML 전처리\n",
    "from langchain_openai import ChatOpenAI\n",
    "from langchain.prompts import PromptTemplate\n",
    "from langchain.chains import LLMChain\n",
    "\n",
    "from selenium import webdriver\n",
    "from selenium.webdriver.chrome.options import Options\n",
    "from selenium.webdriver.common.by import By\n",
    "import os\n",
    "\n",
    "class HTMLPreprocessor:\n",
    "    def __init__(self, html_path):\n",
    "        self.html_path = html_path\n",
    "        self.driver = None\n",
    "        self.html_content = ''\n",
    "        self.visible_elements = []\n",
    "        self.llm = ChatOpenAI(model=\"gpt-4o\", temperature=0)\n",
    "\n",
    "    def load(self):\n",
    "      # 웹페이지 url로부터 HTML, CSS, JS 파일을 로드함\n",
    "\n",
    "        options = Options()\n",
    "        options.add_argument('--headless')\n",
    "        options.add_argument('--no-sandbox')\n",
    "        options.add_argument('--disable-dev-shm-usage')\n",
    "        options.add_argument('--disable-gpu')\n",
    "        options.add_argument('--disable-extensions')\n",
    "        options.add_argument('--disable-popup-blocking')\n",
    "        options.add_argument('--start-maximized')\n",
    "        options.add_argument('--disable-infobars')\n",
    "\n",
    "        self.driver = webdriver.Chrome(options=options)\n",
    "\n",
    "        if self.html_path.startswith(\"http://\") or self.html_path.startswith(\"https://\"):\n",
    "            target_path = self.html_path\n",
    "        else:\n",
    "            target_path = f\"file://{os.path.abspath(self.html_path)}\"\n",
    "\n",
    "        self.driver.get(target_path)\n",
    "        self.html_content = self.driver.page_source\n",
    "\n",
    "    def current(self):\n",
    "      # 현재 보이는 HTML 요소만 추출함\n",
    "\n",
    "        js_code = '''\n",
    "        function isVisible(elem) {\n",
    "          if (!(elem instanceof Element)) return false;\n",
    "          const style = window.getComputedStyle(elem);\n",
    "          if (style.display === 'none' || style.visibility === 'hidden' || style.opacity === '0') return false;\n",
    "          const rect = elem.getBoundingClientRect();\n",
    "          return rect.width > 0 && rect.height > 0\n",
    "              && rect.bottom > 0\n",
    "              && rect.right > 0\n",
    "              && rect.top < (window.innerHeight || document.documentElement.clientHeight)\n",
    "              && rect.left < (window.innerWidth || document.documentElement.clientWidth);\n",
    "        }\n",
    "        return Array.from(document.querySelectorAll('body *'))\n",
    "          .filter(el => isVisible(el))\n",
    "          .map(el => el.outerHTML);\n",
    "        '''\n",
    "        self.visible_elements = self.driver.execute_script(js_code)\n",
    "        return self.visible_elements\n",
    "\n",
    "    def filter(self):\n",
    "      # 수정된 html 소스에서 img 태그와 관련된 부분만 추출함\n",
    "        prompt = PromptTemplate(\n",
    "            input_variables=[\"html_input\"],\n",
    "            template=\"\"\"\n",
    "            다음 HTML에서 다음 두 조건을 모두 만족하는 요소를 모두 추출하세요:\n",
    "\n",
    "            1. <img> 태그 — alt 속성이 비어있거나 없어도 추출할 것\n",
    "            2. role=\"img\" 속성이 있는 태그 — 예: <div role=\"img\"> 또는 <span role=\"img\">\n",
    "\n",
    "            추출 시 해당 요소 전체를 그대로 포함시키세요.\n",
    "\n",
    "            HTML:\n",
    "            {html_input}\n",
    "            ```html\n",
    "            ```\"\"\"\n",
    "        )\n",
    "\n",
    "        chain = LLMChain(llm=self.llm, prompt=prompt)\n",
    "        result: str = chain.run(html_input=self.visible_elements)\n",
    "        self.visible_elements = result\n",
    "\n",
    "        return self.visible_elements\n",
    "\n",
    "    def remove(self):\n",
    "        text = self.visible_elements\n",
    "        if text.startswith('```html'):\n",
    "            text = text.replace('```html', '')\n",
    "        text = text.replace('```', '').strip()\n",
    "        self.visible_elements = text\n",
    "        return self.visible_elements\n",
    "\n",
    "    def run(self):\n",
    "      self.load()\n",
    "      self.current()\n",
    "      self.filter()\n",
    "      self.remove()\n",
    "\n",
    "    @classmethod\n",
    "    def process(cls, html_path):\n",
    "        return cls(html_path).run()"
   ]
  },
  {
   "cell_type": "code",
   "execution_count": null,
   "metadata": {
    "colab": {
     "base_uri": "https://localhost:8080/"
    },
    "executionInfo": {
     "elapsed": 25748,
     "status": "ok",
     "timestamp": 1749620678336,
     "user": {
      "displayName": "최두성",
      "userId": "08438271081794727685"
     },
     "user_tz": -540
    },
    "id": "8yJ-_idKa66k",
    "outputId": "11e09952-ac1e-421a-ca50-d0a9d5ecc509"
   },
   "outputs": [
    {
     "name": "stdout",
     "output_type": "stream",
     "text": [
      "Mounted at /content/drive\n"
     ]
    }
   ],
   "source": [
    "from google.colab import drive\n",
    "drive.mount('/content/drive')"
   ]
  },
  {
   "cell_type": "markdown",
   "metadata": {
    "id": "fsYMRCNiVFm9"
   },
   "source": []
  },
  {
   "cell_type": "markdown",
   "metadata": {
    "id": "-Su4vaiwSp6z"
   },
   "source": [
    "## 모델 호출"
   ]
  },
  {
   "cell_type": "code",
   "execution_count": 35,
   "metadata": {
    "colab": {
     "base_uri": "https://localhost:8080/",
     "height": 49,
     "referenced_widgets": [
      "b9212a5d42a546f1a98dfff5b09dd449",
      "3d29fa83a40042ae96c7bf3c3da8e367",
      "6979a8e174374050b6ed888aa0c8f4b2",
      "3e9aa4c72f9641d99ceafc792cdd155a",
      "126adf79cb7148749c584a154f05fbbf",
      "975432aafaf544e3b883e4d90510f295",
      "45e39ca0a70c4a17bebb4b396fbc12e4",
      "b6f02cf63edb40358bcf00ed5afbf9c6",
      "5dc8a7f08e5247d38c2ec3e74f70f4b2",
      "b49e3a1f41a24906aef8e1a1c3916503",
      "84c20b2ab67a43dc8330a4119ec13cf9"
     ]
    },
    "collapsed": true,
    "executionInfo": {
     "elapsed": 12611,
     "status": "ok",
     "timestamp": 1749624630262,
     "user": {
      "displayName": "최두성",
      "userId": "08438271081794727685"
     },
     "user_tz": -540
    },
    "id": "L1N9yQhHalhs",
    "outputId": "f2ff22c8-2dcf-4071-f2e1-47123b943656"
   },
   "outputs": [
    {
     "data": {
      "application/vnd.jupyter.widget-view+json": {
       "model_id": "b9212a5d42a546f1a98dfff5b09dd449",
       "version_major": 2,
       "version_minor": 0
      },
      "text/plain": [
       "Loading checkpoint shards:   0%|          | 0/5 [00:00<?, ?it/s]"
      ]
     },
     "metadata": {},
     "output_type": "display_data"
    }
   ],
   "source": [
    "import torch\n",
    "from transformers import AutoProcessor, AutoModelForVision2Seq\n",
    "\n",
    "model_id = \"Qwen/Qwen2-VL-7B-Instruct\"\n",
    "\n",
    "# Load Model base model\n",
    "model = AutoModelForVision2Seq.from_pretrained(\n",
    "  model_id,\n",
    "  device_map=\"auto\",\n",
    "  torch_dtype=torch.float16\n",
    ")\n",
    "processor = AutoProcessor.from_pretrained(model_id)"
   ]
  },
  {
   "cell_type": "code",
   "execution_count": 39,
   "metadata": {
    "colab": {
     "base_uri": "https://localhost:8080/",
     "height": 292
    },
    "collapsed": true,
    "executionInfo": {
     "elapsed": 20716,
     "status": "ok",
     "timestamp": 1749624720623,
     "user": {
      "displayName": "최두성",
      "userId": "08438271081794727685"
     },
     "user_tz": -540
    },
    "id": "5RCG_bu4wSLY",
    "outputId": "9f913f2c-e9b8-470c-d37c-93bdcd0abc54"
   },
   "outputs": [
    {
     "data": {
      "application/vnd.google.colaboratory.intrinsic+json": {
       "type": "string"
      },
      "text/plain": [
       "'<begin_of_thought>\\n1. The screenshot shows a product page with an image of a product package. The HTML snippet includes an image tag with a source URL but no alt attribute.\\n2. The image is likely meant to convey the product\\'s appearance, which is essential for users who rely on screen readers or other assistive technologies. The absence of an alt attribute violates the WCAG 5.1.1 principle, as it fails to provide meaningful information about the image\\'s content or purpose.\\n3. The image is not decorative or meaningless; it is a product image that should be described to convey its meaning or purpose. The alt text should be a brief, descriptive phrase that accurately represents the product\\'s appearance.\\n</begin_of_thought>\\n\\n<begin_of_solution>\\n[Evaluation Element]: The image on the product page is missing an alt attribute.\\n[Evaluation Rationale]: The alt attribute is crucial for users who rely on screen readers or other assistive technologies. It provides a meaningful description of the image\\'s content or purpose, which is essential for accessibility. In this case, the image is a product package, and the alt text should convey its appearance to assist users who cannot see the image.\\n[Improvement Suggestion]: Update the HTML code snippet to include an alt attribute for the image tag. For example:\\n```html\\n<img src=\"https://www.oliveyoung.co.kr/store/goods/getGoodsDetail.do?goodsNo=A00000022424296&dispCatNo=90000010009&trackingCd=Best_Sellingbest&t_page=%EB%9E%AD%ED%82%B9&t_click=%ED%8C%90%EB%A7%A4%EB%9E%AD%ED%82%B9_%EC%9C%84%EC%83%9D%EC%9A%A9%ED%92%88_%EC%83%81%ED%92%88%EC%83%81%EC%84%B8&t_number=1\" alt=\"Goodfeel 100% Cotton Sanitary Liner 6 Pack\">\\n```\\nThis updated code snippet includes an alt attribute that provides a brief, descriptive phrase about the product package, ensuring that users who rely on assistive technologies can understand the image\\'s content or purpose.'"
      ]
     },
     "execution_count": 39,
     "metadata": {},
     "output_type": "execute_result"
    }
   ],
   "source": [
    "image_input = \"/content/drive/MyDrive/(석사과정) 최두성/졸업 및 취업/개발/(VLM) Create a image dataset/test/test3.png\"\n",
    "html_input = \"https://www.oliveyoung.co.kr/store/goods/getGoodsDetail.do?goodsNo=A000000224296&dispCatNo=90000010009&trackingCd=Best_Sellingbest&t_page=%EB%9E%AD%ED%82%B9&t_click=%ED%8C%90%EB%A7%A4%EB%9E%AD%ED%82%B9_%EC%9C%84%EC%83%9D%EC%9A%A9%ED%92%88_%EC%83%81%ED%92%88%EC%83%81%EC%84%B8&t_number=1\"\n",
    "\n",
    "base_desription = generate_description(model, image_input, html_input)\n",
    "base_desription"
   ]
  },
  {
   "cell_type": "code",
   "execution_count": 42,
   "metadata": {
    "colab": {
     "base_uri": "https://localhost:8080/",
     "height": 1000
    },
    "collapsed": true,
    "executionInfo": {
     "elapsed": 99691,
     "status": "ok",
     "timestamp": 1749625633125,
     "user": {
      "displayName": "최두성",
      "userId": "08438271081794727685"
     },
     "user_tz": -540
    },
    "id": "6h4MwyYfwsyo",
    "outputId": "f47d2ed4-b655-4afd-faf5-1bbe574a6c6c"
   },
   "outputs": [
    {
     "data": {
      "application/vnd.google.colaboratory.intrinsic+json": {
       "type": "string"
      },
      "text/plain": [
       "'<begin_of_thought>\\n1. The screenshot shows a product page for a package of sanitary pads. The main image is a product image of the sanitary pads, which is likely to be the primary focus for users who are interested in purchasing the product.\\n2. The alt text for the main image is \"상품을 선택해주세요\" (Please select the product). This text does not convey the meaning or purpose of the image, as it is a placeholder text that does not describe the product. It also contains a typo, which changes the intended meaning.\\n3. The alt text for the decorative images is \"상품금액 합계\" (Total product price) and \"장바구니\" (Shopping cart). These alt texts are appropriate as they describe the purpose of the images, which are likely to be decorative icons representing the total price and shopping cart.\\n4. The alt text for the image of the sanitary pads is \"상품을 선택해주세요\" (Please select the product). This text is not appropriate as it does not convey the meaning or purpose of the image, which is the product itself.\\n5. The alt text for the image of the sanitary pads is \"상품을 선택해주세요\" (Please select the product). This text is not appropriate as it does not convey the meaning or purpose of the image, which is the product itself.\\n6. The alt text for the image of the sanitary pads is \"상품을 선택해주세요\" (Please select the product). This text is not appropriate as it does not convey the meaning or purpose of the image, which is the product itself.\\n7. The alt text for the image of the sanitary pads is \"상품을 선택해주세요\" (Please select the product). This text is not appropriate as it does not convey the meaning or purpose of the image, which is the product itself.\\n8. The alt text for the image of the sanitary pads is \"상품을 선택해주세요\" (Please select the product). This text is not appropriate as it does not convey the meaning or purpose of the image, which is the product itself.\\n9. The alt text for the image of the sanitary pads is \"상품을 선택해주세요\" (Please select the product). This text is not appropriate as it does not convey the meaning or purpose of the image, which is the product itself.\\n10. The alt text for the image of the sanitary pads is \"상품을 선택해주세요\" (Please select the product). This text is not appropriate as it does not convey the meaning or purpose of the image, which is the product itself.\\n11. The alt text for the image of the sanitary pads is \"상품을 선택해주세요\" (Please select the product). This text is not appropriate as it does not convey the meaning or purpose of the image, which is the product itself.\\n12. The alt text for the image of the sanitary pads is \"상품을 선택해주세요\" (Please select the product). This text is not appropriate as it does not convey the meaning or purpose of the image, which is the product itself.\\n13. The alt text for the image of the sanitary pads is \"상품을 선택해주세요\" (Please select the product). This text is not appropriate as it does not convey the meaning or purpose of the image, which is the product itself.\\n14. The alt text for the image of the sanitary pads is \"상품을 선택해주세요\" (Please select the product). This text is not appropriate as it does not convey the meaning or purpose of the image, which is the product itself.\\n15. The alt text for the image of the sanitary pads is \"상품을 선택해주세요\" (Please select the product). This text is not appropriate as it does not convey the meaning or purpose of the image, which is the product itself.\\n16. The alt text for the image of the sanitary pads is \"상품을 선택해주세요\" (Please select the product). This text is not appropriate as it does not convey the meaning or purpose of the image, which is the product itself.\\n17. The alt text for the image of the sanitary pads is \"상품을 선택해주세요\" (Please select the product). This text is not appropriate as it does not convey the meaning or purpose of the image, which is the product itself.\\n18. The alt text for the image of the sanitary pads is \"상품을 선택해주세요\" (Please select the product). This text is not appropriate as it does not convey the meaning or purpose of the image, which is the product itself.\\n19. The alt text for the image of the sanitary pads is \"상품을 선택해주세요\" (Please select the product). This text is not appropriate as it does not convey the meaning or purpose of the image, which is the product itself.\\n20. The alt text for the image of the sanitary pads is \"상품을 선택해주세요\" (Please select the product). This text is not appropriate as it does not convey the meaning or purpose of the image, which is the product itself.\\n21. The alt text for the image of the sanitary pads is \"상품을 선택해주세요\" (Please select the product). This text is not appropriate as it does not convey the meaning or purpose of the image, which is the product itself.\\n22. The alt text for the image of the sanitary pads is \"상품을 선택해주세요\" (Please select the product). This text is not appropriate as it does not convey the meaning or purpose of the image, which is the product itself.\\n23. The alt text for the image of the sanitary pads is \"상품을 선택해주세요\" (Please select the product). This text is not appropriate as it does not convey the meaning or purpose of the image, which is the product itself.\\n24. The alt text for the image of the sanitary pads is \"상품을 선택해주세요\" (Please select the product). This text is not appropriate as it does not convey the meaning or purpose of the image, which is the product itself.\\n25. The alt text for the image of the sanitary pads is \"상품을 선택해주세요\" (Please select the product). This text is not appropriate as it does not convey the meaning or purpose of the image, which is the product itself.\\n26. The alt text for the image of the sanitary pads is \"상품을 선택해주세요\" (Please select the product). This text is not appropriate as it does not convey the meaning or purpose of the image, which is the product itself.\\n27. The alt text for the image of the sanitary pads is \"상품을 선택해주세요\" (Please select the product). This text is not appropriate as it does not convey the meaning or purpose of the image, which is the product itself.\\n28. The alt text for the image of the sanitary pads is \"상품을 선택해주세요\" (Please select the product). This text is not appropriate as it does not convey the meaning or purpose of the image, which is the product itself.\\n29. The alt text for the image of the sanitary pads is \"상품을 선택해주세요\" (Please select the product). This text is not appropriate as it does not convey the meaning or purpose of the image, which is the product itself.\\n30. The alt text for the image of the sanitary pads is \"상품을 선택해주세요\" (Please select the product). This text is not appropriate as it does not convey the meaning or purpose of the image, which is the product itself.\\n31. The alt text for the image of the sanitary pads is \"상품을 선택해주세요\" (Please select the product). This text is not appropriate as it does not convey the meaning or purpose of the image, which is the product itself.\\n32. The alt text for the image of the sanitary pads is \"상품을 선택해주세요\" (Please select the product). This text is not appropriate as it does not convey the meaning or purpose of the image, which is the product itself.\\n33. The alt text for the image of the sanitary pads is \"상품을 선택해주세요\" (Please select the product). This text is not appropriate as it does not convey the meaning or purpose of the image, which is the product itself.\\n34. The alt text for the image of the sanitary pads is \"상품을 선택해주세요\" (Please select the product). This text is not appropriate as it does not convey the meaning or purpose of the image, which is the product itself.\\n35. The alt text for the image of the sanitary pads is \"상품을 선택해주세요\" (Please select the product). This text is not appropriate as it does not convey the meaning or purpose of the image, which is the product itself.\\n36. The alt text for the image of the sanitary pads is \"상품을 선택해주세요\" (Please select the product). This text is not appropriate as it does not convey the meaning or purpose of the image, which is the product itself.\\n37. The alt text for the image of the sanitary pads is \"상품을 선택해주세요\" (Please select the product). This text is not appropriate as it does not convey the meaning or purpose of the image, which is the product itself.\\n38. The alt text for the image of the sanitary pads is \"상품을 선택해주세요\" (Please select the product). This text is not appropriate as it does not convey the meaning or purpose of the image, which is the product itself.\\n39. The alt text for the image of the sanitary pads is \"상품을 선택해주세요\" (Please select the product). This text is not appropriate as it does not convey the meaning or purpose of the image, which is the product itself.\\n40. The alt'"
      ]
     },
     "execution_count": 42,
     "metadata": {},
     "output_type": "execute_result"
    }
   ],
   "source": [
    "lora_mode = \"qwen2_7b_1_cpk_9\"\n",
    "\n",
    "\n",
    "ft_desription_9  = generate_description(model, image_input, html_input, lora_mode)\n",
    "ft_desription_9"
   ]
  },
  {
   "cell_type": "markdown",
   "metadata": {
    "id": "z4-MDPPESw1i"
   },
   "source": [
    "## 모델 응답 생성"
   ]
  },
  {
   "cell_type": "markdown",
   "metadata": {
    "id": "8vNUCynPZEUe"
   },
   "source": [
    "![image.png](data:image/png;base64,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)"
   ]
  },
  {
   "cell_type": "code",
   "execution_count": 31,
   "metadata": {
    "executionInfo": {
     "elapsed": 9,
     "status": "ok",
     "timestamp": 1749624480693,
     "user": {
      "displayName": "최두성",
      "userId": "08438271081794727685"
     },
     "user_tz": -540
    },
    "id": "h5FCjms3S1iI"
   },
   "outputs": [],
   "source": [
    "from qwen_vl_utils import process_vision_info\n",
    "\n",
    "dpo_output_1_base_path = \"/content/drive/MyDrive/VLM_checkpoints/qwen2-7b-instruct-description/\"\n",
    "\n",
    "lora_configs = {\n",
    "    \"qwen2_7b_1_cpk_4\": (1, dpo_output_1_base_path + \"checkpoint-4\"),\n",
    "    \"qwen2_7b_1_cpk_5\": (2, dpo_output_1_base_path + \"checkpoint-5\"),\n",
    "    \"qwen2_7b_1_cpk_6\": (3, dpo_output_1_base_path + \"checkpoint-6\"),\n",
    "    \"qwen2_7b_1_cpk_7\": (4, dpo_output_1_base_path + \"checkpoint-7\"),\n",
    "    \"qwen2_7b_1_cpk_8\": (5, dpo_output_1_base_path + \"checkpoint-8\"),\n",
    "    \"qwen2_7b_1_cpk_9\": (6, dpo_output_1_base_path + \"checkpoint-9\"),\n",
    "}\n",
    "\n",
    "system_message = \"\"\"\n",
    "    A conversation between User and Assistant. The user asks a question, and the Assistant solves it.\n",
    "    The assistant first thinks about the reasoning process in the mind and then provides the user with the answer.\n",
    "    The reasoning process and answer are enclosed within <begin_of_thought><end_of_thought> and <begin_of_solution><end_of_solution> tags,\n",
    "    respectively, i.e., <begin_of_thought>reasoning process here<end_of_thought><begin_of_solution>answer here<end_of_solution>.\n",
    "    \"\"\"\n",
    "\n",
    "user_prompt = PromptTemplate(\n",
    "    template=\"\"\"\n",
    "    You are a web accessibility evaluation expert.\n",
    "    Your task is to evaluate the use of alternative text (alt attributes) for image elements on a webpage.\n",
    "\n",
    "    [Evaluation Objective]\n",
    "    Follow this principle:\n",
    "    “Non-text content must provide alternative text that conveys its meaning or purpose.”\n",
    "\n",
    "    [Evaluation Criteria (based on WCAG 5.1.1 rules)]\n",
    "    [1-1] Missing or inappropriate alt for meaningful images\n",
    "      - <img> or <input type=\"image\"> lacks an alt attribute\n",
    "      - or the alt is present but doesn't meaningfully describe the image\n",
    "      - or contains typos that change the intended meaning\n",
    "\n",
    "    [1-2] Decorative or meaningless images with inappropriate alt e.g., bullet icons, background graphics\n",
    "      - these should use alt=\"\" but instead contain unnecessary or misleading text\n",
    "\n",
    "    [1-6] Inadequate alt for complex images like image maps e.g., org charts or processes\n",
    "      - the alt text is out of order or incomplete and fails to fully represent the image’s content\n",
    "\n",
    "    [Your Task]\n",
    "    You will be given:\n",
    "    - A screenshot of the webpage\n",
    "    - A related HTML snippet\n",
    "\n",
    "    First, infer the context and intent of the image based on visual and code-based cues, and then provide your evaluation result in a structured format.\n",
    "\n",
    "    <|begin_of_thought|>\n",
    "    1. Begin by analyzing the visual context of the screenshot and the semantic intent of the images based on their use in the HTML snippet. Infer the likely roles or meanings of the images as they would be perceived by users.\n",
    "    2. Using your analysis, evaluate whether the alt attributes are appropriate based on the WCAG criteria listed above.\n",
    "    3. If an issue is found, specify which guideline it violates (1-1, 1-2, or 1-6).\n",
    "    <|end_of_thought|>\n",
    "\n",
    "    Then, summarize your findings in the following format:\n",
    "\n",
    "    <|begin_of_solution|>\n",
    "      [Evaluation Element]: Describe the image or element with the accessibility issue in one sentence.\n",
    "      [Evaluation Rationale]: Summarize the reasoning provided in the <|begin_of_thought|> ... <|end_of_thought|> section to clearly explain why the alt text is inappropriate. Provide enough context in 2–3 sentences so the user can understand the evaluation result.\n",
    "      [Improvement Suggestion]: Provide an updated HTML code snippet with an improved alt attribute.\n",
    "    <|end_of_solution|>\n",
    "\n",
    "    Finally, output both the reasoning section (<|begin_of_thought|> ... <|end_of_thought|>) and the evaluation summary section (<|begin_of_solution|> ... <|end_of_solution|>).\n",
    "\n",
    "    HTML Code: {html}\n",
    "    \"\"\",\n",
    "    input_variables=[\"html\"],\n",
    "    )\n",
    "\n",
    "# utils/lora_utils.py\n",
    "def switch_lora_adapter(model, adapter_path, adapter_name: str = \"default\"):\n",
    "    \"\"\"\n",
    "    모델에 같은 이름의 LoRA adapter 가 이미 있으면 삭제한 뒤\n",
    "    새 adapter 를 로드하고 활성화한다.\n",
    "\n",
    "    Args:\n",
    "        model        : PeftModel 또는 Adapter-Transformers 모델\n",
    "        adapter_path : 새 LoRA checkpoint 경로(디렉터리 또는 HF Hub id)\n",
    "        adapter_name : 모델 내부에서 사용할 adapter 식별자(기본 \"default\")\n",
    "    \"\"\"\n",
    "    # 1️⃣ 기존 adapter 제거 ----------------------------\n",
    "    #  PEFT (delete_adapter)       :contentReference[oaicite:0]{index=0}\n",
    "    if hasattr(model, \"peft_config\") and adapter_name in model.peft_config:\n",
    "        model.delete_adapter(adapter_name)\n",
    "\n",
    "    #  Adapter-Transformers (has_adapter / delete_adapter)\n",
    "    elif hasattr(model, \"has_adapter\") and model.has_adapter(adapter_name):\n",
    "        model.delete_adapter(adapter_name)\n",
    "\n",
    "    # 2️⃣ 새 adapter 로드 & 활성화 ----------------------\n",
    "    model.load_adapter(adapter_path, adapter_name=adapter_name)\n",
    "    # PEFT 0.15+ 기준\n",
    "    if hasattr(model, \"set_adapter\"):\n",
    "        model.set_adapter(adapter_name)\n",
    "    # Adapter-Transformers\n",
    "    elif hasattr(model, \"set_active_adapters\"):\n",
    "        model.set_active_adapters(adapter_name)\n",
    "\n",
    "    return model\n",
    "\n",
    "\n",
    "\n",
    "\n",
    "# model 출력 받기\n",
    "def generate_description(model, image_input, html_input, lora_mode=\"default\"):\n",
    "\n",
    "    if not image_input:\n",
    "      return None, \"Please upload an image.\"\n",
    "\n",
    "    messages = [\n",
    "        {\"role\": \"system\", \"content\": [{\"type\": \"text\", \"text\": system_message}]},\n",
    "        {\"role\": \"user\", \"content\": [\n",
    "            {\"type\": \"image\",\"image\": image_input.name if hasattr(image_input, 'name') else image_input},\n",
    "            {\"type\": \"text\", \"text\": user_prompt.format(html=html_input)},\n",
    "        ]},\n",
    "    ]\n",
    "\n",
    "    # assisstant에도 출력 형식을 만들어줄 필요는 없는걸까? 이미 그렇게 대답하기로 학습했으니까?\n",
    "\n",
    "    #processor\n",
    "    text = processor.apply_chat_template(messages, tokenize=False, add_generation_prompt=True)\n",
    "    #add_generaton_prompt가 true면 모델에게 대답하라고 지시하는 프롬프트를 제시하는것과 같음\n",
    "    #현재는 추론상황이니까 이 과정을 꼭 넣어야 하는것임\n",
    "    \"\"\"\n",
    "    <|system|>\n",
    "    너는 친절한 도우미야.\n",
    "    <|user|>\n",
    "    고양이에 대해 설명해줘.\n",
    "    <|assistant|>\n",
    "    -> 이렇게 <|assistant|> 부분을 추가해주는것임\n",
    "    \"\"\"\n",
    "\n",
    "    image_input, video_inputs = process_vision_info(messages)\n",
    "    inputs = processor(\n",
    "        text=[text], #여기서 대괄호로 묶는게 포인트임\n",
    "        images=image_input,\n",
    "        padding=True,\n",
    "        return_tensors=\"pt\",\n",
    "    )\n",
    "    inputs = inputs.to(model.device) #'cuda'\n",
    "\n",
    "    lora_config={}\n",
    "    if lora_mode !=\"default\":\n",
    "      adapter_path = lora_configs[lora_mode][1]\n",
    "      model = switch_lora_adapter(model, adapter_path, adapter_name=\"default\")\n",
    "\n",
    "    #Inference\n",
    "    generated_ids = model.generate(**inputs, max_new_tokens=2048, top_p=1.0, do_sample=True, temperature=0.8)\n",
    "    \"\"\"\n",
    "      inputs: input_ids, attention... 등등이 포함됨\n",
    "      max_new_tokens: 출력으로 할당된 최대 토큰\n",
    "      top_p=1.0 : 랜덤 정도를 결정함 크면 랜덤한거임\n",
    "                  다음 문장으로 올 단어들의 확률들을 상위부터 하나씩 골라 더했을때 100%이 될때까지 뽑아서 그 안에서 랜덤 출력\n",
    "      do_sample= True: False면 가장 높은 확률의 단어만 뽑음\n",
    "      temperture: 0-가장 높은 확률만 뽑음 1-원래 학습한 예측 비율에 맞춰 생성 1이상 각 단어의 확률이 고루 분포\n",
    "\n",
    "    \"\"\"\n",
    "\n",
    "\n",
    "    generated_ids_trimmed = [out_ids[len(in_ids) :] for in_ids, out_ids in zip(inputs.input_ids, generated_ids)]\n",
    "    \"\"\"\n",
    "      inputs.input_ids - system, user에 해당하는 프롬프트가 토큰화되어 있음\n",
    "      generated_ids - inputs.input_ids + 모델이 출력한 결과의 토큰 값\n",
    "    \"\"\"\n",
    "    output_text = processor.batch_decode(\n",
    "        generated_ids_trimmed, skip_special_tokens=True, clean_up_tokenization_spaces=False\n",
    "    )\n",
    "    \"\"\"\n",
    "      processor.batch_decode를 통해서 토큰값들을 text로 복원함\n",
    "      skip_special_token - <pad>, <eos>와 같은 특수 토큰들은 복원에서 제외함\n",
    "      clean_up_tokenization_spaces=False: 공백 정리를 안 함 (모델 출력 보존)\n",
    "    \"\"\"\n",
    "\n",
    "    return output_text[0]"
   ]
  },
  {
   "cell_type": "code",
   "execution_count": null,
   "metadata": {
    "collapsed": true,
    "id": "YKv6hP7Ke83G"
   },
   "outputs": [],
   "source": [
    "image_input = \"/content/drive/MyDrive/(석사과정) 최두성/졸업 및 취업/개발/(VLM) Create a image dataset/my_dataset/train/001.png\"\n",
    "html_input = \"https://edudata.selvasai.com:58667/mirae-n/el34/html/flashcard.html?school=el&grade=3&lesson=01&chapter=01\"\n",
    "lora_mode = \"qwen2_7b_1_cpk_4\"\n",
    "\n",
    "ft_desription_4 = generate_description(model, image_input, html_input, lora_mode)"
   ]
  },
  {
   "cell_type": "code",
   "execution_count": null,
   "metadata": {
    "colab": {
     "base_uri": "https://localhost:8080/",
     "height": 146
    },
    "executionInfo": {
     "elapsed": 15,
     "status": "ok",
     "timestamp": 1749622054393,
     "user": {
      "displayName": "최두성",
      "userId": "08438271081794727685"
     },
     "user_tz": -540
    },
    "id": "olMXRk8fe_B1",
    "outputId": "52f0bcfe-27fe-4eb6-b4fe-c64a1ad94032"
   },
   "outputs": [
    {
     "data": {
      "application/vnd.google.colaboratory.intrinsic+json": {
       "type": "string"
      },
      "text/plain": [
       "'<begin_of_thought>\\n1. The screenshot shows a children\\'s learning interface with two cartoon characters and the text \"hello / hi\". The image likely represents a greeting scenario, possibly for teaching children how to say \"hello\" or \"hi\".\\n2. The alt attribute for the image is missing, which violates WCAG 5.1.1 rule 1-1. The image is meaningful and should provide alternative text that conveys its meaning or purpose.\\n3. The image is not decorative or meaningless, so it does not violate rule 1-2. However, it does not provide any information about the image\\'s content, which is a violation of rule 1-1.\\n4. The image is not complex, so it does not violate rule 1-6.\\n5. The alt attribute should be updated to provide a meaningful description of the image, such as \"Two cartoon characters saying hello\".\\n<end_of_thought>\\n\\n<begin_of_solution>\\n[Evaluation Element]: The image in the screenshot is missing an alt attribute.\\n[Evaluation Rationale]: The image is meaningful and should provide alternative text that conveys its meaning or purpose. In this case, the image represents a greeting scenario, and the alt attribute should provide a description of the image\\'s content.\\n[Improvement Suggestion]: Update the alt attribute to \"Two cartoon characters saying hello\".\\n</begin_of_solution>'"
      ]
     },
     "execution_count": 25,
     "metadata": {},
     "output_type": "execute_result"
    }
   ],
   "source": [
    "ft_desription_9"
   ]
  },
  {
   "cell_type": "markdown",
   "metadata": {
    "id": "YfCZg8ZRUx-o"
   },
   "source": [
    "## Gradio 호출"
   ]
  },
  {
   "cell_type": "code",
   "execution_count": 44,
   "metadata": {
    "colab": {
     "base_uri": "https://localhost:8080/",
     "height": 651
    },
    "executionInfo": {
     "elapsed": 2788,
     "status": "ok",
     "timestamp": 1749625757102,
     "user": {
      "displayName": "최두성",
      "userId": "08438271081794727685"
     },
     "user_tz": -540
    },
    "id": "p2tUG1nqouz7",
    "outputId": "559fb22f-f74b-480c-9f92-06293f89daa7"
   },
   "outputs": [
    {
     "name": "stdout",
     "output_type": "stream",
     "text": [
      "It looks like you are running Gradio on a hosted a Jupyter notebook. For the Gradio app to work, sharing must be enabled. Automatically setting `share=True` (you can turn this off by setting `share=False` in `launch()` explicitly).\n",
      "\n",
      "Colab notebook detected. To show errors in colab notebook, set debug=True in launch()\n",
      "* Running on public URL: https://879e63563867fc5ef5.gradio.live\n",
      "\n",
      "This share link expires in 1 week. For free permanent hosting and GPU upgrades, run `gradio deploy` from the terminal in the working directory to deploy to Hugging Face Spaces (https://huggingface.co/spaces)\n"
     ]
    },
    {
     "data": {
      "text/html": [
       "<div><iframe src=\"https://879e63563867fc5ef5.gradio.live\" width=\"100%\" height=\"500\" allow=\"autoplay; camera; microphone; clipboard-read; clipboard-write;\" frameborder=\"0\" allowfullscreen></iframe></div>"
      ],
      "text/plain": [
       "<IPython.core.display.HTML object>"
      ]
     },
     "metadata": {},
     "output_type": "display_data"
    },
    {
     "data": {
      "text/plain": []
     },
     "execution_count": 44,
     "metadata": {},
     "output_type": "execute_result"
    }
   ],
   "source": [
    "import gradio as gr\n",
    "\n",
    "# --- 콜백 함수 ---\n",
    "def evaluate_page(image_file, link_str, lora_mode):\n",
    "    \"\"\"\n",
    "    image_file : 업로드된 이미지 파일 객체 (or None)\n",
    "    link_str   : 사용자가 텍스트박스에 입력한 웹페이지 URL (str)\n",
    "    model_name : 선택한 모델 이름 (예시로 넣음)\n",
    "    \"\"\"\n",
    "    # 1) 링크 전처리\n",
    "    processed_html = HTMLPreprocessor.process(link_str)\n",
    "\n",
    "    # 2) 실제 평가 함수 호출 (예: generate_description)\n",
    "    result = generate_description(model, image_file, processed_html, lora_mode)\n",
    "\n",
    "    # 3) 결과 반환 → evaluation_output(Textbox)에 표시\n",
    "    return result\n",
    "\n",
    "\n",
    "with gr.Blocks() as demo:\n",
    "    gr.Markdown(\"# Qwen2-7b-instruct Demo\")\n",
    "\n",
    "    # 탭이 하나뿐이라면 gr.Tab 생략해도 무방하지만, 구조를 명확히 하고 싶다면 이렇게:\n",
    "    with gr.Tab(\"Accessibility Evaluation\"):\n",
    "        # 입력 컴포넌트\n",
    "        image_input = gr.File(label=\"Input Image\", file_types=[\"image\"])\n",
    "        html_input  = gr.Textbox(label=\"Webpage link\",\n",
    "                                 placeholder=\"Paste your webpage link.\")\n",
    "\n",
    "        lora_mode   = gr.Dropdown(\n",
    "            choices=[\"default\"] + list(lora_configs.keys()),\n",
    "            label=\"Model Type\",\n",
    "            value=\"default\"\n",
    "        )\n",
    "\n",
    "        # 출력 컴포넌트\n",
    "        evaluation_output = gr.Textbox(label=\"Result of accessibility evaluation\",\n",
    "                                       lines=10)\n",
    "\n",
    "        # 버튼 및 이벤트 바인딩\n",
    "        eval_button = gr.Button(\"Evaluate my web page\")\n",
    "        eval_button.click(\n",
    "            evaluate_page,          # 앞에서 정의한 콜백\n",
    "            inputs=[image_input, html_input, lora_mode],\n",
    "            outputs=[evaluation_output]\n",
    "        )\n",
    "\n",
    "demo.launch()\n"
   ]
  },
  {
   "cell_type": "code",
   "execution_count": 45,
   "metadata": {
    "executionInfo": {
     "elapsed": 7,
     "status": "ok",
     "timestamp": 1749626256759,
     "user": {
      "displayName": "최두성",
      "userId": "08438271081794727685"
     },
     "user_tz": -540
    },
    "id": "NUh-3nMvHR5X"
   },
   "outputs": [],
   "source": [
    "# link_example = \"https://web.idigrow.com/2025_Mirean_Math_AIDT/5-1/DM515-07-102-N02.html\""
   ]
  }
 ],
 "metadata": {
  "accelerator": "GPU",
  "colab": {
   "collapsed_sections": [
    "fOjNmCSjTcX-",
    "nV7X-oULVJhe"
   ],
   "gpuType": "A100",
   "machine_shape": "hm",
   "provenance": []
  },
  "kernelspec": {
   "display_name": "Python 3",
   "name": "python3"
  },
  "language_info": {
   "name": "python"
  },
  "widgets": {
   "application/vnd.jupyter.widget-state+json": {
    "126adf79cb7148749c584a154f05fbbf": {
     "model_module": "@jupyter-widgets/base",
     "model_module_version": "1.2.0",
     "model_name": "LayoutModel",
     "state": {
      "_model_module": "@jupyter-widgets/base",
      "_model_module_version": "1.2.0",
      "_model_name": "LayoutModel",
      "_view_count": null,
      "_view_module": "@jupyter-widgets/base",
      "_view_module_version": "1.2.0",
      "_view_name": "LayoutView",
      "align_content": null,
      "align_items": null,
      "align_self": null,
      "border": null,
      "bottom": null,
      "display": null,
      "flex": null,
      "flex_flow": null,
      "grid_area": null,
      "grid_auto_columns": null,
      "grid_auto_flow": null,
      "grid_auto_rows": null,
      "grid_column": null,
      "grid_gap": null,
      "grid_row": null,
      "grid_template_areas": null,
      "grid_template_columns": null,
      "grid_template_rows": null,
      "height": null,
      "justify_content": null,
      "justify_items": null,
      "left": null,
      "margin": null,
      "max_height": null,
      "max_width": null,
      "min_height": null,
      "min_width": null,
      "object_fit": null,
      "object_position": null,
      "order": null,
      "overflow": null,
      "overflow_x": null,
      "overflow_y": null,
      "padding": null,
      "right": null,
      "top": null,
      "visibility": null,
      "width": null
     }
    },
    "3d29fa83a40042ae96c7bf3c3da8e367": {
     "model_module": "@jupyter-widgets/controls",
     "model_module_version": "1.5.0",
     "model_name": "HTMLModel",
     "state": {
      "_dom_classes": [],
      "_model_module": "@jupyter-widgets/controls",
      "_model_module_version": "1.5.0",
      "_model_name": "HTMLModel",
      "_view_count": null,
      "_view_module": "@jupyter-widgets/controls",
      "_view_module_version": "1.5.0",
      "_view_name": "HTMLView",
      "description": "",
      "description_tooltip": null,
      "layout": "IPY_MODEL_975432aafaf544e3b883e4d90510f295",
      "placeholder": "​",
      "style": "IPY_MODEL_45e39ca0a70c4a17bebb4b396fbc12e4",
      "value": "Loading checkpoint shards: 100%"
     }
    },
    "3e9aa4c72f9641d99ceafc792cdd155a": {
     "model_module": "@jupyter-widgets/controls",
     "model_module_version": "1.5.0",
     "model_name": "HTMLModel",
     "state": {
      "_dom_classes": [],
      "_model_module": "@jupyter-widgets/controls",
      "_model_module_version": "1.5.0",
      "_model_name": "HTMLModel",
      "_view_count": null,
      "_view_module": "@jupyter-widgets/controls",
      "_view_module_version": "1.5.0",
      "_view_name": "HTMLView",
      "description": "",
      "description_tooltip": null,
      "layout": "IPY_MODEL_b49e3a1f41a24906aef8e1a1c3916503",
      "placeholder": "​",
      "style": "IPY_MODEL_84c20b2ab67a43dc8330a4119ec13cf9",
      "value": " 5/5 [00:05&lt;00:00,  1.06it/s]"
     }
    },
    "45e39ca0a70c4a17bebb4b396fbc12e4": {
     "model_module": "@jupyter-widgets/controls",
     "model_module_version": "1.5.0",
     "model_name": "DescriptionStyleModel",
     "state": {
      "_model_module": "@jupyter-widgets/controls",
      "_model_module_version": "1.5.0",
      "_model_name": "DescriptionStyleModel",
      "_view_count": null,
      "_view_module": "@jupyter-widgets/base",
      "_view_module_version": "1.2.0",
      "_view_name": "StyleView",
      "description_width": ""
     }
    },
    "5dc8a7f08e5247d38c2ec3e74f70f4b2": {
     "model_module": "@jupyter-widgets/controls",
     "model_module_version": "1.5.0",
     "model_name": "ProgressStyleModel",
     "state": {
      "_model_module": "@jupyter-widgets/controls",
      "_model_module_version": "1.5.0",
      "_model_name": "ProgressStyleModel",
      "_view_count": null,
      "_view_module": "@jupyter-widgets/base",
      "_view_module_version": "1.2.0",
      "_view_name": "StyleView",
      "bar_color": null,
      "description_width": ""
     }
    },
    "6979a8e174374050b6ed888aa0c8f4b2": {
     "model_module": "@jupyter-widgets/controls",
     "model_module_version": "1.5.0",
     "model_name": "FloatProgressModel",
     "state": {
      "_dom_classes": [],
      "_model_module": "@jupyter-widgets/controls",
      "_model_module_version": "1.5.0",
      "_model_name": "FloatProgressModel",
      "_view_count": null,
      "_view_module": "@jupyter-widgets/controls",
      "_view_module_version": "1.5.0",
      "_view_name": "ProgressView",
      "bar_style": "success",
      "description": "",
      "description_tooltip": null,
      "layout": "IPY_MODEL_b6f02cf63edb40358bcf00ed5afbf9c6",
      "max": 5,
      "min": 0,
      "orientation": "horizontal",
      "style": "IPY_MODEL_5dc8a7f08e5247d38c2ec3e74f70f4b2",
      "value": 5
     }
    },
    "84c20b2ab67a43dc8330a4119ec13cf9": {
     "model_module": "@jupyter-widgets/controls",
     "model_module_version": "1.5.0",
     "model_name": "DescriptionStyleModel",
     "state": {
      "_model_module": "@jupyter-widgets/controls",
      "_model_module_version": "1.5.0",
      "_model_name": "DescriptionStyleModel",
      "_view_count": null,
      "_view_module": "@jupyter-widgets/base",
      "_view_module_version": "1.2.0",
      "_view_name": "StyleView",
      "description_width": ""
     }
    },
    "975432aafaf544e3b883e4d90510f295": {
     "model_module": "@jupyter-widgets/base",
     "model_module_version": "1.2.0",
     "model_name": "LayoutModel",
     "state": {
      "_model_module": "@jupyter-widgets/base",
      "_model_module_version": "1.2.0",
      "_model_name": "LayoutModel",
      "_view_count": null,
      "_view_module": "@jupyter-widgets/base",
      "_view_module_version": "1.2.0",
      "_view_name": "LayoutView",
      "align_content": null,
      "align_items": null,
      "align_self": null,
      "border": null,
      "bottom": null,
      "display": null,
      "flex": null,
      "flex_flow": null,
      "grid_area": null,
      "grid_auto_columns": null,
      "grid_auto_flow": null,
      "grid_auto_rows": null,
      "grid_column": null,
      "grid_gap": null,
      "grid_row": null,
      "grid_template_areas": null,
      "grid_template_columns": null,
      "grid_template_rows": null,
      "height": null,
      "justify_content": null,
      "justify_items": null,
      "left": null,
      "margin": null,
      "max_height": null,
      "max_width": null,
      "min_height": null,
      "min_width": null,
      "object_fit": null,
      "object_position": null,
      "order": null,
      "overflow": null,
      "overflow_x": null,
      "overflow_y": null,
      "padding": null,
      "right": null,
      "top": null,
      "visibility": null,
      "width": null
     }
    },
    "b49e3a1f41a24906aef8e1a1c3916503": {
     "model_module": "@jupyter-widgets/base",
     "model_module_version": "1.2.0",
     "model_name": "LayoutModel",
     "state": {
      "_model_module": "@jupyter-widgets/base",
      "_model_module_version": "1.2.0",
      "_model_name": "LayoutModel",
      "_view_count": null,
      "_view_module": "@jupyter-widgets/base",
      "_view_module_version": "1.2.0",
      "_view_name": "LayoutView",
      "align_content": null,
      "align_items": null,
      "align_self": null,
      "border": null,
      "bottom": null,
      "display": null,
      "flex": null,
      "flex_flow": null,
      "grid_area": null,
      "grid_auto_columns": null,
      "grid_auto_flow": null,
      "grid_auto_rows": null,
      "grid_column": null,
      "grid_gap": null,
      "grid_row": null,
      "grid_template_areas": null,
      "grid_template_columns": null,
      "grid_template_rows": null,
      "height": null,
      "justify_content": null,
      "justify_items": null,
      "left": null,
      "margin": null,
      "max_height": null,
      "max_width": null,
      "min_height": null,
      "min_width": null,
      "object_fit": null,
      "object_position": null,
      "order": null,
      "overflow": null,
      "overflow_x": null,
      "overflow_y": null,
      "padding": null,
      "right": null,
      "top": null,
      "visibility": null,
      "width": null
     }
    },
    "b6f02cf63edb40358bcf00ed5afbf9c6": {
     "model_module": "@jupyter-widgets/base",
     "model_module_version": "1.2.0",
     "model_name": "LayoutModel",
     "state": {
      "_model_module": "@jupyter-widgets/base",
      "_model_module_version": "1.2.0",
      "_model_name": "LayoutModel",
      "_view_count": null,
      "_view_module": "@jupyter-widgets/base",
      "_view_module_version": "1.2.0",
      "_view_name": "LayoutView",
      "align_content": null,
      "align_items": null,
      "align_self": null,
      "border": null,
      "bottom": null,
      "display": null,
      "flex": null,
      "flex_flow": null,
      "grid_area": null,
      "grid_auto_columns": null,
      "grid_auto_flow": null,
      "grid_auto_rows": null,
      "grid_column": null,
      "grid_gap": null,
      "grid_row": null,
      "grid_template_areas": null,
      "grid_template_columns": null,
      "grid_template_rows": null,
      "height": null,
      "justify_content": null,
      "justify_items": null,
      "left": null,
      "margin": null,
      "max_height": null,
      "max_width": null,
      "min_height": null,
      "min_width": null,
      "object_fit": null,
      "object_position": null,
      "order": null,
      "overflow": null,
      "overflow_x": null,
      "overflow_y": null,
      "padding": null,
      "right": null,
      "top": null,
      "visibility": null,
      "width": null
     }
    },
    "b9212a5d42a546f1a98dfff5b09dd449": {
     "model_module": "@jupyter-widgets/controls",
     "model_module_version": "1.5.0",
     "model_name": "HBoxModel",
     "state": {
      "_dom_classes": [],
      "_model_module": "@jupyter-widgets/controls",
      "_model_module_version": "1.5.0",
      "_model_name": "HBoxModel",
      "_view_count": null,
      "_view_module": "@jupyter-widgets/controls",
      "_view_module_version": "1.5.0",
      "_view_name": "HBoxView",
      "box_style": "",
      "children": [
       "IPY_MODEL_3d29fa83a40042ae96c7bf3c3da8e367",
       "IPY_MODEL_6979a8e174374050b6ed888aa0c8f4b2",
       "IPY_MODEL_3e9aa4c72f9641d99ceafc792cdd155a"
      ],
      "layout": "IPY_MODEL_126adf79cb7148749c584a154f05fbbf"
     }
    }
   }
  }
 },
 "nbformat": 4,
 "nbformat_minor": 0
}
