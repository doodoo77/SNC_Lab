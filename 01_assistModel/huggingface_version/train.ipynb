{
 "cells": [
  {
   "cell_type": "markdown",
   "metadata": {
    "id": "tnU2qNvhnEsN"
   },
   "source": [
    "## 환경 설정하기"
   ]
  },
  {
   "cell_type": "code",
   "execution_count": null,
   "metadata": {
    "collapsed": true,
    "id": "ymlxk3Oh1gRP"
   },
   "outputs": [],
   "source": [
    "# !pip install git+https://github.com/huggingface/transformers\n",
    "# !pip install qwen-vl-utils\n",
    "# !pip install qwen_agent"
   ]
  },
  {
   "cell_type": "code",
   "execution_count": null,
   "metadata": {
    "colab": {
     "base_uri": "https://localhost:8080/"
    },
    "collapsed": true,
    "executionInfo": {
     "elapsed": 28710,
     "status": "ok",
     "timestamp": 1749531059744,
     "user": {
      "displayName": "최두성",
      "userId": "08438271081794727685"
     },
     "user_tz": -540
    },
    "id": "pxYpjopi5Mbr",
    "outputId": "2a9c6062-0f65-458f-cb6f-f5d19243b224"
   },
   "outputs": [
    {
     "name": "stdout",
     "output_type": "stream",
     "text": [
      "  Installing build dependencies ... \u001b[?25l\u001b[?25hdone\n",
      "  Getting requirements to build wheel ... \u001b[?25l\u001b[?25hdone\n",
      "  Preparing metadata (pyproject.toml) ... \u001b[?25l\u001b[?25hdone\n",
      "  Installing build dependencies ... \u001b[?25l\u001b[?25hdone\n",
      "  Getting requirements to build wheel ... \u001b[?25l\u001b[?25hdone\n",
      "  Preparing metadata (pyproject.toml) ... \u001b[?25l\u001b[?25hdone\n"
     ]
    }
   ],
   "source": [
    "!pip install  -U -q git+https://github.com/huggingface/transformers.git git+https://github.com/huggingface/trl.git datasets bitsandbytes peft qwen-vl-utils wandb accelerate\n",
    "# Tested with transformers==4.47.0.dev0, trl==0.12.0.dev0, datasets==3.0.2, bitsandbytes==0.44.1, peft==0.13.2, qwen-vl-utils==0.0.8, wandb==0.18.5, accelerate==1.0.1\n",
    "\n",
    "!pip install -q torch==2.4.1+cu121 torchvision==0.19.1+cu121 torchaudio==2.4.1+cu121 --extra-index-url https://download.pytorch.org/whl/cu121"
   ]
  },
  {
   "cell_type": "code",
   "execution_count": null,
   "metadata": {
    "colab": {
     "base_uri": "https://localhost:8080/"
    },
    "collapsed": true,
    "executionInfo": {
     "elapsed": 19964,
     "status": "ok",
     "timestamp": 1749531079713,
     "user": {
      "displayName": "최두성",
      "userId": "08438271081794727685"
     },
     "user_tz": -540
    },
    "id": "nGdOHdN-DL_c",
    "outputId": "022c7cc8-2fcb-407c-ad54-629e86775185"
   },
   "outputs": [
    {
     "name": "stdout",
     "output_type": "stream",
     "text": [
      "Requirement already satisfied: datasets in /usr/local/lib/python3.11/dist-packages (3.6.0)\n",
      "Requirement already satisfied: huggingface_hub in /usr/local/lib/python3.11/dist-packages (0.32.4)\n",
      "Requirement already satisfied: fsspec in /usr/local/lib/python3.11/dist-packages (2025.3.0)\n",
      "Collecting fsspec\n",
      "  Using cached fsspec-2025.5.1-py3-none-any.whl.metadata (11 kB)\n",
      "Requirement already satisfied: filelock in /usr/local/lib/python3.11/dist-packages (from datasets) (3.18.0)\n",
      "Requirement already satisfied: numpy>=1.17 in /usr/local/lib/python3.11/dist-packages (from datasets) (2.0.2)\n",
      "Requirement already satisfied: pyarrow>=15.0.0 in /usr/local/lib/python3.11/dist-packages (from datasets) (18.1.0)\n",
      "Requirement already satisfied: dill<0.3.9,>=0.3.0 in /usr/local/lib/python3.11/dist-packages (from datasets) (0.3.7)\n",
      "Requirement already satisfied: pandas in /usr/local/lib/python3.11/dist-packages (from datasets) (2.2.2)\n",
      "Requirement already satisfied: requests>=2.32.2 in /usr/local/lib/python3.11/dist-packages (from datasets) (2.32.3)\n",
      "Requirement already satisfied: tqdm>=4.66.3 in /usr/local/lib/python3.11/dist-packages (from datasets) (4.67.1)\n",
      "Requirement already satisfied: xxhash in /usr/local/lib/python3.11/dist-packages (from datasets) (3.5.0)\n",
      "Requirement already satisfied: multiprocess<0.70.17 in /usr/local/lib/python3.11/dist-packages (from datasets) (0.70.15)\n",
      "Requirement already satisfied: packaging in /usr/local/lib/python3.11/dist-packages (from datasets) (24.2)\n",
      "Requirement already satisfied: pyyaml>=5.1 in /usr/local/lib/python3.11/dist-packages (from datasets) (6.0.2)\n",
      "Requirement already satisfied: typing-extensions>=3.7.4.3 in /usr/local/lib/python3.11/dist-packages (from huggingface_hub) (4.14.0)\n",
      "Requirement already satisfied: hf-xet<2.0.0,>=1.1.2 in /usr/local/lib/python3.11/dist-packages (from huggingface_hub) (1.1.2)\n",
      "Requirement already satisfied: aiohttp!=4.0.0a0,!=4.0.0a1 in /usr/local/lib/python3.11/dist-packages (from fsspec[http]<=2025.3.0,>=2023.1.0->datasets) (3.11.15)\n",
      "Requirement already satisfied: charset-normalizer<4,>=2 in /usr/local/lib/python3.11/dist-packages (from requests>=2.32.2->datasets) (3.4.2)\n",
      "Requirement already satisfied: idna<4,>=2.5 in /usr/local/lib/python3.11/dist-packages (from requests>=2.32.2->datasets) (3.10)\n",
      "Requirement already satisfied: urllib3<3,>=1.21.1 in /usr/local/lib/python3.11/dist-packages (from requests>=2.32.2->datasets) (2.4.0)\n",
      "Requirement already satisfied: certifi>=2017.4.17 in /usr/local/lib/python3.11/dist-packages (from requests>=2.32.2->datasets) (2025.4.26)\n",
      "Requirement already satisfied: python-dateutil>=2.8.2 in /usr/local/lib/python3.11/dist-packages (from pandas->datasets) (2.9.0.post0)\n",
      "Requirement already satisfied: pytz>=2020.1 in /usr/local/lib/python3.11/dist-packages (from pandas->datasets) (2025.2)\n",
      "Requirement already satisfied: tzdata>=2022.7 in /usr/local/lib/python3.11/dist-packages (from pandas->datasets) (2025.2)\n",
      "Requirement already satisfied: aiohappyeyeballs>=2.3.0 in /usr/local/lib/python3.11/dist-packages (from aiohttp!=4.0.0a0,!=4.0.0a1->fsspec[http]<=2025.3.0,>=2023.1.0->datasets) (2.6.1)\n",
      "Requirement already satisfied: aiosignal>=1.1.2 in /usr/local/lib/python3.11/dist-packages (from aiohttp!=4.0.0a0,!=4.0.0a1->fsspec[http]<=2025.3.0,>=2023.1.0->datasets) (1.3.2)\n",
      "Requirement already satisfied: attrs>=17.3.0 in /usr/local/lib/python3.11/dist-packages (from aiohttp!=4.0.0a0,!=4.0.0a1->fsspec[http]<=2025.3.0,>=2023.1.0->datasets) (25.3.0)\n",
      "Requirement already satisfied: frozenlist>=1.1.1 in /usr/local/lib/python3.11/dist-packages (from aiohttp!=4.0.0a0,!=4.0.0a1->fsspec[http]<=2025.3.0,>=2023.1.0->datasets) (1.6.0)\n",
      "Requirement already satisfied: multidict<7.0,>=4.5 in /usr/local/lib/python3.11/dist-packages (from aiohttp!=4.0.0a0,!=4.0.0a1->fsspec[http]<=2025.3.0,>=2023.1.0->datasets) (6.4.4)\n",
      "Requirement already satisfied: propcache>=0.2.0 in /usr/local/lib/python3.11/dist-packages (from aiohttp!=4.0.0a0,!=4.0.0a1->fsspec[http]<=2025.3.0,>=2023.1.0->datasets) (0.3.1)\n",
      "Requirement already satisfied: yarl<2.0,>=1.17.0 in /usr/local/lib/python3.11/dist-packages (from aiohttp!=4.0.0a0,!=4.0.0a1->fsspec[http]<=2025.3.0,>=2023.1.0->datasets) (1.20.0)\n",
      "Requirement already satisfied: six>=1.5 in /usr/local/lib/python3.11/dist-packages (from python-dateutil>=2.8.2->pandas->datasets) (1.17.0)\n",
      "Requirement already satisfied: openai in /usr/local/lib/python3.11/dist-packages (1.85.0)\n",
      "Requirement already satisfied: anyio<5,>=3.5.0 in /usr/local/lib/python3.11/dist-packages (from openai) (4.9.0)\n",
      "Requirement already satisfied: distro<2,>=1.7.0 in /usr/local/lib/python3.11/dist-packages (from openai) (1.9.0)\n",
      "Requirement already satisfied: httpx<1,>=0.23.0 in /usr/local/lib/python3.11/dist-packages (from openai) (0.28.1)\n",
      "Requirement already satisfied: jiter<1,>=0.4.0 in /usr/local/lib/python3.11/dist-packages (from openai) (0.10.0)\n",
      "Requirement already satisfied: pydantic<3,>=1.9.0 in /usr/local/lib/python3.11/dist-packages (from openai) (2.11.5)\n",
      "Requirement already satisfied: sniffio in /usr/local/lib/python3.11/dist-packages (from openai) (1.3.1)\n",
      "Requirement already satisfied: tqdm>4 in /usr/local/lib/python3.11/dist-packages (from openai) (4.67.1)\n",
      "Requirement already satisfied: typing-extensions<5,>=4.11 in /usr/local/lib/python3.11/dist-packages (from openai) (4.14.0)\n",
      "Requirement already satisfied: idna>=2.8 in /usr/local/lib/python3.11/dist-packages (from anyio<5,>=3.5.0->openai) (3.10)\n",
      "Requirement already satisfied: certifi in /usr/local/lib/python3.11/dist-packages (from httpx<1,>=0.23.0->openai) (2025.4.26)\n",
      "Requirement already satisfied: httpcore==1.* in /usr/local/lib/python3.11/dist-packages (from httpx<1,>=0.23.0->openai) (1.0.9)\n",
      "Requirement already satisfied: h11>=0.16 in /usr/local/lib/python3.11/dist-packages (from httpcore==1.*->httpx<1,>=0.23.0->openai) (0.16.0)\n",
      "Requirement already satisfied: annotated-types>=0.6.0 in /usr/local/lib/python3.11/dist-packages (from pydantic<3,>=1.9.0->openai) (0.7.0)\n",
      "Requirement already satisfied: pydantic-core==2.33.2 in /usr/local/lib/python3.11/dist-packages (from pydantic<3,>=1.9.0->openai) (2.33.2)\n",
      "Requirement already satisfied: typing-inspection>=0.4.0 in /usr/local/lib/python3.11/dist-packages (from pydantic<3,>=1.9.0->openai) (0.4.1)\n",
      "Requirement already satisfied: langchain-openai in /usr/local/lib/python3.11/dist-packages (0.3.21)\n",
      "Requirement already satisfied: langchain-core<1.0.0,>=0.3.64 in /usr/local/lib/python3.11/dist-packages (from langchain-openai) (0.3.64)\n",
      "Requirement already satisfied: openai<2.0.0,>=1.68.2 in /usr/local/lib/python3.11/dist-packages (from langchain-openai) (1.85.0)\n",
      "Requirement already satisfied: tiktoken<1,>=0.7 in /usr/local/lib/python3.11/dist-packages (from langchain-openai) (0.9.0)\n",
      "Requirement already satisfied: langsmith<0.4,>=0.3.45 in /usr/local/lib/python3.11/dist-packages (from langchain-core<1.0.0,>=0.3.64->langchain-openai) (0.3.45)\n",
      "Requirement already satisfied: tenacity!=8.4.0,<10.0.0,>=8.1.0 in /usr/local/lib/python3.11/dist-packages (from langchain-core<1.0.0,>=0.3.64->langchain-openai) (9.1.2)\n",
      "Requirement already satisfied: jsonpatch<2.0,>=1.33 in /usr/local/lib/python3.11/dist-packages (from langchain-core<1.0.0,>=0.3.64->langchain-openai) (1.33)\n",
      "Requirement already satisfied: PyYAML>=5.3 in /usr/local/lib/python3.11/dist-packages (from langchain-core<1.0.0,>=0.3.64->langchain-openai) (6.0.2)\n",
      "Requirement already satisfied: packaging<25,>=23.2 in /usr/local/lib/python3.11/dist-packages (from langchain-core<1.0.0,>=0.3.64->langchain-openai) (24.2)\n",
      "Requirement already satisfied: typing-extensions>=4.7 in /usr/local/lib/python3.11/dist-packages (from langchain-core<1.0.0,>=0.3.64->langchain-openai) (4.14.0)\n",
      "Requirement already satisfied: pydantic>=2.7.4 in /usr/local/lib/python3.11/dist-packages (from langchain-core<1.0.0,>=0.3.64->langchain-openai) (2.11.5)\n",
      "Requirement already satisfied: anyio<5,>=3.5.0 in /usr/local/lib/python3.11/dist-packages (from openai<2.0.0,>=1.68.2->langchain-openai) (4.9.0)\n",
      "Requirement already satisfied: distro<2,>=1.7.0 in /usr/local/lib/python3.11/dist-packages (from openai<2.0.0,>=1.68.2->langchain-openai) (1.9.0)\n",
      "Requirement already satisfied: httpx<1,>=0.23.0 in /usr/local/lib/python3.11/dist-packages (from openai<2.0.0,>=1.68.2->langchain-openai) (0.28.1)\n",
      "Requirement already satisfied: jiter<1,>=0.4.0 in /usr/local/lib/python3.11/dist-packages (from openai<2.0.0,>=1.68.2->langchain-openai) (0.10.0)\n",
      "Requirement already satisfied: sniffio in /usr/local/lib/python3.11/dist-packages (from openai<2.0.0,>=1.68.2->langchain-openai) (1.3.1)\n",
      "Requirement already satisfied: tqdm>4 in /usr/local/lib/python3.11/dist-packages (from openai<2.0.0,>=1.68.2->langchain-openai) (4.67.1)\n",
      "Requirement already satisfied: regex>=2022.1.18 in /usr/local/lib/python3.11/dist-packages (from tiktoken<1,>=0.7->langchain-openai) (2024.11.6)\n",
      "Requirement already satisfied: requests>=2.26.0 in /usr/local/lib/python3.11/dist-packages (from tiktoken<1,>=0.7->langchain-openai) (2.32.3)\n",
      "Requirement already satisfied: idna>=2.8 in /usr/local/lib/python3.11/dist-packages (from anyio<5,>=3.5.0->openai<2.0.0,>=1.68.2->langchain-openai) (3.10)\n",
      "Requirement already satisfied: certifi in /usr/local/lib/python3.11/dist-packages (from httpx<1,>=0.23.0->openai<2.0.0,>=1.68.2->langchain-openai) (2025.4.26)\n",
      "Requirement already satisfied: httpcore==1.* in /usr/local/lib/python3.11/dist-packages (from httpx<1,>=0.23.0->openai<2.0.0,>=1.68.2->langchain-openai) (1.0.9)\n",
      "Requirement already satisfied: h11>=0.16 in /usr/local/lib/python3.11/dist-packages (from httpcore==1.*->httpx<1,>=0.23.0->openai<2.0.0,>=1.68.2->langchain-openai) (0.16.0)\n",
      "Requirement already satisfied: jsonpointer>=1.9 in /usr/local/lib/python3.11/dist-packages (from jsonpatch<2.0,>=1.33->langchain-core<1.0.0,>=0.3.64->langchain-openai) (3.0.0)\n",
      "Requirement already satisfied: orjson<4.0.0,>=3.9.14 in /usr/local/lib/python3.11/dist-packages (from langsmith<0.4,>=0.3.45->langchain-core<1.0.0,>=0.3.64->langchain-openai) (3.10.18)\n",
      "Requirement already satisfied: requests-toolbelt<2.0.0,>=1.0.0 in /usr/local/lib/python3.11/dist-packages (from langsmith<0.4,>=0.3.45->langchain-core<1.0.0,>=0.3.64->langchain-openai) (1.0.0)\n",
      "Requirement already satisfied: zstandard<0.24.0,>=0.23.0 in /usr/local/lib/python3.11/dist-packages (from langsmith<0.4,>=0.3.45->langchain-core<1.0.0,>=0.3.64->langchain-openai) (0.23.0)\n",
      "Requirement already satisfied: annotated-types>=0.6.0 in /usr/local/lib/python3.11/dist-packages (from pydantic>=2.7.4->langchain-core<1.0.0,>=0.3.64->langchain-openai) (0.7.0)\n",
      "Requirement already satisfied: pydantic-core==2.33.2 in /usr/local/lib/python3.11/dist-packages (from pydantic>=2.7.4->langchain-core<1.0.0,>=0.3.64->langchain-openai) (2.33.2)\n",
      "Requirement already satisfied: typing-inspection>=0.4.0 in /usr/local/lib/python3.11/dist-packages (from pydantic>=2.7.4->langchain-core<1.0.0,>=0.3.64->langchain-openai) (0.4.1)\n",
      "Requirement already satisfied: charset-normalizer<4,>=2 in /usr/local/lib/python3.11/dist-packages (from requests>=2.26.0->tiktoken<1,>=0.7->langchain-openai) (3.4.2)\n",
      "Requirement already satisfied: urllib3<3,>=1.21.1 in /usr/local/lib/python3.11/dist-packages (from requests>=2.26.0->tiktoken<1,>=0.7->langchain-openai) (2.4.0)\n",
      "Requirement already satisfied: tiktoken in /usr/local/lib/python3.11/dist-packages (0.9.0)\n",
      "Requirement already satisfied: regex>=2022.1.18 in /usr/local/lib/python3.11/dist-packages (from tiktoken) (2024.11.6)\n",
      "Requirement already satisfied: requests>=2.26.0 in /usr/local/lib/python3.11/dist-packages (from tiktoken) (2.32.3)\n",
      "Requirement already satisfied: charset-normalizer<4,>=2 in /usr/local/lib/python3.11/dist-packages (from requests>=2.26.0->tiktoken) (3.4.2)\n",
      "Requirement already satisfied: idna<4,>=2.5 in /usr/local/lib/python3.11/dist-packages (from requests>=2.26.0->tiktoken) (3.10)\n",
      "Requirement already satisfied: urllib3<3,>=1.21.1 in /usr/local/lib/python3.11/dist-packages (from requests>=2.26.0->tiktoken) (2.4.0)\n",
      "Requirement already satisfied: certifi>=2017.4.17 in /usr/local/lib/python3.11/dist-packages (from requests>=2.26.0->tiktoken) (2025.4.26)\n",
      "Requirement already satisfied: langgraph in /usr/local/lib/python3.11/dist-packages (0.4.8)\n",
      "Requirement already satisfied: langchain-core>=0.1 in /usr/local/lib/python3.11/dist-packages (from langgraph) (0.3.64)\n",
      "Requirement already satisfied: langgraph-checkpoint>=2.0.26 in /usr/local/lib/python3.11/dist-packages (from langgraph) (2.0.26)\n",
      "Requirement already satisfied: langgraph-prebuilt>=0.2.0 in /usr/local/lib/python3.11/dist-packages (from langgraph) (0.2.2)\n",
      "Requirement already satisfied: langgraph-sdk>=0.1.42 in /usr/local/lib/python3.11/dist-packages (from langgraph) (0.1.70)\n",
      "Requirement already satisfied: pydantic>=2.7.4 in /usr/local/lib/python3.11/dist-packages (from langgraph) (2.11.5)\n",
      "Requirement already satisfied: xxhash>=3.5.0 in /usr/local/lib/python3.11/dist-packages (from langgraph) (3.5.0)\n",
      "Requirement already satisfied: langsmith<0.4,>=0.3.45 in /usr/local/lib/python3.11/dist-packages (from langchain-core>=0.1->langgraph) (0.3.45)\n",
      "Requirement already satisfied: tenacity!=8.4.0,<10.0.0,>=8.1.0 in /usr/local/lib/python3.11/dist-packages (from langchain-core>=0.1->langgraph) (9.1.2)\n",
      "Requirement already satisfied: jsonpatch<2.0,>=1.33 in /usr/local/lib/python3.11/dist-packages (from langchain-core>=0.1->langgraph) (1.33)\n",
      "Requirement already satisfied: PyYAML>=5.3 in /usr/local/lib/python3.11/dist-packages (from langchain-core>=0.1->langgraph) (6.0.2)\n",
      "Requirement already satisfied: packaging<25,>=23.2 in /usr/local/lib/python3.11/dist-packages (from langchain-core>=0.1->langgraph) (24.2)\n",
      "Requirement already satisfied: typing-extensions>=4.7 in /usr/local/lib/python3.11/dist-packages (from langchain-core>=0.1->langgraph) (4.14.0)\n",
      "Requirement already satisfied: ormsgpack<2.0.0,>=1.8.0 in /usr/local/lib/python3.11/dist-packages (from langgraph-checkpoint>=2.0.26->langgraph) (1.10.0)\n",
      "Requirement already satisfied: httpx>=0.25.2 in /usr/local/lib/python3.11/dist-packages (from langgraph-sdk>=0.1.42->langgraph) (0.28.1)\n",
      "Requirement already satisfied: orjson>=3.10.1 in /usr/local/lib/python3.11/dist-packages (from langgraph-sdk>=0.1.42->langgraph) (3.10.18)\n",
      "Requirement already satisfied: annotated-types>=0.6.0 in /usr/local/lib/python3.11/dist-packages (from pydantic>=2.7.4->langgraph) (0.7.0)\n",
      "Requirement already satisfied: pydantic-core==2.33.2 in /usr/local/lib/python3.11/dist-packages (from pydantic>=2.7.4->langgraph) (2.33.2)\n",
      "Requirement already satisfied: typing-inspection>=0.4.0 in /usr/local/lib/python3.11/dist-packages (from pydantic>=2.7.4->langgraph) (0.4.1)\n",
      "Requirement already satisfied: anyio in /usr/local/lib/python3.11/dist-packages (from httpx>=0.25.2->langgraph-sdk>=0.1.42->langgraph) (4.9.0)\n",
      "Requirement already satisfied: certifi in /usr/local/lib/python3.11/dist-packages (from httpx>=0.25.2->langgraph-sdk>=0.1.42->langgraph) (2025.4.26)\n",
      "Requirement already satisfied: httpcore==1.* in /usr/local/lib/python3.11/dist-packages (from httpx>=0.25.2->langgraph-sdk>=0.1.42->langgraph) (1.0.9)\n",
      "Requirement already satisfied: idna in /usr/local/lib/python3.11/dist-packages (from httpx>=0.25.2->langgraph-sdk>=0.1.42->langgraph) (3.10)\n",
      "Requirement already satisfied: h11>=0.16 in /usr/local/lib/python3.11/dist-packages (from httpcore==1.*->httpx>=0.25.2->langgraph-sdk>=0.1.42->langgraph) (0.16.0)\n",
      "Requirement already satisfied: jsonpointer>=1.9 in /usr/local/lib/python3.11/dist-packages (from jsonpatch<2.0,>=1.33->langchain-core>=0.1->langgraph) (3.0.0)\n",
      "Requirement already satisfied: requests<3,>=2 in /usr/local/lib/python3.11/dist-packages (from langsmith<0.4,>=0.3.45->langchain-core>=0.1->langgraph) (2.32.3)\n",
      "Requirement already satisfied: requests-toolbelt<2.0.0,>=1.0.0 in /usr/local/lib/python3.11/dist-packages (from langsmith<0.4,>=0.3.45->langchain-core>=0.1->langgraph) (1.0.0)\n",
      "Requirement already satisfied: zstandard<0.24.0,>=0.23.0 in /usr/local/lib/python3.11/dist-packages (from langsmith<0.4,>=0.3.45->langchain-core>=0.1->langgraph) (0.23.0)\n",
      "Requirement already satisfied: charset-normalizer<4,>=2 in /usr/local/lib/python3.11/dist-packages (from requests<3,>=2->langsmith<0.4,>=0.3.45->langchain-core>=0.1->langgraph) (3.4.2)\n",
      "Requirement already satisfied: urllib3<3,>=1.21.1 in /usr/local/lib/python3.11/dist-packages (from requests<3,>=2->langsmith<0.4,>=0.3.45->langchain-core>=0.1->langgraph) (2.4.0)\n",
      "Requirement already satisfied: sniffio>=1.1 in /usr/local/lib/python3.11/dist-packages (from anyio->httpx>=0.25.2->langgraph-sdk>=0.1.42->langgraph) (1.3.1)\n",
      "Requirement already satisfied: langchain in /usr/local/lib/python3.11/dist-packages (0.3.25)\n",
      "Requirement already satisfied: langchain-core<1.0.0,>=0.3.58 in /usr/local/lib/python3.11/dist-packages (from langchain) (0.3.64)\n",
      "Requirement already satisfied: langchain-text-splitters<1.0.0,>=0.3.8 in /usr/local/lib/python3.11/dist-packages (from langchain) (0.3.8)\n",
      "Requirement already satisfied: langsmith<0.4,>=0.1.17 in /usr/local/lib/python3.11/dist-packages (from langchain) (0.3.45)\n",
      "Requirement already satisfied: pydantic<3.0.0,>=2.7.4 in /usr/local/lib/python3.11/dist-packages (from langchain) (2.11.5)\n",
      "Requirement already satisfied: SQLAlchemy<3,>=1.4 in /usr/local/lib/python3.11/dist-packages (from langchain) (2.0.41)\n",
      "Requirement already satisfied: requests<3,>=2 in /usr/local/lib/python3.11/dist-packages (from langchain) (2.32.3)\n",
      "Requirement already satisfied: PyYAML>=5.3 in /usr/local/lib/python3.11/dist-packages (from langchain) (6.0.2)\n",
      "Requirement already satisfied: tenacity!=8.4.0,<10.0.0,>=8.1.0 in /usr/local/lib/python3.11/dist-packages (from langchain-core<1.0.0,>=0.3.58->langchain) (9.1.2)\n",
      "Requirement already satisfied: jsonpatch<2.0,>=1.33 in /usr/local/lib/python3.11/dist-packages (from langchain-core<1.0.0,>=0.3.58->langchain) (1.33)\n",
      "Requirement already satisfied: packaging<25,>=23.2 in /usr/local/lib/python3.11/dist-packages (from langchain-core<1.0.0,>=0.3.58->langchain) (24.2)\n",
      "Requirement already satisfied: typing-extensions>=4.7 in /usr/local/lib/python3.11/dist-packages (from langchain-core<1.0.0,>=0.3.58->langchain) (4.14.0)\n",
      "Requirement already satisfied: httpx<1,>=0.23.0 in /usr/local/lib/python3.11/dist-packages (from langsmith<0.4,>=0.1.17->langchain) (0.28.1)\n",
      "Requirement already satisfied: orjson<4.0.0,>=3.9.14 in /usr/local/lib/python3.11/dist-packages (from langsmith<0.4,>=0.1.17->langchain) (3.10.18)\n",
      "Requirement already satisfied: requests-toolbelt<2.0.0,>=1.0.0 in /usr/local/lib/python3.11/dist-packages (from langsmith<0.4,>=0.1.17->langchain) (1.0.0)\n",
      "Requirement already satisfied: zstandard<0.24.0,>=0.23.0 in /usr/local/lib/python3.11/dist-packages (from langsmith<0.4,>=0.1.17->langchain) (0.23.0)\n",
      "Requirement already satisfied: annotated-types>=0.6.0 in /usr/local/lib/python3.11/dist-packages (from pydantic<3.0.0,>=2.7.4->langchain) (0.7.0)\n",
      "Requirement already satisfied: pydantic-core==2.33.2 in /usr/local/lib/python3.11/dist-packages (from pydantic<3.0.0,>=2.7.4->langchain) (2.33.2)\n",
      "Requirement already satisfied: typing-inspection>=0.4.0 in /usr/local/lib/python3.11/dist-packages (from pydantic<3.0.0,>=2.7.4->langchain) (0.4.1)\n",
      "Requirement already satisfied: charset-normalizer<4,>=2 in /usr/local/lib/python3.11/dist-packages (from requests<3,>=2->langchain) (3.4.2)\n",
      "Requirement already satisfied: idna<4,>=2.5 in /usr/local/lib/python3.11/dist-packages (from requests<3,>=2->langchain) (3.10)\n",
      "Requirement already satisfied: urllib3<3,>=1.21.1 in /usr/local/lib/python3.11/dist-packages (from requests<3,>=2->langchain) (2.4.0)\n",
      "Requirement already satisfied: certifi>=2017.4.17 in /usr/local/lib/python3.11/dist-packages (from requests<3,>=2->langchain) (2025.4.26)\n",
      "Requirement already satisfied: greenlet>=1 in /usr/local/lib/python3.11/dist-packages (from SQLAlchemy<3,>=1.4->langchain) (3.2.2)\n",
      "Requirement already satisfied: anyio in /usr/local/lib/python3.11/dist-packages (from httpx<1,>=0.23.0->langsmith<0.4,>=0.1.17->langchain) (4.9.0)\n",
      "Requirement already satisfied: httpcore==1.* in /usr/local/lib/python3.11/dist-packages (from httpx<1,>=0.23.0->langsmith<0.4,>=0.1.17->langchain) (1.0.9)\n",
      "Requirement already satisfied: h11>=0.16 in /usr/local/lib/python3.11/dist-packages (from httpcore==1.*->httpx<1,>=0.23.0->langsmith<0.4,>=0.1.17->langchain) (0.16.0)\n",
      "Requirement already satisfied: jsonpointer>=1.9 in /usr/local/lib/python3.11/dist-packages (from jsonpatch<2.0,>=1.33->langchain-core<1.0.0,>=0.3.58->langchain) (3.0.0)\n",
      "Requirement already satisfied: sniffio>=1.1 in /usr/local/lib/python3.11/dist-packages (from anyio->httpx<1,>=0.23.0->langsmith<0.4,>=0.1.17->langchain) (1.3.1)\n",
      "Requirement already satisfied: langchain-openai in /usr/local/lib/python3.11/dist-packages (0.3.21)\n",
      "Requirement already satisfied: langchain-core<1.0.0,>=0.3.64 in /usr/local/lib/python3.11/dist-packages (from langchain-openai) (0.3.64)\n",
      "Requirement already satisfied: openai<2.0.0,>=1.68.2 in /usr/local/lib/python3.11/dist-packages (from langchain-openai) (1.85.0)\n",
      "Requirement already satisfied: tiktoken<1,>=0.7 in /usr/local/lib/python3.11/dist-packages (from langchain-openai) (0.9.0)\n",
      "Requirement already satisfied: langsmith<0.4,>=0.3.45 in /usr/local/lib/python3.11/dist-packages (from langchain-core<1.0.0,>=0.3.64->langchain-openai) (0.3.45)\n",
      "Requirement already satisfied: tenacity!=8.4.0,<10.0.0,>=8.1.0 in /usr/local/lib/python3.11/dist-packages (from langchain-core<1.0.0,>=0.3.64->langchain-openai) (9.1.2)\n",
      "Requirement already satisfied: jsonpatch<2.0,>=1.33 in /usr/local/lib/python3.11/dist-packages (from langchain-core<1.0.0,>=0.3.64->langchain-openai) (1.33)\n",
      "Requirement already satisfied: PyYAML>=5.3 in /usr/local/lib/python3.11/dist-packages (from langchain-core<1.0.0,>=0.3.64->langchain-openai) (6.0.2)\n",
      "Requirement already satisfied: packaging<25,>=23.2 in /usr/local/lib/python3.11/dist-packages (from langchain-core<1.0.0,>=0.3.64->langchain-openai) (24.2)\n",
      "Requirement already satisfied: typing-extensions>=4.7 in /usr/local/lib/python3.11/dist-packages (from langchain-core<1.0.0,>=0.3.64->langchain-openai) (4.14.0)\n",
      "Requirement already satisfied: pydantic>=2.7.4 in /usr/local/lib/python3.11/dist-packages (from langchain-core<1.0.0,>=0.3.64->langchain-openai) (2.11.5)\n",
      "Requirement already satisfied: anyio<5,>=3.5.0 in /usr/local/lib/python3.11/dist-packages (from openai<2.0.0,>=1.68.2->langchain-openai) (4.9.0)\n",
      "Requirement already satisfied: distro<2,>=1.7.0 in /usr/local/lib/python3.11/dist-packages (from openai<2.0.0,>=1.68.2->langchain-openai) (1.9.0)\n",
      "Requirement already satisfied: httpx<1,>=0.23.0 in /usr/local/lib/python3.11/dist-packages (from openai<2.0.0,>=1.68.2->langchain-openai) (0.28.1)\n",
      "Requirement already satisfied: jiter<1,>=0.4.0 in /usr/local/lib/python3.11/dist-packages (from openai<2.0.0,>=1.68.2->langchain-openai) (0.10.0)\n",
      "Requirement already satisfied: sniffio in /usr/local/lib/python3.11/dist-packages (from openai<2.0.0,>=1.68.2->langchain-openai) (1.3.1)\n",
      "Requirement already satisfied: tqdm>4 in /usr/local/lib/python3.11/dist-packages (from openai<2.0.0,>=1.68.2->langchain-openai) (4.67.1)\n",
      "Requirement already satisfied: regex>=2022.1.18 in /usr/local/lib/python3.11/dist-packages (from tiktoken<1,>=0.7->langchain-openai) (2024.11.6)\n",
      "Requirement already satisfied: requests>=2.26.0 in /usr/local/lib/python3.11/dist-packages (from tiktoken<1,>=0.7->langchain-openai) (2.32.3)\n",
      "Requirement already satisfied: idna>=2.8 in /usr/local/lib/python3.11/dist-packages (from anyio<5,>=3.5.0->openai<2.0.0,>=1.68.2->langchain-openai) (3.10)\n",
      "Requirement already satisfied: certifi in /usr/local/lib/python3.11/dist-packages (from httpx<1,>=0.23.0->openai<2.0.0,>=1.68.2->langchain-openai) (2025.4.26)\n",
      "Requirement already satisfied: httpcore==1.* in /usr/local/lib/python3.11/dist-packages (from httpx<1,>=0.23.0->openai<2.0.0,>=1.68.2->langchain-openai) (1.0.9)\n",
      "Requirement already satisfied: h11>=0.16 in /usr/local/lib/python3.11/dist-packages (from httpcore==1.*->httpx<1,>=0.23.0->openai<2.0.0,>=1.68.2->langchain-openai) (0.16.0)\n",
      "Requirement already satisfied: jsonpointer>=1.9 in /usr/local/lib/python3.11/dist-packages (from jsonpatch<2.0,>=1.33->langchain-core<1.0.0,>=0.3.64->langchain-openai) (3.0.0)\n",
      "Requirement already satisfied: orjson<4.0.0,>=3.9.14 in /usr/local/lib/python3.11/dist-packages (from langsmith<0.4,>=0.3.45->langchain-core<1.0.0,>=0.3.64->langchain-openai) (3.10.18)\n",
      "Requirement already satisfied: requests-toolbelt<2.0.0,>=1.0.0 in /usr/local/lib/python3.11/dist-packages (from langsmith<0.4,>=0.3.45->langchain-core<1.0.0,>=0.3.64->langchain-openai) (1.0.0)\n",
      "Requirement already satisfied: zstandard<0.24.0,>=0.23.0 in /usr/local/lib/python3.11/dist-packages (from langsmith<0.4,>=0.3.45->langchain-core<1.0.0,>=0.3.64->langchain-openai) (0.23.0)\n",
      "Requirement already satisfied: annotated-types>=0.6.0 in /usr/local/lib/python3.11/dist-packages (from pydantic>=2.7.4->langchain-core<1.0.0,>=0.3.64->langchain-openai) (0.7.0)\n",
      "Requirement already satisfied: pydantic-core==2.33.2 in /usr/local/lib/python3.11/dist-packages (from pydantic>=2.7.4->langchain-core<1.0.0,>=0.3.64->langchain-openai) (2.33.2)\n",
      "Requirement already satisfied: typing-inspection>=0.4.0 in /usr/local/lib/python3.11/dist-packages (from pydantic>=2.7.4->langchain-core<1.0.0,>=0.3.64->langchain-openai) (0.4.1)\n",
      "Requirement already satisfied: charset-normalizer<4,>=2 in /usr/local/lib/python3.11/dist-packages (from requests>=2.26.0->tiktoken<1,>=0.7->langchain-openai) (3.4.2)\n",
      "Requirement already satisfied: urllib3<3,>=1.21.1 in /usr/local/lib/python3.11/dist-packages (from requests>=2.26.0->tiktoken<1,>=0.7->langchain-openai) (2.4.0)\n",
      "Requirement already satisfied: langchain_community in /usr/local/lib/python3.11/dist-packages (0.3.24)\n",
      "Requirement already satisfied: langchain-core<1.0.0,>=0.3.59 in /usr/local/lib/python3.11/dist-packages (from langchain_community) (0.3.64)\n",
      "Requirement already satisfied: langchain<1.0.0,>=0.3.25 in /usr/local/lib/python3.11/dist-packages (from langchain_community) (0.3.25)\n",
      "Requirement already satisfied: SQLAlchemy<3,>=1.4 in /usr/local/lib/python3.11/dist-packages (from langchain_community) (2.0.41)\n",
      "Requirement already satisfied: requests<3,>=2 in /usr/local/lib/python3.11/dist-packages (from langchain_community) (2.32.3)\n",
      "Requirement already satisfied: PyYAML>=5.3 in /usr/local/lib/python3.11/dist-packages (from langchain_community) (6.0.2)\n",
      "Requirement already satisfied: aiohttp<4.0.0,>=3.8.3 in /usr/local/lib/python3.11/dist-packages (from langchain_community) (3.11.15)\n",
      "Requirement already satisfied: tenacity!=8.4.0,<10,>=8.1.0 in /usr/local/lib/python3.11/dist-packages (from langchain_community) (9.1.2)\n",
      "Requirement already satisfied: dataclasses-json<0.7,>=0.5.7 in /usr/local/lib/python3.11/dist-packages (from langchain_community) (0.6.7)\n",
      "Requirement already satisfied: pydantic-settings<3.0.0,>=2.4.0 in /usr/local/lib/python3.11/dist-packages (from langchain_community) (2.9.1)\n",
      "Requirement already satisfied: langsmith<0.4,>=0.1.125 in /usr/local/lib/python3.11/dist-packages (from langchain_community) (0.3.45)\n",
      "Requirement already satisfied: httpx-sse<1.0.0,>=0.4.0 in /usr/local/lib/python3.11/dist-packages (from langchain_community) (0.4.0)\n",
      "Requirement already satisfied: numpy>=1.26.2 in /usr/local/lib/python3.11/dist-packages (from langchain_community) (2.0.2)\n",
      "Requirement already satisfied: aiohappyeyeballs>=2.3.0 in /usr/local/lib/python3.11/dist-packages (from aiohttp<4.0.0,>=3.8.3->langchain_community) (2.6.1)\n",
      "Requirement already satisfied: aiosignal>=1.1.2 in /usr/local/lib/python3.11/dist-packages (from aiohttp<4.0.0,>=3.8.3->langchain_community) (1.3.2)\n",
      "Requirement already satisfied: attrs>=17.3.0 in /usr/local/lib/python3.11/dist-packages (from aiohttp<4.0.0,>=3.8.3->langchain_community) (25.3.0)\n",
      "Requirement already satisfied: frozenlist>=1.1.1 in /usr/local/lib/python3.11/dist-packages (from aiohttp<4.0.0,>=3.8.3->langchain_community) (1.6.0)\n",
      "Requirement already satisfied: multidict<7.0,>=4.5 in /usr/local/lib/python3.11/dist-packages (from aiohttp<4.0.0,>=3.8.3->langchain_community) (6.4.4)\n",
      "Requirement already satisfied: propcache>=0.2.0 in /usr/local/lib/python3.11/dist-packages (from aiohttp<4.0.0,>=3.8.3->langchain_community) (0.3.1)\n",
      "Requirement already satisfied: yarl<2.0,>=1.17.0 in /usr/local/lib/python3.11/dist-packages (from aiohttp<4.0.0,>=3.8.3->langchain_community) (1.20.0)\n",
      "Requirement already satisfied: marshmallow<4.0.0,>=3.18.0 in /usr/local/lib/python3.11/dist-packages (from dataclasses-json<0.7,>=0.5.7->langchain_community) (3.26.1)\n",
      "Requirement already satisfied: typing-inspect<1,>=0.4.0 in /usr/local/lib/python3.11/dist-packages (from dataclasses-json<0.7,>=0.5.7->langchain_community) (0.9.0)\n",
      "Requirement already satisfied: langchain-text-splitters<1.0.0,>=0.3.8 in /usr/local/lib/python3.11/dist-packages (from langchain<1.0.0,>=0.3.25->langchain_community) (0.3.8)\n",
      "Requirement already satisfied: pydantic<3.0.0,>=2.7.4 in /usr/local/lib/python3.11/dist-packages (from langchain<1.0.0,>=0.3.25->langchain_community) (2.11.5)\n",
      "Requirement already satisfied: jsonpatch<2.0,>=1.33 in /usr/local/lib/python3.11/dist-packages (from langchain-core<1.0.0,>=0.3.59->langchain_community) (1.33)\n",
      "Requirement already satisfied: packaging<25,>=23.2 in /usr/local/lib/python3.11/dist-packages (from langchain-core<1.0.0,>=0.3.59->langchain_community) (24.2)\n",
      "Requirement already satisfied: typing-extensions>=4.7 in /usr/local/lib/python3.11/dist-packages (from langchain-core<1.0.0,>=0.3.59->langchain_community) (4.14.0)\n",
      "Requirement already satisfied: httpx<1,>=0.23.0 in /usr/local/lib/python3.11/dist-packages (from langsmith<0.4,>=0.1.125->langchain_community) (0.28.1)\n",
      "Requirement already satisfied: orjson<4.0.0,>=3.9.14 in /usr/local/lib/python3.11/dist-packages (from langsmith<0.4,>=0.1.125->langchain_community) (3.10.18)\n",
      "Requirement already satisfied: requests-toolbelt<2.0.0,>=1.0.0 in /usr/local/lib/python3.11/dist-packages (from langsmith<0.4,>=0.1.125->langchain_community) (1.0.0)\n",
      "Requirement already satisfied: zstandard<0.24.0,>=0.23.0 in /usr/local/lib/python3.11/dist-packages (from langsmith<0.4,>=0.1.125->langchain_community) (0.23.0)\n",
      "Requirement already satisfied: python-dotenv>=0.21.0 in /usr/local/lib/python3.11/dist-packages (from pydantic-settings<3.0.0,>=2.4.0->langchain_community) (1.1.0)\n",
      "Requirement already satisfied: typing-inspection>=0.4.0 in /usr/local/lib/python3.11/dist-packages (from pydantic-settings<3.0.0,>=2.4.0->langchain_community) (0.4.1)\n",
      "Requirement already satisfied: charset-normalizer<4,>=2 in /usr/local/lib/python3.11/dist-packages (from requests<3,>=2->langchain_community) (3.4.2)\n",
      "Requirement already satisfied: idna<4,>=2.5 in /usr/local/lib/python3.11/dist-packages (from requests<3,>=2->langchain_community) (3.10)\n",
      "Requirement already satisfied: urllib3<3,>=1.21.1 in /usr/local/lib/python3.11/dist-packages (from requests<3,>=2->langchain_community) (2.4.0)\n",
      "Requirement already satisfied: certifi>=2017.4.17 in /usr/local/lib/python3.11/dist-packages (from requests<3,>=2->langchain_community) (2025.4.26)\n",
      "Requirement already satisfied: greenlet>=1 in /usr/local/lib/python3.11/dist-packages (from SQLAlchemy<3,>=1.4->langchain_community) (3.2.2)\n",
      "Requirement already satisfied: anyio in /usr/local/lib/python3.11/dist-packages (from httpx<1,>=0.23.0->langsmith<0.4,>=0.1.125->langchain_community) (4.9.0)\n",
      "Requirement already satisfied: httpcore==1.* in /usr/local/lib/python3.11/dist-packages (from httpx<1,>=0.23.0->langsmith<0.4,>=0.1.125->langchain_community) (1.0.9)\n",
      "Requirement already satisfied: h11>=0.16 in /usr/local/lib/python3.11/dist-packages (from httpcore==1.*->httpx<1,>=0.23.0->langsmith<0.4,>=0.1.125->langchain_community) (0.16.0)\n",
      "Requirement already satisfied: jsonpointer>=1.9 in /usr/local/lib/python3.11/dist-packages (from jsonpatch<2.0,>=1.33->langchain-core<1.0.0,>=0.3.59->langchain_community) (3.0.0)\n",
      "Requirement already satisfied: annotated-types>=0.6.0 in /usr/local/lib/python3.11/dist-packages (from pydantic<3.0.0,>=2.7.4->langchain<1.0.0,>=0.3.25->langchain_community) (0.7.0)\n",
      "Requirement already satisfied: pydantic-core==2.33.2 in /usr/local/lib/python3.11/dist-packages (from pydantic<3.0.0,>=2.7.4->langchain<1.0.0,>=0.3.25->langchain_community) (2.33.2)\n",
      "Requirement already satisfied: mypy-extensions>=0.3.0 in /usr/local/lib/python3.11/dist-packages (from typing-inspect<1,>=0.4.0->dataclasses-json<0.7,>=0.5.7->langchain_community) (1.1.0)\n",
      "Requirement already satisfied: sniffio>=1.1 in /usr/local/lib/python3.11/dist-packages (from anyio->httpx<1,>=0.23.0->langsmith<0.4,>=0.1.125->langchain_community) (1.3.1)\n"
     ]
    }
   ],
   "source": [
    "!pip install -U datasets huggingface_hub fsspec\n",
    "!pip install --upgrade openai\n",
    "!pip install langchain-openai\n",
    "!pip install tiktoken\n",
    "!pip install langgraph\n",
    "!pip install langchain\n",
    "!pip install langchain-openai\n",
    "!pip install langchain_community"
   ]
  },
  {
   "cell_type": "code",
   "execution_count": null,
   "metadata": {
    "id": "ZWpjBUQO6E5X"
   },
   "outputs": [],
   "source": [
    "from huggingface_hub import login\n",
    "\n",
    "login(\n",
    "  token=\"your_token\", # ADD YOUR TOKEN HERE\n",
    "  add_to_git_credential=True\n",
    ")\n"
   ]
  },
  {
   "cell_type": "markdown",
   "metadata": {
    "id": "z6aH3B2fvX-T"
   },
   "source": [
    "## 내 데이터 가져오기"
   ]
  },
  {
   "cell_type": "markdown",
   "metadata": {
    "id": "x4MbL7TnCSCB"
   },
   "source": [
    "![image.png](data:image/png;base64,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)"
   ]
  },
  {
   "cell_type": "code",
   "execution_count": null,
   "metadata": {
    "id": "jWXHXw0ohwSI"
   },
   "outputs": [],
   "source": [
    "# SFT를 위한 학습데이터 로드하고 messages 형식으로 변환하기"
   ]
  },
  {
   "cell_type": "code",
   "execution_count": null,
   "metadata": {
    "id": "WLxHCRS3lz_Y"
   },
   "outputs": [],
   "source": [
    "from langchain_openai import ChatOpenAI\n",
    "from langchain.prompts import PromptTemplate\n",
    "from langchain.chains import LLMChain\n",
    "from langchain.chains import LLMChain\n",
    "\n",
    "system_prompt = \"\"\"\n",
    "    A conversation between User and Assistant. The user asks a question, and the Assistant solves it.\n",
    "    The assistant first thinks about the reasoning process in the mind and then provides the user with the answer.\n",
    "    The reasoning process and answer are enclosed within <begin_of_thought><end_of_thought> and <begin_of_solution><end_of_solution> tags,\n",
    "    respectively, i.e., <begin_of_thought>reasoning process here<end_of_thought><begin_of_solution>answer here<end_of_solution>.\n",
    "    \"\"\"\n",
    "\n",
    "user_prompt = PromptTemplate(\n",
    "    template=\"\"\"\n",
    "    Please conduct an accessibility evaluation of the provided image and related HTML snippet.\n",
    "\n",
    "    HTML Code: {html}\n",
    "    \"\"\",\n",
    "    input_variables=[\"html\"],\n",
    "    )\n",
    "\n",
    "assistant_prompt = PromptTemplate(\n",
    "    template=\"\"\"\n",
    "<|begin_of_thought|>\n",
    "{rationale}\n",
    "<|end_of_thought|>\n",
    "\n",
    "<|begin_of_solution|>\n",
    "[평가 요소]: {eval_items}\n",
    "[평가 근거]: {eval_reason}\n",
    "[개선 방안]:\n",
    "{plan}\n",
    "<|end_of_solution|>\n",
    "\"\"\",\n",
    "    input_variables=[\"rationale\", \"eval_items\", \"eval_reason\", \"plan\"]\n",
    ")\n",
    "\n",
    "\n",
    "def assistant_prompts(outputs):\n",
    "    prompt = ''\n",
    "    for output in outputs:\n",
    "        prompt += assistant_prompt.format(\n",
    "            rationale=output[\"rationale\"],\n",
    "            eval_items=output[\"eval_items\"],\n",
    "            eval_reason=output[\"eval_reason\"],\n",
    "            plan=output[\"plan\"]\n",
    "        ) + \"\\n\\n\"\n",
    "    return \"<|im_start|>system\\n\" + prompt.strip() + \"\\n<|im_end|>\""
   ]
  },
  {
   "cell_type": "code",
   "execution_count": null,
   "metadata": {
    "colab": {
     "base_uri": "https://localhost:8080/"
    },
    "executionInfo": {
     "elapsed": 5552,
     "status": "ok",
     "timestamp": 1749531086860,
     "user": {
      "displayName": "최두성",
      "userId": "08438271081794727685"
     },
     "user_tz": -540
    },
    "id": "YNV0er6CWRTx",
    "outputId": "230a4826-c2af-47d5-8646-7342f8bf6f6f"
   },
   "outputs": [
    {
     "name": "stderr",
     "output_type": "stream",
     "text": [
      "/usr/local/lib/python3.11/dist-packages/huggingface_hub/utils/_auth.py:94: UserWarning: \n",
      "The secret `HF_TOKEN` does not exist in your Colab secrets.\n",
      "To authenticate with the Hugging Face Hub, create a token in your settings tab (https://huggingface.co/settings/tokens), set it as secret in your Google Colab and restart your session.\n",
      "You will be able to reuse this secret in all of your notebooks.\n",
      "Please note that authentication is recommended but still optional to access public models or datasets.\n",
      "  warnings.warn(\n"
     ]
    }
   ],
   "source": [
    "from datasets import load_dataset\n",
    "\n",
    "\n",
    "#Convert dataset to OAI messages\n",
    "def format_data(sample):\n",
    "  return {\"messages\": [\n",
    "              {\n",
    "                  \"role\": \"system\",\n",
    "                  \"content\": [{\"type\": \"text\", \"text\": system_prompt}],\n",
    "              },\n",
    "              {\"role\": \"user\",\n",
    "                         \"content\": [{\n",
    "                             \"type\": \"text\",\n",
    "                             \"text\": user_prompt.format(html=sample[\"html\"]),\n",
    "                         },\n",
    "                         {\n",
    "                             \"type\": \"image\", \"image\": sample[\"image\"]\n",
    "                         }\n",
    "                  ],\n",
    "              },\n",
    "              {\"role\": \"assistant\",\n",
    "                         \"content\": [{\n",
    "                             \"type\": \"text\",\n",
    "                             \"text\": assistant_prompts(sample[\"output\"])\n",
    "                         }],\n",
    "              },\n",
    "          ],\n",
    "      }\n",
    "\n",
    "dataset_id = \"doodoo77/For_VLM_accessibility\"\n",
    "dataset = load_dataset(dataset_id, split=\"train\")\n",
    "\n",
    "dataset = [format_data(sample) for sample in dataset]"
   ]
  },
  {
   "cell_type": "code",
   "execution_count": null,
   "metadata": {
    "colab": {
     "base_uri": "https://localhost:8080/"
    },
    "collapsed": true,
    "executionInfo": {
     "elapsed": 9,
     "status": "ok",
     "timestamp": 1749531086884,
     "user": {
      "displayName": "최두성",
      "userId": "08438271081794727685"
     },
     "user_tz": -540
    },
    "id": "0pdtbdj3Fz9Q",
    "outputId": "47843588-df40-43dc-e572-00aba1e9967d"
   },
   "outputs": [
    {
     "data": {
      "text/plain": [
       "{'messages': [{'role': 'system',\n",
       "   'content': [{'type': 'text',\n",
       "     'text': '\\n    A conversation between User and Assistant. The user asks a question, and the Assistant solves it.\\n    The assistant first thinks about the reasoning process in the mind and then provides the user with the answer.\\n    The reasoning process and answer are enclosed within <begin_of_thought><end_of_thought> and <begin_of_solution><end_of_solution> tags,\\n    respectively, i.e., <begin_of_thought>reasoning process here<end_of_thought><begin_of_solution>answer here<end_of_solution>.\\n    '}]},\n",
       "  {'role': 'user',\n",
       "   'content': [{'type': 'text',\n",
       "     'text': '\\n    Please conduct an accessibility evaluation of the provided image and related HTML snippet.\\n\\n    HTML Code: <img alt=\"교실 배경 이미지\" class=\"bg\" src=\"../img/custom/grade5/p5_l4_bg.png\">\\n<img alt=\"양갈래 검정 머리 여자아이\" src=\"../img/custom/grade5/p5_l4_01.png\">\\n<img alt=\"양갈래 검정 머리 여자아이\" class=\"hover\" src=\"../img/custom/grade5/p5_l4_01_h.png\">\\n<img alt=\"노란머리 남자아이\" src=\"../img/custom/grade5/p5_l4_02.png\">\\n<img alt=\"노란머리 남자아이\" class=\"hover\" src=\"../img/custom/grade5/p5_l4_02_h.png\">\\n<img alt=\"검정 단발머리 여자아이\" src=\"../img/custom/grade5/p5_l4_03.png\">\\n<img alt=\"검정 단발머리 여자아이\" class=\"hover\" src=\"../img/custom/grade5/p5_l4_03_h.png\">\\n<img alt=\"갈색머리 남자아이\" src=\"../img/custom/grade5/p5_l4_04.png\">\\n<img alt=\"갈색머리 남자아이\" class=\"hover\" src=\"../img/custom/grade5/p5_l4_04_h.png\">\\n<img alt=\"양갈래 주황머리 여자아이\" src=\"../img/custom/grade5/p5_l4_05.png\">\\n<img alt=\"양갈래 주황머리 여자아이\" class=\"hover\" src=\"../img/custom/grade5/p5_l4_05_h.png\">\\n<img alt=\"검정머리 남자아이\" src=\"../img/custom/grade5/p5_l4_06.png\">\\n<img alt=\"검정머리 남자아이\" class=\"hover\" src=\"../img/custom/grade5/p5_l4_06_h.png\">\\n<img alt=\"카키색머리 여자아이\" src=\"../img/custom/grade5/p5_l4_07.png\">\\n<img alt=\"카키색머리 여자아이\" class=\"hover\" src=\"../img/custom/grade5/p5_l4_07_h.png\">\\n<img alt=\"화자 A\" src=\"../img/custom/grade5/p5_l4_profile01.png\">\\n<img alt=\"핑크색 말풍선 꼬리 아이콘 이미지\" class=\"tail\" src=\"../img/custom/bubble_tail_pink_new.png\">\\n<img alt=\"음량 아이콘 이미지\" class=\"ico_sound\" src=\"../img/custom/ico_sound.png\">\\n<img alt=\"음량 모션 이미지\" class=\"ico_playing\" src=\"../img/custom/playing.gif\">\\n<img alt=\"화자 B\" src=\"../img/custom/grade5/p5_l4_profile02.png\">\\n<img alt=\"초록색 말풍선 꼬리 아이콘 이미지\" class=\"tail\" src=\"../img/custom/bubble_tail_green_new.png\">\\n<img alt=\"음량 아이콘 이미지\" class=\"ico_sound\" src=\"../img/custom/ico_sound.png\">\\n<img alt=\"음량 모션 이미지\" class=\"ico_playing\" src=\"../img/custom/playing.gif\">\\n    '},\n",
       "    {'type': 'image',\n",
       "     'image': <PIL.PngImagePlugin.PngImageFile image mode=RGBA size=1300x731>}]},\n",
       "  {'role': 'assisstant',\n",
       "   'content': [{'type': 'text',\n",
       "     'text': '<|im_start|>system\\n<|begin_of_thought|>\\nThe accessibility issue identified in the evaluation pertains to the use of insufficiently descriptive alt text for images representing characters in a learning context. Specifically, the images labeled as \"화자 A\" and \"화자 B\" are used in a scenario where characters have distinct roles, such as a teacher and a student, which are crucial for understanding the context of the educational content.\\n\\n1. **Visual Interpretation**: The screenshot likely depicts a classroom setting with various characters, each playing a specific role. The characters \"화자 A\" and \"화자 B\" are part of this scene, and their roles are essential for conveying the educational interaction between a teacher and a student.\\n\\n2. **HTML Snippet Analysis**: The HTML snippet shows that the images for \"화자 A\" and \"화자 B\" have alt attributes with generic labels. The alt text \"화자 A\" and \"화자 B\" do not provide meaningful descriptions of the characters\\' roles or the context in which they appear.\\n\\n3. **Comparison of Visual Intent and HTML Implementation**: The visual intent is to depict a teacher-student interaction, which is a critical part of the educational content. However, the HTML implementation fails to convey this context through the alt text. The alt text should reflect the specific roles of the characters, such as \"노란머리 선생님\" (Yellow-haired Teacher) and \"노란머리 남자아이\" (Yellow-haired Boy), to provide equivalent information to users who rely on screen readers.\\n\\n4. **Guideline Reference**: This issue aligns with WCAG 2.1, specifically under the guideline for providing text alternatives for non-text content (Success Criterion 1.1.1). The error type can be linked to the need for descriptive alt text that conveys the same information as the visual content.\\n\\n5. **Impact on Accessibility**: The current implementation impacts accessibility by not providing screen reader users with the necessary context to understand the educational interaction. Without descriptive alt text, users may miss out on the critical roles these characters play, which is essential for comprehending the learning material.\\n\\nIn summary, the alt text for \"화자 A\" and \"화자 B\" should be revised to include specific descriptions of their roles to ensure that all users, including those using screen readers, receive the same level of information and context as sighted users.\\n<|end_of_thought|>\\n\\n<|begin_of_solution|>\\n[평가 요소]: 화자 A, 화자 B\\n[평가 근거]: ‘선생님’, ‘남자아이’ 등 캐릭터의 역할이 명확히 구분된 상황에서, 단순히 \"화자 A\"와 같은 대체 텍스트는 현재 학습 중인 교사가 학생에게 교육을 제공하고 있다는 맥락을 충분히 전달하지 못합니다. 따라서, 이미지가 전달하려는 정보와 동등한 수준의 의미를 담은 설명을 대체 텍스트로 제공해야 합니다.\\n[개선 방안]:\\n\\n                      <div class=\"profile\">\\n                          <img alt=\"노란머리 선생님\" \\t\\t  \\t  src=\"../img/custom/grade5/p5_l4_profile01.png\">\\n                      </div>\\n\\n                      <div class=\"profile\">\\n                          <img alt=\"노란머리 남자아이\" src=\"../img/custom/grade5/p5_l4_profile03.png\">\\n                      </div>\\n                    \\n<|end_of_solution|>\\n\\n\\n\\n<|begin_of_thought|>\\nThe accessibility issue identified in the evaluation pertains to the use of alt text for the image described as \"교실 배경 이미지\" (classroom background image). The visual structure of the user interface, as depicted in the screenshot, shows that this image serves as a background element, which is typically decorative and not essential for understanding the content or functionality of the page. \\n\\nUpon inspecting the HTML snippet, the image is implemented using an `<img>` tag with an alt attribute set to \"교실 배경 이미지.\" While the alt attribute is intended to provide a text alternative for images, in this case, the description includes the word \"이미지\" (image), which is redundant because the `<img>` tag inherently indicates that the element is an image. This redundancy can lead to screen readers reading the word \"image\" twice, once from the tag and once from the alt text, which can be confusing or annoying for users relying on assistive technologies.\\n\\nAccording to WCAG guidelines, specifically error type 1-1, decorative images should have an empty alt attribute (alt=\"\") to ensure they are ignored by screen readers, as they do not convey meaningful content. The current implementation fails to meet this guideline because it provides a non-empty alt text for a decorative image, which unnecessarily exposes it to screen readers. This can impact accessibility by cluttering the auditory experience for users who rely on screen readers, making it harder for them to focus on the meaningful content of the page.\\n\\nIn summary, the issue was correctly identified because the alt text for a decorative image should be empty to prevent screen readers from reading unnecessary information, thereby improving the overall accessibility of the user interface.\\n<|end_of_thought|>\\n\\n<|begin_of_solution|>\\n[평가 요소]: 교실 배경 이미지\\n[평가 근거]: 해당 이미지는 img 태그로 삽입되어 있으며, alt 속성에 \"교실 배경 이미지\"와 같은 설명을 제공하고 있습니다. 그러나 \"이미지\"라는 표현은 img 태그 자체로 의미가 충분히 전달되므로, 스크린 리더가 이를 중복해서 읽게 됩니다. 따라서 alt 속성에는 이처럼 태그와 의미가 중복되는 불필요한 표현은 제외해야 합니다. \\n[개선 방안]:\\n\\n                      <img alt=\"교실 배경\" class=\"bg\" src=\"../img/custom/grade5/p5_l4_bg.png\">\\n                    \\n<|end_of_solution|>\\n\\n\\n\\n<|begin_of_thought|>\\nThe accessibility issue identified in the evaluation pertains to the \"핑크색 말풍선 꼬리 아이콘 이미지\" and \"초록색 말풍선 꼬리 아이콘 이미지\" (pink and green speech bubble tail icon images). These images are decorative elements that do not convey any meaningful content or information necessary for understanding the user interface. \\n\\n1. **Visual Interpretation**: In the provided screenshot, the speech bubble tail icons are visually used to indicate the direction of the speech bubble, pointing towards the speaker. However, the color or shape of these tails does not provide any additional context or information that is essential for the user to understand the content of the speech bubble.\\n\\n2. **HTML Snippet Analysis**: The HTML snippet shows that these images have alt attributes with descriptive text (\"핑크색 말풍선 꼬리 아이콘 이미지\" and \"초록색 말풍선 꼬리 아이콘 이미지\"). This suggests that the images are being treated as content-bearing elements, which is not appropriate given their decorative nature.\\n\\n3. **Comparison of Visual Intent and HTML Implementation**: The visual intent of the speech bubble tail icons is purely decorative, as they do not add any functional value or convey additional information beyond the speech bubble itself. The current HTML implementation, however, exposes these decorative elements to screen readers by providing alt text, which can lead to unnecessary verbosity and confusion for users relying on assistive technologies.\\n\\n4. **Guideline Reference**: According to WCAG 2.1, decorative images should be implemented in a way that they are ignored by assistive technologies. This is typically achieved by using an empty alt attribute (alt=\"\") or by using CSS background images instead of HTML <img> elements for purely decorative content.\\n\\n5. **Impact on Accessibility**: By providing alt text for decorative images, screen reader users are presented with irrelevant information that does not aid in understanding the content or functionality of the page. This can lead to a cluttered and confusing experience, as users have to sift through unnecessary details to find meaningful content.\\n\\nIn conclusion, the current implementation fails to meet the guideline for handling decorative images, as it unnecessarily exposes these elements to screen readers. The proposed improvement plan to use an empty alt attribute (alt=\"\") for these images aligns with best practices for accessibility, ensuring that screen reader users are not burdened with non-essential information.\\n<|end_of_thought|>\\n\\n<|begin_of_solution|>\\n[평가 요소]: 핑크색 말풍선 꼬리 아이콘 이미지, 초록색 말풍선 꼬리 아이콘 이미지\\n[평가 근거]: 화면에 표시된 말풍선 꼬리 아이콘(분홍색/초록색)은 단순한 장식용 이미지이며, 실질적인 콘텐츠 전달과는 관련이 없습니다. 사용자는 말풍선의 내용을 통해 정보를 전달받으며, 말풍선 꼬리의 색상이나 모양은 의미를 가지지 않기 때문에, 스크린 리더 사용자에게 불필요한 정보가 됩니다.\\n[개선 방안]:\\n\\n                      <img alt=\"\" class=\"tail\" src=\"../img/custom/bubble_tail_pink_new.png\">\\n\\n                      <img alt=\"\" class=\"tail\" src=\"../img/custom/bubble_tail_green_new.png\"> \\n                    \\n<|end_of_solution|>\\n<|im_end|>'}]}]}"
      ]
     },
     "execution_count": 8,
     "metadata": {},
     "output_type": "execute_result"
    }
   ],
   "source": [
    "dataset[6]"
   ]
  },
  {
   "cell_type": "markdown",
   "metadata": {
    "id": "RX0AVfv2m1k1"
   },
   "source": [
    "## Model 및 Processor 선언하기"
   ]
  },
  {
   "cell_type": "code",
   "execution_count": null,
   "metadata": {
    "colab": {
     "base_uri": "https://localhost:8080/",
     "height": 106,
     "referenced_widgets": [
      "f1fbcca915f34e60b2b591125dac7efa",
      "700d65d42c40462897cae5504ca1725f",
      "f07bcf9c5cb245f4bcddf05789132b65",
      "f0169d472933456fbc07001aa3301536",
      "05038d80d6cc405a936d5a9eb1217f22",
      "1bed8a4e8ca34311a77c257c13bdd162",
      "c3f7f5e6df0e4346acbe5011b34cd902",
      "21349c52f4974624b89cbd889a0b6707",
      "c4364cd7855549c3a09e7eb2b9c7f1e8",
      "2e2f593d187341efb2aa9b7f453e780d",
      "907a1348caa54295a69cefae709d5a00"
     ]
    },
    "collapsed": true,
    "executionInfo": {
     "elapsed": 32344,
     "status": "ok",
     "timestamp": 1749531119230,
     "user": {
      "displayName": "최두성",
      "userId": "08438271081794727685"
     },
     "user_tz": -540
    },
    "id": "I3FTXnAFakqu",
    "outputId": "8d94de81-d469-419e-fa0e-18d7756815d0"
   },
   "outputs": [
    {
     "data": {
      "application/vnd.jupyter.widget-view+json": {
       "model_id": "f1fbcca915f34e60b2b591125dac7efa",
       "version_major": 2,
       "version_minor": 0
      },
      "text/plain": [
       "Loading checkpoint shards:   0%|          | 0/5 [00:00<?, ?it/s]"
      ]
     },
     "metadata": {},
     "output_type": "display_data"
    },
    {
     "name": "stderr",
     "output_type": "stream",
     "text": [
      "Using a slow image processor as `use_fast` is unset and a slow processor was saved with this model. `use_fast=True` will be the default behavior in v4.52, even if the model was saved with a slow processor. This will result in minor differences in outputs. You'll still be able to use a slow processor with `use_fast=False`.\n",
      "You have video processor config saved in `preprocessor.json` file which is deprecated. Video processor configs should be saved in their own `video_preprocessor.json` file. You can rename the file or load and save the processor back which renames it automatically. Loading from `preprocessor.json` will be removed in v5.0.\n"
     ]
    }
   ],
   "source": [
    "import torch\n",
    "from transformers import AutoModelForVision2Seq, AutoProcessor, BitsAndBytesConfig\n",
    "\n",
    "# Hugging Face model id\n",
    "model_id = \"Qwen/Qwen2-VL-7B-Instruct\"\n",
    "\n",
    "# BitsAndBytesConfig int-4 config\n",
    "\"\"\"\n",
    "Qlora를 위해 4비트 양자화를 진행함.\n",
    "\n",
    "1. 기존 VLM의 파리미터 값을 4비트로 양자화함. (즉, 모든 파라미터 값들을 16가지 값들중 하나로 표현한다는 것임).\n",
    "   근데 원래 값으로 정규분포를 사용해 복원도 가능함. 이게 놀라운 것임\n",
    "2. 학습데이터를 기반으로 LoRA adapter 내의 있는 파라미터를 학습함. 이때는 정밀한 loss 계산을 위해 16비트로 표현한 값을 사용함\n",
    "3. 학습된 LoRA adapter는 full-precision 상태로 저장되고 추론할 때 사용됨\n",
    "\"\"\"\n",
    "bnb_config = BitsAndBytesConfig(\n",
    "    load_in_4bit=True,\n",
    "    bnb_4bit_use_double_quant=True,\n",
    "    bnb_4bit_quant_type=\"nf4\",\n",
    "    bnb_4bit_compute_dtype=torch.bfloat16\n",
    ")\n",
    "\n",
    "# Load model and tokenizer\n",
    "\"\"\"\n",
    "AutoModelForVision2Seq는 VLM을 로드하기 위한 Hugging Face Transformers의 클래스임\n",
    "\"\"\"\n",
    "model = AutoModelForVision2Seq.from_pretrained(\n",
    "    model_id,\n",
    "    device_map=\"auto\",\n",
    "    # attn_implementation=\"flash_attention_2\", # not supported for training\n",
    "    torch_dtype=torch.bfloat16,\n",
    "    quantization_config=bnb_config\n",
    ")\n",
    "\n",
    "\"\"\"\n",
    "AutoProcessor은 이미지, 텍스트 입력 등 다양한 멀티모달 입력에 대해 전처리 및 후처리를 진행하는 클래스임\n",
    "\"\"\"\n",
    "processor = AutoProcessor.from_pretrained(model_id)"
   ]
  },
  {
   "cell_type": "markdown",
   "metadata": {
    "id": "lj9S6G_lmqo9"
   },
   "source": [
    "## Lora 하이퍼파라미터 설정할기"
   ]
  },
  {
   "cell_type": "code",
   "execution_count": null,
   "metadata": {
    "id": "DiCjzZqssbz6"
   },
   "outputs": [],
   "source": [
    "# Lora parameter\n",
    "# Lora paramter 설정 시 참고할만한 블로그\n",
    "# https://magazine.sebastianraschka.com/p/practical-tips-for-finetuning-llms\n",
    "# https://www.youtube.com/watch?v=t1caDsMzWBk\n",
    "\n",
    "from peft import LoraConfig\n",
    "\n",
    "\"\"\"\n",
    "\n",
    "- lora_alpha는 학습률로 클 수록 overfitting 되기 쉬우니, 데이터셋이 다양한할때 사용함\n",
    "- r는 adapter의 중간 차원의 크기임. 보통 lora_alpha의 절반을 사용하는게 좋음 - link\n",
    "- target_modules -> 즉 lora를 적용한 layer는 attention layer(q_proj, v_proj, k_proj, o_proj)와\n",
    "MLP layer(gate_proj, up_proj, down_proj) 모두에 적용하는게 좋음\n",
    "\n",
    "\"\"\"\n",
    "\n",
    "peft_config = LoraConfig(\n",
    "    lora_alpha = 16, # alpha값은 보통 rank, r값의 2배로 설정함. 근데 qlora에서는 16/64=1/4로 설정함\n",
    "                     # alpha/rank: scale multiplier -> lora 파라미터 변화량에 곱해져 학습속도에 영향을 줌\n",
    "                     # 즉, alpha값을 고정하고 learning rate를 조정하는 방향을 추천함\n",
    "\n",
    "    lora_dropout = 0.1, # overfitting을 막기 위해 파라미터의 일정 비율로 랜덤하게 가중치를 0으로 만듦\n",
    "                        # 7b-13b에서는 0.1/ 33b-65b에서는 0.05\n",
    "\n",
    "    r = 8, # rank 값이 클수록 더 복잡한 작업을 수행할 수 있음\n",
    "            # LoRA의 rank는 model의 원래 weight matrix를 근사하는 데 사용하는 두 작은 행렬의 중간 차원임\n",
    "            # 즉, 크기 의 두 행렬을 곱하여 d x r, r x d의 두 행렬을 곱해 원래 d x d 행렬을 근사할 때 이 중간 r을 rank라고 부름\n",
    "            # 근데, QLora에서는 이 r값이 8~256 사이에 있으면 큰 영향이 없음\n",
    "            # QLora에서는 r값을 64로 시작함\n",
    "\n",
    "    bias = \"none\",\n",
    "    target_modules=[\"q_proj\", \"v_proj\"], # 다 추가하라면서 왜 해당 layer만 추가한거지?\n",
    "    task_type=\"CAUSAL_LM\",\n",
    ")\n"
   ]
  },
  {
   "cell_type": "markdown",
   "metadata": {
    "id": "V0o8qSytmlz0"
   },
   "source": [
    "## SFT 하이퍼파라미터 설정하기"
   ]
  },
  {
   "cell_type": "code",
   "execution_count": null,
   "metadata": {
    "id": "K_cvP4xNN5Rx"
   },
   "outputs": [],
   "source": [
    "# Qlora 논문에서는 Dataset마다 적절한 training hyperparameters를 추천함. 참고하기"
   ]
  },
  {
   "cell_type": "markdown",
   "metadata": {
    "id": "U8sVX3BbN3bQ"
   },
   "source": [
    "![image.png](data:image/png;base64,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)"
   ]
  },
  {
   "cell_type": "code",
   "execution_count": null,
   "metadata": {
    "colab": {
     "base_uri": "https://localhost:8080/"
    },
    "executionInfo": {
     "elapsed": 49,
     "status": "ok",
     "timestamp": 1749531119365,
     "user": {
      "displayName": "최두성",
      "userId": "08438271081794727685"
     },
     "user_tz": -540
    },
    "id": "mmu6BycMvf7h",
    "outputId": "f4524375-b606-4b88-f323-6eef56e8ded4"
   },
   "outputs": [
    {
     "name": "stderr",
     "output_type": "stream",
     "text": [
      "average_tokens_across_devices is set to True but it is invalid when world size is1. Turn it to False automatically.\n"
     ]
    }
   ],
   "source": [
    "#Define hyper-parameters\n",
    "from trl import SFTConfig\n",
    "from transformers import Qwen2VLProcessor\n",
    "from qwen_vl_utils import process_vision_info\n",
    "\n",
    "args = SFTConfig(\n",
    "    output_dir = \"qwen2-7b-instruct-description\", #파라미터 저장할 파일 경로\n",
    "    num_train_epochs=10, #epoch수\n",
    "    per_device_train_batch_size=2, #배치사이즈, 클수록 좋지만 메모리 사이즈 고려해서 값 설정\n",
    "    gradient_accumulation_steps = 32, #지정 수 만큼 그레디언트 누적 후 한번에 backpropagation 수행\n",
    "    gradient_checkpointing = True, #계산시 사용되는 메모리 아끼기 위한 방법임. 계산의 중간값들을 계산하지 필요할 때 다시 계산함\n",
    "    optim = \"adamw_torch_fused\", #옵티마이저 설정함\n",
    "    logging_steps = 5, #log 정보를 출력한 step 단위\n",
    "    save_strategy = \"epoch\", #epoch마다 파라마터를 저장함. checking point가 epoch임\n",
    "    learning_rate = 2e-4, #학습률\n",
    "    bf16=True, # use bfloat16 precision\n",
    "    tf32=True, # use tf32 precision\n",
    "    warmup_ratio=0.03,                      # warmup ratio based on QLoRA paper\n",
    "    lr_scheduler_type=\"constant\",           # use constant learning rate scheduler\n",
    "    push_to_hub=True,                       # push model to hub\n",
    "    report_to=\"tensorboard\",                # report metrics to tensorboard\n",
    "    gradient_checkpointing_kwargs = {\"use_reentrant\": False}, # use reentrant checkpointing\n",
    "    dataset_text_field=\"\", # need a dummy field for collator\n",
    "    dataset_kwargs = {\"skip_prepare_dataset\": True} # important for collator\n",
    ")\n",
    "args.remove_unused_columns=False"
   ]
  },
  {
   "cell_type": "markdown",
   "metadata": {
    "id": "g-RY7SO1mYFd"
   },
   "source": [
    "## Collate: batch size의 데이터셋 만들기"
   ]
  },
  {
   "cell_type": "code",
   "execution_count": null,
   "metadata": {
    "id": "r9f3mY1fWRll"
   },
   "outputs": [],
   "source": [
    "#Create custom dataset\n",
    "#이미지 입력을 처리하기 위해서 Qwen2 모델은 process_vision_info 메서드를 지원함/ 다른 모델 사용할때 해당 모델이 지원하는 메서드를 확인해야 함\n",
    "\n",
    "#Data collator, 데이터를 배치사이즈로 묶는 작업을 진행함\n",
    "def collate_fn(examples):\n",
    "\n",
    "  #apply_chat_template는 messages 에 정의된 prompt를 role에 따라 정리함 text로\n",
    "  #이때 image 태그도 포함됨. 이거 학습하게 하지 않기 위해 뒤에서 이 부분 제거해줘야 함\n",
    "  #이때 tokenize=False 이면 출력을 string으로 제공함\n",
    "  \"\"\"\n",
    "  <|system|>\n",
    "  You are a helpful assistant.\n",
    "  <|user|>\n",
    "  What is the category of the Apple iPhone? <image>\n",
    "  <|assistant|>\n",
    "  Smartphones.\n",
    "  \"\"\"\n",
    "  texts = [processor.apply_chat_template(example[\"messages\"], tokenizer=False) for example in examples]\n",
    "\n",
    "  #process_vision_info의 역할은\n",
    "  # 1) messages안에 있는 다양한 형식으로 정의된 image(\"http://\", \"file://\", \"data:image\")에 대해서 PIL.Image.Image 객체로 변환하고\n",
    "  # 2) 이미지의 크기를 리사이즈함\n",
    "  image_inputs = [process_vision_info(example[\"messages\"])[0] for example in examples]\n",
    "\n",
    "  #Tokenize the texts and process the images\n",
    "  batch = processor(text=texts, images=image_inputs, return_tensors=\"pt\", padding=True)\n",
    "\n",
    "  \"\"\"\n",
    "    위 processor의 출력은 VLM(Vision-Language Model)에 입력으로 들어갈 수 있도록\n",
    "    텍스트와 이미지를 각각 PyTorch 텐서 형태로 전처리한 결과입니다.\n",
    "\n",
    "    1. input_ids (torch.LongTensor):\n",
    "       - apply_chat_template로 생성된 텍스트를 tokenizer가 정수 인덱스 시퀀스로 토큰화한 결과\n",
    "       - shape: (batch_size, sequence_length) # system·user·assistant 역할이 포함된 전체 대화 시퀀스를 토큰화한 뒤,\n",
    "                                              # 배치 내 가장 긴 시퀀스에 맞춰 padding을 적용한 결과\n",
    "       - 예: [[101, 1045, 2293, 2023, 3185, 102], [...], ...]\n",
    "\n",
    "    2. attention_mask (torch.LongTensor):\n",
    "       - input_ids에서 실제 토큰은 1, padding된 위치는 0으로 마스킹\n",
    "       - shape: (batch_size, sequence_length)\n",
    "       - 예: [[1, 1, 1, 1, 1, 1], [1, 1, 1, 0, 0, 0], ...]\n",
    "\n",
    "    3. pixel_values (torch.FloatTensor):\n",
    "       - vlm이 이해할 수 있는 형태로 텐서 변환 진행\n",
    "       - shape: (batch_size, num_channels, height, width)\n",
    "       - 예: (2, 3, 224, 224) → RGB 이미지 2장, 224x224 픽셀\n",
    "       - 각 픽셀 값은 0~1 사이로 정규화되며, vision encoder 입력으로 사용됨\n",
    "  \"\"\"\n",
    "\n",
    "\n",
    "  # 이제 input_ids는 정답 처리가 될거임. 현재는 입력과 출력에 대한 정보를 모두 Instruction model의 상황임\n",
    "  # 대체로는 출력만 학습하도록 설계함\n",
    "  # 이를 위해 현재 input_ids에는 <image>, padding의 임베딩 벡터들을 찾아서 무의미한 값으로 바꿀것임\n",
    "\n",
    "  labels = batch[\"input_ids\"].clone()\n",
    "  #pad token 무시하기\n",
    "  labels[labels == processor.tokenizer.pad_token_id] = -100\n",
    "\n",
    "  #이미지 태그 무시하기\n",
    "  if isinstance(processor, Qwen2VLProcessor):\n",
    "    image_tokens = [151652,151653,151655]\n",
    "  else:\n",
    "    image_tokens = [processor.tokenizer.convert_tokens_to_ids(processor.image_token)]\n",
    "  for image_token_id in image_tokens:\n",
    "    labels[labels == image_token_id] = -100\n",
    "  batch[\"labels\"] = labels\n",
    "\n",
    "  return batch"
   ]
  },
  {
   "cell_type": "markdown",
   "metadata": {
    "id": "G6iGwlRTO4jr"
   },
   "source": [
    "Insturction Modeling(IM)\n",
    "- 기존에는 출력만 학습하는데 반해, 입력과 출력 모두를 학습시키는 방법임\n",
    "- 이 방법은 입력이 출력에 비해 상당히 길거나, 학습데이터 수가 적을 때 효과적인 방법임. 이때 overfitting이 많이 되는데 IM이 이런 효과를 줄여줌\n",
    "- 즉, 학습자원이 부족할 때 실용적인 방법이란것임!"
   ]
  },
  {
   "cell_type": "code",
   "execution_count": null,
   "metadata": {
    "colab": {
     "base_uri": "https://localhost:8080/"
    },
    "collapsed": true,
    "executionInfo": {
     "elapsed": 1607,
     "status": "ok",
     "timestamp": 1749531120995,
     "user": {
      "displayName": "최두성",
      "userId": "08438271081794727685"
     },
     "user_tz": -540
    },
    "id": "gy2P4FR5gn61",
    "outputId": "f0edd5fa-0791-40b3-f195-71ec8f104423"
   },
   "outputs": [
    {
     "name": "stderr",
     "output_type": "stream",
     "text": [
      "No label_names provided for model class `PeftModelForCausalLM`. Since `PeftModel` hides base models input arguments, if label_names is not given, label_names can't be set automatically within `Trainer`. Note that empty label_names list will be used instead.\n"
     ]
    }
   ],
   "source": [
    "#SFTTrainer를 통해서 학습을 진행함\n",
    "\n",
    "from trl import SFTTrainer\n",
    "\n",
    "trainer = SFTTrainer(\n",
    "    model=model,\n",
    "    args=args,\n",
    "    train_dataset=dataset,\n",
    "    data_collator=collate_fn,\n",
    "    peft_config=peft_config,\n",
    "    processing_class=processor.tokenizer,\n",
    ")"
   ]
  },
  {
   "cell_type": "markdown",
   "metadata": {
    "id": "hODYUMK5CjkX"
   },
   "source": [
    "## processor.apply_chat_template 예시"
   ]
  },
  {
   "cell_type": "code",
   "execution_count": null,
   "metadata": {
    "collapsed": true,
    "id": "BZGHQJnluirF"
   },
   "outputs": [],
   "source": [
    "# from transformers import AutoProcessor, LlavaOnevisionForConditionalGeneration\n",
    "\n",
    "# model = LlavaOnevisionForConditionalGeneration.from_pretrained(\"llava-hf/llava-onevision-qwen2-0.5b-ov-hf\")\n",
    "# processor = AutoProcessor.fro.m_pretrained(\"llava-hf/llava-onevision-qwen2-0.5b-ov-hf\")\n",
    "\n",
    "# messages = [\n",
    "#     {\n",
    "#       \"role\": \"system\",\n",
    "#       \"content\": [{\"type\": \"text\", \"text\": \"You are a friendly chatbot who always responds in the style of a pirate\"}],\n",
    "#     },\n",
    "#     {\n",
    "#       \"role\": \"user\",\n",
    "#       \"content\": [\n",
    "#             {\"type\": \"image\", \"url\": \"http://images.cocodataset.org/val2017/000000039769.jpg\"},\n",
    "#             {\"type\": \"text\", \"text\": \"What are these?\"},\n",
    "#         ],\n",
    "#     },\n",
    "# ]"
   ]
  },
  {
   "cell_type": "code",
   "execution_count": null,
   "metadata": {
    "id": "7ShtqQj8u1oW"
   },
   "outputs": [],
   "source": [
    "# processed_chat = processor.apply_chat_template(messages, add_generation_prompt=True, tokenize=False, return_dict=True, return_tensors=\"pt\")\n",
    "# processed_chat"
   ]
  },
  {
   "cell_type": "code",
   "execution_count": null,
   "metadata": {
    "id": "Vnb-21Zy9S4q"
   },
   "outputs": [],
   "source": [
    "# processed_chat = processor.apply_chat_template(messages, add_generation_prompt=True, tokenize=True, return_dict=True, return_tensors=\"pt\")\n",
    "# processed_chat"
   ]
  },
  {
   "cell_type": "markdown",
   "metadata": {
    "id": "taPCR7CMmGzN"
   },
   "source": [
    "## Train model"
   ]
  },
  {
   "cell_type": "code",
   "execution_count": null,
   "metadata": {
    "id": "sNu9p7n9f3dL"
   },
   "outputs": [],
   "source": [
    "torch.cuda.empty_cache()"
   ]
  },
  {
   "cell_type": "code",
   "execution_count": null,
   "metadata": {
    "colab": {
     "base_uri": "https://localhost:8080/",
     "height": 599
    },
    "collapsed": true,
    "executionInfo": {
     "elapsed": 216871,
     "status": "ok",
     "timestamp": 1749531338274,
     "user": {
      "displayName": "최두성",
      "userId": "08438271081794727685"
     },
     "user_tz": -540
    },
    "id": "XXI0qbuojJTv",
    "outputId": "69895b9f-f31c-4695-ace9-cb45084870ec"
   },
   "outputs": [
    {
     "name": "stderr",
     "output_type": "stream",
     "text": [
      "`use_cache=True` is incompatible with gradient checkpointing. Setting `use_cache=False`...\n",
      "`loss_type=None` was set in the config but it is unrecognised.Using the default loss: `ForCausalLMLoss`.\n",
      "/usr/local/lib/python3.11/dist-packages/torch/utils/checkpoint.py:1399: FutureWarning: `torch.cpu.amp.autocast(args...)` is deprecated. Please use `torch.amp.autocast('cpu', args...)` instead.\n",
      "  with device_autocast_ctx, torch.cpu.amp.autocast(**cpu_autocast_kwargs), recompute_context:  # type: ignore[attr-defined]\n"
     ]
    },
    {
     "data": {
      "text/html": [
       "\n",
       "    <div>\n",
       "      \n",
       "      <progress value='10' max='10' style='width:300px; height:20px; vertical-align: middle;'></progress>\n",
       "      [10/10 03:06, Epoch 10/10]\n",
       "    </div>\n",
       "    <table border=\"1\" class=\"dataframe\">\n",
       "  <thead>\n",
       " <tr style=\"text-align: left;\">\n",
       "      <th>Step</th>\n",
       "      <th>Training Loss</th>\n",
       "    </tr>\n",
       "  </thead>\n",
       "  <tbody>\n",
       "    <tr>\n",
       "      <td>5</td>\n",
       "      <td>7.694100</td>\n",
       "    </tr>\n",
       "    <tr>\n",
       "      <td>10</td>\n",
       "      <td>7.123600</td>\n",
       "    </tr>\n",
       "  </tbody>\n",
       "</table><p>"
      ],
      "text/plain": [
       "<IPython.core.display.HTML object>"
      ]
     },
     "metadata": {},
     "output_type": "display_data"
    },
    {
     "name": "stderr",
     "output_type": "stream",
     "text": [
      "/usr/local/lib/python3.11/dist-packages/torch/utils/checkpoint.py:1399: FutureWarning: `torch.cpu.amp.autocast(args...)` is deprecated. Please use `torch.amp.autocast('cpu', args...)` instead.\n",
      "  with device_autocast_ctx, torch.cpu.amp.autocast(**cpu_autocast_kwargs), recompute_context:  # type: ignore[attr-defined]\n",
      "/usr/local/lib/python3.11/dist-packages/torch/utils/checkpoint.py:1399: FutureWarning: `torch.cpu.amp.autocast(args...)` is deprecated. Please use `torch.amp.autocast('cpu', args...)` instead.\n",
      "  with device_autocast_ctx, torch.cpu.amp.autocast(**cpu_autocast_kwargs), recompute_context:  # type: ignore[attr-defined]\n",
      "/usr/local/lib/python3.11/dist-packages/torch/utils/checkpoint.py:1399: FutureWarning: `torch.cpu.amp.autocast(args...)` is deprecated. Please use `torch.amp.autocast('cpu', args...)` instead.\n",
      "  with device_autocast_ctx, torch.cpu.amp.autocast(**cpu_autocast_kwargs), recompute_context:  # type: ignore[attr-defined]\n",
      "/usr/local/lib/python3.11/dist-packages/torch/utils/checkpoint.py:1399: FutureWarning: `torch.cpu.amp.autocast(args...)` is deprecated. Please use `torch.amp.autocast('cpu', args...)` instead.\n",
      "  with device_autocast_ctx, torch.cpu.amp.autocast(**cpu_autocast_kwargs), recompute_context:  # type: ignore[attr-defined]\n",
      "/usr/local/lib/python3.11/dist-packages/torch/utils/checkpoint.py:1399: FutureWarning: `torch.cpu.amp.autocast(args...)` is deprecated. Please use `torch.amp.autocast('cpu', args...)` instead.\n",
      "  with device_autocast_ctx, torch.cpu.amp.autocast(**cpu_autocast_kwargs), recompute_context:  # type: ignore[attr-defined]\n",
      "/usr/local/lib/python3.11/dist-packages/torch/utils/checkpoint.py:1399: FutureWarning: `torch.cpu.amp.autocast(args...)` is deprecated. Please use `torch.amp.autocast('cpu', args...)` instead.\n",
      "  with device_autocast_ctx, torch.cpu.amp.autocast(**cpu_autocast_kwargs), recompute_context:  # type: ignore[attr-defined]\n",
      "/usr/local/lib/python3.11/dist-packages/torch/utils/checkpoint.py:1399: FutureWarning: `torch.cpu.amp.autocast(args...)` is deprecated. Please use `torch.amp.autocast('cpu', args...)` instead.\n",
      "  with device_autocast_ctx, torch.cpu.amp.autocast(**cpu_autocast_kwargs), recompute_context:  # type: ignore[attr-defined]\n",
      "/usr/local/lib/python3.11/dist-packages/torch/utils/checkpoint.py:1399: FutureWarning: `torch.cpu.amp.autocast(args...)` is deprecated. Please use `torch.amp.autocast('cpu', args...)` instead.\n",
      "  with device_autocast_ctx, torch.cpu.amp.autocast(**cpu_autocast_kwargs), recompute_context:  # type: ignore[attr-defined]\n",
      "/usr/local/lib/python3.11/dist-packages/torch/utils/checkpoint.py:1399: FutureWarning: `torch.cpu.amp.autocast(args...)` is deprecated. Please use `torch.amp.autocast('cpu', args...)` instead.\n",
      "  with device_autocast_ctx, torch.cpu.amp.autocast(**cpu_autocast_kwargs), recompute_context:  # type: ignore[attr-defined]\n",
      "No files have been modified since last commit. Skipping to prevent empty commit.\n",
      "WARNING:huggingface_hub.hf_api:No files have been modified since last commit. Skipping to prevent empty commit.\n"
     ]
    }
   ],
   "source": [
    "# 훈련 시작\n",
    "trainer.train()\n",
    "\n",
    "# 모델 저장\n",
    "trainer.save_model(args.output_dir)"
   ]
  },
  {
   "cell_type": "code",
   "execution_count": null,
   "metadata": {
    "colab": {
     "base_uri": "https://localhost:8080/"
    },
    "executionInfo": {
     "elapsed": 22729,
     "status": "ok",
     "timestamp": 1749531530050,
     "user": {
      "displayName": "최두성",
      "userId": "08438271081794727685"
     },
     "user_tz": -540
    },
    "id": "AGmFfd89k0Qz",
    "outputId": "cfb0a007-7caa-4bad-a351-66054d12708f"
   },
   "outputs": [
    {
     "name": "stdout",
     "output_type": "stream",
     "text": [
      "Mounted at /content/drive\n"
     ]
    }
   ],
   "source": [
    "from google.colab import drive\n",
    "drive.mount('/content/drive')"
   ]
  },
  {
   "cell_type": "code",
   "execution_count": null,
   "metadata": {
    "colab": {
     "base_uri": "https://localhost:8080/"
    },
    "executionInfo": {
     "elapsed": 11,
     "status": "ok",
     "timestamp": 1749531537021,
     "user": {
      "displayName": "최두성",
      "userId": "08438271081794727685"
     },
     "user_tz": -540
    },
    "id": "r-dTVYSOd_a5",
    "outputId": "df9d21a8-38e5-4299-f5c0-1e88028fe82d"
   },
   "outputs": [
    {
     "name": "stdout",
     "output_type": "stream",
     "text": [
      "cwd: /content\n",
      "['qwen2-7b-instruct-description/checkpoint-6', 'qwen2-7b-instruct-description/tokenizer.json', 'qwen2-7b-instruct-description/checkpoint-4', 'qwen2-7b-instruct-description/adapter_config.json', 'qwen2-7b-instruct-description/README.md', 'qwen2-7b-instruct-description/special_tokens_map.json', 'qwen2-7b-instruct-description/tokenizer_config.json', 'qwen2-7b-instruct-description/checkpoint-2', 'qwen2-7b-instruct-description/chat_template.jinja', 'qwen2-7b-instruct-description/checkpoint-8', 'qwen2-7b-instruct-description/checkpoint-9', 'qwen2-7b-instruct-description/runs', 'qwen2-7b-instruct-description/checkpoint-1', 'qwen2-7b-instruct-description/checkpoint-10', 'qwen2-7b-instruct-description/added_tokens.json', 'qwen2-7b-instruct-description/checkpoint-3', 'qwen2-7b-instruct-description/adapter_model.safetensors', 'qwen2-7b-instruct-description/vocab.json', 'qwen2-7b-instruct-description/checkpoint-5', 'qwen2-7b-instruct-description/training_args.bin', 'qwen2-7b-instruct-description/merges.txt', 'qwen2-7b-instruct-description/checkpoint-7']\n"
     ]
    }
   ],
   "source": [
    "import os, glob\n",
    "\n",
    "# 현재 작업 디렉터리 확인\n",
    "print(\"cwd:\", os.getcwd())\n",
    "\n",
    "# 모델 폴더가 실제로 있는지 확인\n",
    "print(glob.glob(\"qwen2-7b-instruct-description/*\"))"
   ]
  },
  {
   "cell_type": "code",
   "execution_count": null,
   "metadata": {
    "id": "dB-j05qBlC8h"
   },
   "outputs": [],
   "source": [
    "!cp -r /content/qwen2-7b-instruct-description /content/drive/MyDrive/VLM_checkpoints"
   ]
  },
  {
   "cell_type": "code",
   "execution_count": null,
   "metadata": {
    "id": "-V9Slei6lEoP"
   },
   "outputs": [],
   "source": []
  }
 ],
 "metadata": {
  "accelerator": "GPU",
  "colab": {
   "authorship_tag": "ABX9TyP73q9LOHhZ7oMZ2pD7qepd",
   "collapsed_sections": [
    "tnU2qNvhnEsN",
    "RX0AVfv2m1k1",
    "lj9S6G_lmqo9",
    "V0o8qSytmlz0",
    "g-RY7SO1mYFd",
    "l7w0rlFhmKEN"
   ],
   "gpuType": "A100",
   "machine_shape": "hm",
   "provenance": []
  },
  "kernelspec": {
   "display_name": "Python 3",
   "name": "python3"
  },
  "language_info": {
   "name": "python"
  },
  "widgets": {
   "application/vnd.jupyter.widget-state+json": {
    "05038d80d6cc405a936d5a9eb1217f22": {
     "model_module": "@jupyter-widgets/base",
     "model_module_version": "1.2.0",
     "model_name": "LayoutModel",
     "state": {
      "_model_module": "@jupyter-widgets/base",
      "_model_module_version": "1.2.0",
      "_model_name": "LayoutModel",
      "_view_count": null,
      "_view_module": "@jupyter-widgets/base",
      "_view_module_version": "1.2.0",
      "_view_name": "LayoutView",
      "align_content": null,
      "align_items": null,
      "align_self": null,
      "border": null,
      "bottom": null,
      "display": null,
      "flex": null,
      "flex_flow": null,
      "grid_area": null,
      "grid_auto_columns": null,
      "grid_auto_flow": null,
      "grid_auto_rows": null,
      "grid_column": null,
      "grid_gap": null,
      "grid_row": null,
      "grid_template_areas": null,
      "grid_template_columns": null,
      "grid_template_rows": null,
      "height": null,
      "justify_content": null,
      "justify_items": null,
      "left": null,
      "margin": null,
      "max_height": null,
      "max_width": null,
      "min_height": null,
      "min_width": null,
      "object_fit": null,
      "object_position": null,
      "order": null,
      "overflow": null,
      "overflow_x": null,
      "overflow_y": null,
      "padding": null,
      "right": null,
      "top": null,
      "visibility": null,
      "width": null
     }
    },
    "1bed8a4e8ca34311a77c257c13bdd162": {
     "model_module": "@jupyter-widgets/base",
     "model_module_version": "1.2.0",
     "model_name": "LayoutModel",
     "state": {
      "_model_module": "@jupyter-widgets/base",
      "_model_module_version": "1.2.0",
      "_model_name": "LayoutModel",
      "_view_count": null,
      "_view_module": "@jupyter-widgets/base",
      "_view_module_version": "1.2.0",
      "_view_name": "LayoutView",
      "align_content": null,
      "align_items": null,
      "align_self": null,
      "border": null,
      "bottom": null,
      "display": null,
      "flex": null,
      "flex_flow": null,
      "grid_area": null,
      "grid_auto_columns": null,
      "grid_auto_flow": null,
      "grid_auto_rows": null,
      "grid_column": null,
      "grid_gap": null,
      "grid_row": null,
      "grid_template_areas": null,
      "grid_template_columns": null,
      "grid_template_rows": null,
      "height": null,
      "justify_content": null,
      "justify_items": null,
      "left": null,
      "margin": null,
      "max_height": null,
      "max_width": null,
      "min_height": null,
      "min_width": null,
      "object_fit": null,
      "object_position": null,
      "order": null,
      "overflow": null,
      "overflow_x": null,
      "overflow_y": null,
      "padding": null,
      "right": null,
      "top": null,
      "visibility": null,
      "width": null
     }
    },
    "21349c52f4974624b89cbd889a0b6707": {
     "model_module": "@jupyter-widgets/base",
     "model_module_version": "1.2.0",
     "model_name": "LayoutModel",
     "state": {
      "_model_module": "@jupyter-widgets/base",
      "_model_module_version": "1.2.0",
      "_model_name": "LayoutModel",
      "_view_count": null,
      "_view_module": "@jupyter-widgets/base",
      "_view_module_version": "1.2.0",
      "_view_name": "LayoutView",
      "align_content": null,
      "align_items": null,
      "align_self": null,
      "border": null,
      "bottom": null,
      "display": null,
      "flex": null,
      "flex_flow": null,
      "grid_area": null,
      "grid_auto_columns": null,
      "grid_auto_flow": null,
      "grid_auto_rows": null,
      "grid_column": null,
      "grid_gap": null,
      "grid_row": null,
      "grid_template_areas": null,
      "grid_template_columns": null,
      "grid_template_rows": null,
      "height": null,
      "justify_content": null,
      "justify_items": null,
      "left": null,
      "margin": null,
      "max_height": null,
      "max_width": null,
      "min_height": null,
      "min_width": null,
      "object_fit": null,
      "object_position": null,
      "order": null,
      "overflow": null,
      "overflow_x": null,
      "overflow_y": null,
      "padding": null,
      "right": null,
      "top": null,
      "visibility": null,
      "width": null
     }
    },
    "2e2f593d187341efb2aa9b7f453e780d": {
     "model_module": "@jupyter-widgets/base",
     "model_module_version": "1.2.0",
     "model_name": "LayoutModel",
     "state": {
      "_model_module": "@jupyter-widgets/base",
      "_model_module_version": "1.2.0",
      "_model_name": "LayoutModel",
      "_view_count": null,
      "_view_module": "@jupyter-widgets/base",
      "_view_module_version": "1.2.0",
      "_view_name": "LayoutView",
      "align_content": null,
      "align_items": null,
      "align_self": null,
      "border": null,
      "bottom": null,
      "display": null,
      "flex": null,
      "flex_flow": null,
      "grid_area": null,
      "grid_auto_columns": null,
      "grid_auto_flow": null,
      "grid_auto_rows": null,
      "grid_column": null,
      "grid_gap": null,
      "grid_row": null,
      "grid_template_areas": null,
      "grid_template_columns": null,
      "grid_template_rows": null,
      "height": null,
      "justify_content": null,
      "justify_items": null,
      "left": null,
      "margin": null,
      "max_height": null,
      "max_width": null,
      "min_height": null,
      "min_width": null,
      "object_fit": null,
      "object_position": null,
      "order": null,
      "overflow": null,
      "overflow_x": null,
      "overflow_y": null,
      "padding": null,
      "right": null,
      "top": null,
      "visibility": null,
      "width": null
     }
    },
    "700d65d42c40462897cae5504ca1725f": {
     "model_module": "@jupyter-widgets/controls",
     "model_module_version": "1.5.0",
     "model_name": "HTMLModel",
     "state": {
      "_dom_classes": [],
      "_model_module": "@jupyter-widgets/controls",
      "_model_module_version": "1.5.0",
      "_model_name": "HTMLModel",
      "_view_count": null,
      "_view_module": "@jupyter-widgets/controls",
      "_view_module_version": "1.5.0",
      "_view_name": "HTMLView",
      "description": "",
      "description_tooltip": null,
      "layout": "IPY_MODEL_1bed8a4e8ca34311a77c257c13bdd162",
      "placeholder": "​",
      "style": "IPY_MODEL_c3f7f5e6df0e4346acbe5011b34cd902",
      "value": "Loading checkpoint shards: 100%"
     }
    },
    "907a1348caa54295a69cefae709d5a00": {
     "model_module": "@jupyter-widgets/controls",
     "model_module_version": "1.5.0",
     "model_name": "DescriptionStyleModel",
     "state": {
      "_model_module": "@jupyter-widgets/controls",
      "_model_module_version": "1.5.0",
      "_model_name": "DescriptionStyleModel",
      "_view_count": null,
      "_view_module": "@jupyter-widgets/base",
      "_view_module_version": "1.2.0",
      "_view_name": "StyleView",
      "description_width": ""
     }
    },
    "c3f7f5e6df0e4346acbe5011b34cd902": {
     "model_module": "@jupyter-widgets/controls",
     "model_module_version": "1.5.0",
     "model_name": "DescriptionStyleModel",
     "state": {
      "_model_module": "@jupyter-widgets/controls",
      "_model_module_version": "1.5.0",
      "_model_name": "DescriptionStyleModel",
      "_view_count": null,
      "_view_module": "@jupyter-widgets/base",
      "_view_module_version": "1.2.0",
      "_view_name": "StyleView",
      "description_width": ""
     }
    },
    "c4364cd7855549c3a09e7eb2b9c7f1e8": {
     "model_module": "@jupyter-widgets/controls",
     "model_module_version": "1.5.0",
     "model_name": "ProgressStyleModel",
     "state": {
      "_model_module": "@jupyter-widgets/controls",
      "_model_module_version": "1.5.0",
      "_model_name": "ProgressStyleModel",
      "_view_count": null,
      "_view_module": "@jupyter-widgets/base",
      "_view_module_version": "1.2.0",
      "_view_name": "StyleView",
      "bar_color": null,
      "description_width": ""
     }
    },
    "f0169d472933456fbc07001aa3301536": {
     "model_module": "@jupyter-widgets/controls",
     "model_module_version": "1.5.0",
     "model_name": "HTMLModel",
     "state": {
      "_dom_classes": [],
      "_model_module": "@jupyter-widgets/controls",
      "_model_module_version": "1.5.0",
      "_model_name": "HTMLModel",
      "_view_count": null,
      "_view_module": "@jupyter-widgets/controls",
      "_view_module_version": "1.5.0",
      "_view_name": "HTMLView",
      "description": "",
      "description_tooltip": null,
      "layout": "IPY_MODEL_2e2f593d187341efb2aa9b7f453e780d",
      "placeholder": "​",
      "style": "IPY_MODEL_907a1348caa54295a69cefae709d5a00",
      "value": " 5/5 [00:18&lt;00:00,  3.07s/it]"
     }
    },
    "f07bcf9c5cb245f4bcddf05789132b65": {
     "model_module": "@jupyter-widgets/controls",
     "model_module_version": "1.5.0",
     "model_name": "FloatProgressModel",
     "state": {
      "_dom_classes": [],
      "_model_module": "@jupyter-widgets/controls",
      "_model_module_version": "1.5.0",
      "_model_name": "FloatProgressModel",
      "_view_count": null,
      "_view_module": "@jupyter-widgets/controls",
      "_view_module_version": "1.5.0",
      "_view_name": "ProgressView",
      "bar_style": "success",
      "description": "",
      "description_tooltip": null,
      "layout": "IPY_MODEL_21349c52f4974624b89cbd889a0b6707",
      "max": 5,
      "min": 0,
      "orientation": "horizontal",
      "style": "IPY_MODEL_c4364cd7855549c3a09e7eb2b9c7f1e8",
      "value": 5
     }
    },
    "f1fbcca915f34e60b2b591125dac7efa": {
     "model_module": "@jupyter-widgets/controls",
     "model_module_version": "1.5.0",
     "model_name": "HBoxModel",
     "state": {
      "_dom_classes": [],
      "_model_module": "@jupyter-widgets/controls",
      "_model_module_version": "1.5.0",
      "_model_name": "HBoxModel",
      "_view_count": null,
      "_view_module": "@jupyter-widgets/controls",
      "_view_module_version": "1.5.0",
      "_view_name": "HBoxView",
      "box_style": "",
      "children": [
       "IPY_MODEL_700d65d42c40462897cae5504ca1725f",
       "IPY_MODEL_f07bcf9c5cb245f4bcddf05789132b65",
       "IPY_MODEL_f0169d472933456fbc07001aa3301536"
      ],
      "layout": "IPY_MODEL_05038d80d6cc405a936d5a9eb1217f22"
     }
    }
   }
  }
 },
 "nbformat": 4,
 "nbformat_minor": 0
}
