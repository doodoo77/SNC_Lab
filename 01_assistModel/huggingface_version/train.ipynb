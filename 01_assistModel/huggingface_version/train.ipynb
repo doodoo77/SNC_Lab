{
 "cells": [
  {
   "cell_type": "markdown",
   "metadata": {
    "id": "tnU2qNvhnEsN"
   },
   "source": [
    "## 환경 설정하기"
   ]
  },
  {
   "cell_type": "code",
   "execution_count": null,
   "metadata": {
    "collapsed": true,
    "id": "ymlxk3Oh1gRP"
   },
   "outputs": [],
   "source": [
    "# !pip install git+https://github.com/huggingface/transformers\n",
    "# !pip install qwen-vl-utils\n",
    "# !pip install qwen_agent"
   ]
  },
  {
   "cell_type": "code",
   "execution_count": null,
   "metadata": {
    "colab": {
     "base_uri": "https://localhost:8080/"
    },
    "collapsed": true,
    "executionInfo": {
     "elapsed": 28710,
     "status": "ok",
     "timestamp": 1749531059744,
     "user": {
      "displayName": "최두성",
      "userId": "08438271081794727685"
     },
     "user_tz": -540
    },
    "id": "pxYpjopi5Mbr",
    "outputId": "2a9c6062-0f65-458f-cb6f-f5d19243b224"
   },
   "outputs": [
    {
     "name": "stdout",
     "output_type": "stream",
     "text": [
      "  Installing build dependencies ... \u001b[?25l\u001b[?25hdone\n",
      "  Getting requirements to build wheel ... \u001b[?25l\u001b[?25hdone\n",
      "  Preparing metadata (pyproject.toml) ... \u001b[?25l\u001b[?25hdone\n",
      "  Installing build dependencies ... \u001b[?25l\u001b[?25hdone\n",
      "  Getting requirements to build wheel ... \u001b[?25l\u001b[?25hdone\n",
      "  Preparing metadata (pyproject.toml) ... \u001b[?25l\u001b[?25hdone\n"
     ]
    }
   ],
   "source": [
    "!pip install  -U -q git+https://github.com/huggingface/transformers.git git+https://github.com/huggingface/trl.git datasets bitsandbytes peft qwen-vl-utils wandb accelerate\n",
    "# Tested with transformers==4.47.0.dev0, trl==0.12.0.dev0, datasets==3.0.2, bitsandbytes==0.44.1, peft==0.13.2, qwen-vl-utils==0.0.8, wandb==0.18.5, accelerate==1.0.1\n",
    "\n",
    "!pip install -q torch==2.4.1+cu121 torchvision==0.19.1+cu121 torchaudio==2.4.1+cu121 --extra-index-url https://download.pytorch.org/whl/cu121"
   ]
  },
  {
   "cell_type": "code",
   "execution_count": null,
   "metadata": {
    "colab": {
     "base_uri": "https://localhost:8080/"
    },
    "collapsed": true,
    "executionInfo": {
     "elapsed": 19964,
     "status": "ok",
     "timestamp": 1749531079713,
     "user": {
      "displayName": "최두성",
      "userId": "08438271081794727685"
     },
     "user_tz": -540
    },
    "id": "nGdOHdN-DL_c",
    "outputId": "022c7cc8-2fcb-407c-ad54-629e86775185"
   },
   "outputs": [
    {
     "name": "stdout",
     "output_type": "stream",
     "text": [
      "Requirement already satisfied: datasets in /usr/local/lib/python3.11/dist-packages (3.6.0)\n",
      "Requirement already satisfied: huggingface_hub in /usr/local/lib/python3.11/dist-packages (0.32.4)\n",
      "Requirement already satisfied: fsspec in /usr/local/lib/python3.11/dist-packages (2025.3.0)\n",
      "Collecting fsspec\n",
      "  Using cached fsspec-2025.5.1-py3-none-any.whl.metadata (11 kB)\n",
      "Requirement already satisfied: filelock in /usr/local/lib/python3.11/dist-packages (from datasets) (3.18.0)\n",
      "Requirement already satisfied: numpy>=1.17 in /usr/local/lib/python3.11/dist-packages (from datasets) (2.0.2)\n",
      "Requirement already satisfied: pyarrow>=15.0.0 in /usr/local/lib/python3.11/dist-packages (from datasets) (18.1.0)\n",
      "Requirement already satisfied: dill<0.3.9,>=0.3.0 in /usr/local/lib/python3.11/dist-packages (from datasets) (0.3.7)\n",
      "Requirement already satisfied: pandas in /usr/local/lib/python3.11/dist-packages (from datasets) (2.2.2)\n",
      "Requirement already satisfied: requests>=2.32.2 in /usr/local/lib/python3.11/dist-packages (from datasets) (2.32.3)\n",
      "Requirement already satisfied: tqdm>=4.66.3 in /usr/local/lib/python3.11/dist-packages (from datasets) (4.67.1)\n",
      "Requirement already satisfied: xxhash in /usr/local/lib/python3.11/dist-packages (from datasets) (3.5.0)\n",
      "Requirement already satisfied: multiprocess<0.70.17 in /usr/local/lib/python3.11/dist-packages (from datasets) (0.70.15)\n",
      "Requirement already satisfied: packaging in /usr/local/lib/python3.11/dist-packages (from datasets) (24.2)\n",
      "Requirement already satisfied: pyyaml>=5.1 in /usr/local/lib/python3.11/dist-packages (from datasets) (6.0.2)\n",
      "Requirement already satisfied: typing-extensions>=3.7.4.3 in /usr/local/lib/python3.11/dist-packages (from huggingface_hub) (4.14.0)\n",
      "Requirement already satisfied: hf-xet<2.0.0,>=1.1.2 in /usr/local/lib/python3.11/dist-packages (from huggingface_hub) (1.1.2)\n",
      "Requirement already satisfied: aiohttp!=4.0.0a0,!=4.0.0a1 in /usr/local/lib/python3.11/dist-packages (from fsspec[http]<=2025.3.0,>=2023.1.0->datasets) (3.11.15)\n",
      "Requirement already satisfied: charset-normalizer<4,>=2 in /usr/local/lib/python3.11/dist-packages (from requests>=2.32.2->datasets) (3.4.2)\n",
      "Requirement already satisfied: idna<4,>=2.5 in /usr/local/lib/python3.11/dist-packages (from requests>=2.32.2->datasets) (3.10)\n",
      "Requirement already satisfied: urllib3<3,>=1.21.1 in /usr/local/lib/python3.11/dist-packages (from requests>=2.32.2->datasets) (2.4.0)\n",
      "Requirement already satisfied: certifi>=2017.4.17 in /usr/local/lib/python3.11/dist-packages (from requests>=2.32.2->datasets) (2025.4.26)\n",
      "Requirement already satisfied: python-dateutil>=2.8.2 in /usr/local/lib/python3.11/dist-packages (from pandas->datasets) (2.9.0.post0)\n",
      "Requirement already satisfied: pytz>=2020.1 in /usr/local/lib/python3.11/dist-packages (from pandas->datasets) (2025.2)\n",
      "Requirement already satisfied: tzdata>=2022.7 in /usr/local/lib/python3.11/dist-packages (from pandas->datasets) (2025.2)\n",
      "Requirement already satisfied: aiohappyeyeballs>=2.3.0 in /usr/local/lib/python3.11/dist-packages (from aiohttp!=4.0.0a0,!=4.0.0a1->fsspec[http]<=2025.3.0,>=2023.1.0->datasets) (2.6.1)\n",
      "Requirement already satisfied: aiosignal>=1.1.2 in /usr/local/lib/python3.11/dist-packages (from aiohttp!=4.0.0a0,!=4.0.0a1->fsspec[http]<=2025.3.0,>=2023.1.0->datasets) (1.3.2)\n",
      "Requirement already satisfied: attrs>=17.3.0 in /usr/local/lib/python3.11/dist-packages (from aiohttp!=4.0.0a0,!=4.0.0a1->fsspec[http]<=2025.3.0,>=2023.1.0->datasets) (25.3.0)\n",
      "Requirement already satisfied: frozenlist>=1.1.1 in /usr/local/lib/python3.11/dist-packages (from aiohttp!=4.0.0a0,!=4.0.0a1->fsspec[http]<=2025.3.0,>=2023.1.0->datasets) (1.6.0)\n",
      "Requirement already satisfied: multidict<7.0,>=4.5 in /usr/local/lib/python3.11/dist-packages (from aiohttp!=4.0.0a0,!=4.0.0a1->fsspec[http]<=2025.3.0,>=2023.1.0->datasets) (6.4.4)\n",
      "Requirement already satisfied: propcache>=0.2.0 in /usr/local/lib/python3.11/dist-packages (from aiohttp!=4.0.0a0,!=4.0.0a1->fsspec[http]<=2025.3.0,>=2023.1.0->datasets) (0.3.1)\n",
      "Requirement already satisfied: yarl<2.0,>=1.17.0 in /usr/local/lib/python3.11/dist-packages (from aiohttp!=4.0.0a0,!=4.0.0a1->fsspec[http]<=2025.3.0,>=2023.1.0->datasets) (1.20.0)\n",
      "Requirement already satisfied: six>=1.5 in /usr/local/lib/python3.11/dist-packages (from python-dateutil>=2.8.2->pandas->datasets) (1.17.0)\n",
      "Requirement already satisfied: openai in /usr/local/lib/python3.11/dist-packages (1.85.0)\n",
      "Requirement already satisfied: anyio<5,>=3.5.0 in /usr/local/lib/python3.11/dist-packages (from openai) (4.9.0)\n",
      "Requirement already satisfied: distro<2,>=1.7.0 in /usr/local/lib/python3.11/dist-packages (from openai) (1.9.0)\n",
      "Requirement already satisfied: httpx<1,>=0.23.0 in /usr/local/lib/python3.11/dist-packages (from openai) (0.28.1)\n",
      "Requirement already satisfied: jiter<1,>=0.4.0 in /usr/local/lib/python3.11/dist-packages (from openai) (0.10.0)\n",
      "Requirement already satisfied: pydantic<3,>=1.9.0 in /usr/local/lib/python3.11/dist-packages (from openai) (2.11.5)\n",
      "Requirement already satisfied: sniffio in /usr/local/lib/python3.11/dist-packages (from openai) (1.3.1)\n",
      "Requirement already satisfied: tqdm>4 in /usr/local/lib/python3.11/dist-packages (from openai) (4.67.1)\n",
      "Requirement already satisfied: typing-extensions<5,>=4.11 in /usr/local/lib/python3.11/dist-packages (from openai) (4.14.0)\n",
      "Requirement already satisfied: idna>=2.8 in /usr/local/lib/python3.11/dist-packages (from anyio<5,>=3.5.0->openai) (3.10)\n",
      "Requirement already satisfied: certifi in /usr/local/lib/python3.11/dist-packages (from httpx<1,>=0.23.0->openai) (2025.4.26)\n",
      "Requirement already satisfied: httpcore==1.* in /usr/local/lib/python3.11/dist-packages (from httpx<1,>=0.23.0->openai) (1.0.9)\n",
      "Requirement already satisfied: h11>=0.16 in /usr/local/lib/python3.11/dist-packages (from httpcore==1.*->httpx<1,>=0.23.0->openai) (0.16.0)\n",
      "Requirement already satisfied: annotated-types>=0.6.0 in /usr/local/lib/python3.11/dist-packages (from pydantic<3,>=1.9.0->openai) (0.7.0)\n",
      "Requirement already satisfied: pydantic-core==2.33.2 in /usr/local/lib/python3.11/dist-packages (from pydantic<3,>=1.9.0->openai) (2.33.2)\n",
      "Requirement already satisfied: typing-inspection>=0.4.0 in /usr/local/lib/python3.11/dist-packages (from pydantic<3,>=1.9.0->openai) (0.4.1)\n",
      "Requirement already satisfied: langchain-openai in /usr/local/lib/python3.11/dist-packages (0.3.21)\n",
      "Requirement already satisfied: langchain-core<1.0.0,>=0.3.64 in /usr/local/lib/python3.11/dist-packages (from langchain-openai) (0.3.64)\n",
      "Requirement already satisfied: openai<2.0.0,>=1.68.2 in /usr/local/lib/python3.11/dist-packages (from langchain-openai) (1.85.0)\n",
      "Requirement already satisfied: tiktoken<1,>=0.7 in /usr/local/lib/python3.11/dist-packages (from langchain-openai) (0.9.0)\n",
      "Requirement already satisfied: langsmith<0.4,>=0.3.45 in /usr/local/lib/python3.11/dist-packages (from langchain-core<1.0.0,>=0.3.64->langchain-openai) (0.3.45)\n",
      "Requirement already satisfied: tenacity!=8.4.0,<10.0.0,>=8.1.0 in /usr/local/lib/python3.11/dist-packages (from langchain-core<1.0.0,>=0.3.64->langchain-openai) (9.1.2)\n",
      "Requirement already satisfied: jsonpatch<2.0,>=1.33 in /usr/local/lib/python3.11/dist-packages (from langchain-core<1.0.0,>=0.3.64->langchain-openai) (1.33)\n",
      "Requirement already satisfied: PyYAML>=5.3 in /usr/local/lib/python3.11/dist-packages (from langchain-core<1.0.0,>=0.3.64->langchain-openai) (6.0.2)\n",
      "Requirement already satisfied: packaging<25,>=23.2 in /usr/local/lib/python3.11/dist-packages (from langchain-core<1.0.0,>=0.3.64->langchain-openai) (24.2)\n",
      "Requirement already satisfied: typing-extensions>=4.7 in /usr/local/lib/python3.11/dist-packages (from langchain-core<1.0.0,>=0.3.64->langchain-openai) (4.14.0)\n",
      "Requirement already satisfied: pydantic>=2.7.4 in /usr/local/lib/python3.11/dist-packages (from langchain-core<1.0.0,>=0.3.64->langchain-openai) (2.11.5)\n",
      "Requirement already satisfied: anyio<5,>=3.5.0 in /usr/local/lib/python3.11/dist-packages (from openai<2.0.0,>=1.68.2->langchain-openai) (4.9.0)\n",
      "Requirement already satisfied: distro<2,>=1.7.0 in /usr/local/lib/python3.11/dist-packages (from openai<2.0.0,>=1.68.2->langchain-openai) (1.9.0)\n",
      "Requirement already satisfied: httpx<1,>=0.23.0 in /usr/local/lib/python3.11/dist-packages (from openai<2.0.0,>=1.68.2->langchain-openai) (0.28.1)\n",
      "Requirement already satisfied: jiter<1,>=0.4.0 in /usr/local/lib/python3.11/dist-packages (from openai<2.0.0,>=1.68.2->langchain-openai) (0.10.0)\n",
      "Requirement already satisfied: sniffio in /usr/local/lib/python3.11/dist-packages (from openai<2.0.0,>=1.68.2->langchain-openai) (1.3.1)\n",
      "Requirement already satisfied: tqdm>4 in /usr/local/lib/python3.11/dist-packages (from openai<2.0.0,>=1.68.2->langchain-openai) (4.67.1)\n",
      "Requirement already satisfied: regex>=2022.1.18 in /usr/local/lib/python3.11/dist-packages (from tiktoken<1,>=0.7->langchain-openai) (2024.11.6)\n",
      "Requirement already satisfied: requests>=2.26.0 in /usr/local/lib/python3.11/dist-packages (from tiktoken<1,>=0.7->langchain-openai) (2.32.3)\n",
      "Requirement already satisfied: idna>=2.8 in /usr/local/lib/python3.11/dist-packages (from anyio<5,>=3.5.0->openai<2.0.0,>=1.68.2->langchain-openai) (3.10)\n",
      "Requirement already satisfied: certifi in /usr/local/lib/python3.11/dist-packages (from httpx<1,>=0.23.0->openai<2.0.0,>=1.68.2->langchain-openai) (2025.4.26)\n",
      "Requirement already satisfied: httpcore==1.* in /usr/local/lib/python3.11/dist-packages (from httpx<1,>=0.23.0->openai<2.0.0,>=1.68.2->langchain-openai) (1.0.9)\n",
      "Requirement already satisfied: h11>=0.16 in /usr/local/lib/python3.11/dist-packages (from httpcore==1.*->httpx<1,>=0.23.0->openai<2.0.0,>=1.68.2->langchain-openai) (0.16.0)\n",
      "Requirement already satisfied: jsonpointer>=1.9 in /usr/local/lib/python3.11/dist-packages (from jsonpatch<2.0,>=1.33->langchain-core<1.0.0,>=0.3.64->langchain-openai) (3.0.0)\n",
      "Requirement already satisfied: orjson<4.0.0,>=3.9.14 in /usr/local/lib/python3.11/dist-packages (from langsmith<0.4,>=0.3.45->langchain-core<1.0.0,>=0.3.64->langchain-openai) (3.10.18)\n",
      "Requirement already satisfied: requests-toolbelt<2.0.0,>=1.0.0 in /usr/local/lib/python3.11/dist-packages (from langsmith<0.4,>=0.3.45->langchain-core<1.0.0,>=0.3.64->langchain-openai) (1.0.0)\n",
      "Requirement already satisfied: zstandard<0.24.0,>=0.23.0 in /usr/local/lib/python3.11/dist-packages (from langsmith<0.4,>=0.3.45->langchain-core<1.0.0,>=0.3.64->langchain-openai) (0.23.0)\n",
      "Requirement already satisfied: annotated-types>=0.6.0 in /usr/local/lib/python3.11/dist-packages (from pydantic>=2.7.4->langchain-core<1.0.0,>=0.3.64->langchain-openai) (0.7.0)\n",
      "Requirement already satisfied: pydantic-core==2.33.2 in /usr/local/lib/python3.11/dist-packages (from pydantic>=2.7.4->langchain-core<1.0.0,>=0.3.64->langchain-openai) (2.33.2)\n",
      "Requirement already satisfied: typing-inspection>=0.4.0 in /usr/local/lib/python3.11/dist-packages (from pydantic>=2.7.4->langchain-core<1.0.0,>=0.3.64->langchain-openai) (0.4.1)\n",
      "Requirement already satisfied: charset-normalizer<4,>=2 in /usr/local/lib/python3.11/dist-packages (from requests>=2.26.0->tiktoken<1,>=0.7->langchain-openai) (3.4.2)\n",
      "Requirement already satisfied: urllib3<3,>=1.21.1 in /usr/local/lib/python3.11/dist-packages (from requests>=2.26.0->tiktoken<1,>=0.7->langchain-openai) (2.4.0)\n",
      "Requirement already satisfied: tiktoken in /usr/local/lib/python3.11/dist-packages (0.9.0)\n",
      "Requirement already satisfied: regex>=2022.1.18 in /usr/local/lib/python3.11/dist-packages (from tiktoken) (2024.11.6)\n",
      "Requirement already satisfied: requests>=2.26.0 in /usr/local/lib/python3.11/dist-packages (from tiktoken) (2.32.3)\n",
      "Requirement already satisfied: charset-normalizer<4,>=2 in /usr/local/lib/python3.11/dist-packages (from requests>=2.26.0->tiktoken) (3.4.2)\n",
      "Requirement already satisfied: idna<4,>=2.5 in /usr/local/lib/python3.11/dist-packages (from requests>=2.26.0->tiktoken) (3.10)\n",
      "Requirement already satisfied: urllib3<3,>=1.21.1 in /usr/local/lib/python3.11/dist-packages (from requests>=2.26.0->tiktoken) (2.4.0)\n",
      "Requirement already satisfied: certifi>=2017.4.17 in /usr/local/lib/python3.11/dist-packages (from requests>=2.26.0->tiktoken) (2025.4.26)\n",
      "Requirement already satisfied: langgraph in /usr/local/lib/python3.11/dist-packages (0.4.8)\n",
      "Requirement already satisfied: langchain-core>=0.1 in /usr/local/lib/python3.11/dist-packages (from langgraph) (0.3.64)\n",
      "Requirement already satisfied: langgraph-checkpoint>=2.0.26 in /usr/local/lib/python3.11/dist-packages (from langgraph) (2.0.26)\n",
      "Requirement already satisfied: langgraph-prebuilt>=0.2.0 in /usr/local/lib/python3.11/dist-packages (from langgraph) (0.2.2)\n",
      "Requirement already satisfied: langgraph-sdk>=0.1.42 in /usr/local/lib/python3.11/dist-packages (from langgraph) (0.1.70)\n",
      "Requirement already satisfied: pydantic>=2.7.4 in /usr/local/lib/python3.11/dist-packages (from langgraph) (2.11.5)\n",
      "Requirement already satisfied: xxhash>=3.5.0 in /usr/local/lib/python3.11/dist-packages (from langgraph) (3.5.0)\n",
      "Requirement already satisfied: langsmith<0.4,>=0.3.45 in /usr/local/lib/python3.11/dist-packages (from langchain-core>=0.1->langgraph) (0.3.45)\n",
      "Requirement already satisfied: tenacity!=8.4.0,<10.0.0,>=8.1.0 in /usr/local/lib/python3.11/dist-packages (from langchain-core>=0.1->langgraph) (9.1.2)\n",
      "Requirement already satisfied: jsonpatch<2.0,>=1.33 in /usr/local/lib/python3.11/dist-packages (from langchain-core>=0.1->langgraph) (1.33)\n",
      "Requirement already satisfied: PyYAML>=5.3 in /usr/local/lib/python3.11/dist-packages (from langchain-core>=0.1->langgraph) (6.0.2)\n",
      "Requirement already satisfied: packaging<25,>=23.2 in /usr/local/lib/python3.11/dist-packages (from langchain-core>=0.1->langgraph) (24.2)\n",
      "Requirement already satisfied: typing-extensions>=4.7 in /usr/local/lib/python3.11/dist-packages (from langchain-core>=0.1->langgraph) (4.14.0)\n",
      "Requirement already satisfied: ormsgpack<2.0.0,>=1.8.0 in /usr/local/lib/python3.11/dist-packages (from langgraph-checkpoint>=2.0.26->langgraph) (1.10.0)\n",
      "Requirement already satisfied: httpx>=0.25.2 in /usr/local/lib/python3.11/dist-packages (from langgraph-sdk>=0.1.42->langgraph) (0.28.1)\n",
      "Requirement already satisfied: orjson>=3.10.1 in /usr/local/lib/python3.11/dist-packages (from langgraph-sdk>=0.1.42->langgraph) (3.10.18)\n",
      "Requirement already satisfied: annotated-types>=0.6.0 in /usr/local/lib/python3.11/dist-packages (from pydantic>=2.7.4->langgraph) (0.7.0)\n",
      "Requirement already satisfied: pydantic-core==2.33.2 in /usr/local/lib/python3.11/dist-packages (from pydantic>=2.7.4->langgraph) (2.33.2)\n",
      "Requirement already satisfied: typing-inspection>=0.4.0 in /usr/local/lib/python3.11/dist-packages (from pydantic>=2.7.4->langgraph) (0.4.1)\n",
      "Requirement already satisfied: anyio in /usr/local/lib/python3.11/dist-packages (from httpx>=0.25.2->langgraph-sdk>=0.1.42->langgraph) (4.9.0)\n",
      "Requirement already satisfied: certifi in /usr/local/lib/python3.11/dist-packages (from httpx>=0.25.2->langgraph-sdk>=0.1.42->langgraph) (2025.4.26)\n",
      "Requirement already satisfied: httpcore==1.* in /usr/local/lib/python3.11/dist-packages (from httpx>=0.25.2->langgraph-sdk>=0.1.42->langgraph) (1.0.9)\n",
      "Requirement already satisfied: idna in /usr/local/lib/python3.11/dist-packages (from httpx>=0.25.2->langgraph-sdk>=0.1.42->langgraph) (3.10)\n",
      "Requirement already satisfied: h11>=0.16 in /usr/local/lib/python3.11/dist-packages (from httpcore==1.*->httpx>=0.25.2->langgraph-sdk>=0.1.42->langgraph) (0.16.0)\n",
      "Requirement already satisfied: jsonpointer>=1.9 in /usr/local/lib/python3.11/dist-packages (from jsonpatch<2.0,>=1.33->langchain-core>=0.1->langgraph) (3.0.0)\n",
      "Requirement already satisfied: requests<3,>=2 in /usr/local/lib/python3.11/dist-packages (from langsmith<0.4,>=0.3.45->langchain-core>=0.1->langgraph) (2.32.3)\n",
      "Requirement already satisfied: requests-toolbelt<2.0.0,>=1.0.0 in /usr/local/lib/python3.11/dist-packages (from langsmith<0.4,>=0.3.45->langchain-core>=0.1->langgraph) (1.0.0)\n",
      "Requirement already satisfied: zstandard<0.24.0,>=0.23.0 in /usr/local/lib/python3.11/dist-packages (from langsmith<0.4,>=0.3.45->langchain-core>=0.1->langgraph) (0.23.0)\n",
      "Requirement already satisfied: charset-normalizer<4,>=2 in /usr/local/lib/python3.11/dist-packages (from requests<3,>=2->langsmith<0.4,>=0.3.45->langchain-core>=0.1->langgraph) (3.4.2)\n",
      "Requirement already satisfied: urllib3<3,>=1.21.1 in /usr/local/lib/python3.11/dist-packages (from requests<3,>=2->langsmith<0.4,>=0.3.45->langchain-core>=0.1->langgraph) (2.4.0)\n",
      "Requirement already satisfied: sniffio>=1.1 in /usr/local/lib/python3.11/dist-packages (from anyio->httpx>=0.25.2->langgraph-sdk>=0.1.42->langgraph) (1.3.1)\n",
      "Requirement already satisfied: langchain in /usr/local/lib/python3.11/dist-packages (0.3.25)\n",
      "Requirement already satisfied: langchain-core<1.0.0,>=0.3.58 in /usr/local/lib/python3.11/dist-packages (from langchain) (0.3.64)\n",
      "Requirement already satisfied: langchain-text-splitters<1.0.0,>=0.3.8 in /usr/local/lib/python3.11/dist-packages (from langchain) (0.3.8)\n",
      "Requirement already satisfied: langsmith<0.4,>=0.1.17 in /usr/local/lib/python3.11/dist-packages (from langchain) (0.3.45)\n",
      "Requirement already satisfied: pydantic<3.0.0,>=2.7.4 in /usr/local/lib/python3.11/dist-packages (from langchain) (2.11.5)\n",
      "Requirement already satisfied: SQLAlchemy<3,>=1.4 in /usr/local/lib/python3.11/dist-packages (from langchain) (2.0.41)\n",
      "Requirement already satisfied: requests<3,>=2 in /usr/local/lib/python3.11/dist-packages (from langchain) (2.32.3)\n",
      "Requirement already satisfied: PyYAML>=5.3 in /usr/local/lib/python3.11/dist-packages (from langchain) (6.0.2)\n",
      "Requirement already satisfied: tenacity!=8.4.0,<10.0.0,>=8.1.0 in /usr/local/lib/python3.11/dist-packages (from langchain-core<1.0.0,>=0.3.58->langchain) (9.1.2)\n",
      "Requirement already satisfied: jsonpatch<2.0,>=1.33 in /usr/local/lib/python3.11/dist-packages (from langchain-core<1.0.0,>=0.3.58->langchain) (1.33)\n",
      "Requirement already satisfied: packaging<25,>=23.2 in /usr/local/lib/python3.11/dist-packages (from langchain-core<1.0.0,>=0.3.58->langchain) (24.2)\n",
      "Requirement already satisfied: typing-extensions>=4.7 in /usr/local/lib/python3.11/dist-packages (from langchain-core<1.0.0,>=0.3.58->langchain) (4.14.0)\n",
      "Requirement already satisfied: httpx<1,>=0.23.0 in /usr/local/lib/python3.11/dist-packages (from langsmith<0.4,>=0.1.17->langchain) (0.28.1)\n",
      "Requirement already satisfied: orjson<4.0.0,>=3.9.14 in /usr/local/lib/python3.11/dist-packages (from langsmith<0.4,>=0.1.17->langchain) (3.10.18)\n",
      "Requirement already satisfied: requests-toolbelt<2.0.0,>=1.0.0 in /usr/local/lib/python3.11/dist-packages (from langsmith<0.4,>=0.1.17->langchain) (1.0.0)\n",
      "Requirement already satisfied: zstandard<0.24.0,>=0.23.0 in /usr/local/lib/python3.11/dist-packages (from langsmith<0.4,>=0.1.17->langchain) (0.23.0)\n",
      "Requirement already satisfied: annotated-types>=0.6.0 in /usr/local/lib/python3.11/dist-packages (from pydantic<3.0.0,>=2.7.4->langchain) (0.7.0)\n",
      "Requirement already satisfied: pydantic-core==2.33.2 in /usr/local/lib/python3.11/dist-packages (from pydantic<3.0.0,>=2.7.4->langchain) (2.33.2)\n",
      "Requirement already satisfied: typing-inspection>=0.4.0 in /usr/local/lib/python3.11/dist-packages (from pydantic<3.0.0,>=2.7.4->langchain) (0.4.1)\n",
      "Requirement already satisfied: charset-normalizer<4,>=2 in /usr/local/lib/python3.11/dist-packages (from requests<3,>=2->langchain) (3.4.2)\n",
      "Requirement already satisfied: idna<4,>=2.5 in /usr/local/lib/python3.11/dist-packages (from requests<3,>=2->langchain) (3.10)\n",
      "Requirement already satisfied: urllib3<3,>=1.21.1 in /usr/local/lib/python3.11/dist-packages (from requests<3,>=2->langchain) (2.4.0)\n",
      "Requirement already satisfied: certifi>=2017.4.17 in /usr/local/lib/python3.11/dist-packages (from requests<3,>=2->langchain) (2025.4.26)\n",
      "Requirement already satisfied: greenlet>=1 in /usr/local/lib/python3.11/dist-packages (from SQLAlchemy<3,>=1.4->langchain) (3.2.2)\n",
      "Requirement already satisfied: anyio in /usr/local/lib/python3.11/dist-packages (from httpx<1,>=0.23.0->langsmith<0.4,>=0.1.17->langchain) (4.9.0)\n",
      "Requirement already satisfied: httpcore==1.* in /usr/local/lib/python3.11/dist-packages (from httpx<1,>=0.23.0->langsmith<0.4,>=0.1.17->langchain) (1.0.9)\n",
      "Requirement already satisfied: h11>=0.16 in /usr/local/lib/python3.11/dist-packages (from httpcore==1.*->httpx<1,>=0.23.0->langsmith<0.4,>=0.1.17->langchain) (0.16.0)\n",
      "Requirement already satisfied: jsonpointer>=1.9 in /usr/local/lib/python3.11/dist-packages (from jsonpatch<2.0,>=1.33->langchain-core<1.0.0,>=0.3.58->langchain) (3.0.0)\n",
      "Requirement already satisfied: sniffio>=1.1 in /usr/local/lib/python3.11/dist-packages (from anyio->httpx<1,>=0.23.0->langsmith<0.4,>=0.1.17->langchain) (1.3.1)\n",
      "Requirement already satisfied: langchain-openai in /usr/local/lib/python3.11/dist-packages (0.3.21)\n",
      "Requirement already satisfied: langchain-core<1.0.0,>=0.3.64 in /usr/local/lib/python3.11/dist-packages (from langchain-openai) (0.3.64)\n",
      "Requirement already satisfied: openai<2.0.0,>=1.68.2 in /usr/local/lib/python3.11/dist-packages (from langchain-openai) (1.85.0)\n",
      "Requirement already satisfied: tiktoken<1,>=0.7 in /usr/local/lib/python3.11/dist-packages (from langchain-openai) (0.9.0)\n",
      "Requirement already satisfied: langsmith<0.4,>=0.3.45 in /usr/local/lib/python3.11/dist-packages (from langchain-core<1.0.0,>=0.3.64->langchain-openai) (0.3.45)\n",
      "Requirement already satisfied: tenacity!=8.4.0,<10.0.0,>=8.1.0 in /usr/local/lib/python3.11/dist-packages (from langchain-core<1.0.0,>=0.3.64->langchain-openai) (9.1.2)\n",
      "Requirement already satisfied: jsonpatch<2.0,>=1.33 in /usr/local/lib/python3.11/dist-packages (from langchain-core<1.0.0,>=0.3.64->langchain-openai) (1.33)\n",
      "Requirement already satisfied: PyYAML>=5.3 in /usr/local/lib/python3.11/dist-packages (from langchain-core<1.0.0,>=0.3.64->langchain-openai) (6.0.2)\n",
      "Requirement already satisfied: packaging<25,>=23.2 in /usr/local/lib/python3.11/dist-packages (from langchain-core<1.0.0,>=0.3.64->langchain-openai) (24.2)\n",
      "Requirement already satisfied: typing-extensions>=4.7 in /usr/local/lib/python3.11/dist-packages (from langchain-core<1.0.0,>=0.3.64->langchain-openai) (4.14.0)\n",
      "Requirement already satisfied: pydantic>=2.7.4 in /usr/local/lib/python3.11/dist-packages (from langchain-core<1.0.0,>=0.3.64->langchain-openai) (2.11.5)\n",
      "Requirement already satisfied: anyio<5,>=3.5.0 in /usr/local/lib/python3.11/dist-packages (from openai<2.0.0,>=1.68.2->langchain-openai) (4.9.0)\n",
      "Requirement already satisfied: distro<2,>=1.7.0 in /usr/local/lib/python3.11/dist-packages (from openai<2.0.0,>=1.68.2->langchain-openai) (1.9.0)\n",
      "Requirement already satisfied: httpx<1,>=0.23.0 in /usr/local/lib/python3.11/dist-packages (from openai<2.0.0,>=1.68.2->langchain-openai) (0.28.1)\n",
      "Requirement already satisfied: jiter<1,>=0.4.0 in /usr/local/lib/python3.11/dist-packages (from openai<2.0.0,>=1.68.2->langchain-openai) (0.10.0)\n",
      "Requirement already satisfied: sniffio in /usr/local/lib/python3.11/dist-packages (from openai<2.0.0,>=1.68.2->langchain-openai) (1.3.1)\n",
      "Requirement already satisfied: tqdm>4 in /usr/local/lib/python3.11/dist-packages (from openai<2.0.0,>=1.68.2->langchain-openai) (4.67.1)\n",
      "Requirement already satisfied: regex>=2022.1.18 in /usr/local/lib/python3.11/dist-packages (from tiktoken<1,>=0.7->langchain-openai) (2024.11.6)\n",
      "Requirement already satisfied: requests>=2.26.0 in /usr/local/lib/python3.11/dist-packages (from tiktoken<1,>=0.7->langchain-openai) (2.32.3)\n",
      "Requirement already satisfied: idna>=2.8 in /usr/local/lib/python3.11/dist-packages (from anyio<5,>=3.5.0->openai<2.0.0,>=1.68.2->langchain-openai) (3.10)\n",
      "Requirement already satisfied: certifi in /usr/local/lib/python3.11/dist-packages (from httpx<1,>=0.23.0->openai<2.0.0,>=1.68.2->langchain-openai) (2025.4.26)\n",
      "Requirement already satisfied: httpcore==1.* in /usr/local/lib/python3.11/dist-packages (from httpx<1,>=0.23.0->openai<2.0.0,>=1.68.2->langchain-openai) (1.0.9)\n",
      "Requirement already satisfied: h11>=0.16 in /usr/local/lib/python3.11/dist-packages (from httpcore==1.*->httpx<1,>=0.23.0->openai<2.0.0,>=1.68.2->langchain-openai) (0.16.0)\n",
      "Requirement already satisfied: jsonpointer>=1.9 in /usr/local/lib/python3.11/dist-packages (from jsonpatch<2.0,>=1.33->langchain-core<1.0.0,>=0.3.64->langchain-openai) (3.0.0)\n",
      "Requirement already satisfied: orjson<4.0.0,>=3.9.14 in /usr/local/lib/python3.11/dist-packages (from langsmith<0.4,>=0.3.45->langchain-core<1.0.0,>=0.3.64->langchain-openai) (3.10.18)\n",
      "Requirement already satisfied: requests-toolbelt<2.0.0,>=1.0.0 in /usr/local/lib/python3.11/dist-packages (from langsmith<0.4,>=0.3.45->langchain-core<1.0.0,>=0.3.64->langchain-openai) (1.0.0)\n",
      "Requirement already satisfied: zstandard<0.24.0,>=0.23.0 in /usr/local/lib/python3.11/dist-packages (from langsmith<0.4,>=0.3.45->langchain-core<1.0.0,>=0.3.64->langchain-openai) (0.23.0)\n",
      "Requirement already satisfied: annotated-types>=0.6.0 in /usr/local/lib/python3.11/dist-packages (from pydantic>=2.7.4->langchain-core<1.0.0,>=0.3.64->langchain-openai) (0.7.0)\n",
      "Requirement already satisfied: pydantic-core==2.33.2 in /usr/local/lib/python3.11/dist-packages (from pydantic>=2.7.4->langchain-core<1.0.0,>=0.3.64->langchain-openai) (2.33.2)\n",
      "Requirement already satisfied: typing-inspection>=0.4.0 in /usr/local/lib/python3.11/dist-packages (from pydantic>=2.7.4->langchain-core<1.0.0,>=0.3.64->langchain-openai) (0.4.1)\n",
      "Requirement already satisfied: charset-normalizer<4,>=2 in /usr/local/lib/python3.11/dist-packages (from requests>=2.26.0->tiktoken<1,>=0.7->langchain-openai) (3.4.2)\n",
      "Requirement already satisfied: urllib3<3,>=1.21.1 in /usr/local/lib/python3.11/dist-packages (from requests>=2.26.0->tiktoken<1,>=0.7->langchain-openai) (2.4.0)\n",
      "Requirement already satisfied: langchain_community in /usr/local/lib/python3.11/dist-packages (0.3.24)\n",
      "Requirement already satisfied: langchain-core<1.0.0,>=0.3.59 in /usr/local/lib/python3.11/dist-packages (from langchain_community) (0.3.64)\n",
      "Requirement already satisfied: langchain<1.0.0,>=0.3.25 in /usr/local/lib/python3.11/dist-packages (from langchain_community) (0.3.25)\n",
      "Requirement already satisfied: SQLAlchemy<3,>=1.4 in /usr/local/lib/python3.11/dist-packages (from langchain_community) (2.0.41)\n",
      "Requirement already satisfied: requests<3,>=2 in /usr/local/lib/python3.11/dist-packages (from langchain_community) (2.32.3)\n",
      "Requirement already satisfied: PyYAML>=5.3 in /usr/local/lib/python3.11/dist-packages (from langchain_community) (6.0.2)\n",
      "Requirement already satisfied: aiohttp<4.0.0,>=3.8.3 in /usr/local/lib/python3.11/dist-packages (from langchain_community) (3.11.15)\n",
      "Requirement already satisfied: tenacity!=8.4.0,<10,>=8.1.0 in /usr/local/lib/python3.11/dist-packages (from langchain_community) (9.1.2)\n",
      "Requirement already satisfied: dataclasses-json<0.7,>=0.5.7 in /usr/local/lib/python3.11/dist-packages (from langchain_community) (0.6.7)\n",
      "Requirement already satisfied: pydantic-settings<3.0.0,>=2.4.0 in /usr/local/lib/python3.11/dist-packages (from langchain_community) (2.9.1)\n",
      "Requirement already satisfied: langsmith<0.4,>=0.1.125 in /usr/local/lib/python3.11/dist-packages (from langchain_community) (0.3.45)\n",
      "Requirement already satisfied: httpx-sse<1.0.0,>=0.4.0 in /usr/local/lib/python3.11/dist-packages (from langchain_community) (0.4.0)\n",
      "Requirement already satisfied: numpy>=1.26.2 in /usr/local/lib/python3.11/dist-packages (from langchain_community) (2.0.2)\n",
      "Requirement already satisfied: aiohappyeyeballs>=2.3.0 in /usr/local/lib/python3.11/dist-packages (from aiohttp<4.0.0,>=3.8.3->langchain_community) (2.6.1)\n",
      "Requirement already satisfied: aiosignal>=1.1.2 in /usr/local/lib/python3.11/dist-packages (from aiohttp<4.0.0,>=3.8.3->langchain_community) (1.3.2)\n",
      "Requirement already satisfied: attrs>=17.3.0 in /usr/local/lib/python3.11/dist-packages (from aiohttp<4.0.0,>=3.8.3->langchain_community) (25.3.0)\n",
      "Requirement already satisfied: frozenlist>=1.1.1 in /usr/local/lib/python3.11/dist-packages (from aiohttp<4.0.0,>=3.8.3->langchain_community) (1.6.0)\n",
      "Requirement already satisfied: multidict<7.0,>=4.5 in /usr/local/lib/python3.11/dist-packages (from aiohttp<4.0.0,>=3.8.3->langchain_community) (6.4.4)\n",
      "Requirement already satisfied: propcache>=0.2.0 in /usr/local/lib/python3.11/dist-packages (from aiohttp<4.0.0,>=3.8.3->langchain_community) (0.3.1)\n",
      "Requirement already satisfied: yarl<2.0,>=1.17.0 in /usr/local/lib/python3.11/dist-packages (from aiohttp<4.0.0,>=3.8.3->langchain_community) (1.20.0)\n",
      "Requirement already satisfied: marshmallow<4.0.0,>=3.18.0 in /usr/local/lib/python3.11/dist-packages (from dataclasses-json<0.7,>=0.5.7->langchain_community) (3.26.1)\n",
      "Requirement already satisfied: typing-inspect<1,>=0.4.0 in /usr/local/lib/python3.11/dist-packages (from dataclasses-json<0.7,>=0.5.7->langchain_community) (0.9.0)\n",
      "Requirement already satisfied: langchain-text-splitters<1.0.0,>=0.3.8 in /usr/local/lib/python3.11/dist-packages (from langchain<1.0.0,>=0.3.25->langchain_community) (0.3.8)\n",
      "Requirement already satisfied: pydantic<3.0.0,>=2.7.4 in /usr/local/lib/python3.11/dist-packages (from langchain<1.0.0,>=0.3.25->langchain_community) (2.11.5)\n",
      "Requirement already satisfied: jsonpatch<2.0,>=1.33 in /usr/local/lib/python3.11/dist-packages (from langchain-core<1.0.0,>=0.3.59->langchain_community) (1.33)\n",
      "Requirement already satisfied: packaging<25,>=23.2 in /usr/local/lib/python3.11/dist-packages (from langchain-core<1.0.0,>=0.3.59->langchain_community) (24.2)\n",
      "Requirement already satisfied: typing-extensions>=4.7 in /usr/local/lib/python3.11/dist-packages (from langchain-core<1.0.0,>=0.3.59->langchain_community) (4.14.0)\n",
      "Requirement already satisfied: httpx<1,>=0.23.0 in /usr/local/lib/python3.11/dist-packages (from langsmith<0.4,>=0.1.125->langchain_community) (0.28.1)\n",
      "Requirement already satisfied: orjson<4.0.0,>=3.9.14 in /usr/local/lib/python3.11/dist-packages (from langsmith<0.4,>=0.1.125->langchain_community) (3.10.18)\n",
      "Requirement already satisfied: requests-toolbelt<2.0.0,>=1.0.0 in /usr/local/lib/python3.11/dist-packages (from langsmith<0.4,>=0.1.125->langchain_community) (1.0.0)\n",
      "Requirement already satisfied: zstandard<0.24.0,>=0.23.0 in /usr/local/lib/python3.11/dist-packages (from langsmith<0.4,>=0.1.125->langchain_community) (0.23.0)\n",
      "Requirement already satisfied: python-dotenv>=0.21.0 in /usr/local/lib/python3.11/dist-packages (from pydantic-settings<3.0.0,>=2.4.0->langchain_community) (1.1.0)\n",
      "Requirement already satisfied: typing-inspection>=0.4.0 in /usr/local/lib/python3.11/dist-packages (from pydantic-settings<3.0.0,>=2.4.0->langchain_community) (0.4.1)\n",
      "Requirement already satisfied: charset-normalizer<4,>=2 in /usr/local/lib/python3.11/dist-packages (from requests<3,>=2->langchain_community) (3.4.2)\n",
      "Requirement already satisfied: idna<4,>=2.5 in /usr/local/lib/python3.11/dist-packages (from requests<3,>=2->langchain_community) (3.10)\n",
      "Requirement already satisfied: urllib3<3,>=1.21.1 in /usr/local/lib/python3.11/dist-packages (from requests<3,>=2->langchain_community) (2.4.0)\n",
      "Requirement already satisfied: certifi>=2017.4.17 in /usr/local/lib/python3.11/dist-packages (from requests<3,>=2->langchain_community) (2025.4.26)\n",
      "Requirement already satisfied: greenlet>=1 in /usr/local/lib/python3.11/dist-packages (from SQLAlchemy<3,>=1.4->langchain_community) (3.2.2)\n",
      "Requirement already satisfied: anyio in /usr/local/lib/python3.11/dist-packages (from httpx<1,>=0.23.0->langsmith<0.4,>=0.1.125->langchain_community) (4.9.0)\n",
      "Requirement already satisfied: httpcore==1.* in /usr/local/lib/python3.11/dist-packages (from httpx<1,>=0.23.0->langsmith<0.4,>=0.1.125->langchain_community) (1.0.9)\n",
      "Requirement already satisfied: h11>=0.16 in /usr/local/lib/python3.11/dist-packages (from httpcore==1.*->httpx<1,>=0.23.0->langsmith<0.4,>=0.1.125->langchain_community) (0.16.0)\n",
      "Requirement already satisfied: jsonpointer>=1.9 in /usr/local/lib/python3.11/dist-packages (from jsonpatch<2.0,>=1.33->langchain-core<1.0.0,>=0.3.59->langchain_community) (3.0.0)\n",
      "Requirement already satisfied: annotated-types>=0.6.0 in /usr/local/lib/python3.11/dist-packages (from pydantic<3.0.0,>=2.7.4->langchain<1.0.0,>=0.3.25->langchain_community) (0.7.0)\n",
      "Requirement already satisfied: pydantic-core==2.33.2 in /usr/local/lib/python3.11/dist-packages (from pydantic<3.0.0,>=2.7.4->langchain<1.0.0,>=0.3.25->langchain_community) (2.33.2)\n",
      "Requirement already satisfied: mypy-extensions>=0.3.0 in /usr/local/lib/python3.11/dist-packages (from typing-inspect<1,>=0.4.0->dataclasses-json<0.7,>=0.5.7->langchain_community) (1.1.0)\n",
      "Requirement already satisfied: sniffio>=1.1 in /usr/local/lib/python3.11/dist-packages (from anyio->httpx<1,>=0.23.0->langsmith<0.4,>=0.1.125->langchain_community) (1.3.1)\n"
     ]
    }
   ],
   "source": [
    "!pip install -U datasets huggingface_hub fsspec\n",
    "!pip install --upgrade openai\n",
    "!pip install langchain-openai\n",
    "!pip install tiktoken\n",
    "!pip install langgraph\n",
    "!pip install langchain\n",
    "!pip install langchain-openai\n",
    "!pip install langchain_community"
   ]
  },
  {
   "cell_type": "code",
   "execution_count": null,
   "metadata": {
    "id": "ZWpjBUQO6E5X"
   },
   "outputs": [],
   "source": [
    "from huggingface_hub import login\n",
    "import os\n",
    "\n",
    "login(\n",
    "  token=os.getenv(\"HF_TOKEN\"), # ADD YOUR TOKEN HERE\n",
    "  add_to_git_credential=True\n",
    ")\n"
   ]
  },
  {
   "cell_type": "markdown",
   "metadata": {
    "id": "z6aH3B2fvX-T"
   },
   "source": [
    "## 내 데이터 가져오기"
   ]
  },
  {
   "cell_type": "code",
   "execution_count": null,
   "metadata": {
    "id": "jWXHXw0ohwSI"
   },
   "outputs": [],
   "source": [
    "# SFT를 위한 학습데이터 로드하고 messages 형식으로 변환하기"
   ]
  },
  {
   "cell_type": "code",
   "execution_count": null,
   "metadata": {
    "id": "WLxHCRS3lz_Y"
   },
   "outputs": [],
   "source": [
    "from langchain_openai import ChatOpenAI\n",
    "from langchain.prompts import PromptTemplate\n",
    "from langchain.chains import LLMChain\n",
    "from langchain.chains import LLMChain\n",
    "\n",
    "system_prompt = \"\"\"\n",
    "    A conversation between User and Assistant. The user asks a question, and the Assistant solves it.\n",
    "    The assistant first thinks about the reasoning process in the mind and then provides the user with the answer.\n",
    "    The reasoning process and answer are enclosed within <begin_of_thought><end_of_thought> and <begin_of_solution><end_of_solution> tags,\n",
    "    respectively, i.e., <begin_of_thought>reasoning process here<end_of_thought><begin_of_solution>answer here<end_of_solution>.\n",
    "    \"\"\"\n",
    "\n",
    "user_prompt = PromptTemplate(\n",
    "    template=\"\"\"\n",
    "    Please conduct an accessibility evaluation of the provided image and related HTML snippet.\n",
    "\n",
    "    HTML Code: {html}\n",
    "    \"\"\",\n",
    "    input_variables=[\"html\"],\n",
    "    )\n",
    "\n",
    "assistant_prompt = PromptTemplate(\n",
    "    template=\"\"\"\n",
    "<|begin_of_thought|>\n",
    "{rationale}\n",
    "<|end_of_thought|>\n",
    "\n",
    "<|begin_of_solution|>\n",
    "[평가 요소]: {eval_items}\n",
    "[평가 근거]: {eval_reason}\n",
    "[개선 방안]:\n",
    "{plan}\n",
    "<|end_of_solution|>\n",
    "\"\"\",\n",
    "    input_variables=[\"rationale\", \"eval_items\", \"eval_reason\", \"plan\"]\n",
    ")\n",
    "\n",
    "\n",
    "def assistant_prompts(outputs):\n",
    "    prompt = ''\n",
    "    for output in outputs:\n",
    "        prompt += assistant_prompt.format(\n",
    "            rationale=output[\"rationale\"],\n",
    "            eval_items=output[\"eval_items\"],\n",
    "            eval_reason=output[\"eval_reason\"],\n",
    "            plan=output[\"plan\"]\n",
    "        ) + \"\\n\\n\"\n",
    "    return \"<|im_start|>system\\n\" + prompt.strip() + \"\\n<|im_end|>\""
   ]
  },
  {
   "cell_type": "code",
   "execution_count": null,
   "metadata": {
    "colab": {
     "base_uri": "https://localhost:8080/"
    },
    "executionInfo": {
     "elapsed": 5552,
     "status": "ok",
     "timestamp": 1749531086860,
     "user": {
      "displayName": "최두성",
      "userId": "08438271081794727685"
     },
     "user_tz": -540
    },
    "id": "YNV0er6CWRTx",
    "outputId": "230a4826-c2af-47d5-8646-7342f8bf6f6f"
   },
   "outputs": [
    {
     "name": "stderr",
     "output_type": "stream",
     "text": [
      "/usr/local/lib/python3.11/dist-packages/huggingface_hub/utils/_auth.py:94: UserWarning: \n",
      "The secret `HF_TOKEN` does not exist in your Colab secrets.\n",
      "To authenticate with the Hugging Face Hub, create a token in your settings tab (https://huggingface.co/settings/tokens), set it as secret in your Google Colab and restart your session.\n",
      "You will be able to reuse this secret in all of your notebooks.\n",
      "Please note that authentication is recommended but still optional to access public models or datasets.\n",
      "  warnings.warn(\n"
     ]
    }
   ],
   "source": [
    "from datasets import load_dataset\n",
    "\n",
    "\n",
    "#Convert dataset to OAI messages\n",
    "def format_data(sample):\n",
    "  return {\"messages\": [\n",
    "              {\n",
    "                  \"role\": \"system\",\n",
    "                  \"content\": [{\"type\": \"text\", \"text\": system_prompt}],\n",
    "              },\n",
    "              {\"role\": \"user\",\n",
    "                         \"content\": [{\n",
    "                             \"type\": \"text\",\n",
    "                             \"text\": user_prompt.format(html=sample[\"html\"]),\n",
    "                         },\n",
    "                         {\n",
    "                             \"type\": \"image\", \"image\": sample[\"image\"]\n",
    "                         }\n",
    "                  ],\n",
    "              },\n",
    "              {\"role\": \"assistant\",\n",
    "                         \"content\": [{\n",
    "                             \"type\": \"text\",\n",
    "                             \"text\": assistant_prompts(sample[\"output\"])\n",
    "                         }],\n",
    "              },\n",
    "          ],\n",
    "      }\n",
    "\n",
    "dataset_id = \"doodoo77/For_VLM_accessibility\"\n",
    "dataset = load_dataset(dataset_id, split=\"train\")\n",
    "\n",
    "dataset = [format_data(sample) for sample in dataset]"
   ]
  },
  {
   "cell_type": "code",
   "execution_count": null,
   "metadata": {
    "colab": {
     "base_uri": "https://localhost:8080/"
    },
    "collapsed": true,
    "executionInfo": {
     "elapsed": 9,
     "status": "ok",
     "timestamp": 1749531086884,
     "user": {
      "displayName": "최두성",
      "userId": "08438271081794727685"
     },
     "user_tz": -540
    },
    "id": "0pdtbdj3Fz9Q",
    "outputId": "47843588-df40-43dc-e572-00aba1e9967d"
   },
   "outputs": [
    {
     "data": {
      "text/plain": [
       "{'messages': [{'role': 'system',\n",
       "   'content': [{'type': 'text',\n",
       "     'text': '\\n    A conversation between User and Assistant. The user asks a question, and the Assistant solves it.\\n    The assistant first thinks about the reasoning process in the mind and then provides the user with the answer.\\n    The reasoning process and answer are enclosed within <begin_of_thought><end_of_thought> and <begin_of_solution><end_of_solution> tags,\\n    respectively, i.e., <begin_of_thought>reasoning process here<end_of_thought><begin_of_solution>answer here<end_of_solution>.\\n    '}]},\n",
       "  {'role': 'user',\n",
       "   'content': [{'type': 'text',\n",
       "     'text': '\\n    Please conduct an accessibility evaluation of the provided image and related HTML snippet.\\n\\n    HTML Code: <img alt=\"교실 배경 이미지\" class=\"bg\" src=\"../img/custom/grade5/p5_l4_bg.png\">\\n<img alt=\"양갈래 검정 머리 여자아이\" src=\"../img/custom/grade5/p5_l4_01.png\">\\n<img alt=\"양갈래 검정 머리 여자아이\" class=\"hover\" src=\"../img/custom/grade5/p5_l4_01_h.png\">\\n<img alt=\"노란머리 남자아이\" src=\"../img/custom/grade5/p5_l4_02.png\">\\n<img alt=\"노란머리 남자아이\" class=\"hover\" src=\"../img/custom/grade5/p5_l4_02_h.png\">\\n<img alt=\"검정 단발머리 여자아이\" src=\"../img/custom/grade5/p5_l4_03.png\">\\n<img alt=\"검정 단발머리 여자아이\" class=\"hover\" src=\"../img/custom/grade5/p5_l4_03_h.png\">\\n<img alt=\"갈색머리 남자아이\" src=\"../img/custom/grade5/p5_l4_04.png\">\\n<img alt=\"갈색머리 남자아이\" class=\"hover\" src=\"../img/custom/grade5/p5_l4_04_h.png\">\\n<img alt=\"양갈래 주황머리 여자아이\" src=\"../img/custom/grade5/p5_l4_05.png\">\\n<img alt=\"양갈래 주황머리 여자아이\" class=\"hover\" src=\"../img/custom/grade5/p5_l4_05_h.png\">\\n<img alt=\"검정머리 남자아이\" src=\"../img/custom/grade5/p5_l4_06.png\">\\n<img alt=\"검정머리 남자아이\" class=\"hover\" src=\"../img/custom/grade5/p5_l4_06_h.png\">\\n<img alt=\"카키색머리 여자아이\" src=\"../img/custom/grade5/p5_l4_07.png\">\\n<img alt=\"카키색머리 여자아이\" class=\"hover\" src=\"../img/custom/grade5/p5_l4_07_h.png\">\\n<img alt=\"화자 A\" src=\"../img/custom/grade5/p5_l4_profile01.png\">\\n<img alt=\"핑크색 말풍선 꼬리 아이콘 이미지\" class=\"tail\" src=\"../img/custom/bubble_tail_pink_new.png\">\\n<img alt=\"음량 아이콘 이미지\" class=\"ico_sound\" src=\"../img/custom/ico_sound.png\">\\n<img alt=\"음량 모션 이미지\" class=\"ico_playing\" src=\"../img/custom/playing.gif\">\\n<img alt=\"화자 B\" src=\"../img/custom/grade5/p5_l4_profile02.png\">\\n<img alt=\"초록색 말풍선 꼬리 아이콘 이미지\" class=\"tail\" src=\"../img/custom/bubble_tail_green_new.png\">\\n<img alt=\"음량 아이콘 이미지\" class=\"ico_sound\" src=\"../img/custom/ico_sound.png\">\\n<img alt=\"음량 모션 이미지\" class=\"ico_playing\" src=\"../img/custom/playing.gif\">\\n    '},\n",
       "    {'type': 'image',\n",
       "     'image': <PIL.PngImagePlugin.PngImageFile image mode=RGBA size=1300x731>}]},\n",
       "  {'role': 'assisstant',\n",
       "   'content': [{'type': 'text',\n",
       "     'text': '<|im_start|>system\\n<|begin_of_thought|>\\nThe accessibility issue identified in the evaluation pertains to the use of insufficiently descriptive alt text for images representing characters in a learning context. Specifically, the images labeled as \"화자 A\" and \"화자 B\" are used in a scenario where characters have distinct roles, such as a teacher and a student, which are crucial for understanding the context of the educational content.\\n\\n1. **Visual Interpretation**: The screenshot likely depicts a classroom setting with various characters, each playing a specific role. The characters \"화자 A\" and \"화자 B\" are part of this scene, and their roles are essential for conveying the educational interaction between a teacher and a student.\\n\\n2. **HTML Snippet Analysis**: The HTML snippet shows that the images for \"화자 A\" and \"화자 B\" have alt attributes with generic labels. The alt text \"화자 A\" and \"화자 B\" do not provide meaningful descriptions of the characters\\' roles or the context in which they appear.\\n\\n3. **Comparison of Visual Intent and HTML Implementation**: The visual intent is to depict a teacher-student interaction, which is a critical part of the educational content. However, the HTML implementation fails to convey this context through the alt text. The alt text should reflect the specific roles of the characters, such as \"노란머리 선생님\" (Yellow-haired Teacher) and \"노란머리 남자아이\" (Yellow-haired Boy), to provide equivalent information to users who rely on screen readers.\\n\\n4. **Guideline Reference**: This issue aligns with WCAG 2.1, specifically under the guideline for providing text alternatives for non-text content (Success Criterion 1.1.1). The error type can be linked to the need for descriptive alt text that conveys the same information as the visual content.\\n\\n5. **Impact on Accessibility**: The current implementation impacts accessibility by not providing screen reader users with the necessary context to understand the educational interaction. Without descriptive alt text, users may miss out on the critical roles these characters play, which is essential for comprehending the learning material.\\n\\nIn summary, the alt text for \"화자 A\" and \"화자 B\" should be revised to include specific descriptions of their roles to ensure that all users, including those using screen readers, receive the same level of information and context as sighted users.\\n<|end_of_thought|>\\n\\n<|begin_of_solution|>\\n[평가 요소]: 화자 A, 화자 B\\n[평가 근거]: ‘선생님’, ‘남자아이’ 등 캐릭터의 역할이 명확히 구분된 상황에서, 단순히 \"화자 A\"와 같은 대체 텍스트는 현재 학습 중인 교사가 학생에게 교육을 제공하고 있다는 맥락을 충분히 전달하지 못합니다. 따라서, 이미지가 전달하려는 정보와 동등한 수준의 의미를 담은 설명을 대체 텍스트로 제공해야 합니다.\\n[개선 방안]:\\n\\n                      <div class=\"profile\">\\n                          <img alt=\"노란머리 선생님\" \\t\\t  \\t  src=\"../img/custom/grade5/p5_l4_profile01.png\">\\n                      </div>\\n\\n                      <div class=\"profile\">\\n                          <img alt=\"노란머리 남자아이\" src=\"../img/custom/grade5/p5_l4_profile03.png\">\\n                      </div>\\n                    \\n<|end_of_solution|>\\n\\n\\n\\n<|begin_of_thought|>\\nThe accessibility issue identified in the evaluation pertains to the use of alt text for the image described as \"교실 배경 이미지\" (classroom background image). The visual structure of the user interface, as depicted in the screenshot, shows that this image serves as a background element, which is typically decorative and not essential for understanding the content or functionality of the page. \\n\\nUpon inspecting the HTML snippet, the image is implemented using an `<img>` tag with an alt attribute set to \"교실 배경 이미지.\" While the alt attribute is intended to provide a text alternative for images, in this case, the description includes the word \"이미지\" (image), which is redundant because the `<img>` tag inherently indicates that the element is an image. This redundancy can lead to screen readers reading the word \"image\" twice, once from the tag and once from the alt text, which can be confusing or annoying for users relying on assistive technologies.\\n\\nAccording to WCAG guidelines, specifically error type 1-1, decorative images should have an empty alt attribute (alt=\"\") to ensure they are ignored by screen readers, as they do not convey meaningful content. The current implementation fails to meet this guideline because it provides a non-empty alt text for a decorative image, which unnecessarily exposes it to screen readers. This can impact accessibility by cluttering the auditory experience for users who rely on screen readers, making it harder for them to focus on the meaningful content of the page.\\n\\nIn summary, the issue was correctly identified because the alt text for a decorative image should be empty to prevent screen readers from reading unnecessary information, thereby improving the overall accessibility of the user interface.\\n<|end_of_thought|>\\n\\n<|begin_of_solution|>\\n[평가 요소]: 교실 배경 이미지\\n[평가 근거]: 해당 이미지는 img 태그로 삽입되어 있으며, alt 속성에 \"교실 배경 이미지\"와 같은 설명을 제공하고 있습니다. 그러나 \"이미지\"라는 표현은 img 태그 자체로 의미가 충분히 전달되므로, 스크린 리더가 이를 중복해서 읽게 됩니다. 따라서 alt 속성에는 이처럼 태그와 의미가 중복되는 불필요한 표현은 제외해야 합니다. \\n[개선 방안]:\\n\\n                      <img alt=\"교실 배경\" class=\"bg\" src=\"../img/custom/grade5/p5_l4_bg.png\">\\n                    \\n<|end_of_solution|>\\n\\n\\n\\n<|begin_of_thought|>\\nThe accessibility issue identified in the evaluation pertains to the \"핑크색 말풍선 꼬리 아이콘 이미지\" and \"초록색 말풍선 꼬리 아이콘 이미지\" (pink and green speech bubble tail icon images). These images are decorative elements that do not convey any meaningful content or information necessary for understanding the user interface. \\n\\n1. **Visual Interpretation**: In the provided screenshot, the speech bubble tail icons are visually used to indicate the direction of the speech bubble, pointing towards the speaker. However, the color or shape of these tails does not provide any additional context or information that is essential for the user to understand the content of the speech bubble.\\n\\n2. **HTML Snippet Analysis**: The HTML snippet shows that these images have alt attributes with descriptive text (\"핑크색 말풍선 꼬리 아이콘 이미지\" and \"초록색 말풍선 꼬리 아이콘 이미지\"). This suggests that the images are being treated as content-bearing elements, which is not appropriate given their decorative nature.\\n\\n3. **Comparison of Visual Intent and HTML Implementation**: The visual intent of the speech bubble tail icons is purely decorative, as they do not add any functional value or convey additional information beyond the speech bubble itself. The current HTML implementation, however, exposes these decorative elements to screen readers by providing alt text, which can lead to unnecessary verbosity and confusion for users relying on assistive technologies.\\n\\n4. **Guideline Reference**: According to WCAG 2.1, decorative images should be implemented in a way that they are ignored by assistive technologies. This is typically achieved by using an empty alt attribute (alt=\"\") or by using CSS background images instead of HTML <img> elements for purely decorative content.\\n\\n5. **Impact on Accessibility**: By providing alt text for decorative images, screen reader users are presented with irrelevant information that does not aid in understanding the content or functionality of the page. This can lead to a cluttered and confusing experience, as users have to sift through unnecessary details to find meaningful content.\\n\\nIn conclusion, the current implementation fails to meet the guideline for handling decorative images, as it unnecessarily exposes these elements to screen readers. The proposed improvement plan to use an empty alt attribute (alt=\"\") for these images aligns with best practices for accessibility, ensuring that screen reader users are not burdened with non-essential information.\\n<|end_of_thought|>\\n\\n<|begin_of_solution|>\\n[평가 요소]: 핑크색 말풍선 꼬리 아이콘 이미지, 초록색 말풍선 꼬리 아이콘 이미지\\n[평가 근거]: 화면에 표시된 말풍선 꼬리 아이콘(분홍색/초록색)은 단순한 장식용 이미지이며, 실질적인 콘텐츠 전달과는 관련이 없습니다. 사용자는 말풍선의 내용을 통해 정보를 전달받으며, 말풍선 꼬리의 색상이나 모양은 의미를 가지지 않기 때문에, 스크린 리더 사용자에게 불필요한 정보가 됩니다.\\n[개선 방안]:\\n\\n                      <img alt=\"\" class=\"tail\" src=\"../img/custom/bubble_tail_pink_new.png\">\\n\\n                      <img alt=\"\" class=\"tail\" src=\"../img/custom/bubble_tail_green_new.png\"> \\n                    \\n<|end_of_solution|>\\n<|im_end|>'}]}]}"
      ]
     },
     "execution_count": 8,
     "metadata": {},
     "output_type": "execute_result"
    }
   ],
   "source": [
    "dataset[6]"
   ]
  },
  {
   "cell_type": "markdown",
   "metadata": {
    "id": "RX0AVfv2m1k1"
   },
   "source": [
    "## Model 및 Processor 선언하기"
   ]
  },
  {
   "cell_type": "code",
   "execution_count": null,
   "metadata": {
    "colab": {
     "base_uri": "https://localhost:8080/",
     "height": 106,
     "referenced_widgets": [
      "f1fbcca915f34e60b2b591125dac7efa",
      "700d65d42c40462897cae5504ca1725f",
      "f07bcf9c5cb245f4bcddf05789132b65",
      "f0169d472933456fbc07001aa3301536",
      "05038d80d6cc405a936d5a9eb1217f22",
      "1bed8a4e8ca34311a77c257c13bdd162",
      "c3f7f5e6df0e4346acbe5011b34cd902",
      "21349c52f4974624b89cbd889a0b6707",
      "c4364cd7855549c3a09e7eb2b9c7f1e8",
      "2e2f593d187341efb2aa9b7f453e780d",
      "907a1348caa54295a69cefae709d5a00"
     ]
    },
    "collapsed": true,
    "executionInfo": {
     "elapsed": 32344,
     "status": "ok",
     "timestamp": 1749531119230,
     "user": {
      "displayName": "최두성",
      "userId": "08438271081794727685"
     },
     "user_tz": -540
    },
    "id": "I3FTXnAFakqu",
    "outputId": "8d94de81-d469-419e-fa0e-18d7756815d0"
   },
   "outputs": [
    {
     "data": {
      "application/vnd.jupyter.widget-view+json": {
       "model_id": "f1fbcca915f34e60b2b591125dac7efa",
       "version_major": 2,
       "version_minor": 0
      },
      "text/plain": [
       "Loading checkpoint shards:   0%|          | 0/5 [00:00<?, ?it/s]"
      ]
     },
     "metadata": {},
     "output_type": "display_data"
    },
    {
     "name": "stderr",
     "output_type": "stream",
     "text": [
      "Using a slow image processor as `use_fast` is unset and a slow processor was saved with this model. `use_fast=True` will be the default behavior in v4.52, even if the model was saved with a slow processor. This will result in minor differences in outputs. You'll still be able to use a slow processor with `use_fast=False`.\n",
      "You have video processor config saved in `preprocessor.json` file which is deprecated. Video processor configs should be saved in their own `video_preprocessor.json` file. You can rename the file or load and save the processor back which renames it automatically. Loading from `preprocessor.json` will be removed in v5.0.\n"
     ]
    }
   ],
   "source": [
    "import torch\n",
    "from transformers import AutoModelForVision2Seq, AutoProcessor, BitsAndBytesConfig\n",
    "\n",
    "# Hugging Face model id\n",
    "model_id = \"Qwen/Qwen2-VL-7B-Instruct\"\n",
    "\n",
    "# BitsAndBytesConfig int-4 config\n",
    "\"\"\"\n",
    "Qlora를 위해 4비트 양자화를 진행함.\n",
    "\n",
    "1. 기존 VLM의 파리미터 값을 4비트로 양자화함. (즉, 모든 파라미터 값들을 16가지 값들중 하나로 표현한다는 것임).\n",
    "   근데 원래 값으로 정규분포를 사용해 복원도 가능함. 이게 놀라운 것임\n",
    "2. 학습데이터를 기반으로 LoRA adapter 내의 있는 파라미터를 학습함. 이때는 정밀한 loss 계산을 위해 16비트로 표현한 값을 사용함\n",
    "3. 학습된 LoRA adapter는 full-precision 상태로 저장되고 추론할 때 사용됨\n",
    "\"\"\"\n",
    "bnb_config = BitsAndBytesConfig(\n",
    "    load_in_4bit=True,\n",
    "    bnb_4bit_use_double_quant=True,\n",
    "    bnb_4bit_quant_type=\"nf4\",\n",
    "    bnb_4bit_compute_dtype=torch.bfloat16\n",
    ")\n",
    "\n",
    "# Load model and tokenizer\n",
    "\"\"\"\n",
    "AutoModelForVision2Seq는 VLM을 로드하기 위한 Hugging Face Transformers의 클래스임\n",
    "\"\"\"\n",
    "model = AutoModelForVision2Seq.from_pretrained(\n",
    "    model_id,\n",
    "    device_map=\"auto\",\n",
    "    # attn_implementation=\"flash_attention_2\", # not supported for training\n",
    "    torch_dtype=torch.bfloat16,\n",
    "    quantization_config=bnb_config\n",
    ")\n",
    "\n",
    "\"\"\"\n",
    "AutoProcessor은 이미지, 텍스트 입력 등 다양한 멀티모달 입력에 대해 전처리 및 후처리를 진행하는 클래스임\n",
    "\"\"\"\n",
    "processor = AutoProcessor.from_pretrained(model_id)"
   ]
  },
  {
   "cell_type": "markdown",
   "metadata": {
    "id": "lj9S6G_lmqo9"
   },
   "source": [
    "## Lora 하이퍼파라미터 설정할기"
   ]
  },
  {
   "cell_type": "code",
   "execution_count": null,
   "metadata": {
    "id": "DiCjzZqssbz6"
   },
   "outputs": [],
   "source": [
    "# Lora parameter\n",
    "# Lora paramter 설정 시 참고할만한 블로그\n",
    "# https://magazine.sebastianraschka.com/p/practical-tips-for-finetuning-llms\n",
    "# https://www.youtube.com/watch?v=t1caDsMzWBk\n",
    "\n",
    "from peft import LoraConfig\n",
    "\n",
    "\"\"\"\n",
    "\n",
    "- lora_alpha는 학습률로 클 수록 overfitting 되기 쉬우니, 데이터셋이 다양한할때 사용함\n",
    "- r는 adapter의 중간 차원의 크기임. 보통 lora_alpha의 절반을 사용하는게 좋음 - link\n",
    "- target_modules -> 즉 lora를 적용한 layer는 attention layer(q_proj, v_proj, k_proj, o_proj)와\n",
    "MLP layer(gate_proj, up_proj, down_proj) 모두에 적용하는게 좋음\n",
    "\n",
    "\"\"\"\n",
    "\n",
    "peft_config = LoraConfig(\n",
    "    lora_alpha = 16, # alpha값은 보통 rank, r값의 2배로 설정함. 근데 qlora에서는 16/64=1/4로 설정함\n",
    "                     # alpha/rank: scale multiplier -> lora 파라미터 변화량에 곱해져 학습속도에 영향을 줌\n",
    "                     # 즉, alpha값을 고정하고 learning rate를 조정하는 방향을 추천함\n",
    "\n",
    "    lora_dropout = 0.1, # overfitting을 막기 위해 파라미터의 일정 비율로 랜덤하게 가중치를 0으로 만듦\n",
    "                        # 7b-13b에서는 0.1/ 33b-65b에서는 0.05\n",
    "\n",
    "    r = 8, # rank 값이 클수록 더 복잡한 작업을 수행할 수 있음\n",
    "            # LoRA의 rank는 model의 원래 weight matrix를 근사하는 데 사용하는 두 작은 행렬의 중간 차원임\n",
    "            # 즉, 크기 의 두 행렬을 곱하여 d x r, r x d의 두 행렬을 곱해 원래 d x d 행렬을 근사할 때 이 중간 r을 rank라고 부름\n",
    "            # 근데, QLora에서는 이 r값이 8~256 사이에 있으면 큰 영향이 없음\n",
    "            # QLora에서는 r값을 64로 시작함\n",
    "\n",
    "    bias = \"none\",\n",
    "    target_modules=[\"q_proj\", \"v_proj\"], # 다 추가하라면서 왜 해당 layer만 추가한거지?\n",
    "    task_type=\"CAUSAL_LM\",\n",
    ")\n"
   ]
  },
  {
   "cell_type": "markdown",
   "metadata": {
    "id": "V0o8qSytmlz0"
   },
   "source": [
    "## SFT 하이퍼파라미터 설정하기"
   ]
  },
  {
   "cell_type": "code",
   "execution_count": null,
   "metadata": {
    "id": "K_cvP4xNN5Rx"
   },
   "outputs": [],
   "source": [
    "# Qlora 논문에서는 Dataset마다 적절한 training hyperparameters를 추천함. 참고하기"
   ]
  },
  {
   "cell_type": "markdown",
   "metadata": {
    "id": "U8sVX3BbN3bQ"
   },
   "source": [
    "![image.png](data:image/png;base64,iVBORw0KGgoAAAANSUhEUgAAA8wAAAClCAIAAAAGWeM2AAAgAElEQVR4Aey9CVBUy9YuuAt+xmYMQHmA2iIYMhgyGMoQgtJOBEclBMQG1EaGh8MJB/xxoMGjoQjB2IAaghoOGDI+QQ2ZQgGbMVTgB4QGgQaEZgyG4tZ4qmp3wXdPvn0L9SByPOfea4VRJrty57ByrZVfrly5khL/+PygwL8lBSQSCf2Zj2SRPkJawqNFtERE577v0AgRKP3n1Kr//JvVRY7tpb/Z/PLj3w8K/NUowLG+TC8/z2P9HxLDULrpbzRNT9JcPi0U0xIJ/Vl5oWl6kSTmL1SMWCyWSCQikUgsFsvoib9QK3805QcF/v0oANkEbPnryya1KAMkYnzEYjHjrxkNJfNZlBp/FLIwCjDHggwTWFYikTB/XVj5P95iUkAk+Q1k57R0qQWN/C/H6Efv6TGanqDp8V/pcfFv/36d/fPH9w8K/KkUmBDTozQdVfb/ynv9zfAU3TwDstmiab6YJ6JFEomInoGdPz4/KPDnU4A5VX0y/ec3cU4LPtnORX84p9q/3AN0GfDjc93/yzX6Gxq0OCCbAGsC1+YCuG9o5I9XF5kChLMJo5MK8BP580fiWyggokV8WkhLhHTOf/WoB/eqhND/47/oX2fX3hIxPfOPnv1G+sf3Dwp8dwrQYvq3f2JaPMOcKZXNlDt32X/S76dpCc0R/+1XCV8iEYnFv/4A2d+iDX68u4gUIFPY5xKLWNePohaXAoCLZOAWt/C/YGmLA7LRMYLPsHvIBHDEpP8XJMG/eZPIuujfnA5/TPd/A9m5zR+1jvaqHaWf/BctpPm0RCD5dfaf+LcE/vzx/YMC35sCHHqmRp7k17/Rv86A7NTKVtbeqaUn6da/0WIRV8Kh6V8lIvz7Ycr+Y/TEj1K/kgIEon0u8ZXl/cj+XSkw1ywLiPhdG/G9Klt8kE1AG+H+79WXH/X8oMBfjQIiISzZ2f/Vpxnyd0u2YGbrXSz+dfaf+LcE/vyqb0jYV73yI/MPCshSQCCZefKreAZn00KaTv6//5//8OT8t9MzIFv0d5AtFv8A2X813fJv3R6CLj6X+Lemzj9D52GEJS39AbIJKX4nQTie5CNPfiT+IhQgQ/Mj8cdT4B9Adrfyf6f/RyM9i7t/w9Y/QLYs5vuNMj+efw8K/CqeMWPj++8gO2UGZPMMzwBk/03CEdN/b4lE9MOS/cfrjB81zIMCvzuZzqOMH1n+TAoQp5E/sxHfpe7FtGSTBkMAEL1B5jgdsXOTzD8SPyjwr0uB/wmyezX++9eCbIlk5rTZ5//hoOr3gGJzge9s3AWBSCSYsXF+qZFfaP8nfiIVoUyRaKaKH//+OAoIRQK+WIDvv0kEtICmZ0E23+g/54LsmXmRMdhfEFsE5fhkBkyun/zpX/4hgYYikQjzI3Pf/MfkOH8GIJT8XGL+RTFzzo2T87nyF/acWde/efqfAmRjlCGtZLyI8/M8E38syEazZNiRtPVH4gcF/tUp8FUg+x8EBZSZFWNyNO0TQv09F7GonoQ+BCb4h0Yv6h+kok90+8ejRaKAmJ5xw8Y3j5bMuIukVrb+h+ffQbZYBEv2r795N80HZBM+AQ/PxY5zocy/uh6YWQ8TstA0LRKJhEIh8yFE51+eDovVwd/VNAurCJyJ7z9Cvy2sVf+qb5FB/Mt2EC2E5JLWfm1iMUE26ib0In8ypwPy64/EvyoF5smC/6rd/8d+fRPI/k1wZkKQzP777cE//i+Ds/+xAYv2F6YcoVDI5XKbm5vfvHnD4/FomhaLxcLF+7DZ7PHxcQ6HA489JhD5x07/M/2FMZhni2UGbJ5vLRi2iiQSIT2zEyGkJX+TiGDJZoLsaZrzKz3jTzL770uWbCL4QqFQIpEIBIKxsbHh4eHJyUmsl0QiEYfDkengv8OfM5EQZxl7bGyMUEAgEPD5fIjOFwz//w70WVgfCb99MvG1ZYpEopGRkZqamv7+fqJRv7aQBeefuxBdcFHf/0XQn9T7yeH4XAdl3iWF/EUSaB5N03w+v6+v782bN1NTU0KhENPTPL9/B2Tz+fySkpKYmJjExMSUlJSkpKTY2Nj42c/169efPXvW3d0tFAoxE8jQi9CaaZH6i9DuC83ALgZ69IVs/yw/TU1NPXz4MCEhISUlJTU1NTExMSEhIS4uLjY2NjU1NSsrq6qqamJiAmNEvr+2d7DNAHLNh/O+HZWRWog1aME442s7+zX5vwlkl5aWJicnx8fHJicnpqYmJycnx8XFJSQkJCYm3rlzp6SkpL+/n4AwprjNs4WEYoSGX36xt7c3KSlp3759pqamAQEBExMTGHeBQPDtAyoUCtlsdkxMzJYtW9LS0gQCweeuAiFd/mdJYM4WCAQvX77E8N24cSM1NTUlJSU5Ofnhw4djY2OQnbn0z8jISJz9JCUlQX4TExPj4+Nv3Ljx5MmTrq4ukUhExnEBWI2AbIFEPAOyeTSd/PrvIPv9THSR+YNsiCTWRY2NjadOndq4caO1tfWuXbuioqLa2tpqa2vv3r3L3HslavZzc/BcgvwTPYFYcbnc3Nxcb29vGxsbOzs7X1/fx48fDw4OXr9+vaSkBGILohERRoKoOELYRZGyeRYiU7tM2+b+yeFwnj59mpiYOKOnZj8pKSnx8fH5+flsNvsbRfWTgz63Dcwnc1+BmIDTSHskEolQKKyoqAgLC3Nyclq9evWTJ0+Qk+RZrMTcJpEnaFVTUxNkPCkpKS4uLiYmJi4uLikpCbN2fHw8kFhcXFx8fHxubi5ZsJFy/pQE7CwEPDBHAWmhUDg8PPzw4cOkpKSEhATSo+Tk5JcvX/4FZZ9sNIlEoomJidzc3CNHjlhZWW3atKmpqQkNntvNzz35Esjmz37q6+uvXbtmbm7Omv2sXr169+7drq6u1tbWK1euNDMzCw4Orq2t5fP5EMv5kOxzrfnyc7K+/HK2Bf9KGBQTHpn2FkvG/pRyeDxecXFxRESEgYEBi8WSk5MzNzd3d3f/6aefNm/ebGtru2rVKgcHh7CwsOrqaiCb+YwgoRUGhcz0ID7z1z86jdaSIZs/kf/ohs2WvxCQTVBIfX19Wlqay/+2WU6ekpOnDAwM9u7d6+HhsWPHDisrqxUrVqxfvz4iIuLDhw+wHX5VjwjFMILk3S+IT3d3d2Ji4qpVqyiK8vT0HB8fB8j+wivz/Ald7unpsbGxoShq27Ztg4ODhKkwpn+0+M+zqQvLBmTT3NycnJxsZWVFzX6WLFly/vz50tLS6elpmqZhrZDp5rNnz06ePKmpqYlXbG1tvby8XF1draysli9fbm5uHhAQUF5eDpRGliVkNH83wQTZfHrWd2QWZAuN/pN+PxNdZP4gmzhZPnv2zNTU1NjY+Oeff75+/XpcXNzu3butra0NDQ09PDxIN9E20PN32/nPmEEsFkthUGRkpI6Ojp2d3ZUrV9LT08+cObNx48a1a9eqqqomJycDiP8z9o60GZBUIBDU1NRERESYmpqCV01MTKKiompqaqanpwkCI299e+LLkvi58pkGBaR5PN7Lly+DgoKUlJQUFBTy8vKg1lDC/CeU3835uSYRDZyenq6ioiIvL79mzRo7O7stW7ZYWVkpKChQFGVkZLRlyxZnZ2dra2s9PT2KopycnGB0J8USgpAn3yFB0ALEHwM9lxRjY2PPnz8/cuSItrY2kKSzs3NaWlpTUxP0PHnlO7T5d6sAJUUikUAgmJqays3N3blzJ0VRa9asaWhowNQJezZp9hcSXwLZUNkikYjH44WHh1MUpaioGBUVNTExMTY21tbWlp2d7eDgIC8vb2xsnJGRAdYkEOHLPSEMMf8E4cX5vzLPnKRktBm7Ax8/fsR8QAqBoYj8OTdBlhlzf/oTn0gkkvHxcW9vb4qi1NTUsrKyOBzO6OjowMBAc3PzgwcPdu7cqaCgsHz58rCwMBm5/eQgMuUKGcRicXd3NywWTGLK9PqTpSE/ycnMw6wIGUh1EGYI9sTExMDAAICmjAFm7p+kIpJg1rjY6YWDbGJNefIkT1NTnaKo/fv3czhsDoc9NPT/tba2xMfHL1u2jMViubm5vX///mtxtkgk4nK5/f39fD6fwCMyA31SZYhEosnJyf3797NYrP37909OTkLdEEp+OUHMAySbjLxMT09HR0fv3Lnz9u3bfP4M5IPEoTFo5NwB/ad4Al2K75iYGKAQPz8/4hgDmoCeRM+ga+Pj41u3boXwFhQUcLncsbGxnp6eR48e2draUhQF9YsVMtMmOh9mJiBbSEsEANn/V0Xrf3guAGSjur6+PmdnZ3V19evXr09NTWGXY2BgICoqSk1NbfPmzZOTk5BrMJtYLO7t7Z1PUxclD+i8KEX9biEikSgrK0tXV9fKyqquro7L5YrFYoFA0NraumfPHoqiLl68yOTw3y3wO2SQEfy5NRKdTH7COMIkLGXO48ePUxSlpKQUHh7O5EmSf7ESRI0wE0R2vlALTdPT09MfP37k8XgQMYFAUFdXZ2hoqKysTEA2UNQXyvmqn36X8Wiavn79ur6+/qVLlxobG/v6+kZHRx8/fqyjo0NRlJ+fX19fX39/f2dnZ0lJyaZNm+zt7T9+/EjM80wifFXDvjEz6hWJRAAAzGYw05ivBwYG7O3tKYrS0NAoLi5G1TKTzoLbQ1D+wkogjA3nrv7+fqZs3rp1S0FBwczMDCAbKFdGWD735++AbDSXpmlMDCoqKjdu3EBZWH9UVlYaGhpSFGVrazs+Pg6yAjaBR8n8zew5SiB2F+ZgEIlFIegM6f8nARkmb1CErJjJdEV+JQ1Ay0nDSGNIBolEUltbe/r0acAIIreEsjLNIO0nGcgTyAApAVWQqpk1LlaaVE0SWDOEhIRQFKWurl5RUQH4QnhiZGTk559/VlFRoSjKx8eHy+Wi2aRJhETYGCKkJmPU1NR08OBBTJbkV4LACMIgBcokQBDoO9JsJMiAIoGWE7sdTdNcLjcpKen69esAizAZfrIomZKZTCXTnsX787Mg+7cgDTO0+e3fJ6qlabqyskJPb0bPBgYG4nI+kWgGDgkEgmvXrikoKCgpKUVFRcmMGkgEOpDhQwWY6QUCwcOHD2NjY9lsNohG6ENILcO9wOWHDh2Sk5Pz8fGBuwjelaniEz2ZCQ0uJgJCADTRsERGiO8EyYPCSfM+mQArkg4ysSbJ/8lWfYeH6CPp/r179yiKYrFYZ8+eRbOZ0zmGjHwDu7i7u1MUpampWV1djUEBTV68eLFkyRKKorZu3drT0wOJIz1Cni9/Mw8+zixrxDT9DSCbpumnT5+qq6uvWLGioaEBY4oG8Pn8M2fO2NjYdHd3E80gEokaGxuPHz8+ODhI6CMzXkSfkH6Rsf4ce5OcpCgsQQlHkQx/aIKYNkJCQng8HngS1Ojs7DQ1NQ0ODubxeETFQSNhTwOZ8Y1Gfnkc5/4KKhGWIGQETQjj4U9Qkin4ZAqAqiHzMmkkqZHJ3tJfIyMjKYrS0tJKT09H7VhoyRROXkeCDASzXmYeoijwkIwsMw8pBHUhDzMDChcKhQUFBefOnRsdHSVzU1NTk6GhoYqKCkA2sxYijN+Y+MKMg+qSk5P37dsHBYgnRUVFANnBwcECwYzaB3vcvn3b2dm5o6MDPULDCE1k6IA8Mr+SxjAHVCYPYTzobVCVWRfhsfr6+iNHjoyNjX2SRGTsOByOq6srRVFLliypr68njUeCVIduMr9Jj4iWwBM0mPxKJhHSO/LTJxOkCtIRsVjM4/GSkpJSUlKI9NE0ff/+fUVFxdWrVzc2NhL1hdqZjf9kLfMF2bGxsRRFMUE2KD41NeXp6Qkry+PHj5l1kA7MbQQhOlPvoJ/kJ/I6eU4S5CeZBDLI7D4QxUqaMTcD+Qnt7+zs3Lx58549e7CNSzhPpjq8RX5lthzlID/Gm8nKpBwmuRYrzWwPSfN4PBgY1NXVKysrwSUQVzR7ZGTE398fc/+ZM2ewxEeT5rYcjE6eDw4O7tu3z9zcHIu/r1KmTKKBLEw6YIFEyEUyoF/489mzZ2vWrImJieHz+YRDkIFZ1J+Ung/I/lLTaJqurq7G/mBISAjgOKC2RCKqqCjT/28zGMvLy2tqaorJxmR0CPVINXhSXV1tYWFx8uRJQjdkwOCSt2SYnMPhgE/2798PkC2Tk9TyuQQzP+FDZoLJP0yURph5bgKvyPDS3DX855r03Z5jBnr48CFFUXJycpGRkegLnqMZzN7hiUgkgo5lgmyM79DQkIuLC0VRS5cuff36NZMBmGSUoTnzTybInokuIvpWkH3r1i1FRUVdXd2KigoZTdvQ0ODq6lpTU0N8YyYmJg4ePOjo6Dg6OoqHRITntl9mmNALkO4fevQbBcl8P/dXmaL+oD/7+vocHR0pinJ3d2du+6CPd+/ePXjwIJfLRe2QOybDo9kyypbZly+kifhDCkhOIhRzyQsZJKQgJZB3CXfhJ5KTTLswwVy9epWiKG1t7Xv37pHRJKUxn/w2UDMnp2VYheQntZMXScsJPiZ5kCAZyJ8yT1pbW6UIlZgJgCAJyM7Pz2cWSChGWvstCSbRmGnUePPmzRs3bpAdP5qmi4uLofyZIJum6ZaWFj8/v5aWFpmukTEihaNkGXqSX2VeZzIb8qCzzGxkuAmvDg8P79u3b/PmzQDZzMJJISiBw+FgD8fAwABolfAneYtJ/E+mSU7CEsjGbCToQJ4zX2GWSXqHovBWaWnpqlWr4uPjmSD74cOHxJKNt0jhzEKYFZH0fEF2XFwcRVHKyso3btwgL0MtHjt2DLufUVFRaCuHw2lrayssLMzLy3v69GlXVxdpB0aRzWY3NDT09PQIhcI3b94UFBS0t7eLRCLsEU9MTFRVVb148eL58+dv3ryBpQ2VYh7l8/nt7e0dHR0CgYDNZldWVubn579+/RpLQJFIND4+XlVVlZOTU15ePjw8LEMOmqalO7CVlZW5ubkvXrxoa2sDzkDjuVyur68vRVGurq4DAwNcLhcmUgJGq6ur8/LyCgsLOzo6MAxEP9I0PTw8XFNTMzo6Ojw8XFhYWFJSMjY2hsZzOJyqqqrc3Nxnz56NjIyAJoStCYkIeReWIMUyE3w+/8SJE7BkV1VVQZ8yzYo0TTc2Ni5fvhyjXFZWRojG4/G6u7vLysoKCgry8/NBdkxgYrF4cnLywoUL8vLypqamXV1dk5OTXC6XLHylQtXQ0FBQUICxGBsbIwoaDM1ms9++fVtQUFBSUjI4OEhMekTji8Xivr6+p0+fZmdnv3r1qru7G7IECa+trd24caOCgkJUVNTk5CQ230nHF0bARX1rEUB2VVWVlpYWRVEhISEII03TM6pJIhE1/lf9iv91GWZxQF6id6anp1taWp4/f15QUFBUVDQwMIBBAf27urp++ukniqKOHz+OIcPGLlFA3d3dL168yMnJKS4uHhoaEggEeHF6epoJskdHR8vLy/Py8kpLS5mDy6QhYWyUMDo6WlZWlp2dXVFRMTExQVgF8iUWi3t6eqqrqzHpQjr4fD6Px+NyuZw5HzQb3IiN+GfPnuXl5ZWUlLDZbDwHTZhN+rPSWPA/ePAAIDsiIoIMCpELwr14gle8vLywx1pdXc3sDofDgbOgnp5eSUkJkRp0kIzmFxIEZAtpyQzI/vXvBx8X4C6CBmdkZKiqqlIUdeTIESBL0iqRSHT16lWAbLFYPDIycvLkSTk5uQ0bNvT29rLZbNjqSOO7urpevnyZnZ1dWFiIbVL8JBaL+Xz+8PBwfX391NTU9PT0mzdvwKvt7e0oBPoB5O3t7S0qKsrLy2toaODz+YSZ/2g2GBoa2rZtG5ZAjx8/JhyOIR4eHr5w4QK0JWktTdNTU1M1NTX5+flZWVl1dXUjIyMYcXiIQhBgF4cKFQgEzIfMTk1PTzc1NY2MjHC53IqKimfPnvX09BCDqEgkam9vLyoqysrKKi0txT4kyoSOlUgkQ0NDpaWlGIKOjg4ilYRdiTbGXgG218Cr6enpaDnKJBMKs4X4SSQSDQ0NlZeXP3ny5MWLF11dXQKBgGA4zDLv3r0DYOju7n727Fl+fn5rayvKJDoEjeFyuTU1NTk5OXl5ec3NzTAYkQZ/+PDB3d0dDm8DAwPgB5qmm5qajIyMlJWVAbI/fPiQl5eXn5/f3NwMhmEK5oLTzL4z01ifDA8Pk4Mu6EtpaSm2qkJCQkiECYlEIkUpHz58gLN7T09PUVFRfn7+8+fPwf8EVEABtre3d3Z2IioUoRuGhs/nv3v3Lj8/Pycnp76+nrl1D35DMwQCQWdnZ2FhYW5ubnl5eW9vLxpM0/TQ0NDRo0dZLJajo2N/f//09DR0MkiEPhJVNjU1BZBtZGQ0H5CN1+GLAlXw6tUrctwf3CgSiQYGBqqrqzFP1dfX5+XlPXv2jGQj+geAfmBgANivqKgIZCFNFQqFUs6xsLCQk5OLj49ns9lAFDRNZ2RkEJDN4XCgcMCrTBDIHFOSnhfIlkgkBGRfv36dvIzBPnjwIEVRqqqq9+7do2m6t7c3LCzM29s7bvbj5ubm5OSUlZWFgF/v37+/efPm/v37ly1bdvPmzcTExBUrVigqKrq5ufX09OAgtru7+6lTp5KTk0+dOmVlZRUQENDZ2Qlp7OvrS0xM3Lt3r4mJyfnz58vKyoKDgy0tLbW1tXV0dH7++efx8fEXL174+vpaWVlpa2tramr6+fn19/cLZj80TfN4vCdPngQGBoaEhHh7e1tZWa1du/bixYsjIyM0TQ8ODp49exYbNMuXL/f19Q0ODi4uLoZbAjz3Q0JC9u3bt3btWktLy4iIiNHRUbFYzGazX758eeHCBScnJzs7u7y8PF9fX43ZT0JCgkAgaGxsDAgIOHnyZHp6emJi4rFjx7BJKrNQZtJ2YelPyv/vgmw0A0CcoqizZ8+CNYeHh2NjYz08PC5dupSYmOjj42NnZ5ecnAxpZLPZcXFxy5bN4DwdHR0vL6+DBw9mZmbi3YqKisOHDwcFBaWmpkZGRjo4OHh6er558wY6Eaxy7Nixo0eP3rx58/r16ydOnDh58iSWW+j76OhoYmIiBmvXrl1GRkabNm3KysrCsqepqWnv3r2KioosFsve3l5qmThx4kR7ezuhwMIIuKhvLQLIrq6u1tbWpigqODj4N8cS0awxm87KeqyjM3OOJCwsjKg2iUTS1tZ29OhRX1/fuLi46Ojobdu2SU/MFBQUYA3T2dnp5+eHs3QWFhZ+fn4hISFv3ryBiI2MjFy7dm3//v3SMs+fP7958+aNGzempKTAUs7lcgMCAiiKQpCEXbt2mZiYaGhoaGtr+/r6wkcQ5RAyAltAp79+/frgwYORkZF37tyJjY0NDg6+cOECrJjj4+NFRUVnz57duHHjTz/91N/fjxe7urq8vb09PT2l25HHjx8/duzYkSNHdu3atXnzZnd397q6OrBua2vr+fPng4ODQ0JCXFxcli9f7u7uDrBOphzSpD8rsYggG/Cio6PD2toaJ3Levn0rQ3nk+fK3LMgWzlxGszCfbIxXY2PjypUrsZ4/duxYa2srBggQYXR0FDGwJBJJYmIiXA2XLl26b9++gwcPPnr0CBDw48ePcXFxgYGBR48edXNzW7FixebNm3NzcyUSCZvNLiwsDA8P37Rpk6OjY3Z29rFjx8zMzFRUVNTU1GxsbB48eAAMCpTw+PFjDw+Pq1ev3rt3LyoqKiAg4ObNmzKE+oP4gcPhREREKCsrUxRlamp669YtLERRu1AoJE4yUJhsNjsrK0sqRwEBARcvXjx27JidnZ2rq2tmZib2VNvb23FowcXFBc4YHA6nuLj4/PnzO3fu3LZtW0ZGhkQi4fP5b9++TUpK2rt377p16/Lz86OiogwMDJSUlAIDA9lstkQiGRwcvHbtmp+f3+nTpxFYw97e/ubNmxBzuIg8ePAgKCgoJCTEw8PD3NzcxsaG6AGCWUE6otL5fD4s2RoaGgRkIw/RA0xqY0Z++PBhQEBAYGCgh4eHmZmZra1tUlISjFMNDQ1RUVHbtm1buXJlWlpaRkaGi4uLvr6+srKytbX1o0ePmJvhYrG4oaHB398/ICAgMjLSw8PDxMTEy8vr2rVrSUlJaWlpzc3NJ06cgM3CxMRk//79/v7+ZWVlIpGoubnZyMhIRUXl9u3b8fHx9vb2+vr66urqJiYmqampxKhEJpeFJZh9Z6bBEkRUAW1pmn758uVckE0yS8FuRESEp6dnbGxsYmKih4fH+vXrb9++DWjY1dV1586dQ4cOWVpaxsTEPHz40MLCQllZecuWLXAt6+7uPnXqlKenZ3h4uLe3t7m5uZubW1RUVHJycnp6el9fH2g7MjISHR0dEhISHBy8Y8eO5cuXb9u27dmzZ1jaXbt2TV9fn6IofX19b2/vQ4cOZWRkELskGXr0aAEge2xsLD4+PigoKDAwcNeuXVAFOTk5PB4P8ZpCQ0Nxkjg3N/fatWvr16/X0dHR1NTctm0bmdTAnwKB4OnTp15eXsHBweHh4du2bbO0tPT390cwnIKCgpaWlt27d8vLy7NYLDs7Oz8/PwASArJNTU2zs7OPHz9ubW2to6OjoaFhZ2cH53LwA3NMSfqbQDZN052dnTgsb2Zm1tXVNTU15e/vr6GhAUU261Faqa+vb2Zm9v79e5qmHz9+vHPnTjk5OZjfAgIC9u/fr6qqamtr++HDh9evX69atcrOzg7ORlwuF2azmJgYMFZPT8/169cNDQ1h/zhw4MCdO3fevXsXExMDSH38+HE/P78HDx7U1dU9fvwY6j4uLg5CIhQK8/LynJycCgoKoM3z8/ONjIzU1dWTk5MRxvX9+/eo1NnZubKysqmpCbbw7OxsS0vLBw8egPOePn1qYGBAUdTVq1dFIlFnZ+fly5dXrFhBUdTKlSt9fHyCgoKsra3l5eXPnz8/Ojp64MCBHTt2DA4OQpDu379vYmKCtThZCcloLjJIX8ATp0wAACAASURBVJX4pPB/GWQTe0NhYSGw186dOyFC0rBBKioqP//8M1TkwMDAhg0b1NXVEXwKWwrnzp3DIq+0tLSpqQlIq6WlZcOGDUZGRjCc41SHqqrq3r17ETGQx+OdOXPG0tISY03TdGlpqaOjY3l5OeqamJg4c+bMjh07cNSAw+Fcm3VBhtFOLBZPTEyUlJTY2NjIy8ufPn363bt3TU1N09PThAJfRbc/JvMigOyamhpdXV2YBn/TwmIej1NbW+3svImiKBsbG2IdhIFwz5492traz58/R/6nT59qaGjY2NjAWDU5OdnU1AQ3A19f3zdv3sDeQ9P05OTkwYMHbWxsKioqoBYfPHigpqamra39+PFjLDUBsq2trV1cXJKSksrKyq5du6aiosJisWJiYsheBJOewBADAwMuLi4HDhwgJpn4+PhNmzZBviorKw8ePAh9DaMIbGO1tbV2dnZZWVkdHR1tbW2tra0ZGRmKioo4CYq1cU9Pz969e4OCgrq6umiaHhgY2L17N0VRMJHCrXlRhIvZqQWkFxdkS/HQxYsX5eXlKYqSLuAnJydh/yMN+41bvvS/LMj+9ZtANkBwaGgo9jZZLJaDg0NWVhY5Eg01DlN0e3v76dOnWSyWpaXl69evGxsbh4aGcCgtNDTU0dERtq6JiYmzZ89iFq+qqmpvb9+6dSuQq56e3oYNGw4ePHj79u2IiAjEvTEyMnrx4gW4t7GxccWKFefPn8foczic4ODgwMDA78YMXV1dTk5O2LjQ0tI6dOhQY2MjGBttgL8yBu7+/ftGRkbHjx+HORNTu66urra2NiA1DBMbN26kKOrkyZMYV4lEUlNTs2bNGoqiIiMjccw9JSUF9WpoaPjNfnbs2KGoqOjh4TExMTE4OHjgwAF7e3u4GNE0nZaWpqSkpK6u/uzZM5zhSU9P37Rp06tXr7BGvXXrloqKir6+PrGhEDYj0wdevHz5sowlGxk+SXOhUHjv3j0nJ6eSkhIQ4e7du9ra2srKytIxFYvFTU1NV65cUVVVlZeX37Jli6+vb25ubkFBwdatW1kslpWVFZk+aJr++PGjq6vrqlWr4O/b19e3ZcsWnMK0trZ2c3Orr69/9+4d9oV2795dVVWFvQJs5BoYGCgqKjo7O7u7u+fk5JSWlu7atYuiKDMzM8zUZGZZcIJJNGb6cyL66tWrpUuXYhuTqE1kxhJOTk4Ox2fRBWNj45UrVzY3N/P5/NzcXB8fH7nZz08//eTn5+ft7a2urm5hYdHW1oYDAyYmJpg7CNaSk5OztbXdunUrno+MjAQGBnp6era0tNA0PTY2BpldtWrV27dvuVxuR0fH0aNHMQ1VV1e3trYODg4CXJERRwK7NF9lyZ6YmIBJpb29HbNPZGQki8UyNDSsqKgQi8VlZWX+/v7y8vJLlizZunXr0aNHnz9/fv/+fWNjY4qi9u3bhyiH2BV5/fq1mZnZTz/9BJeHiooKIyMjnB+ws7M7evTo8PBweXk5LNnnzp1rnP1gfYtJZ+nSpVu2bDly5EhRUVFOTg4MHO7u7ugvc0CZ6a8D2YqKiklJSbAKY6o+evSogoKClpZWQkKCWCx+//491n8PHjyAAaOnp8fW1lZVVfXJkydAuh8+fFg+65bg4eHx8ePHsbExbO/yeLz4+HgFBYXNmzdjshSLxVevXpWXl/fy8sIBEYFAMD4+vn37doqinJ2dyYaRdAsAB/DNzc0rKyuhYQUCQXBwMGjNZrPFYnF7e/vGjRuPHDmCDNBHPj4+FEXZ29sPDw/j+alTpyiK2rVrF4fDAUN3d3fv3Lnz0KFDZANUIpEcOHCAoqi1a9d2dHRg2sAiXk9PD3sN7e3tGRkZHR0dLS0tpqame/fulQoG5LOvrw+MCyoRoWWOzcLSpChmYp4gu6GhAWZpe3t76TbQyMgIAo+cO3cOjeHxeHAPjY2NxU0KNE2npKSwWCwLCwvmiY38/Hw1NbWVK1fW1taCqiUlJVpaWitWrMBya3BwcN26dRYWFr29vZh62Wz2uXPncC6TpuknT56YmJg8fPiQLNwHBgYsLCwoigoKCoJnUX9/P04rp6SkoBaIE/q+MAIu6luLCbI3bNgQ/n+eP3/+7OnTJ/f/7/tMTVctWaJ74IDv69evoX9BgdraWj09PS0trdLSUpCupaVl1apVenp6eIK50MPDg6Ko0NBQKAi4fiUkJCgrK2OFTAyTCCN15coVJsg2NTV99uwZNuykm4l+fn4URe3evXt8fBwYgklGNKOyslJXV3fWs1yCJ+/fvz948CBOwvF4vKmpqSNHjjCjU9E0XVtbGxERQSRxcnISdVlbW2MqFQgE8fHx69evh90Czca6gqIo6S4KQDazPX9W+htBtrq6enZ2dktLCywI/v7++vr6S5cuDQgIIAZjma3zz03e5PknQPY3hPADL/X09Jw4cQK+pCwWS1dX19/fv6KigoBL0sikpCSKouzs7AisFIlET58+tba2zs/PJ3Nzc3MzzCXBwcHj4+MtLS1hYWE4CRofHz81NQWjdXZ2NhZp4EOapuH+fvXqVQJQpM24cOHC99EPkI6ysrLNmzcrKSlh4WFubn7x4sUPHz5g5Um+6+vrbW1t16xZgx0JNHhqaurcuXPAee/evYOjI46OhYWF4V2xWNzf379p0yaCt7CV/+LFC4XZT1BQ0ODg4MDAQGZmZm1trUgkiouL09XVTUtLg8UazhJmZmYURSUnJ0Poli1bdvnyZaJ7u7u7HRwcKIry8PDAJEgglAzIvnTp0idBNhl0In1isfjt27empqbnzp2D2NI0PTIyAh8bV1dXrM36+/uxhNizZw/oBmdlfX19NTW1goIC0oA7d+6oq6t7e3tLnRjBbHl5eWpqapqamnl5eTDucDicQ4cOsVisgwcPAj9BKhsbG7GvEhgYSFxMce5QR0cnOzubUJs5sX5tmvRdJkHkUSbxSZANPT82NoYlxLVr10A9Npvt5OSkrKx869YtLI3a29thCnR2dn737t3ExERBQcGLFy94PF5eXp6ysrKrqytgKEiqra2tqqr64MEDrNhpmr53796KFSvy8vLI+aiamhpjY2MWixUeHg7KY8Q3bdoExgCkAbnQTSLI87dk48XHjx+rqqrm5OQQsjQ2NoIZTp8+jYfPnz/X09NTUFA4d+4cQSDR0dEsFsvY2PjDhw8gxfT09KlTp1RVVa9cucLlcnEV1IkTJxQUFNatW9fQ0IA9nKGhIYRsSk1NRfmQxIyMDCUlJS0trdjYWCgriUQC9WVqaoqVHlMimOP7dSBbTk7Ozc3tl19+kaoJX19f6YEzFRUVMzOz1NRUIg9+fn5bt27FKXiapru7u9euXaukpPTw4UMoncnJSWhMyDNYHKP15MkTR0fHsLCwqakpcFJ0dLScnJyLiwvKR2xwnLUPCAgAb0kkkunpaSynXF1diYTQNI3zmk5OTgMDAxKJBHFYgoKCcnNz8/LysrKyMjMzsbRSUVFBm6UeYCdPngRiQKVisTgrKwuTWW5ubk5OzpMnT3JychAUT0FB4cWLFxiP9PR0RNR69+4dmBK0fvv27cqVK5ctW/bw4UPs1gkEgpycHKBzpqAyx2ZhaWZpJM0E2eTgI3F6IxV1dHRgaDZs2DA4OMjhcM6fPw87IjooFovR63PnzpFz8YmJiQDZTMq/fft269atBw4c6Ovrw7ulpaVaWlo6Ojpv377l8XgDAwNWVlaqqqoxMTHwJxaLxZWVlS0tLZCK4OBgAwOD2NjYnJwcjNfjx4/XrVtHUdT69esHBgbgrg2QHR8fT65PI70m/frzEosJstetWxcUFHTo0KE9e/Zs3LhRQ0NDV1fXy8srLy8PswU6/uHDh127drm6uhIbT1tb26pVq3R1dcnBeR6PB5B9+vRpHo8Hgg8NDWGvrbOzk1h/ORxOenq6v78/diSIuwgxEhA5heWYxFKUoTlN02VlZRoaGiYmJqWlpTgFweFwMjMzmc5zv/zyC0VRmzZtIveuDQ0NIUAhZs2UlBRVVVVFRcWUlBQwcG9vL8LH3rp168mTJ/n5+Xl5eWlpaTD/+/j4cDgcbBbJNOn7//mNIFtOTs7Ozs7a2trAwEBBQWH16tXh4eEvXrzA7g1UKFPRQ+6+/E1A9q80/Xef7IVGFwEXoY88Hu/evXsbNmxAlF/4S1y/fp2cmkC2+Ph4GDjI7IhFlJGREW7bgWdtRkYGrNRmZmZYk2dlZaHMpqYmMoNwOBxssyxZsqS2tpamaShkR0fHN2/egFFHRkaKi4vBOX8oA4AaqFTqPhsaGop9Tunmp4KCgpubm3T1iDg/GLioqCgFBYW9e/eOjIzAGoXm1dXVASeFh4eLxeLx8XEmyAaU6e/vd3Z2loYfvnTpEkGrdXV1LBZLS0sLO1qEMbq6utavX79mzRpYB2FK5/F4N27c8Pf3f/PmjVgshjX67NmzeXl5T548yc7Ovn///qZNM/tmiBsD8E0ISCrl8/lfBbKjo6NVVVVPnz4NJZ+bm5uZmQl7maGhIayn4+PjUPvR0dEYa+AKExMTeXn59PR03NHB4/EQQSswMBDREmF5xRUfd+7cAa3YbPahQ4coijpw4ACBGWKxuLGx0cDAQFlZGZfRoINtbW2mpqYqKipJSUl/Csh++fIlLNlSzzpivICeR7geW1tbbD5gH3LLli3y8vJRUVHwIx8cHFy5ciX8CZniKQWOFy9ehDcBaAW3eOy9JyQkgM5sNtvT03PFihXx8fE5OTnZ2dl5eXm3b9+GnXjbtm1QrQRkYxkDfmZyyAJANqJ8eHt7a2hoJCYm5uXl5c5+bt++jdWgo6MjwG5FRQUMu0VFRQTfFxcXKysra2trQ/DFYvHQ0JCTk5OiomJycjKIQ9P0ixcvNDU1dXR0CF4dHBzEXQ1Ap6RAWLLNzMzAk0DeRUVFFEXp6elhciTiIJP4OpCtpKTk4ODg4+Pj5eXl4+Nz9OjR5ORkrLBBWXSmq6tLKBROTEzU1tZeuXLFwMBARUUFZ42xZQCNif0gNAizIJ/P7+jokJ4IEQqFfX19T548wfEsRFfFsE1MTOzduxcRzQhMnJqaAsh2c3PDDjK0G1zJbW1t+/r6RCIRImzs2LEDvpuHDx8ODAyUntL19PT09fWtqqqCsgDI3rNnD1ZmXC43NDRURUXFzc0NvkFBQUHBwcEHDhzw9PT09vYmQfFu3rwJ/0iY2NE1iLqXl5e8vPzy5cvPnj377t077AbMPVEhMzwL+JNATGaCCbKxRQiRI5oX5GpsbIQl29HREQIzNDSEsxRsNvv9+/dpaWlg8bNnzxILKGZKS0tLAF9M6nw+/8OHD4g1PjQ09PLly+PHjysqKmpra2N24XA4ISEhLBZLX18/KCiotrYWxzigSnp6euzt7XV1dX18fI4cORIQEADvQG9vb3d3d7izY3/Q3t5eTk4uJiYGu41gCfR9AdRb7FcWE2TDfs/n86enp6UhwB49erRlyxZFRUWpt+W1a9ewUIG5qK+vD3tBo6Oj1dXVERERcKaCPQZ+kADZp06dAsimafr169fa2tok1ANuxkaYfCz9mZZsPz8/cAhEJiEhATuGGPFPkrG7u9vOzo6iqFWrVkVFRaGFXC4XCguLUoBse3t7Eq+d6X9SXV0NpOLl5UWOcr58+VJfX3/16tUBAQGHZz9IeHt7SxXFL7/8gqmUyeqfbN53eIipawEHH/ft2wcv5+Tk5Dt37kB/rl279uXLl2j2J3v3ZXiNX2VBtmjhBx/JhARjilgsbmlpOXfunImJCfwD9fT0kpOToeqxcwIjiL29PUC2RCJpbW01NzdfunQpjnP4+/sHzn58fX09PDyOHDnS19cnFosfPXpEUdTq1avhSwYARNM0vJuUlZWBPN68eSO1yGJxcvPmTZhacNbwkxRbLB5g6h9oJC6X+/z583379uF8BVaklZWVwNPT09NeXl5ycnJHjhzBbicZVhIlfevWrdPT03NBtkQi6e/v37JlC4vFunLlCpkT6+rqcFQGZ4pAcLFYXFRUpKent2PHDthEoPnRYFCGw+F4eHjIy8vv2bMnZNYTF17OPj4+7u7uAQEB79+/x1uEXAsG2TjQhYkVYhsUFISKDh8+jL2piYkJuKTGxMQQAPfx40dzc3MFBYW0tDQ85HK5QM979uwhwQb4fL6Li4u8vPzt27fR5snJSWSTetwSg7dEImlqagLIht0UZUqPP65du1ZZWTk2NpY5ny44TSgmk/icqJaWljJBNqkXsjY8PNzZ2cnn8zkcTn19fWJiorGx8VyQLS8vT9YnKEEkEp0+fZqiKBcXF4ieSCSanp4G3IqLiwPWgjOwoaGhr69v0G+f4ODg/fv37969+/z589hEIiD7d6OLzMeSDcrQNN3f329ra6utre3j4xMYGBjw22f//v0eHh5hYWFg4MrKyqVLl2pra798+ZKQsbi4WElJSUdHB4ttyIiTkxOLxTp37hxWZRKJpKWlZfny5UuXLsUOD85xgtkSExMJteG4paioaGlp2dDQQFr48uVLBQUFHR0dYriUGVb8+XUgW01NLSUlBUf8Me+CcaHjSN1cLvfVq1cnT5708PA4dOgQePfOnTvQa9KLvjFJpKenE02H/gC39ff3p6WleXt7HzhwADtHW7duBYagaZqAbFiygSomJyfhGeLq6orj2GgYwntbW1vj9PrevXvl5eUfPnzI4/FIoALubx8cHZOuCGVA9tjYmIeHh6qq6uPHj+GpjEAHCDwyPT0NlEDT9K1bt2BfaW1txUxD1h7V1dVAGAoKCjY2Nrdv34YHCyhAhvOTg/RVD0lRzAQTZGNJACklkBTkKi0t1dDQwH1+eB1zwNu3b3HAIjAw0NzcHCcj4bBB03RCQgIcK8lhNTLdjo6OZmRkHDhwwM/Pz9fXV0VFRVtbu66uDoW/f/8eRgsWi7Vu3bro6Gjis97Q0LBy5Urp5ZSNjY0cDue3IeJOT08jDTs6sLi8vHxsbCzTtR3lfxXd/pjMiwayWSwWMWYQcaurq8PeloGBAazU6AVN0zgRhUNLhw4dWrJkiZaWFtl3k540B8g+efIk2ZG4c+eOnJzc9u3bsbYUCoVk3UKKJZZsHx8fGBLA/Ng4s7W17e/vJxYXJkmBoQsKClavXo0INs7Ozrm5uQjvTcYrcjbIrp2dHUA2lCaEaHx8HFgTmg5WQJFIdOfOHU1NTW9v78HBQZwHh2ByOBwEFiCSyGzPn5LGwJEQfl8VXYTFYklP88BkkpKSIicnx2KxnJ2d29raAHHm9ohMOV9IEJC9KNFFiEsAsePy+fySkhIAHZxXIT5LAoEA+pkJsquqqvT19devX9/b2zs9PT0xMcHlcnmzHwwrxPzx48cwZ9TX16Pj6OPr16+x6Q/XYaFQKL2OHnsaqqqq+/fvLy8vJ2uAuRRbrCeEnzHiRM2Ojo4mJSUBNmGzFCahvr4+uFAfO3YMW51oCegJJGprazs1NfU5kO3i4kJANt568+YN/E0BsiFEEokkNTVVWVlZumIBRoGGh8zCz2RkZMTOzg4HbyBQ09PTUMIcDgdBYEgH0c6vBdkYrOnp6c2bN0uPMOKKJdSCqZl8w6UTuCc+Pp704uPHj3AdvHXrFogsFouvXLmCNTy4AmtaJycnbW1t4n2OY2O43oUJspubm3E2NDc3FxATN6xJJyaAbDKVo+8L+/4cg31OQktKSuABFRwcTLiIoCYsnKqqqsLCwvbs2RMQEADrvowlm6KoK1eukKrBHqmpqbhIEr7XIpFoamrK1dVVU1MTHjgSiaSiosLAwGD9+vWdnZ0YEQRjQbgnWGeEQiEB2ePj459UtmjwfHyyQVXgQJj8TExMWlpawH7QA/gm9zPU1NQYGBhoaWkBZAPJFBUVKSsr6+rq1tXVYTQ5HA6JGjc0NARqIKLaxo0bu7u70cj+/v7PgWwlJSVzc3MS3hvHUqUB95YsWQK1TMaFkBqJrwDZLBZLXV395s2bTDTDHHikpebMiIiIjRs3njhxoqqqqrW1dd26dUpKSp8E2TJKmc/nS8P2ubm5bd++/e7du729vfDJdnZ2JiB7fHycWLKJyE1PT2OraNeuXcPDw0TmYSmxsrLq6elhs9k4x5CcnEysdKAChhaySkC2u7s73EWGhobc3NxUVFRSU1NBR+RH7eAqKKk7d+7AvkJu4CMl8/n8srIyd3d3zdkbknV0dE6dOoXBJjric4MkM2Zf/hM1ynx/GWSDLyUSyZUrV2BziouLQy2jo6OpqamOjo4+Pj5Pnz5FREyKosLCwogFFO4ia9euhaEILwoEgtra2sDAQGdn5+jo6A8fPrx69UpPT48JsnFWw8/PD8e9lZSUDh06hIPP9fX1K1euNDQ0rKurg8MluAtNJahCGpzLzs5OypkkqiWz418m1Hf5ddFANqKLYEYkMzebzcYGDomYhu53dHSEhoba2tqePXu2ubm5qanJ1NRUQ0MjKysLvf4kyE5KSmKxWLa2tmTDGlAJlAefE5CNONlkCzIxMRE3Un0SZJNBgYBv3rwZNx/p6+vjBlm0iqbpX375BbFi5oLstLQ0VVVVTU1NyC+kTygUSsP1aGpqklPFpM3QLdCw+P4uI/6lSjCVZmRkfCGEH1Yj+CY2fhzV0tLSAlYYHh4OCgqCJ4bU1sv0t/ncbP2557Ig+9uii0xOTiIoAdNcLRQKGxsbgQLBqFhZfRJkl5eX6+rqrlmzpqurC1qaEBSDCJoQkI3DkUR1v3nzxsTEREFBIScnB23gcDi3b99et24dyLV69ep79+4tiqYlDZubAMMPDg5id47gM6x+Hz16hJWAtrY2EHB3dzciau/duxdHg1AmFB2C5K5fv35iYmL+IFvGko2iRCJRdHS0kpKSi4sL1DWaShQLjHnW1tYqKipzI0YjM2kb6TiZcOfpLgL4OzU15ejoKCcnhxNcgE1EfjGmnwTZ2MO0sLBgsVgEZNM0/e7dO0dHR0VFxfPnz09MTLDZ7LKyMjMzMwQqxdzBZrMPHz48F2TDkq2kpAR3EQxZd3c30AuMu0SPLThBKCaT+Jx4lpSUYEkWFBREsBahf19fX1RUlKOj45EjR16+fCkNg7h582YZS/aKFSvk5OQQXpnJh+3t7Tt37lRXVz906FBHRweHw6msrDQxMfH29h4aGsKAvnr1asmSJWvWrGlubiazAFZi2GCEZzMB2RMTE3hRpncQt/mAbLQQIwVHKX19/ebmZjLlgVFRIOrCslxTU7O4uJgg7xcvXkgBm66uLrFkSySSJ0+eGBsbL1my5Pbt29PT02NjYwkJCWvWrElPTyf6amho6HMgW1FR0dzcnFyrjlANSkpKS5YsIZ7GMh3Hn/MF2fHx8SwWS1VV9fr16wTuQB6YDNff33/gwAFphJ3o6GjA4o8fP9rY2CgqKhKQzWazTUxMKIpKT09ngmyxWCyNcbt27VoHB4fKykp0Ozo6Wl5enoBssVg8NjZGQDbRlRwOB0emdu/eTViE+GQDZGNLjqKoY8eOQfeBs2F2FQgEHz58gPaHJZuA7JGRkX379snJyfn7+2PtS+rFGbLe3l6sve7evYtDKjIgm8/nYyeut7c3JSXF2tpa6uGgoqISGRlJTAhM/fXJoZrnQ+ZwkLRAIEB4PjU1NXKykMmv8HKDN5KxsXFTUxPiEkZGRi5duvTIkSO4aEYoFMKaGDYLsgG84CpAQDYeVlVVOTk5WVhYkEAuFRUVBGRDyYLaQ0NDDx8+dHR0lJeXV1BQCAkJmZqaam5uXr16NbYdwCToC6ZYabRmBMr4+PEjQHZiYiIYhnSZjNE86fbHZJsPyCY3PiLxDw2habqmpobcRwCJI5qIx+NdunQJ66L9+/dj4w8+2cuXL79z5w58tTs6OkxMTHBsDkiFy+XiAOuJEyeIJfvGjRuKiopLly4FcCGRUJmUlwHZBMjOE2TDJbevr+/atWtw7EMkIkgBAdkODg4yILumpsbU1BR7LAQcwHH8/v37GhoaK1aswIkxGW4ZGxvDvW5/BX6AwgHIZrFYsGQTjsXAQyo5HE5hYSG2FEQiEYSO7EtKJJK+vj4cTdHQ0IiMjCQHQz83W3/uuSzI/rboIu/evTt69Ch2tNAdIpXZ2dmwKDs7O2MP5JMg+/Xr1/r6+lpaWogQQgJTgko4y0HTdGZmJizZJNouZtw3b94YGRnp6OhAyyGWH4IBnzp1CkZBMzMzhDD6B0lb1D9A7du3b2dkZEAfEpmFWGG2UlBQuH//Pk3To6OjMADZ2dnByoDmoBx4Obq6unK53PmAbEgTQLauri5wPOgjEolSU1NVVFSkMS6Z6xOCjaSezUNDQzjogoOPYEj0ArFfcKEBakE78TpmQ0AumRB+RHEhP5vNLi0tld5xgZ3MsLAwzAWoBaLK4/F6enpkQDbU1ydBNghbVVW1ZcsWU1NT6UZ3RESEn5/flStXsLkNYkrXgXNBNokuoqSkhKUFxgsgW1FRkXhQEGldWOJzXPY58SwuLiYgG7iWoC+c5NPW1j59+jQ2JUDPuSAb7iLMqiGVra2tPj4+CL0XEREREBAQFhb24cMHYFyapquqqgwNDTU0NHJzc9FfMtw4HjAyMkIs2XAxJYwkkx9lEncRQ0NDIrlEQEBz6bmvtra26urq5uZmY2NjOTm5vLw8mWDnEolkYmICegbuIjjojxJomi4qKlJVVWWCbLFYPDU1lZWVtXbt2g0bNpw8efLMmTP79++/d+8eOdGEe04IyCarGhLCjwmyJRJJaWkpQDZ2Az43xcwLZPP5/NjYWBaLpaamBpDNHDBCGpFIhPnD2tq6p6cHVO7v77exsVFQULh37x6oKe2qmZmZvLx8WloaEU6xWCz1H92+fbu8vPzly5fhrCyRSGJiYhC7B4skoVAoPV0OfBAYGEjmZgKy3dzcyF6ADMjm8/nQVjY2NiQsCZhblM3lOQAAIABJREFULBZXVFRcvnwZsxrw6K5du+DaJYXIOMy+cuVKQk1iO2loaLg+e6c3juJSFGVubv7+/XuyfpBIJB0dHZmZmYgULhQKm5ubEWLMwcEBYJFIrAxhF/AnKQoJMIrURZ6AbPgPkY6DhhwO59y5c9iSvnHjBsalqqpKGs586dKlhYWFYCChUAij2pkzZ+A7SNM0HN/XrVsHd0noQYTx8vT0BMShabqiokJHR0dbWxs0HBgYSE1NxeIEcnXw4EElJSVpGJampqaBgQFnZ2fEY8YokH6JRKJHjx4haG5fX5+dnR1CxwNnoOVQIgug3mK/sgggu66uDqFSg4KCiC5GOzkcTmBgIEVRCGKIiQqeG05OTkRk2traTExMVFVVSfgtEiUGIBvFvnz5UkdHB9sCzIpomu7p6cnOzp6amiKOj/v27ZuamgJXIMIMRVEbN24kt34yKYmxq6mpwahhMq6srES8And3d6AuqSK+ePEi7jXAeVmo5rGxMUTyMTY2xrlYFC4FHHV1dUVFRQYGBlL3iUuXLpEr4iF9QqEwJSUFG3yf04DMdn6HNPyGcbXq+fPnIZ4Ex5D5prCwMCQkBLIjEokgdDo6OjU1NWgkBAoLD11dXRIQhkyQZAS/nCAg+38efFxodBGJRNLY2GhjY5OdnU2gAGqXSCQNDQ04zvHTTz9hh1AoFGKncePGjQjeR9N0W1ubpaUlRVEHDx6E4BMlLxAIMjMzCwsLEQoWjnlMKxdN0zk5Oaqqqvb29ggkWlpaCm0DdPjgwYNVq1YpKCiEhoYSG/MfMejodXJy8pYtW5h3lpHRwWa99JTO3bt3Yd4+d+4cDu2QXW80TCQS7d+/H+H54C0pjT3AvMoA4rl582aIAKZjiURCLNnkliKYNp4+faqnp6eiogIXO9QCCe3v73/8+DGbzcb6zcXFZXR0lLnO4fP5eXl5N2/e/CT1gKQBsnGtOsEGmC7JUN6/f//06dMSiQSeMA4ODsB2WDZDCgoLC1NTU6V7sNKYGIiVFh8fzwTZlpaWSkpKJFgw6iovLz9x4kRmZubL2Y80fD6mGCI1Y2NjCNGLg4/ElPDu3TvmZTQgSFdXl6WlpbKyMqmaSS4yJc0/gdfn8w0WKi4uJu4iANmoCzhSX18fvsjgq8nJSRcXFwUFhcuXL2MuGBwchJf2lStXyIsYJpqmW1tbIyIiHj9+XFxcXFJS0traOj09zZTcDx8+AHGSowIwFePewPT0dJw1xEEaBwcHwCc0BtURcuEhAdkGBgZQyxhQjB1mbTabHRoampaW9vHjRzhDHj58mGgM5BcIBHfv3s3JyZFIJGRZXlxcTLr28uVLNTU1XV1diD/K5/P5GRkZ4eHh+fn5JSUl5eXl2HYjeyYI1ANmg9kOAb8B7eTk5MzMzLA2gLGvpKREUVFxcSzZIpEI3k7KyspJSUnM6YroUDArTiWvW7cO18fQNP3+/XsLCwslJSVoE2wZwIhFwBwKaW1tXb58uYKCwqVLlyBmUtcfREh1dnZGgBWhUDg6Oop4IIGBgcSLenp6GraBbdu2QV9jUJnuIriAXkFBQUlJKSQkBIHDMGaNjY2HDx9GnBqJRHLmzBmKonbu3AnToFAozM7OhkuD9Kwkc3O2paXF39//6dOn6AIOs5uamuJoCFlC1NbWwhECpBOLxS9evFBVVbWxsYHFjkjpfMTvy3lIUUgAbfD5fPisa2lpvXr1Cq3Ft1gs7urqCg8P19XVVVZWDg0NBXhCED2pFgPIRuapqSncMIfQbxDIlJQUWJVgeODPfjBGnp6e4+PjGIuCggI9PT1NTU0cZ+np6dm9ezeJPyqRSN69e2dubr58+fL6+nrplsXx48fl5OSWLFly8+ZNYqjj8XjPnz8n9xORi4t/+eUXKFO4EWN34suE+i6/LgLIJnGyg4KCQEkycNgMpShq2bJlhYWFGGs4kDg4OOCSF+yiLl++XFNTE+6GOPiIyJUhISEI4YT7KbBnLb0P4tmzZ6AnjEa//PILTG5cLhfzopeXF5xHweSwZFtZWZGAjEzyIk9hYWFgYCA5HAO4qaiouGvXLoBssVgcHh5OUZSjoyPEE/2F17XUZgCNgZIRriQ2Nra7uxuhrNasWUNCgwOOREdHS299ghQztRazbd85TUC2oqLixYsXMZSkDRjBt2/fOjo6hoeHE3wDswITZItEIi6X++DBA8zBpqamBQUFBIKg2Pl8y4LsmWvVF3gZDS4IlO5Dbt26ta2tjQwTmlFeXo7IrbhYAICPsM2HDx+w0hgfHw8MDGSxWNLgOampqUTw+Xx+VlaWh4cHfNARXWT16tWIB4ppUhoF8tSpUxoaGikpKeDeu3fvIvQkMkjtArgd5vTp05+EiWQgvjEBhs/JyVFTUwsPD8fkRRSydJhw9oBEdBaLxa9evVq1apWysjKO95EGdHZ2rl271tjYGBGrJicnoVqZS+76+norKyt5efnw8HDwgEQiqa2tRXSRoqIiwmZisbizsxP+39bW1sXFxTD9IFJTWFhYZmamRCKJjo6mKEpNTS0iIgJe43D/LS8vP3DgAInKShqJBHycALk0NDQw4wPfkAYIhcJXr15ZWFhcv36dpunk5GQFBQU1NbXQ0FByIEcsFtfU1AQEBMAeND4+ji1WmJNRVF9fn5mZGYvFAsjGTFRTU7N9+/bU1NTR0VGcniITARGNqakpTIXu7u7wi4NFr6GhwdDQUFlZGUoSktjZ2Wlubq6kpBQVFUUIix7JzLPz/FOGYl/4E90sKiqCJTswMBDKkEwBd+/eVVBQWLp0KbmemZicgKDEYvHw8LCxsbGiomJ0dDQBoNCETU1NO3bsgJlfamIDmiSLfNQiDYONaWLlypX3798np7CgeY4ePYotAqA+GxsbeOqiIhAQHUSNNE2z2WzgB2LJRjfJN5fLvXPnjq2tbWlpKY/HwxFVbW3t27dvY9kAA01eXl5QUBBAZnl5Ofa+sJhEy4uLi1VUVEjYEDzMysratm1bSUkJ8eomCA0NAMWA7CMjI6F+QZP79+8rKytbWFjAXQQPi4uLcfCxvLycyR4yw/olSzYYFweMAHYpioqIiGAud5jFiUQigFo1NbXY2NjBwcG6urrQ0FCYxy5fvtzT0zMyMvLx40d4pCUkJGBpC65tbW2FYcbOzq66urq/vz8rKwu2LktLy/fv33d1deEKTZyG9Pf3h1uwRCKZmpoKCgpC8GyAYJAvKioKoawRyqCrqwv2UXl5eQ8Pj8zMzNLS0pSUFGwfYN9cLBZDxYCgY2Njz58/l8amReAkZWVld3f3jIwM6T7OzZs37e3tg4KCpqamMB4wImInDlKHwaurq7O2ts7Ozga5YIXS1NT09/cn9lfkZ9JzYWkZaQevI/I8RVEqKioPHjzA+ZXh4eG3b9/evXvX2dlZRUVlxYoVCQkJk5OTpJFPnz5VV1dXUFA4cuRIV1dXc3NzfHw8FkgHDhzo6urq6+uTSCQ46a+np/f06VOBQFBcXNzf3w/ry5o1a/Lz8wcGBkpLS/fs2aOmpqaurv748eP29vampqYNGzbgDC9koKOjY+3atS4uLpDVwsJCAAh9ff0zZ84UFRWVl5dfunTJ2NgYR2aFQuHY2BgORHt6evb3979///77HGya99AsEGSTxZhEIsnOzsZpVDc3N8RVHBsbe//+/f3793Ethba2dlRUFDnkhz0EXV3d+/fvDw4O1tbWHjt2TF1dHUHuBwYGMGtiUYrbv/r7+1+8eDExMZGYmIh7XvT09M6ePZufn3///v09e/Z4enrCtDwyMgJnrZ07dzI3YWG+WrVqFeKCzaWPQCAoKioyNjZGQAzIRW5urpaWFiLV4KY6nHnfsGEDiTza2tqKE07wBMMSjsfjffz48eTJk5GRkVwuNzk5GVd5m5ubx8bGlpaWPnv2LCAgwMLCAkdSiK1ibsO+wxPMOhBMoVCIaPoURXl5efX3909OTo6NjU1OTg4PDzc1NaWnp9vb2ysqKmZmZkI9jo2NARWpqKjA7xBFYb6JjIyEg7utrW1NTQ3knbmiIBPYJxMEZDMOPlYu7MZHXADs7u4uJyfn7u7OdJmbmJgAstmwYQOxv4jFYrhWGxoaIowxrikuKSkBHDcwMAgPD4eZLSIiwtLSMisrC5AIW6Z6enqZmZnA0yKRqKKiYvXq1bt370Z8KpxEt7GxgfIHiI+JidHX18edYn/c0GMOLp29E1tXV5eEuIWia2trA2o8efIkJlOhUMhms8+cOSMvL29rawtvPdDz2rVrOjo6OA4EpIs9SRMTk+fPn/f29tbU1Pz8888rV66Ul5d3dHTMz89HrHrEF9PU1CSu1USrSC+CVVZWZrFYRkZG58+fLygouHfvnqurq6en58jICO4nhp5XU1ODFam0tDQ2Nnbjxo04fQjwStiMmD/ZbDYORykrK1+4cKG/v39k9jM8PPzx48fGxsakpCRTU1N1dfWqqiqJRNLe3g5bKQ7k5ObmlpaWxsXFrVu37uLFi5jE+/r6cFr66tWrGDKapuvr642MjOTl5ZOSksDzNE1funRJSUnJ0tJy7969ISEhZ86cuXLlSmpqan5+Pi7XhMjAHRSH2MbHxwsLC6empioqKpYuXaqoqPjo0SOsALG/unr1asRgJkKHxMK+589yUFn37t2DdO/ZswfRnNBZbOeqqqrKycmdO3euu7u7qakpPDwcM2ZAQEBbW9vg4GBHRwew1pkzZ/Aicd9KSUmRl5eXxnjGxXlhYWGRkZHx8fFZWVk9PT1gYLhJ4ALspUuXnj17tqSkpLi4+OTJk1ZWVrgnQSQSwbZoYGBQUlKCi3s/fvzI7Cnhk76+PkBYbKsODw+DPaS39XV1ddXV1Z05c8bAwMDe3h4nEXHbBi6ikp4yejb7uXDhgqWlJS5Ho2kaN+ipqKgUFBQQyJqZmamgoKChoVFWVoaWTE5Oenl5qamp2dra+vn5HT9+/OzZs5cvX05NTS0rKyOmQDabDXjp4eHR39/f3t7++vVrgUAAc8CKFSvghyYWi3G+CEtExDJidpmZ/hLIhnG6uro6PDx83bp1mrMfS0vLCxcuPH/+nMvlkiUdSkRseewJojO7d++Oi4sDPNXX19+9e3dMTIy/v/+SJUvU1NScnJzu3bsHzwpc4BcZGQmD8cqVKx0cHE6cOBEdHa2rq6ugoGBra5uQkNDe3p6QkLBixQodHR0bG5v79+/39vYODAykp6fb2NhI/cAMDQ2vXLnS1tY2NDSUk5Pj5OREHtbX14tEourq6i1btuAQjIKCghSLrFy58sSJE52dnURsysrKDA0NcaHU3r174RdfXl6Oo9DYnV+yZImxsfHJkyfhIzE8PJyWlubg4KCpqamnpxccHCy9gx2eUjRNv337ds2aNW5ubvn5+Y2NjbW1tUePHt28eTM5qUqqZo7NwtKkKCSmp6cLCgpCQ0ONjY21tLS0tbXXrVvn5ubm6urq4uJiP/vx9PRMTExsaGiAcxKpF1fwyMvLQ3NJL1qLjo4+cuQIjsBu2bLl6dOniIOzdu1aiqJMTEzc3d0Rsvr+/fuIBmhoaGhvb3/48OG0tDRsxJiamh47duzNmzc2Njb29vYZGRkNDQ2INLd9+/by8nJgCw6Hc+PGDeh6xC/T19e3sbHBjIW5ViQSXbt2TVVVVVlZ2d7eHtEDoJ6IYJPu/BmJhYNskUhUU1OTlJQkvVhRS0tLXV3d0NDQxcXlp59+2r59u52d3apVq9atW7d///7s7Ozx8XEMN03TJSUluMhKW1vbwcHBw8Pjxo0buN9x2bJlvr6+WIs/ePBAS0tLUVHRwcHB29sbrvOjo6NEU2NJpq+v7+XlVVdXJxQKe3t7k5OTzc3N1dXVV6xYERMT09XVNTQ0dO/ePVtbWzU1tSVLlkRERGBDg0ltaBLE2vP09CwuLm5sbHz16pWPj8++ffva29ulbsetra3Xr19fv349ehoeHo7bE86dO6c1+3Fzc5MaIENDQ3/++eeQkJBt27ZJvW9xCdHQ0FBoaCg813ERhr6+Pq6Rw74eNBWzSd8zDVbk8/m1tbXXrl2ztbVVV1fX1NRctmzZ5s2bt23b5uLigu/169cbGBhAuTU3NwsEgidPnoSEhBgZGWlqamppae3YsSMhIaGpqQlwDYGuDh48qKmpqaur6+TkBDMeAT0k2ycR9oyk0PSvs99/B9kzBx+rFgyy+Xz+yZMnLSws3NzcPDw8wsPD09LSkpKS9uzZI738ddu2bbC6oVXAWNAJAMdXr14dHR1ls9nSSIXLli2DlgZfWVlZ3bp1C7G3SAg/dXV1JyenCxcuPHjwIDU1devWrR4eHu/evcPgAmTr6ur+/PPPZWVldXV1OTk527dvP3PmDKI6/nE8gBF/9+6dhYWFg4PDjh07Dh8+nJiYKPWQjIiIsLW1NTAwOH78ONyviQ1sYGAgLCzMxMRk69atd+/eLS4ujoqKsre3v3btGrZ6MIgVFRVYdurr61tbW2/atCkhIcHNzU1VVdXc3Pzo0aNNTU1PnjzZu3evpqamNFSwm5tbZmYmFsmArSMjI+Hh4dASRMx9fX2l/gNEbT5//hxDgwx6enqmpqaXLl1iOu+BgNA8CCl25swZc3NzNTU13Du2adOmHbOfnTt3Ojs7r127dunSpaqqqlu2bBkcHMTB1mfPnq1fvx4HS2B9XLVqVVhYGI5eNDU1hYaGGhoa4q3c3NyJiYn6+vqgoCADAwON/5+99wCKKovWhU/DJfmDoTDwg0qJoUw8Fbw6I6WjlImnKM9cxjJgoWghwlXRwlQjOmW8xqsiDxRKEHwEKRQsdbCUUMRLvKDwUOQHgSLejnb3+aG/cc2Z7qbJCnpOOczqfXZYe+211/72OjsMHOjs7Pzs2TO4ORMSEiZNmmRgYGBoaIgdPgKBANufHB0dcdAEy7KPHz8G9LS3t1+7dq2/v/+rV69cXV2xZWj58uXR0dF1dXUZGRne3t7Dhw8fNGjQnDlzQkND8UWCYI/aUNuRnx1UOZlMlpycfOHChdmzZ6PjW1tbHzhwIDg4mL5PtuA/WHXcML9s2bLLly/v2LEDny+cnJz++OMPd3d33P5ta2t7/fr1rKwsmpC8ffu2RbWMjIxw7YCBgUHLSl09Pb2Wez9mzZoVGxuLTlpfX3/27FkcB4echw8fPnPmzPv379O3oMLCQqC+CRMmLFu27MKFC2pAAgvrIyMjd+7cOWLEiJa7CwcOHDhhwoSFqmfRokWLFy+eO3fu1KlTcSO6h4cHMm9oaLhy5QodMG9iYjJs2DCYAhzO9urVq02bNg0bNgw3Xr1586ZlN+3z58+XLVvW8kXL3Nx8z549aWlpOCnr+vXro0aNMjQ0NDIyMjY2bllXgzOaTExMtm/fDoVUKBR//PGHqampoaHhvHnzNm/eHBUVFRcXt2zZssGDBw8bNszV1fXly5eNjY3x8fE4xhtnW+FKOK3tqwtk41SH9+/fp6me9PT0jIyM1NTUlJSUlju3cIY5FIs6m1QqTU5OdnNzwwm1GAz+/PPPVatWbdu2LSUlJT8/Pzk5OTs7GxecZmZmchdfNjQ03Lx5c/ny5Zs2bQoPD29UPX5+fitWrDh//jy84CkpKVlZWenp6WlpaVlZWZgMUQjCS0tLW87dy83NTU1NTUtLS09PT01NLS0thd58+PDh8uXLLi4uixcv3rdvHz4f4BXZi7CwsOXLl69bty48PJw0prKy8vLlyy123NnZee/evQkJCbQIqa6uLjs7Oy0tLfnrg7PnYBY/fvwYHByclpYWEhJy8ODBHTt2nDt3jirO7bRaG6lTgWpdXSKR5OTkpKSkQA5oypSUlFTVk5eX9+nTJ/omi4sJyM7KZLKWBYVHjx5duXKlu7s7TnVtSYJ7Vh8/ftxyWw2SxMfH4/TKgIAAaL9YLI6IiNiwYcPKlSsvX7786dMnsVgcFBS0dOnSQ4cOtbghGxoaQkJCWqB2TEyMl5fXzp07jx07lp+fT8fGQXRpaWleXl4tN+KuWLHi1KlTOTk5NFtFk9XW1p45c2bx4sV79uxJT0+Hv6pTEuvNyF0E2WCprKwsNTU1MzMzJycnIyMjPT09JSUlOTk5LS0tQ3WHfEVFBRZ7oNEhMYlE8ueff27dunX58uVnzpzB7PHp06erVq3avXs3zmjHtpUbN264uLhs374dX7swAItEovj4+N27dy9ZsmTjxo0PHjzAukxctpqeng4G0tPTMzMzP3/+3KC6pB0aha6NlcRcqUKjioqKwsLCMjMzAwICPDw8du3adf369draWqw1/PjxY3p6Oi46RhE4xC03Nzc5ORn1zVA96OMZGRlpaWk1NTXwzYhEomfPnrm5uS1dunTTpk23bt3CqlzIhL4ac7n6ZjS5hVqufUa/S09Pz8nJyczMhDlNS0sDka56UlNTi4qK8GGtoKAgNTU1IyMDBhO15u4KxdUEqampaJrMzEy1c6Ahgbb+qoPs1o2PXQTZmNzGxsb++eefTU1NaWlpp06dWrNmjZOT06ZNm0iR6JZBNEpcXNyqVatWrlx57949+iIMZ6q3t/fChQtdXFxOnDiBxbVoMnKBT5gw4dGjR0eOHFm9evXGjRuDgoJqamrIALIsm5qaGhMTk5qaevHixT2qJyQk5BssHwIPlZWVZ8+eLSkpqaysjIyM3Lt379KlS52dnT08PBITEzGsoF3gjMcFHK9evfL09Fy7du2GDRtOnToFmwbfKv6KxeKMjIx9+/YtX77c09MzOTkZ4+adO3dKSkrEYrFUKs3IyECvgd1IS0vDYgyabcrlcqz7d3Jy2rx5c3h4OC0LgV2VyWSFhYUnTpxYqXq8vb2Tk5Ph/kDtqPtgCo0D72CaUCiUGb0V4aBTU1Nh56EwLMuWlJScO3fOxcVl6dKlhw8ffvv2LZRfLpfDBmKshyVsaGgoLS3FQJadnZ2RkVFYWAgzWFZW5ubmdvbs2bt3754+fdrLywunbi9evNjS0nLv3r0YXJqbm+/du7d8+fKtW7fGxMQIhcLi4mIaIlNSUtLT0xsaGt69e4eul5SUlJKSkpubSwvkSMc6S5DQdBMymaykpASdPSUl5e3bt1lZWZAhLhaArU5PT29xVy1btszLywvHcGVmZm7dunXz5s1xcXH5+fncQT8jIwPuYXTAioqKffv2+fr63r1798yZMySrJUuWmJubL1y4EGgeX+Gw0n3p0qUuLi5nz54tLi7GuE/9MTo6esWKFatWrQoJCaFTqAHooXJCoRCjWHJyMsYO8AbLBgNI5h03mkGvWJZNSkrav3//8uXLV61ade7cuZycHLhOsNI1JSUlKSkJLVVUVNTc3FxUVATg9/bt27S0NFz0IZfL09LSduzYcfv27evXrx8+fNjd3X3nzp0bNmyYO3fusGHDgoKCINXKysqTJ08uXbr0wIEDGRkZjY2NQFCpqalZWVnJycmFhYW4NgRYD8zjchitzaoLZCOBVutMwuX2N1I4HKaBFRSYrWIRDOqgliE5Xeg7CEE3WGGJRNLU1ETQinom1YdCaN2VWhHcnzATMplMpHpw8xxFABpAWWCDQmB6sBQSR/BCe4h/ZIJoaiwBRuBjH056Jgcb1aKnCGoFIoglNQ6p1uAWNVVrUDRfc3MzVuagsjKZDD8pskKhwHG2ZIWRJ4SMdkefQVakP4iG5SvAIljYB2bAOQ7bx9QWwwzJCgALx3bSGmJKS9G+H9FFkE3OLW4baaXVWg3yxPSYwBaEhgZCW1AvQHNA8mhNdEORSISD5GFkyaipdTF0AS5jaDJNgdNITMzQ6nl0c0KiiICKIGfkxi2FS9Nb9E1ab4dwyIc2Umsy9m1COt6gVDWutVTrwpSbpvwxgnIrRRlqJbSA7KtdXy6CNT+Y6IITWADyyJDNRI2gcjCJVBdytsHyA1VwOz6B7IkTJ2JlhVgspqEd1UT+pFQymQyl4O03MBGkeGQS6Y4FDDrcNkIvQwhqKhQKm5ubteotIovF4ubmZmSFjWhkP6nWXFGAHxIjVEgqlcIscMUChiFANAGWoiGJpugIDCET7l9NvaW39Aq1RufFrb14RQwjCQKhJCQovEJ9P378uHnzZqwfwxVaEAvG+tDQ0E2bNuF4RITTgd9clrhcUTgRUNfu/OU2ug6axjIqmktQ/8JSXqgBtSwW1FFFuAmp99XU1Ozfv3/btm2YeuEkPqAaoVD44sWL5cuXc7dVYHxHD+JWH1WgUZi6OVqEKqhDQ7jsEQ0+oQDICqd0kykgZaAkRGhWHPYkJSVlxYoVgYGBUGMMkdQl//jjj99//x3DHNYUkVQ1MySXDRVKBFWZS7QPsrWWwc2CaE3pa6YFN5REkyB21WKq/dRaFrdbcovWLKUHQ8AJMkT74S8xgCbBkEnR1KrT4/xw5aNJd7A4TSY1QzqYVReiaVrzLmTyvZN0BGRr4ZHGMwhcx18tib9HEHHYVqu1FU72FEM7KRhANjpR9yvE7aTdz61/5UBNo5UgkP336SLd2PjYQcnoUAYdOQBb4C/WZE+aNIlufNSR8Lu84hr878JAlwtVax2a7KmFU/7foHPRJATuKugAAoGWWjxiPj4+LSsZsPUZp5RQE+A6Wx8fH6yAB+qCbaFKcUdtKo7qyCU0x9OOh3Dz0UHTPJPLFdHcmYaOTNp6pVAogoKCrKyscAk3EDa5z1iWzcvL27Fjx4cPHyAcNbvRVrYUjqzUuKW2QDRIjNujuTTJk/JUI8AYaSZxiIajn+BBLpe37A90cnKaMmUKtgwhAjf5nTt3cMY0pe2gkDFOUVZqfOLnjwOy0TAkGmon6kVa698bgWrzNoIRdD5Rr/LGzZzqTsLpVH2hcNwkmiHctzytIYEugmzko9aUbf3UKPRbB3BtMalcp5ggPzf1X26v6VRWfGQ1CdCwoZVQB9ndu1Zdreie+kkKRpMubLbmnqjVU2WwZEQ5AAAgAElEQVT1VD5qqKKnsv0u+RCS+C6lo1DoANAnLCHBONye4eLiYmBgcPDgwerqapyDgQG3sbGxZUXNgQMHcMoKQXNgQbJXlBsqS3N+8pFx696WKW43nJuJDpprD+En5hpGHQnbfYXzIvft22dsbLx+/XqstIGu4maM7OxsT0/PoKAg7gcNrulotwhqHZItJYHwqUYU3lkCbUeTJXJo4jM4Nzcwk5OTM27cuMGDB9+8eZNuVMWntpqamqioKGyu48IbFMHNSo1GztAx3TX6cUA2CYXbD0kQagLq1Z+aIJsQAybi4KqXeONmrjbBIjvSwepzdQ5JNEM6mNXPGo0H2R1qea7rSK3/dig9H6ltCXAHSE1aHWR/YdnW5SLrZCP/jc3/b1Yub2aFX9gvXxT4p+DenNR2mT38hkA28X/z5k2GYaytrXEeqOZw3sMcdD67Hwlkd772PZyCvmth8QDGOBrOcNSDn5+fqampsbHxb7/91nKH2i3Vc+bMmTVr1ixevBhrhQlNAi1whzPKrSMgu4erp5GdVpDNxZQaKToRIJfLcfSnoaHhzJkzDx48ePPmzbt37/r5+W3cuNHR0RG7IyhHkgyFdJDQ7JVoON2QtCOZdxxkY71rVVUV7lQ3NzdfuXKln5/f3bt3b9y4cejQIWdn5zVr1qSkpHDxGFf+bfFD8WWqp61oSqWyJ0G21mLILHIJrTERyI3GbV1uf9CaXCvI1hqztwPJBHB5RiB958JPTS3sPm+UM5cNZMuVZ0cK4vJPOXQ2k44U9OPG4UF2p9sWnYLUuNPp+QT/lICaRVX7CZAtVyr/Wi7y1+kifQ5kE2bF6QFr164dPXr0pEmTDh069Pr1a5zA9c96f+dfxPB35qOHikd/7KHMOp1NuyAb929cunRpzpw5w4YNMzMzGzBgwIgRI2bOnOnt7Z2fn0/NQVmBCRqCaVwD0VOIttNV/ZoADGOlNZjsEZbQjkKh0N/ff86cOZaWlsbGxqamppaWlra2trt3705KSgIIpuJIMl9Z6+j/SbZqCdoKV4um46emQGDWND3Z2AinUCjKy8sPHz48efLkQYMGmZiYDB482Nra+rfffrty5QqOd+waV1AnaiytPP84IJusAIRFP7VWu1cDUTQNZigLgZgJgO4lDrmZq7V9Z3sLqsCVlWYI9y1Pa0igTZCtUHxR/furuTQStgaoNWVbP7Wm/ZaBZJ7UBrCu8QDjTpXtWiZ8KpIAGSLqvNyQdkF2o/K/ZaxMJpfK5NIviu/mySar3nJBRnFxMc5myVU9RUVFdLo/1fq7E9QpvjsnPwYDpABkGDGcwVBgwYBYLC4tLU1NTU1ISHj27FnLaRIfP37E/m+kovGXZELNRIMjZUtxvgtBYzdVsEfYgJsPKyXKysrS09NVN2O+ePPmTWlpKc5lhn3QlExnGaAc1BK2Fa4WTcdP5KCZD/eLKCXHqAS0XVxcnJiY+Pz581evXuXk5FRWVtKefm5uXJryaYtAA5H+aEbrEMjWTNYHQ0gXOyWg3quIptDBYR9hr/cqzufMkYA2kP2FlbHKjoBsTj5/k6RFfY0Ai32Nq5+Kn7+1hENxITUZJSIUbKs2wpMtaR17WfZq8n/9yzqplTeb18x++dKs+G85QPYXiVwux9TwHxPEby5iTuX+JnuWi7/z5akfSAL0uVuzTtQjiNCM8+1DepwZdJN2K8KN1jUeuDmoFdd9CIQcOphPR1w/HcxKrSLcnzqk9OOAbG6F+yzd/bbss1XjGdMmAW0gW/ZjguyeRTl8bl2QgDYNVHYaZP970n/9y7ovliqQLZf/t1KoYFtBteyLpOXe+28MsjVrpFYd+qkZkw/52STQneGVQBIRfUF6fYGZrvHwDUB2X2igjvDAg+yOSImPw0tAiwQ6YNO7CLJ1ACzuUUeaS/x1JGzrlWaGXQhpK/NvFt4FnjWTdJNbzQy7ENIdHrToqLKTIFvCslfetnqy/1+vf3iyv0ikUnHrkkfOvy7UrrNJtEpDazW1xuxaoNb8+cAfVQI0T1NDk9zwb0xrirqnGNDMWUcIFaojjuYrbqejt9zAdmlK9WMQPMj+MdqRr0UXJdBuh9cdob1Suwiy6UwiMnNtEe0x0KH3bWXewfAOldH7kTrIbVvReoTBtjLvYHiP8KCWiVrReEt4QstyEZUnW271b2yBiFUqhaxIybaeKSKXS1uPM+P8Uyuol36q8d/Wzx4sXW3yrMMC9GChfFbdkQC3jTqbD1ejuGm54d+Y5rIBuqcY0MxZRwgVqiOO5iutbcENbJfWzFN3SLsZfq8IYJsH2bqbj3/740ugN3vgF6lSolRI2LDsMrPdJUa72YgsVspKlQq5XKr6J0fpmlImA6dGaMbkQ3gJ6JCAVv3pKMhWKISsiGUVSqVcofiiVCq/8XIRNbyro5q0H65HujO3oB7JkM/k20iA23BEq3UB/mdnJUCS7JvEt1GtLpfCg+y+qTY8V70lgc7al+7FV3xhv7DsF/ZxXvngvf/XxI2NymUVrUFfHYKdrmaXuzqf8IeXgJoyaVVdxNEFslUbH5Wjj7CFYpZlxayYQHbrFiLOP63584G8BHgJ/GASUDMsfeFnP5IwgzPbb/MPL4EfXQJ3OM/dfz7+vfXc+Y+A/wjw/4+ivf/+3mTn/zVxe7vnQvidBzfv3rl9+6bq321iijjSzQtF4wleAh2RgL+/P6JBr9SS3Lnnf8v/7n/cuXPL/+6NAP+gm8HZ6y8U6q1tHOKeeyb4wZ07N/73zXv/+46/f+u/e/fu3Q24d+eeP/7pVtRv/1atavTz23PCl8hL4EeSAHWlvkP0I/EydqrHnn94CfxkEpj5DZ5/tZsxa/qsmdP/3cbpnfH294a7fp/4PxdM/3XGv860t5+h+qcudPRH3X9n8A8vgX9KQE1huFo1c+ZM/CSC+9b+X2dOn2k/3d5u+kx729kz50yfd3PU/yo12Vw9YJfPlP/5y7Rpk2dOmW7/P2bMmDZjxjQ7O7vWmF//qRX6fX/+Ux5//+oaV/8Qkb39NzAVfBHdl4Cmnnet9flUahL4uzt9P4rLErd7dl9tejsHBuf55/EPLwFeAj0vgZzs/OyCvGzllaelpq5l/8+euqux/19B6X8W5Ofl5aj+tRaZm5uLktEZuX9ztD3Z/MNLQEMCaprC1SIunZOTw/35n7m5WXm52Tk5WXm56fm5RZnvG45E/Ne/rJNYHFRGZZXk5WUVZecW/GdeXk5u7n/mqv7LzsnBP7USv/tPDZFkd5YlrmSoV/a8VeBz/CYSUGtN/meXJdDZftQb8dWY/yYa1DOFMCz/8BLgJdBbEvh7TfbHQW7lZu6ta7Ll/zgnm9bI9hYLfL68BHRKQMGyStVKa1nrJc4sey2lyGCDYuTh1iP8WFbCSr8oJar3OnPhX/IS4CXwg0qgLyzCVuOhH0maUXx91OrA/+Ql8KNK4KvKK1BB+tkLxNfTRUKzysx2t258VJ0uonnjIxXdrswpJk/wEtCUgOYhGxTC1XYKlCuVMrb1zBCpUiFmla03Pl5+UyBY03oZTYFIdQWk7ItSojpaRI4j/OiAEc3Sv2OI5gncxEy7fUprBErOE/1RAlrblA/smgT6owL0HZ7/cbpIW5ODrjUMN1VbOVM4NzJP930JUMNpJfo+/9+Kw6/nZIdll5q6fjDdy/6fbPZL6xENXw9p+Et+34ofvpwfXwJqowu3wvSKC7KlytZ7HP8C2ZJWkJ3LrGq9jOYryJazsr4JsrlVU6NRU1yjDVotAv/zB5MA6TaX+MHq+I2rw5VkX6N1i6KPcAsmeZCtu7H4t9oloBVbU6D2ND9j6N8gu8xsNw+yf0YV+E51pmEG5ePAaW4gaLlSqQ6yr7zNZ1ZzPdkA2TgnW845Kpty+16EbtEqFAq4t8Ge7sj82x9AAlr18Aeo1/eqglZ59pFA3TLpLJOauXU2B63xkS0PsjXFy4e0LwHC01qJ9tP/LDF4kP2ztHTfqSeZe60sqV3vQstFZKyydbmI6lr1v5aLqM7JlrDSfgqyyVtPAlGru1b58IE/gAS4LU70D1AvvgodlAA1um6i3dx0J2/3LfLnQXa7cuYjaJGAVmxNgVoS/KRBPMj+SRu+v1RbHWRLWfbK279BtlKJjY+K1hUlrTc+9iNPNppAbSDsL+3C89lNCai1Oz+/6qY8+1dyzdbXGtJupbSm6ngg8udBdrty5iNokQDhaa2ElgQ/aRAPsn/Shv/u1aaRgMsJNxA0LRf525P970k/EsjW9GdzBcLTP7YESOF5kN2dhtY6yn/HwHbrwm13HTTlo1kXeqUjebuvkEn7IBtGiorkEq0nPsnlVBL3lRpNt/hSuFqtKJwnvq8EqDXJKqGlSA2w0pH7FgxzG/T7VqEvlc6D7G61BmkjcoHWIZCbr5pOKpVK0kYuxuIm6Q1aoVBIpVKFonVfK3WQ3iiImyeJiIRDXZUbjWiSHoi2QLbc6t9ar1VXKsWsGKeLyOVSridbplrvrFk6hdB6aCoaBDUWNybR3FpQ21FWatEwrGAM4pZC0RBI0SgfbmSe7u8SoBEK/U5NH6BveAVN4KIRLq0mB2gRZQ5thAr9JH+pH/VBQq2x1H6qMYy3moGwNqQVNGqA4NpwslqUFZlZtWy5PxG5QyCbO2ip8dGpnygSfUAtIV7xf7+lBNR0iBROrWlYlhUKhXV1dXJ56xle3Lf19fUSiUQqbR19ueHfshZ9uyweZHerfci0QbukUikMIteQgUYxNJRKJJLKysq8vLyqqiqK3C1W2ktMYznLsjKZTCqVyuVysK026reXU+fesyzb3NxMZaGyKJEqTiJSC2nlWbXxUdaKoFVH+ElYVuXJ/gtkKxRtgewvqrxkslaw3XrS31cjQE2GcJlMhlmHVCoViUTNzc1oRDhowCdi0uREIpE0NTVJJBIIAuFoWSpOJpM1NzeLRCLKjSs1qm/rOd8SSWNjo0QiQT48zuYKql/ThI2USqVIJBKLxWhimUymVi+JREIGpLGxUSQSIQ71GrX4+KlQKGQymUgkooGPZn2a/ehHDdEqmb4fSM2B/g7rAZNCrwglk5VubGxsbm4mMKMGkMjQNTc3c02KDq2AoDoEsuvr6+Pi4sLDwx99fUJVT1hYWERExIsXL+RyeV1dXXx8fExMTERERPg/n4iIiPj4+JycnM+fP0PdqRqono7ZZN9vzv7IIbQnISHh4sWLzc2tV060+qhUHyW41amoqHjx4sXNmzddXV3PnTsnEomUSmVzc3NeXt7jx4+PHz/u6upaWFhIjUgEN5Ofm+ZBdtfbn+CaVCotKiq6ePFieHg4wJlmphhfRSJRTk7OrVu3vL29jxw5cuXKlaysLK5V1UzYgyFyufzdu3eXLl3auHGjs7Pzjh07bt26VVJSwrXCPVgcsmqxq3v27Ll79y6BDJqHEAqhjkmWlgisyW5dad167wzLfmHZq8mFemsJZAtZkZyVqczD355smVz+ReWwVyqVQqHw9evXvr6+GRkZGMwIyOJnQ0NDZGSkr6/vkSNHvLy8/Pz8kpOTCVijlYHFCwoKrl696uXl5ePj4+npef/+/erqajQfhgxUubi4+MaNG4cPHz5y5MihQ4f8/f3Lysq4IyKiiUSiuLg4lOvj43Pq1KnXr18DYGnauh5vFz7D3pMAtXVDQ0NUVJSnp6eLi8vq1auPHj2amJgoFovVFF6hUBQUFNy9e/fIkSPe3t5eXl6///47lIFikpoRIZVKL126tG/fvk+fPnHVr/fq1ZGcieGfmWhXUGTzWZZtampKTk4+efJkUlIShcvlcpms9fYthUIhkUhevXp1/PjxlStXrlix4sCBA1FRUTU1NXCXUFlisTgtLe3q1au+vr6HDh3y9PS8dOlSYWEhvl7SaEVFkJZ2CGSHhYVZWFjo6+sbqR4D1WNkZGRoaGhsbLxkyZLm5ua6urrw8PBjx46NHj1aT0/PwMDA3t5+7dq1K1eudHBwmKp6XFxcwsPDUTc1FaGa8ERvSwAwpampadu2bWPHjk1PT6cWUSs6IiLC1dV1xIgR+vr627ZtEwqFLMsWFBScPHlywYIFxsbGI0eOxMjKt6aa6L7+5EH2V0l06f9isfjdu3cXLlyYNWuWgYGBr69vW8CRZdmKiooLFy7Y29s7OjoGBAS8e/dOJBJpmrwuMaIrERxdcrk8ISFhzpw55ubmAwYM0NPTEwgEZmZmy5YtS0tLg1eMzK6u7Drzrr6+3tXV1cDA4MCBA/CdIzVqrTUnNR64Gx9bQbb0L5DdeuNjoZhVKNoC2QqVw/7t27ceHh42NjZmZmYvXrxQA9lKpbK6uvrw4cOTJ08+ceJEcnLyn3/+uXXrVnt7+8ePH6MpMdrJ5fLExERHR0cnJ6eYmJj09PTAwMBZs2Zt3bq1pKSE6456/fr1/PnzlyxZEhkZmZmZGRgY+Ouvv27evPn9+/ewY5jSNDY2+vn5TZ48+fDhw+np6UlJSW5ubnZ2dgEBAWKxGE2mVT58YL+QAMuyLR+pfH197ezsHBwc7Ozshg8frqenN2HChIiICBrRMNglJiYuXrx406ZN0dHRycnJ0dHRq1evnjhxYmBgIDmzad5FX1ceP35sYWExfvz4oqKiPiITrjX7yWndLQIrJxaLW+DN0aNHJ06cOHDgwAcPHpC/A62sUCiEQuGVK1cmTJgwYMAAQ0NDRvUMGzbM09Pz8+fPsFEKhUIkEgUEBMydO/fgwYMJCQmpqamhoaHz58+3t7dPTEwku6fWKGBSF8gGNm9ubt65c+fYsWPnz5+/VPUsWbIExIQJEwwNDY8dO4a8WJatra3dunUrwzDGxsZwrohEovfv30dERCxZsoRhGAsLi9u3b4vFYkoCfKZbZPzbHpQA9CY1NXXs2LEMw7RMy/BFTA0osywrEonKy8sdHR0Zhtm1axe+pEilUqFQePfuXSMjI0tLSx5k62waHmTrFE/bL6GN2dnZf/zxx6ZNmwYMGABdhTmDDiM1Yubm5m7ZssXCwmLVqlWpqancaGT42i6tW2/ATGFh4SLVc/Xq1YcPH54+fXr27Nl6enoMw2zYsAEe2W4Vo5G4ubn5zp07Q4YMYRjG09Oz4yAbIxD+Esj++8ZHlSdbB8iWyeUyufy/RaKnT5+eOHFi3rx5DMMYGho+f/6cvjP8lblcfuvWrcGDB2/YsKGmpgZfG8rKymbNmmVlZfXnn38iPsuy79+/d3JyGjZsGMA32vT8+fOGhoaenp742saybHV19fLlywcNGhQREYE4Mpns/PnzQ4cO9fDwqKmpwdjJsmxISIixsbGzs3NTUxNivnv37pdffrG2tn727BlXfzTkygf0AwlIpdI7d+4sWrTowYMHxcXF+fn5AQEBU6dOZRhm7ty5Hz58QKOzLPvx48cFCxbMmDEjJycH7c6ybGZm5oQJE+zt7fElFiaCqq1QKDIzM2fOnMkwzOTJkwGyf2adIRPadwhqrLYIuVz+/PnzkydPLlq0SF9f38DAIDg4WI1/pVIZFhY2fvz43bt3+/v7BwYGenh4jBs3Dgj22rVrNI4kJiaOGzduxYoVFRUVUC2FQhEeHq6vr79hwwZM6tQyhw1UKpW6QDYmeYmJiS4uLtHR0RUVFXVfn4aGhsrKyv3795ubm8fGxpLutqzQ9fHxYRjG1NQUVcIruVyelZUFrR0zZkxqaipEQz2hLUnx4b0hgebm5oMHD5qYmDAMQ9ZHU0WAs9etW6enp7dz507ucqWoqCgzMzMeZLfXOjzIbk9CbbyH3ahRPQUFBba2tgSy4Yakz3Msy+bm5jo7OxsbG2/ZsqW0tBTOUayAItcFmbw2Cux6MHK+ePHijh07SkpKsEpYIpHk5+c7OTkxDGNlZQUvL8roEU5Ylv3zzz+XLl06ffp0hmEOHjyIr5Za68stEd0c0bCR8R/Xqks65MmWfpGJZdKSkpLGxsYnT54YGxsbGhqijlwn4ocPHxwcHMzMzEJCQrCcGj5pX19fhmG2bNnS0NCAIeDWrVumpqZLly6tqqqiMSwvL2/MmDGjRo16+fIlvtffvn3b1NR0wYIF1dXVCGFZNi8vb/r06RYWFrGxsQisrKycP38+wzD3798nbCSRSPz8/AQCwfr16/FRrutNzqf83hJo6Wg+Pj7Z2dnQbfy9deuWmZnZkCFD8HkWgTExMUZGRmvWrKmvr6fPJk1NTTt27DA3N8ekjtspWJatr68/cODA4sWLzczMJk2aVFBQQMpGiOVnIL53I3e9fCwCKS8vr6+vf/r06dChQ/X09EJDQwGa0dyYtG/duvXatWu0aFYkEsXExABnOzo6NjU1gQk/Pz9DQ8OjR4/S1naWZcvLyydPnmxjY1NUVAR/gRqIQtp/gGwEkfZgMIuMjHzw4AFovILCtSzYnTt37owZM8rKysgh0YLLT5w4AZD94MEDuC6QSiKRHDp0CK6dwMBAqiflidL5v99AAgUFBTNnzvz1118HqJ4bN25wx2ZSFIDsDRs2CASC7du3Y38V2IuMjORBdgdaqh2Q3YEcftIoUEIA1srKSnt7e4Zhjh8/Tq4FyIVl2Zqaml27dgkEghkzZmRlZXGdqfQtGLn1nigbGhp27dr1+vVrsEefnkNDQwcOHGhsbHznzh2ukUQ08ENLF7iBulnF8LB79+5Lly7t3r1bT0/v4MGD2NunmZBQJhEw4H+VrlQCZMtYZQeXi7Tulfwi+6JQYPHr27dvTU1NuSCbjMnt27cHDhw4ffr0vLw8pVJJ2xajoqIYhhk1ahTa6/Pnz0uWLBEIBL6+vsgTWLyhoWH58uX6+vpubm5SqbSurm7BggUCgeDUqVPczW11dXXr169nGMbNzU0kErEs+/jxYzMzsxEjRuTm5nJr/ezZs8GDB2POoykoPqQfSSAvLw+f6anHsSyblJQ0cuRIc3PztLQ0mepRKpX+/v4MwyxYsKCyspKwDUD2kCFDwsPD/55wqnYlyWSye/fu7dixIyQkZPjw4ZMnTy4oKOBRSj/SDTSoXC7H8JGWlmZpaakVZCcmJu7du5c+ssHsNDc379mzh2EYrBRC0+/fv59hGFdXV4LjWKA4bdq00aNH5+bm0q42gk/k2tAFsiHW5uZmoVBICRDIsmx8fPzQoUP37t2Lz5QYz7ggOyQkhKw5LN3vv/8OkH3nzh2wQkrfv5qwX3PLsuylS5fmzZv3+PHjX375hWEYZ2dnLD/i6gcmSEKhcMOGDVguwt1nHR0dbWZmZmVllZ6e3q+l0cvM8yC7KwImPQRa/fTp06xZsxiGOXbsGMZUQk5SqTQgIGDIkCGGhoYXLlzgulEJ6oEDNQvWFbbaTlNdXf3gwYPGxkYajAGd09LSRo8ebWpqeu/ePfCMCFKpNC0tLTQ09MGDB/Hx8Rj+CZq3XY4S/nuxWHzy5MkDBw5UVVW5ublhuQjgqWZakhURZJa5nuxOgWy56lYa2PykpCRNkK1UKuvq6tatW8cwjIuLS21tLRoOViUnJ2fYsGF6enpXr15lWfbFixfDhg0zMTHhDhlyuVwikRw5ckQgEEydOvXjx48pKSnm5ubGxsZRUVGoC9pUIpEcPXpUIBDY29u/f/9eoVBAJrNmzYKnHDJRKBSFhYVTp041NDQ8ceIEtnFriosP6RcSaGl06uyEJeLi4oYOHQp9o8DHjx8bGRkNGTLE39+fZt0FBQV2dna2trb5+flUX/TNV69eLV68+PXr1wkJCebm5jzIJvn0IwKWAdYmIyNj5MiRBgYGISEhZIWgHmlpaS1bHlEvJAGaDQgIYBhm0qRJxcXF0Irff//dwMBg4sSJL1++hBFmWfbZs2fm5uZOTk4NDQ00ZnEJ5KwFZOMFWWQc/kp+CNLd06dPDxo0iPb7YxLQ4kvHp8ABAwY8fPgQmWDnuEQi2b59O0B2TEwM4qMCVFY/asX+y2pDQ4OLi8vx48dbPoUcP35cIBAMHjw4MjKS5n+kJTi8b+PGjZjDaYLskSNH8iBbpybwIFuneNp4SRoI4tOnT7Nnz2YY5ujRowSyYUA/fPiAJRkTJkzIyMgoLi5+pnqysrLg2QVy7VWETZsaYc24dcrKyrKxsRk8ePCTJ0+I8+rq6rNnzy5btszR0XHq1KnDhw9fsWIFrSPnJm+LxvQ4JSVFLpfD6bJv3z44cTVtKYUQ0X2QrWTZ1uM8VQd3agXZWGaNpSy7du2ir64wMvjMitXqcrn8xo0bAoFg+PDhCQkJxCQc//7+/gYGBgMGDEhMTAwMDGQYZujQoUlJSRA1dEChUFy9elVfX9/c3BwzFmiLs7MzfSXAuEjLSJycnD5//tyWePnwfiEB6m7AEhKJ5MCBA3PnzkW/IKDy8eNH6IO1tXV4eLhEIhEKhT4+PoMGDTp//jz3pEiZTFZdXb1u3brLly/LZLKEhIQRI0bwILtfKIMak7AMMFBZWVmjR482NDR88OABF2TD9wzlIdyMaVhQUBDDMHPmzKmtrUUmL1++tLKywop/2Ora2tq1a9eam5tHRkbiHJK2Rpl2QDZ4wkAFrIyMPn/+vHjxYnt7+9LSUlhDfApsmVxiuQjcEgjEmbU3btwYOnSokZHRjh07aBsQD7LVlOMb/IyLi5s/fz4UJSkpCcuP1q9fj1GHQAnUVCgUagXZMTExZmZmPMhur714kN2ehLS9J5ANbdQKsmH7nj9/bmlpyTDM9OnT9+7du2LFiunTp1taWo4dO3bHjh05OTlcq6WtqB4Ig4Hm4jnC00+ePBk8ePC8efPoIL/GxkZ3d/d169alp6dXV1fn5uauX7/e0NBw/vz5eXl5bZlp4pJl2dLS0i1btoSGhsrlcrFYDK/t/v37+xrIfvv2LYalo0ePAsqQiBobG/Fp4tdff62urvby8mIYZuzYsWlpaRAdGpdlWSyobfl0GxIScuTIEYZhxowZg0UgJGSWZR89eoTTrgIDAzMzM6VP+yoAACAASURBVK2trRmG2blzJ8kTRGNj46pVqxiGsbe3LysrI6nyRP+VANSgqqrq9OnTdnZ2t2/fxiIBAtkymSwuLm7y5MlYoXRc9SxduvTKlSt1dXXcikul0jNnzri7u+OTVHx8/IgRI7AmmwA9Nz5P91kJdBBkg38abvBTKpViY+GhQ4dozi8SiS5fvmxhYcEwjJ2d3cWLF3ft2rVs2bLo6Ghs8EAmWgXSJsgmM0dfXQl+sSybmJhoZWXl7e0N48WdDZw8eZJhGH19/fXr1586der48eP79+9fuHDhiBEjxo4d+8cff3z+/BnWlhA21UQri3xgj0gAMq+pqdm0aZObmxsOeJFKpfv37xcIBJaWlq9evYLBIp3T4cl+8uSJmZnZqFGj0tLSeoS9HzQTHmR3pWFJA+FXqKio0PRk49XVq1eNjIyw5jIyMjI3NzctLe3ChQuwho6Ojtgx0hUmOpMGOBvGkBzbCoXi5MmTgwYNgmMM4ffv3588eTJgItDA06dPhw8fLhAIfv/993bXMDQ2Nnp6enp7e8MsNzc37969WyAQeHh49BjIVl1GQ6eLiFkx95zsLwrFF4WiI57sp0+fDhkyRF9f38/Pj4YJDCsSiWTu3LkMw9ja2r57927Hjh0Mw0yZMgViITGyLPv8+fOBAwcyDHPx4sXNmzczDDNhwgRsM+KCbMz5BQLB5cuXX758iRNXDh48SCMLNIpcBhMnTsRuts40Mh+3L0rg8+fPsbGxq1atMjIyEggE48eP9/f3p7M7aYdGdHT0hAkTGIYRCAQWFhb37t2DAYGyoTc9efJkyZIlWF8rk8ni4+OHDx8OVeFBdl9s+7Z5ahdkc5PScINU1dXVjo6O1tbWKSkpMDJQFYlEcunSJeyh1NPTmzx5cnJyMpZ46FYPXSCb+OAyoVAoWk6ZOH78uLm5eVhYGF4hJnzmx48fhyrPmTNnzZo1zs7O8+fPt7a2NjExmTJlip+fX35+PoFsLpSn4niiNyQAZ9Lr169tbGzCwsLg4WNZ9smTJ/AFHjp0SK2heZDd7YbgQXZXREh6qANk41ZFLE6zsLCIiYmhSbtUKr127ZqZmRnDMGfPnsXyza7w0fk04BzYrqioaPbs2WvXrq2qqoKhq62tdXR0nDJlSmxsbMuh2gkJCS9evAgKCoLn1cnJqbKykiAm17QiUCaT+fv7L1myJD8/H9YfnmyBQODp6dnWiRkENIkAM6gcHeH395psLshWXauuYL/QZTQdAdloiNjY2MGDBxsYGJw7d474R9EymQynf9ja2ubl5eHUV9A0z0cmz58/NzU1RTtu2rSJYZiJEyfSBVgk7ejoaHNzc4Zhzp8//+zZs0GDBjEMc+TIEaoyZkFCoRCZjB07Nicnp/PNy6focxJISUk5duzYhg0bpk2bhvOyLC0tsR4VmAlNX1dX5+3tPXjwYCxYtbOzi4qKampqoh20+fn5zs7OdFqDUqmMj48fNmzYpEmTsG4bukTQnNB5n5MIz5Cyde8K2otlWa3LRbhCok+RSPXo0aORI0deunRJKBRCPWjPemlp6cqVKwcOHNiy/VogECxdujQzMxOpyNRwcwbdCZCN2Z5Sqfz06dPChQunTp0KY0eubqVSyV2THRQUJBQKRSJRbW1tTk6Or6/voEGDDAwMZs2ahat3uMuyNTnjQ3pWAli6c+rUqXnz5n348AG7RuRyeUVFxdKlSxmGmTp1Ko4XJYjDg+xuNwEPsrsiQtJAHSAbp3F5eHjAu1lcXEyGCIdw4cDQpUuX1tfXf5sRkTAfrhnz8PCYP38+93TepKQkc3PzliucnJ2dV69e7eLisnLlShcXF0dHx/nz57u6un769IlMNg0SgJu4tc7JySkhIQEyhf10d3fnHuGnWVOy/kR8A5CtVCqfP38Or4+fnx+8KuRbIZA9bdq04uLi3bt3Az3n5eURyIYcyJN9+fLl7du3I9q7d+9IJrhCODo6Gt7rixcvvnr1aujQoQzDeHl5UZWRm0gkwuK3cePGcXe8dUVH+TR9QwIymQzLrMvKyo4ePYrvHtu3b+euUJJIJOfPn3dwcLh27drmzZuBxa2srEJDQ3FPKtZz+/j4wPeEDvL06dMWTyJ2v6GuAFtknfqGAHgutEgA/R3t2EGQjVzKy8sXLFiwb98+HFiMfGBUP3/+7OHh4ezs7O/v/+uvv+LaGltb2zdv3sAcaeFDFdQ+yCaVAt6nc0XoCkAa29RA9sOHD7kqKxaLL1y4AFO4cuXKuro6sK6bv7b45sM7KwGs5nRwcLC0tJw3b96CBQtwd8bChQtHjhypp3ouXbpEa1ihXvSB1dXVlbvxkV8u0jH58yC7Y3L6ZyyyOTpANszOwYMHsQ2cbmWjVW3AZLa2th8/fvxn9r3yi4uwWdVlKA4ODgkJCeQLYVk2OjrawMDAycmpqalJLBa33CoglUrFYjFtaIEJDQkJ+ePrc/78+bNnz0ZGRlZXV2/dunX37t3v378vLi4uUj3FxcV0wmZeXt779+/pni+qJAFNIjoCsv+6Vv2rJ5tlFXJ567XqHfFkI//U1NSRI0cKBIITJ05ACGTwhUIhRqm5c+fW1dUdPXqUYZiWux4yMzPVQHZcXBwg0cOHD48dO4al29zlInAWPHr0aMCAAQYGBoGBgXl5eTY2NgzDuLu7A9ZDVViWbWxsXLNmDS4H+PDhA4mIJ/q7BIAiampqtmzZwjDMtGnTcAmRUqkUiUR//PGHjY3NnTt35HJ5bW3t77//juVkU6ZMwd4kf3//+fPnv3jxAt3q3bt379+/DwwMNDc3HzduXHx8fGFhIY4AwvIAdPb+LrQfmP/OgmyYpqampgMHDqxevRpeSK58Kioqtm3bNmXKFFyhVVpa6urqCtO0bNkyuhuSm4ToToBscjz7+fmZmprevn2bjDXpHHmyW05xDwsLo28rMLLV1dXYb25lZYU9LsiBa/2JM57oWQnIZLL79+/PmjXrxo0bQUFBDx48wN/79++fP39+1KhRWNFfWlpKEIf3ZHe7CXiQ3RURkgbqANkYVk+fPk3rdIFQJRIJUmHzytixY7EsG2a0K9x0LA18EMBzr169Wr9+fVxcHE44IQfYw4cPjYyMHBwcCAGQ6cOowLJsQ0PDggULDP75rFixIjEx0cLCYvDgwaNHjx4zZoy1tfVo1TNgwICWtciDBg2ytraePHky3fNFXFMRRJDd1n6En2q5SPdB9vv376dNm8YwjIeHh1TaCtDxsCxbWVk5ZcoUhmE2btwok8lu3bqlr69vZWWFg8YxTULkoKAgIyMjMzOzN2/eBAcHCwSCESNGYOwgOM6ybEBAgLGx8dChQ+Pj42trax0cHOjoEuSD1q+pqcFZNKtWrcK5AX/xxP+vn0uALEZcXNygQYNsbGzq6+uh54mJicOHD587d+6nT5/QPYVC4Z07d8zNzQUCwf79+ysqKjZs2GBkZDRy5Ejrr8/o0aOHDRsmEAgMDAwsLS2trKwOHDiAbQ+kUb1tUvp5m3xP9jsFsmEYpVLp5cuXN27c+OnTJ2BdTNGR1fXr101MTPbs2UN2o6amxtvbW09Pz8DA4N69e4SBNavdPsiGXmLXjlKpbGpqcnZ2HjduHO4RAH9UQFsgG+w2NjZiKZ6JiQnOtOJBtmaT9FJIVVXV4sWL9+7dC3TC/SuTybZt26avry8QCO7fv0+NwoPsbrcFD7K7IkIaMnWAbGhpcHCwoaGhlZXV27dvMeYRWj1z5gxuRf748SMAWVdY6UwacJuUlLR06dJHjx6BH1hIAMfw8PABAwZYWVkB93P7oFwub25urqurk0qlb9++ffL1iYmJiY6OzlI9S5YsmTlz5qxZs3755ZfZs2fPUj3wyQ0dOnTatGkODg6aG5EJWxMB0aFmba3J7g7IRr0aGxuxAHrdunVAPCTL/Px8S0tLfX19nJP9+vVrS0tLMzMzOhCWZVm4+Y8fP66vrz99+vTy8vL09PThw4ebmZnFxcWhCOiJTCY7deqUvr6+nZ3d+/fvW27q2bt3L8MwDg4OBO4Rs7i4eMaMGS13LJ85c4bObiOueKK/SwBLqiwsLGxtbel+4gsXLjAMs2PHjqamJjIO2DEMJSksLDx8+LCdnR06F7rVrFmzxo0bJxAIjIyMJk+ebGtre+zYMVwYQpinv4vrB+a/4yAbMcVi8b1799atW1dWVgZbAcgK77BUKt22bRvDMNjCTnKrqqrCF7ndu3frsCcdBdmA9gqFIjk52cbGZvPmzfX19WS1yfegFWTDpisUipqammnTpuFIVN6TTU31bYiYmBhLS8vIyEgsZgXsIDo2Nhaj9bp164AVMIzpWC5iamo6cuRIGtShmt+mLv2nFB5kd6WtoEu0Pk3r6SIwf5mZmWPGjDE1NQ0ICKC1AVDdw4cP46Il3EjSe24n0nxssnF1dQ0PDxeJRDg8BMy0THGTkpJevnw5fPhwAwODkydPtphKqqZSqRSLxQEBAW/evOFOcQlKwtI2NDTU1tbW19c3qJ561bN37159fX13d/fPnz+3LL2AWLhCJytNRPdBtkLnOdlU0L1790xMTGbMmEEnvcJlExcXJxAIrK2t6cZHJycngUBw+vRprJHF5QyNjY0rV640MDDYv3+/XC5vbGxcsmSJvr7+uXPnsBQbA2RDQwMOHnF3d4fMIyIiMJnBSn3yE71588bc3HzUqFFYRsmVEk//ABJQKBTp6emDBw/etGkTbVbDcWfbtm3DkSO4bYRl2bCwsKFDh86aNev9+/d1dXX1Gs/Tp0+HDRtmY2OTkZFRX1+Pk38wYtJnqx9AaD9kFcja6974SM6X+/fvb9myJSsri1Ybgmg5YrWwsFChUGCZ2bVr12jeDit67NgxgUCwZcsWoVDYliQ7BLJhpLAa6dy5cy17d/z9/WHO8AoM4Y4uLLAzMzMLDg6G/xt6KZVKb968iX0JCxYsqKurwxBCFrktFvnw7kgA41Bzc/OOHTvg6cEwTMgAuoJjaxiGGTFixNu3b2GhlEplc3Nzy1GMUCN4AqBkMTExAwcOtLKyyszM1HGhaHc4/yHS8iC7W80ILf348SOuVff19aWxE6/q6+tdXV1xWRKm/bSKYPXq1QzDXLhwgTBWt1hpOzG6mEKhyM/PX7Nmza1bt4RCYZPqaW5ubmpqqqys9PPzu3btWnl5+bx58xiGGTZs2PPnzzGbxbLR4ODgLVu2lJaWtl1O6xuymWQ2PT099fT0vLy8qF+r5UAxieg+yP5rZbaKH1yrLhAI6CoZNAHLsmVlZbNnz8ZdPLASAMd+fn4Mw2zevJluqbx586axsfGyZctqamowXsjl8qKiogkTJlhYWLx+/RpCDgwMHDBgwMKFC3HTAmxRcXGxvb39iBEjYmNjIVKyZuQal0qlMpns6tWrenp6GzduFAqFNCVTExf/s19IADAXwANbGqBgt27dGj58ONodCn/nzh2GYZycnGpqamjHAs5WHzJkyNq1a7kXtXLr/uLFi+HDh0+YMKGgoAAFkWeKO3pyk/B035EAWp9l2czMTFy7i6/0mGXRZ0aWZSMjI9etW5ecnIzbzZubmxsbG+vr63HwERZh79u3DxfrYq4Fe8Ky7LFjx1q2s50+fZprXdWE0D7I5nJTWVnp6Og4adKk7OxsyggKB1d3dXU1/OomJianT5+uqKiorq4uLy9/+/btqVOnLCws9PX1J02a9OTJEzhykAlNOyhPnugpCcAYxcbGjhw5cuXKldXV1SRzErtCoRCJRAArAoHA2dkZy5IUCkV1dfWKFSsYhlm7di3uRkby4OBgMzOz4cOHv3nzBgqAgojuKf77eT48yO6BBszNzcVWNm9vby7KBOB++/bttGnTRo0aFRERQR9hMjIyxo0b5+joCNjaq4MizGtRUdGKFSsGDRo0b968RYsWLVy4cPHixQsXLlywYMEvv/zy66+/ZmRkyOXyoKAgHDY3ffr0S5cuvXjxIjo6+tixY/PmzYuKiuK6SXQLjkAGWX/4gDVTkfUnoqdANqQaGRlpaGhoYGAQHR1N3R+2RSaTXbt2beDAgTt37qypqUHblZaW/vrrr6NGjcLoBfjy7t27xYsXW1lZRUVFYShRKpVXr14dMGCAu7t7bW0tQPanT5+cnJyGDBny5MkT1EIul1+7dm3YsGG7d+/+/Pkz3DosywYGBpqZmW3YsAEXjsjl8nfv3jk6Oo4ZMyY2NpY8WJri4kP6hQRa7nLau3evj49Pamoq+ZhTU1OXLVt24MCB6upqMhS5ubnTp0+3sLAIDw/HNlmFQlFbW7t3714rK6vg4GBMtzRNxKtXr0aMGDFx4kQ6MZPUu1+I6GdmEvYHf589ezZ48GBDQ8OAgACaJhERHh4+RvUsXrzY0dFx4dcH1/GuX78ex6o+efJk1KhRtra2tC5RqVTClE2YMCE9PV2HSekQyIaBE4lEz58/HzRo0IoVKzD5o1aE1kZFRXl4eGDHJcMwAwYMsLe3t7Ozs7W1tbS0NDU1tbCw2L59O/e+rt52MhGHPy0hFApDQkKwzcjKyurChQvY2kiflRUKRXFx8d27d+EsxBnnO3fuzM7ObjkD0tfXFwfCWFlZXblypays7OPHjzExMYsWLcIa7k2bNj179gxf5Lknk/y0Av9nxXmQ/U95dPJXfX19QkKCm5ubsbExTpl8+PBhamoqFkfCdyWXyyMiIiZOnDhhwoSAgICcnJzo6Ohff/31t99+UzsSrpOFdyJ6XV0dzobDuU6af3fu3AnvqUgk8vb2pghGqmfcuHHBwcE6zDSXFaAHspwA2diVRdNmtfj42eMgOysrKyIiAvcEMQyzevXqiIiIzMxMTBUwajQ0NBw6dMjGxubEiRN5eXlJSUlr164dN24c7ckh4PLmzZvZs2fPnTs3Li4uPz8/ICBg0qRJa9as4V7NqFAo0tLSfvnll1mzZsXHxxcUFISGhk6fPn3t2rUlJSUoEUtNmpqazpw5M3LkyMOHD+fm5mZkZGzbtm3s2LEPHjzg+ne4guLpfiSBkJAQfBUfPXq0r69vdHT0jRs31q5de/XqVSwLobrI5fJnz55NnTp1woQJN2/ezMrKSk1NPXz4sKWl5fHjx2kvIyZ7lIrOyZ4yZUpBQQHm85pAnBufp/uUBFiWLSwsjIiIwF5nhmGWLVsWHh6el5cH8COTyZKTkydOnEjWWI0wNjamOVhTU9PVq1dHjhz522+/PX78OCsrC7vbhw8fHhAQAGvcVvU7CrJhv2JjYx0dHQMDAzEjpEwVCkVTU1NsbGxERMTDhw+Dg4Mffn1wikVwcPCzZ89ycnKAxmicoBx4opckIBKJXr169ejRo1DVEx0djaX95PNTKBQlJSXR0dGhoaEhqufhw4ePHz8uKCjIzMxEOKUtLCwsLy9vuaX2keoJDQ0NDw9//vx5Y2Mj78nW1oI8yNYmlQ6HVVdXx8fHh4WFPXr0KCwsLDQ0NCYmJikpibaIgJBIJGlpaX5+fq6urvv37/f09Lx27VphYSF9Gezt0bG+vj4mJuarzVP//6NHj8gZxrJsTU1NSEjIrl27li5d6uLicuzYsTdv3qhZVB0SgvEEYmZZNi0tLSwsLDMzUxMlIBPC1kTo8mTLWPbf3xQI1uje+PhFoZDJ5dnZ2U+fPiW7ERYW9vTp05ycHCwCoYU9dXV1UVFRhw8fPnjw4IEDB3x9fbEgjeYJGFykUml2dvYff/zh7u7u7e29f//+u3fvVlVVYUQE83A6FhYWnj9//sCBA15eXvv27bt58yb3PD4aXBobG6Ojow+qHk9PTx8fn4SEBNxMpHU2okPm/Ku+JoG6urobN25s2rTJyclp7dq1Xl5eAQEBGRkZtCCEJm+YisM+uLm57d279+DBg8ePH4+KiqI1q1pBUlVVVWRkZGxsLB20z6tNX1MDHfwoFIrCwsLY2Njw8PCHDx+GhoaGhYXFxsbCC4A1ae/evXv8+DG9DeM8LbP3qKgofEODwRQKhS9fvvTx8dm9e7eHh4eXl9eZM2fevHlD87S21KN9kA39gwUXi8VNTU20GptqCCtJ1l8HoVWbKR+e6A0J0KhD7cJtL5SIMQyGCdHw9ZmScAkaFAkZcCf6vQ1oekNEvZYnD7K7JVqYQtg4NQ2kQRSmDQosFosbGxtFIhGWaUItYbvasoDd4k+VmMuYbhrWD3FwQjb2pCOkLZSsySEXLqtZY81qUmQiegRkf1HdqcatLzUTTeBRIuJIJBKRSIRDweGzV/vwRe0okUiam5vRiKg7coD0EE2hUGDhOw7vp1W5VDUyZXK5XCQS4awS+nynKVI+pH9JgLoMLryDGnC/BXHtA/RQpnqam5vRZRBZs79w5aCm3qRd3Dg83WclwG0+ovGli+wDxgiyXRSNrA2ZTczwZTKZUPXgrFha26YD2bYPsmnzIhlB8MGVLBk+sK45WsDNCS3XrdbcbHm6RySARqGs6KdaO0JdaIEavID4ibSwStS4IAhew2GAzPkm/iptHmR/lURX/w8bh3kdVxtJ0/BKoVCoAVYdVq+rvGhPR5wA6tFPItQgIMuyNMyzLNtZq0jGFtLgLn5Q69FglwYJIrhYQf0Ivw57sr+oqqdWIjUWWQD65oAQROAaDa6U0GTEJ72i3FAcZYKfatG4cbjeBEqlvRX50H4lAa5KgHFM7agSXK2AM4iUAXGQA7dvUloioEuIA5pe8UTflwB0AIoBWvMuIa4t4taIdncQ/gbCIZtDxgqeIFJIbiagOwSyuWidLKBmXnxI/5KAmtXgWqV2aa011aFnWuP/BIE8yO5uI6tpKWXHVVEKVCO+jUJyOdFBq/HW5Z+oFAqC3aestMqKLDYRPQiy260v8UlMaiV0tJSOV1qzghDa/as1LR/440lAtwbqfkvS6KwSUkKe6JsS6FSDqtlV6Ax8HMDo5HnUWtkOgWw1RewUf1pL5QP7ggS0qg7aut2/fYH//sADD7K720pqWtrd7Pp/ejK/IMhP01bNCFsT8S1Bdltc9V54u/Ca16jeEz6fMy+BH08CahaD0BGc2boRtlKp7CjI5vrMycr/eNL8qWrUluqQDukgfipBdaOyPMjuhvBUSdW0tLvZ/RDpAZdhh2m1TFtmmbA1ETzI5orih9AIvhK8BHgJ9JYEujkGtQ+yaWkjb5h6qw2/U75QHfr7nbj4sYvlQXZ327ebBq67xffJ9DDFgNdAzG0hbC6e5hpworu5JrsPzsPJoOkm+mTD8kzxEuAl0OckoGZJOstfh0B2ZzPl4/dxCWBo7Kbq9PE69g32eJDd3XaAlnYhFx24swu5dSEJAdkupNWRhCsQFME9VEEzIbFBBBd58yBbU2J8CC8BXgK8BEgC3URKPMgmSf5EBEA2xloap7ljcE/JQhPooBTNcHww4TrGeoqH75oPD7K/q/iVSq2a1ts8fbNCAa91H0ZG/ZqIDoDsVe2ek43TRbgdVo3ugpDVcqCfbWVFEdQErjYoav3ZVp58OC8BXgK8BHpQAjzI7kFh9pusaNThrgXiBvZUTbijIGjak6tZhFpkzQj9MIQH2d+t0XpDnztYGdLkDsbvcjTsbdcxceXi6R4E2VRBHUSXK9XZhGoIm3wHpABaic6WwsfnJcBLgJdAFyTQIZCtw5LilaYbUi0JgTmK3wVe+STdkQC1iNYhR3Og0iyLcmi3ESmCZlk4spTGeyqXDjGlJJpXSBIDpG9gkoqjCERojUnxNevY0yE8yO4BiVJrQlu0Nh83ELRQKKyqqvr8+XMPcKAzC9JhUjbSYdJzInTm1OmXyBbFtZWYiiaCi7zbWC7Sjieb2yJt0eCHu5SFYmqyChly5Ua0jrGD4qBq1BAkFs2C+BBeArwEfgYJ0Pc9MjtqBITADSQDDuyBCGRbKGZbZqctqXYIZDc0NCQkJERGRkZ/faKioiJVT0RExKtXryQSSW1t7dOnT6NUT0RERFRU1OPHj8NVT1RUVMs974WFhUKhkOxgWwzx4b0kAeiNVCotKCjw9/f39PTctm3b5s2bd+7ceerUqWfPnlVXV5MaaeUBh65XV1f7+fklJSVxx2y1+EDMQqEwLi7Oy8try5Yt27dvP3v2bGJiYn19fVRU1Lt370h3MeQXFRVdv359165dGzZsOHjwYEBAQFFRUWZm5sOHD5uamnBVW0ZGRmRkZERERGRk5GPVAz2Mjo6OjIyMiop69OhReHg4NPP9+/fcs3VwnXVkZOSNGzdwV5Maz73zkwfZ3ZUrbGVZWdnNmzcfP35MplMtX7S1XC5/9+6dv7//wYMHfXx8rl27lpubqxazx39yAWJJScmNGzd27ty5bt267du3BwQEVFRUQMO5N+l0nwd0VZZl8/Pz3d3dg4KCpFKp1mypnxLRDsi++rpA0CbIliuVcq3FaAvEaIRDBnFrup+fX0FBAZcTpFMoFGKxOC0t7eLFi4cOHfL29vbw8Lh+/Xp5eTmSw2dfWVkZFxf35MkTDDRRUVFfR6ToqKiojIwMutMRqSorKyMjIzEM4e/Dhw8DAwP5kUhbc/FhvAR+KAmwLPvx48fQ0NAI1fNI9QQEBAQFBTU1NaGqhHlkMlldXV14ePi5c+caGhoIPNBtNWKxOCUl5fjx4xs3bly3bp2Xl1dcXBxuQNMttQ6B7MjIyCFDhjBtPA4ODg2qJygoaOfOncbGxohoZWU1c+ZMe3v7KVOmWFpa2tjYrF+/Pj4+Xu0CBd388W97SgIKhaKhoeH69esTJ04cOXLk1q1bAwMDQ0NDz507N3v27IEDB65YsSI5OZnreVIrGkNmfHz8kCFDDhw4IJFINAdLSlJfX+/j4zNo0CA7O7sjR46cO3du8+bNU6ZMmT179ujRo1++fIm0gOMZGRnz5s0bOHDg2rVrr1y54uPj4+DgMGnSpPHjx8+fP7+2thaKvmrVKqiWubm5tbX1uHHjzM3NEWJpaTl+/PixY8cOcYZ2dwAAIABJREFUGjSIYRiBQHD9+nXqJ42NjfHx8atWrTIyMpo/fz5u8Pom8z0eZJNGdJGoqam5devWL7/8wjCMr69vW/rJsqxQKLxz586MGTOmTZt2/fr1srKyLhbZyWSYvrIsm5SUBD7JUurr6zs5OeXn5+MK8U5mrCs6dFskErm7u+vp6Xl4eIhEIq0JqJMS8c1ANs0uCgsLfX19bWxsjI2N//zzTy4n4FkikQQHB0+fPt3V1fXNmzfp6elBQUHTpk2bO3duTk4OPn8plcoLFy4YGBiQeNUINzc3kjMMy9mzZ9XiCASC06dPc69X0yo0PpCXAC+Bfi0BWIATJ05oWoAzZ87Q6A9U09jY+OTJE2dnZwMDg9mzZ9fW1orFYsTBNexSqfTu3bvW1tbc3MzMzA4fPtzQ0KBbUO2DbJFItHPnzjFjxixatGjx4sVLVM/SpUsXL148ceJEAwODw4cPg1GWZevr6zds2MAwzIABA65du9bU1NTY2FhUVBQcHOzk5KSnp2dtbX337l2xWEyeed388W+7KQEaTsrLyw8ePDh48GBbW9tHjx41Nzej1RQKRWlp6aFDhwYNGmRjYxMWFgZvkOZAqFQqJRKJl5eXQCCYNm1aXl4euRVJZcEty7IhISFmZmazZ89OSUmBV0kul7f4oadOnWpsbBwcHIwZpFwuLy8vX7dunYmJia+vb01NDfD0hw8fDh06ZGZmNmPGjNLSUlya7eTkNGrUqMuXL6empr579y4vL8/NzU1fX9/Q0PDq1aslJSXFxcWvX7/29fUdMWLEmTNn4Nv7/Pnz/fv39+7da2VlxTCMo6Mj+o8az92UcxvJeZDdhmB0BgO2yuVyfN/YuHHjwIEDGYY5fvw4VE5NOeHQdXNzGzFihIuLS0pKCnSb/Jo6S+uBlyzLvn//fvny5fPmzTt37tydO3d8fHxmzZoFRLht27aqqqq2pgddK55lWbFYfP/+fQsLC4FA4O3t3ZMgW89FPtKTLRSySqWYFSvYLyyrkMtbPeWd8mTDYrx69erUqVMODg4YF2iCza34mzdvJk+e7OzsXFFRgcZlWfbBgwfGxsbbt29vampiWbaqqsrBwWHs2LGOjo5OqgeDkaOj45gxY0xMTAICAmA9AO6rqqrmzZs3bdo0+HrsVM+SJUvS0tJ6ti24FeFpXgK8BPqCBGAxfvvtN1tb25kzZ6L729nZrV69Ojc3F0YGGKCqqiowMHDfvn0WFhYMw8yZM6e+vp6m6xhKoqOj7e3tt23bdvXq1Zs3b+7Zs8fGxoZhGAMDg1u3bpE7T2vFdYFs8JGcnLxgwYLHjx83NDSIVY9QKJTJZCKR6NChQ0OHDn369CliymQyiURy9OhRhmHMzMwePnwIIIX74nNycqZOncowjKWlZUZGBsuyVA2tnPGBPSIB4JXm5ubDhw8bGhqOGjXq6dOn+JhAeobZ0Z49exiGsbGx0epqwrhVVFRkZ2fHMIyRkdGFCxfQvprtKJPJMNfy8vLChApzKpZlExMTJ02adPLkSbiTlUplTEyMmZnZuHHj0tPTabamUCjq6+v37t07ceLErKwsqeqZP3/+iRMnKI5YLPby8gIzDx8+RLhCoZDJZK6urr6+vvhA39DQUFFR0djYuG3bNoZhFi1axIPsHlGt3ssEjSiTyaqqqmpqakpKSmxtbbmebKguGGBZ9t27dytWrGAYZv369XBgk273HpPcnOVy+YULF1oWX5WXl6OnSKXS3NzcRYsWMQwzcuTItvoUN5NO0SzLvn792snJydbWVk9P7+DBg+R6UcuHZEUEOEQ0zppstvXLlJRlr74u0FsuH+nRfZCtUChEIlFJSUljY2NYWNjAgQONjY1fvHjB5QRsnDlzpuUTKMwC2GNZtqioaPz48ZMnT8Y0OywsbNGiRSkpKSKRCCORSCSSSCRVVVXOzs5kQMj/dP78+YULFxYVFX369Omj6ikvL6+pqWlrXY2a3PifvAR4CfRTCcAIXL9+3cXFJT8/v7y8/NOnT+Xl5R8/fsSyWKAFuCDr6+urqqpkMhkQwpw5cxoaGrifu2tra7dv3+7n59fY2IiEUqk0Li4Oju25c+dyl5doSkwXyAZGiYqK8vf3R5HEGcuynz59mjt37syZMz99+kRDmkwmO3nyJHBPaGgoeaRQGUCiFiR3//59wt+aPPEhPSsBlmUTEhJGjx7NMMyuXbskEgnXiUve6Ddv3owaNYphmIULF1ZWVuJrC31wwEeTK1eu/PLLL5MnT2YYZvbs2WVlZZScy3NNTc3ChQsZhnFzcyO9hPKwLHvkyJFdu3ZJpVKozc2bNxmGsba2fvPmDeLQHCAnJ2fhwoWvX79WKpVCoXDNmjWvXr1CiXK5vLm52cvLC57sBw8eECcsy96/f//EiROAHchTJBLt3buXYZjFixfzIJvbWH2QJpyENq2oqJg1axbDMMeOHUMIoTTMD/fv36+npzd58mT4sGG4uEreq3VkWRZTuOfPn5Nyovs8ePDA1NR0wIABgYGBeNVTnNTU1Hh4eJw9e3bXrl0MwxDI1qw1V1ZUOgX2NsiGHFiWffr06YgRI9oC2e7u7oaGhu7u7iKRiJbfFBYWjh8/fuLEicXFxXK5/OrVqy9evCDdoKlCamrq+PHjN27cWF9fD3ulVCpLSkqmTZt2+vRpGrkQnx93SAd4gpfADyyBsrIyOzu7s2fPYk4OQwQgyjUCNFiwLLt//354srkgm2XZt2/f7tu3Dx/Z4ACCj9jd3R1+yaKiIh3mXRfIhsFqamoSCoXkiSSo9OrVKwsLCzc3N6zNJcuIRTBGRkYPHz4kbyUQ1cWLFw0NDRmGuXXrluZg8AO397evGtQIjSKVSrds2UIzH0BYkj+B6aampnXr1mFBc2hoKA3DyAr+QgcHh1OnTl28eNFY9dy7dw/LJSk31LS+vn7+/PkMw0yaNCk+Pp6gM8p6+fKll5cXVEImkwUFBeGzi6ura2VlJT74YoWJWCw+c+ZMUlKSUqkUi8WZmZm1tbUEwYVCoZeXl56enqGhYXBwMBjGCoGPHz/m5eXRagGFQiEUCj08PHhP9rdXxS6UyAVSCoWiqqpq9uzZaiAbugT9GTZsmJGRkZ+fH22SgzKoqWUXOOlgks+fP9+7d6++vp76HYpOT0+3trYeMGDA7du3qd+hV+bn58fGxkZERCQmJmIxiVQqbZdhdKXm5mY/Pz83N7eW41P27NkjEAiwR0LrV0vqyEQQPG1lSamUscovCoWMJU/2nz3lyabFG0qlMi4uzsrKqi2QfezYMYZhbG1taUc1y7JPnjwxMzNbsWJFXV0dZlMtX0oxpnBreuPGDVNT05s3b6K/Q4b37t0zNDScM2fO/v377969m5WVJRKJIL12hdzBRuej8RLgJdA3JSCTyW7duqWvr+/g4ODm5ubv75+bmwvnGs5vgBEgcw0YoxVkKxSKxMTE+Ph4fJMnAKxUKu/evcswzOjRo7Ozs7sOsilHTeLcuXNDhgwJCQkhyyWTyaRSKZaLmJqahoWFYSAE9m9qatq9e7dAIDA0NHzy5Alv6XpbOwkc5+XlwY1tY2OTnZ0NyXNHXHDCsuz169exirRluQXpH8YzhUIRGBg4Y8aMtLQ0zBEZhlm5cmV1dbUmoFEoFJjk6enpzZ079+nTp83NzfCgy2SypqamiooK4CGpVJqUlIS1UAMHDvTx8cHnfmLy8+fPWJFJ4qJ6iUQib29veLJJDwmpqFVQJBKhC/HLRUiSfZwgDWw5U0LTkw3bUlFR4ezszDDMxIkT37x5k5ub++LFi4SEhIyMjPr6eh2GrwfrTlZOM8+srCxsxo2JiaEFcp8/f75169a2bduWLVtmb28/duzY9evXp6amdtAkyuXy2NhYBweHlu0HLTMQNzc3gUDg6emJM3M0M6GOQMS3BNmQCTzZFhYWbYHsp0+fWllZ6evrOzs7w0bV1tZu3LjR2to6IiKCO8TA80TjkVAo3Lx58/jx41s2/pMbWygUrl69Gg4dhmFMTEwmTZp0/PjxkpISrhA024sP4SXAS+AHkEBDQ4Ozs7NAIMA+RRMTk2nTpp04caKkpAS1U7OTsOH79u3T9GQT3oDNgfHEyOLv788wzMyZM+vq6tQy5MqwHU822TI1oq6uztnZ2dbW9v3799xXLYDM19cXa7KDg4Nh98VicXV19b1790aMGGFiYrJ169aKigoaQbnc8HTPSgBNExUVBW37/9l7E5ioku9t+HZ3WD82A4IZASP+NCoaQQ2CRkGD2+caFiUuGDfiiEZQ4xpFjOMSFY2iBreoQNj/gBpZDCiGzShIQOBD0SBKWAPdzdfddP+6+77I85/z3mkWAcEZnXszg9V161adOnXuqafOPXVq1qxZnz9/pvHSaQteJQgj4+HhIRaLIUkA2WKxeMOGDZs3b8Y32b179woEAhsbGzJUY0BRJ8uy2dnZ8CoRCAQTJ048duxYZWUlxbsh4K7RaCQSyaFDh0xMTCA2y5cvT0xMJCcTmP0wfeo00SPIRs1kw6Y+yuVyvEKenp68uwix5R+ewIjX19d3t2RjkZaTk4Odf87Oznv37l25cqWTk9OYMWPGjx//+++/4yveD+hjbzg7NTV1xIgRs2fP/vDhA9Bhc3Pz3r17vb29CwoKWlpaioqKfHx8hELhggULOkNw9KapSfJZlq2pqdmwYQM+InV0dMBysXfv3n8gyAbnwZy0tDRra+veQLZUKj116pSJiYm+vv68efMuXbq0ZcuWlStXpqamYnFOGoMmOVReXl4+bdo0b29vrKkgFQijtGvXrqVLl44ZMwaGA2Nj41WrVlVWVv4AeeCb4DnAc+Bv5IBUKr169WpgYOCiRYvGjh0LDaCnp7d69erS0lKuMgGRfYBsUjhQ4PSTDMp79uzp25ozAJCNCQB29by8PFtb28DAQIVCgQZgIeikHiBbX19/69atV69evXjxYkhIiK+v78iRI8eOHXvw4EEyJ9DM8TcOxi/ftEqlwkcNhmHmz5+PD689mnNYln358iVCcDg5OX38+BEjC/nLy8tzc3PLzMyEgGZlZY0cOVIgEOzcuZP8hbgQQSaTJSQkTJ48GfgeJu0HDx7A9YjszeB/dXX1li1bgLMZhrGystq+ffubN28gbL1R2yPIhlDxIPvXEOy+QbZWq42IiDAwMGAYxs3N7caNG3l5eTk5OUePHsVacdGiRZ8+ffrxegavTOfK8NixY0ZGRmFhYVjXabXamJgY7OWltW5WVpaZmZment6ZM2dol7DO8KELarVaLBYfOnRo9+7dULxKpTIgIEAkEu3fvx/vFPcdRCX0+lAC8wTuDqu7CJroD8jGYjs0NBRBOfX19SdMmJCVlUXeaFA7xBZV16XRaG7fvj169Ojw8HByP0M34akikUjy8/P379+PUAAikWjdunXkW0m18QmeAzwHfkkOyGSynJycQ4cOOTg4CIVChmE2bNgAFARVSVqRZdkeLdmkLXVAdktLy8KFC62srHJycqiSHnk4AJANayJc4kJCQqytrRMSElA75gC4hQBk6+npeXh4rF+/3svLy9PT08HBwcjIqDN829mzZ8mo8+Mnvx5Z8GtnqlSqS5cu4aPJsmXLYCHuscssy75+/Rp7HydPnvzu3TsC2Z1bBw4ePLhu3brW1lbIXHNzs6+vLyInUEgsnQm+vb39+fPnGzZsoGjWlpaWO3bsKC8vp4mQKKmrqwsPD58xYwbirAuFwpkzZ969e1cikRBkocKgoUeQjVAnOpRotVreks3l3s+ShoogSzbFySbLAbSNjY1NYmIiOWTLZLKwsDCs2cLCwkiMf1ivIbEVFRVz58719fX9/PkzBLKpqWnJkiUTJ058+PBhRkZGWlpaVlYWwvAxDLNs2bK+z6eEyxYCb6NTvwzIxhtdXl6+ePFiY2NjbNJYs2YNgm11j1+EyUgikaxZs2bs2LFcXxH4vtNYI9bhs2fPFi1axDCMpaUljjSiKZNK8gmeAzwHfjEOwJahUCiysrI8PT07D9CwsrJKSUmhGYTw8UBBdnx8vJ2d3enTp/s+MESr1Q4MZGMa+/Lly/z586dMmfL+/XtoNFKCnZrr+PHjDMOYm5tHR0er1Wq5XN7a2lpcXLxv3z5TU1OBQDB79uzXr1+TA8AvNqj/tO6o1eqrV68CZC9dulTHv5lLLdeSPWnSJHxwAMopLS11c3NDkBla2MXFxeHkl0OHDgFDdIe2LMu2trZGRkbOnDkTNDAM4+Xl9eXLl+5zIaId792719raGoVtbGyuX78O4zeX1D5Adm/2PB5k6zDwp/jZG8iG9tBqtdjMOnHixIqKCkgFtKpYLJ4xYwaCyeCwgO7CObQc0DEZdAY8PXjwoJubW2lpKVGbm5traWlpbW29cOHCBQsWLOy65s2bhxO71q1bh/eiR8IQ0m7ZsmWpqanoIwL+BAQECIXCX8CS3djYuGfPnqVLl165cmX69OkwO82bN4+C2uqwhWXZoqKicePGLV26tLm5GfqEtk3TRnzMpizLFhcXT5gwQSAQHDp0iEfYOszkf/Ic+PU4ALOvUqkEcM3NzZ04cSI20JO6HhDIpkmkrq5u/vz5mzZtUigUZNzpjYEDANkgC6GOrays/Pz8KGQSfcvjgmyELqYJprW19fTp0zAvrVmzpg+Tam+08vmD4IBGo4mLiwNmnT17Nrzhe6yHZdmMjAxTU1OGYebOnYtzFjF1Xbx40dzc3N3d3dfX18vLy9vb29fXd+HChTgiZOLEie/fv+famyEqNM/JZLKKiopdu3bBpC0UCnfu3Amfb9RPEo8wIAkJCTNnzoSfyZgxY3o8vYJl2R4t2TzI7nFwf9JMCIaOJRt9gb4LDg5mGMbR0bGqqgpaCPip80DdLVu2IL4NAk0ONwdIhoGAo6Oj3d3dHz9+zPWMSk1NNTQ0XLhwYV1dXWNjY11dXUNDQ0tLS3Nzc0NDg0QiUavVCoWiM/Dfha7r/PnzF7uulJSU1tbWzZs3b926taysrKKi4u3bt6WlpSUlJevXrxcIBJs3by4pKamsrMS3JiKGlsTcBDf9D3EX6Qxhu2XLlsmTJ6elpalUqtevX69fvx4m7bVr1zY1NekMH6bG27dvGxoanjp1irvLAoLB5QCelclkQUFBDMNs2rRJZ4WvUzn/89/MAZZl37x5c/HixfN/XmfPnr169WpNTQ1hrH8zf36ivnOVAAKtBgYGCgSCbdu2kV14oCAbYY4OHDjg6+uLPT9Q+FRPd/70F2TjSVR34cIFMzOz69evkz0A0xvXXcTMzCw6OhonfsF/TqVSNTY2Ojo64jyavk/w7k4onzNoDhQVFXWPLtK9NpZlw8LCAMf9/f2x34hl2U+fPi1cuNDLy+vq1atXrlwJDw+/0XWFh4f7+voiuMfNmzchGxhxnPgA2A3bEsuy7e3toaGh2PJvYWGRm5uLwlKplAQJZie1Wv369Ws3NzfEE/z999+7+1jzILv7CP56OdCSvYFslmX/+OMPRCotLS1FYWjPTmkMCQkRCARjxoyB49MPYA5EXaVSFRYWrl27NiMjQwfwxcTE6Ovrz507F3i6c+sMV9dDTbe2tnp4eAg4l1AoXLZs2YsXL+zs7H777beJEycievTErgurYisrq/Hjxzs7O2dlZel8JCTtT4l/IMi+fv26mZnZtm3bJBIJliXt7e27d+8WiUTGxsbJyck6w4d4t/7+/lZWVjjdBtqGzD3c+RXPajSau3fvMgyzefNmhPHSqZP/yXMAr8a1a9ewVY6+vpqZmT1+/Jjnz8/LAWiGW7du6evrb9myBfH4uZrwm+4i0NUajebatWt+fn4wLBJDuNqVMpHoL8hGFVgNrF69euzYsUVFRVRXbyCbolahMwqFwt3dHc4kiGlFNfCJ4eOAWCxeu3YtwzAmJibwR+xxBqI42Z2e1rdv3yahefz48fTp09PT0wkBw0SN+JF0VrlYLMY8197efvbsWXzUxnxPVX358gUB1xiGQWTrt2/fhoaGIsAwlwMsyyYlJSG034IFC9rb27l3IU68JVuHJ7/ezz5ANmTg3r17nTGSra2tEV8ZoBbrvVOnTgmFwilTpnz69IkkcFhZhFYKCgp8fHwiIyPpMyX2sahUqsTERCMjI1tbWxxhiC7gKbVaLZFIxGKxUql8+vRpbGxsXFxcbGzsgwcPYmJinj9/XlJSsnLlyjlz5sydO7dzC/LsP6/ffvut8+QBGxubWbNmzZ8/Hyc3EdZEE+g1lwmU/nst2RgvpVLp5+enp6d3/fp1GiCWZSsrK6dMmSIQCI4cOUL51JePHz9OnTp1wYIF3PGljkNySNFBdz148EBPT+/AgQO8JVuHn/xP4gDLsu/evYvhXHFxcfHx8fX19VSGT/xjOQAQQhCFPj4AIt+7d8/AwAAOrjRZoC+9gWyyFeKwjrt37/r7+xcXF8N2DEUK9UJt6TCnvyCb6CguLnZwcFi7di3c4JDfN8gmG6dYLHZycgLIHvJzhnU6xv8kDqjV6ocPHwKw/v777zAC0TlBGB34LAIxz5w589OnT5ieJRLJ1q1bvby8dKIOY/YSi8VeXl6A74mJiXhEKpUeOHBg48aNcAhB/SivUqlCQ0NhJMCu2aqqKg8Pj4SEBBQgQWJZtqKiAt89Fi1aBLda6hEa4kE2lyG/ZBpS0aMlGzLw6tWr8ePHm5iY3L17F8JDWg8B+5cvX44lHH0tGT5G4cAmf3//mJgYHH2Cd41l2aampoKCguzsbEtLS6FQeObMGZwq8PUgc6USG3MjIyOfP3+OR2BqJcio1WqVSmVra6u427Vz506RSBQUFNTY2NjS0kIHh5HGJzxNCbAOfPh7QTYGpa2tbcmSJXp6erdv38bsCBAsl8tx1M7vv/+uM2oajSYqKmrkyJGnT5/mxiAiNaLVaqHiaI7s6Og4d+6ciYlJ53GwmBR16uR/8hzgOfCzcwBaDu8+V39ChZ48edLc3DwuLo40AGnFHkE2KXAUi4mJ8ff3LywshOIib+yPHz/SCSTdGdhfkI02NBrN+fPnR44ciQPMqDrCRp3LBez3h7sILNkoplarb968iY+bCxYsAEanmYCq4hPDwYG2traAgAB8WM/LyyPIiwTLslKpFO6t9vb22dnZlJ+VlTV58uTw8HBaq3FBs1arvX37NkAzHcymVqujo6NtbW3v3LlDX64x1SmVSrhFWlpavn79mmXZ+vp6Nze3uXPncoOZoPDLly/Hjh3LMMzhw4dJ/CAwKPD9IHv4xU+tYlWsVsXGldSYBnwy2cn+Twn7X1bzlYkaltUMx1j/AnVC/Eh4egTZEIm2tjZ/f3+hUBgQEMA90k+j0fj4+HSecnrmzBmowuEfa21VVZWfn9+VK1fa29ulnKu+vv78+fNXr16tra2dO3cuDM/Pnj2DGMNpKj4+fuvWrdhtDH8JxKSDaoVjCeC4zvju2bOHu/ER2p8YyMXT4Bgep/TfC7IxxAqFYtu2bfr6+ocPH0a0b1iJsFnZ2Nj4ypUrOr1G2H57e3vEz+LqB7Va3d7e3traiqj8YAhUzbJly+bNm/fx40e0q1Mn/5PnAM+BX4MDYrG4paWFHDzgyfzp06clS5Z4enrW1NQQ/iZN2CPIBjfwTTI1NdXPz+/p06edR023d11SqVQsFldVVe3YsSM9Pb23KWYAIJtl2cbGxkWLFo0fP764uJiIg8IC5JdIJJs2bcIJ3pcvX1Z0XW1tbVVVVWfPnkV4uNGjR/O+Ij9SlDFS1dXV69at09fXd3V1ffbsGWZfzEASieTChQtWVlaWlpa3b9+mb6mtra3+/v4jR458+vQpDTdANgadZdnS0lIMq7m5eXJyMu5mZ2dbW1s7ODikpKTAzgSgU1hYOGHCBJFIdOzYMQT6lUgk3t7eDMNs3boV5nNwRq1Wh4aGGhgYTJo0qaCgAJlk5YI0k7Dp6emFhYWhIXqviMNoWiqVrl+/HsHCkfNDJloeZNM4DCBBazyIU01NDXaFHzx4sPtiLzs7e8KECba2tk+ePAFsxQdfOzu72bNnY9cjtNMAKBhgUWxd8PX1NTExcXFx8fDwcP/zQvCQmTNnQmdGRUVh8/fUqVOvXbv28uXLvLy8kydPurq6JiUlkYEEWBNGCswHvXVhz549cIEAEO9OOPfNpbuUOawgm1YRLMtGRUWZmZkZGBikpaVxjS8Y6+TkZHNzc2dn59LSUqKturp6+vTpEydORIQWLvGVlZV2dnbz5s2rr6+n8tBpYrF49+7dc+bMOX78+JcvXyBCCoUiLCwMkf65p69TnXyC5wDPgV+AA9j9tWfPHldX16NHj9I3eZlMdubMmU53O+xaodkfoAJaYt26dQzDzJo1i0zAdDcjI2P8+PG2trZz5sz5U7V//XfOnDmTJk1avXp1S0tLb9zrL8gGrHn+/LmlpaWXlxftYUe9iEX64sWLkydPWlpaIi6Era3t4sWLlyxZ4urqOnbsWGNjY0tLyzVr1uTm5kItcpVjb/Tx+UPCAbC6M35fSEjI6NGjx44dGxwcnJGR8fr167i4uFWrVpmZmc2ZMycjIwP2M41G8+XLl2PHjpmamhoaGu7cubOgoIAshahNo9GUl5efPn16xIgRIpGIYRhXV9e0tLTOM43LysocHR3t7e0dHR07J7ynT58WFhbeunVrxowZBgYG27Ztg/MJy7IymSwwMNDU1HTMmDELFiy4du1aUVFRdnZ2YGCglZXVuHHjEhISyLMFk6hGo5HL5bm5uSdPnvztt9/09PSEQuGkSZPCwsJev34tk8m4Zjx8iK+uro6JiXFwcBCJRKNHj75z505lZaVMJht+CeRB9uDlV61Wt7S0lJWVHT58GMDU1dU1Ozu7urqazJPYaxgbGzthwoRp06alpKRUV1fn5eUtWrTIzc2tpKRk+If4awfFYvG2bdt0NkvRrimRSLR9+3a8PjKfbg8UAAAgAElEQVSZbMeOHXTit6mpqYmJyahRoyIiIrAXB0YXdJAkvzeE3dl0UFCQvr7+wYMHFQpF9/3Bf68lG84wtbW1L168WLFihVAoNDQ0XL9+fUFBAczJpEnkcnloaKiVldWKFSsKCwtramrKysoCAgJGjx597949OikWU6NGo7l//z7DMIcOHcLxPdxVWWNjo6enJ5g/Y8aMmJiYtLS03bt3r1q1ClskBy+R/JM8B3gO/LM50GmQbmlp8fDwgAZwc3OLiopKT0/fs2fP6tWr4aVMlhqoR4VCUV1dff/+fVtbW4FAMGrUKCAEoFytVlteXu7q6oowDKTVKWFkZBQZGYk6e+TNt0E26TWWZZOTk2fNmnX//n0dba7RaNrb2zMzM5OTk6OiojqP+ouPj09ISIiNjY2Ojo6Li0tISMjIyCgtLW1ra+vo6MB3Tx0w1CN9fOZQcQBWpfb29rdv316+fHnjxo0rVqxYuXLl2rVr9+/f//DhQxyZQbJSXV2dmJgYExMTFxeXnJyck5ODGNtY84GqwsLC1NRU7AuJiYmJjo7Ozs6WSCQNDQ3nz5+vrKx8/fr1lStXtmzZsqzrCggISE5ObmhooE4plcrIyMjr169XV1c/evTo0KFDvr6+S5cuXb169R9//FFSUoI4lFQeb4VEIsnJyUlNTY2Pj4eAxcbGpqSk5OXlSaVSMnjjKZlMlp+f//jx47i4uM7z9mJjYx8+fPjixQssPXv7xMNt8TvSPMgeDPNoUOrq6p4/f56SkhIfHx8TExMfH5+env7q1Ss6QJGcdztPRAoJCVm3bt3WrVt///33sLAwRM7+AUpGo9E0NTWlpaVhqyLUXQLnSkpKev/+PQAl/LMfPHjg6+vr6uq6ePHigwcPPnv2DBAZ32HAMgLW6ALxRIehnQvahISEsrIyFOhejJYZlOAi78FZstVarVqHjl5+qtXqt2/fZmZmJiUlJSYmJiQkJCYmZmRkcL+FooMSiSQtLW3fvn0bNmzYtm1bQEDA6dOnc3Nz5XI5lhzUgkqlunr16uzZszMyMpCJXgPTazSaoqKivXv3enh4uLq6rlix4tChQ/Hx8bW1td2ZQ3XyCZ4DPAd+AQ7A7FJUVLRnz565c+fOnj17xYoVBw8eTE5O/vTpE1lnaF6ArywQAgHX1NTUvLy8xsZG1FZVVZWUlBQbG0sFONo94dGjRy0tLVRhdx5+A2TjgW/qJioABNbbX2oe5ckthvL5xD+KA9xx7JEwbgFK04cYyvn+BGBBf+oBwgZAwV9yIej+eI+dGtJMHmQPhp1QWFjvETal4YOAQV3qLKi4coKG+9B9g6Gs92eIvN4SXNqojE59UIxcNPxN+lEV1UOqmHKoLW61lKlhv24a+K9Go2LZjq8olWWvPK8QLlfb7mErZaxWq2AVGva/LKvRaP6L//+r0fQfZIMMao4SRB4S3G5Sme6JvnlIHez+YPccHQL4nzwHeA78SzhAlkTqb3f9QDk96hy6SwlURT9JF337xEciop8JaqPv8lCpXMXad3n+7t/FAQxoH633VoAkYVgT5DLFTXTH2X3QP8y3eJA9GAaTZsACiWvI1FEdJF3UTPccujWsCRBG6zodOnvT1N9PElA1cax7hcQQrt6nzB8Dsqn73clDDpd+oq2fCVROTfT/qd6I4fN5DvAc+FdxgKuuyUKno1KojI6S5zKKq3wov1+WbCr9zQTRQYkeH6G73e0uPZbnM/8WDtAw9dY6FSC5JFMcV9qGKQ1XAVQO66ay66K9j0Reb4ne+jV0+TzIHiQvacjwwY4bIQReyzqSRs2QsFHOj0kQwb3pNCKMm/hO2riNUlqnzh6bo8wfA7KJNny9xE8undwcom1YE9zW+TTPAZ4D/2YOcJU2KaveQDa3ADGtu7KiW8MIsqkNJLhE6Nzif/4zOdCjMHFJpQKU4N79kWlIF2zYdMJo9wQtBnqb7IeaZh5kD5KjJFFckA2tpwOyqSRa4uoZbnqQdAzqMW67facHVf1fHqLuc+cJbgkuAZRPmT8YZBO1RIlOgggb7oROu/xPngM8B/7lHOhR5xBPuivYHstTJj04xCCb6tVJUMNI6Nzlf/Ic+H4OcEWru8cIF1738bnn+8n4aw08yP4rP/r9i9DYvwFkU2e76/FvMuybz3J1L9VGmT8GZFO730wQYcOd+CYlfAGeAzwH/lUc6FHnEAe6K+cey1MmPciDbGIFn/i5OUDC3c/ED+ktD7IHyWbCjr8wyAZrqKdIDJRf3Md7fJb7OlAByuRBNvGET/Ac4Dnwb+YAaUVughjyk4Fsbh+Qpp7wCZ4Dg+ZAd7nqI2fQrQzkQR5kD4RbnLKEHX9JkM3p6LAkiXs6EwPlU6tqrVap1ajUaqWWVbBdEUaGIboINffNRB8v7NDe+iYlfAGeAzwH/lUc6FvDdGdFP8sPjSUburs7EZTTNzXcbe/0CJ/4x3JAZ+bug87+l+yjkv7fouZ6kzfuVob+V/sdJXmQPUjmERykUw+hJRB9ieJJ4ydX//Qx9IMkZeCP9UbDD1N0xD16I9AJyqc+/b0gm0se0t1Zx31nSQa6F0MO9QuJ3or9sIHQoYf/yXOA58A/lgN9qIseNUY/y38XyMb8B1MTpj2Q0pv/K0UC707cP5bvPzthFNuO2xGcJYRRQIwOmn0xdhhZPEsPajQaOg+ye4xz1AABwHxJddJ5Rqhcq9USSCLnaRTmHnLEFWtumujpnkAlFEdZZ9omVlDHuTVQYW4m0qiWPLnR9/6RxIPs7uzsVw4JD4kiga1vbnykENr9amkYCkFCur8jw9DU1yqhgZGgd40YyG20e+b3g2x6O7gNdU+T8udqFbx0PdLMnVBo6KlaPEj6hPKx6NJ5Vbk/UbJ/Ly/Vyid4DvAc+Mk4gPCv3YnuHhaW9A/pGe7ZGqgBGgNH8HKhAqm1PjDtt0E2t0bSiUQ6gSQQgb+kypHgan/qhg5NVCGfGHIOYA7mDgqYT+du0lhwg+IhaBqto6gMV/4oEwmiHFLBbZHS3EeoPBJUCR4ngQad9CZQDZTTYz1UjBIA97TA0HlKpVIplcruEs6ljVsVSbVOPX/9yYPsv/Kj37+4AkOgmQL50SKtN0u2Wq0Wi8UfP35sbGzsd5tDUJAWYKAfAjOsaBtvKDgDthDrkOD2im5R5veDbLwIXOhMlSNBcwQibPamQLhTg1KpxOsPfExhgtBNepGx5qf5j2rmEqBUKjs6OkiZoKphHRFu63ya5wDPgb+LA6QQaOKmRPeJHrcAKtRqdUdHx+fPn+vq6lQqFcFa+o7a0XWROqJquQnqda8gmxS0RqNpbW1NT09P6nYlJyfjjNyOjo7GxsaHDx/Gx8d3P1U4MTHx+fPnHz586Ojo4GrSHgkiyvjEkHBAoVA8e/YMp9zjTOOEhISkpKTXr19DRFpaWjIyMuLj4xMTEzHC8fHxycnJ7969KygooMzk5GQcjIzzkFmWFYvFmZmZsbGxXLlITEysqqoCWqUZnRLt7e3p6el0NimOWY7vupKTk1+8eFFdXQ2Z5op1e3t7dnY2WgcZCQkJKSkpxcXFeIu4jIJQvXz5MrnrSvzzSkpKKiwsROU4lR0V/nk/MTk5uaKiora2FlJN+YmJifHx8bGxsTiSHZxMTk7Ozc0l9M8l4K9pHmT/lR/9/kUyAxBZW1t77dq1xMREUnOkJQGY6GdNTc3NmzcDAwMPHjwYERFRXl5Ot/rd+CALsixbW1t748aNrVu3+vn5bd269e7duw0NDUNOAClnrVZbVVW1e/fue/fuEY4k1nGLoUt0i3o4JCC7uLj4xIkTb968oWp1Ek+ePDl8+PD+/fv37Nlz8uRJ6BAyAmFiY1m2pqYmPDx8z549Bw4cCAwMjI6Obmtr4/YC7/unT5+uXbsW/OcVFRXV1NREqoC4zbJsVlbWwYMH9+3bFxQUFBIS8urVK9SGpnWI5H/yHOA58LNzAC+4UqksLCxMTU0FDND5+/jx49raWjLScTVGa2trQkLCwYMH9+7dGxYWlpeXR6hVo9GUlpaeO3fu4MGDQUFBO3fuvHTpUk1NDSAH+NYjpv0GyMYzKSkpNjY2+vr6gr9eQqFQT0/Pw8Ojvb29paUlIiJi06ZN5ubmAoFAJBI5ODhMmzZt6tSp48ePt7Ozmzx58pYtW54/f07mhx4J+tnH+J9Gv1wuT0pK2rp168iRI0Vdl4ODw/79+1+8eIGZprm5+d69e2vWrDE1NUWB6dOnnzlz5v379w8fPty+fbu1tbVQKBQIBOPGjdu/f39OTg5WSs3NzXfu3PH19TUwMIBszJw589SpUyUlJVyvDy5DZDJZYmKiv7+/kZGRSCQSCoW//fbb1KlTp0yZ4uDgYG1t7ezsHBQUVFxczEVOMpksLi5u7dq1IpFIT09PJBI5OjqGhIS8ePGCZlYSdHTq6dOnBw4csLW1NTQ0ZBjG1tZ23759GRkZqq5LLBbHxcVt3LhxxIgRDMMIhUJHR8ejR4+WlpZWVFScOnVqxowZkGFTU9OpU6fOmDHD2dnZyclp6tSpjo6OlpaWDMMsXLiwra2N27ue0jzI7okr/cuDDLS2tj548GDOnDkCgeDw4cMA2WSJhH7E6Eul0lu3bjk7O0+aNOnChQsVFRUYbtKh/Wt2MKWg0169erVgwQKRSMT8eRkYGPj4+Lx79w6vDKn1wbTBeYYcZlQq1Z49ewQCQXBwcEdHB3pKSJoLT/E03aLKBgGytSyLk9VZlv306dPx48fHjRtnaGj49OlTjA5VzrKsQqE4f/78uHHjdu3alZub++TJk0WLFk2fPh2FaQpQKBQlJSWLFi2aMWNGTEzMixcvLl++7OjoGBwcjFUKDfTbt289PT2dnJxiY2Nzc3MvXrw4efLkwMDAuro6MuprtVqFQnHjxo1x48bt2LEjLy8vKytrzZo1Tk5OCQkJHR0d/VgeUyf4BM8BngM/DQdgOqyqqnJ0dPxTDX/9VygU4qdQKLSzs3v69ClXG8Ool5mZuXDhwtGjR+/atauwsLClpQVf4aDWkpOTXV1dN23alJqaWlBQEBERMXXqVDc3t1evXvWtT3oF2ZgV8NV127Zttra28+bNW/zXa/LkyXp6eocOHYKu1Gg0dXV1fn5+DMMYGhpevHjxS9dVUlISGRm5YMEChmHGjh179+5dheLrRnbu9dOM4U9IqFqtbmpqWr9+PcMwBgYGJ0+elMlkmLTUajUA8YcPH1xdXRmGsbCwyMjIwIStUqmam5u3b98uEAgMDAxOnDhBwgRR7ujoqKmpcXFxwYhHRkYqlco+rEQQ2S9fvsybNw8Sf+nSpYaGhk+fPkFqZ8yYIRQKp06dmpycTIAAidra2tmzZ+OpixcvKhQKmO4wIJAlvDaAVnK5fO/evcDKQUFBUqkUiJwcNBsaGlauXCkQCMzMzK5du6ZQKCDzCoXi4cOHJiYmDMO4u7u/ffsWYoy/VVVVT548Wbhw4fz581tbW78lDjzI/haHerqPEWdZtqSk5Nq1axs3bjQ2Nu4c+hMnTkDfkRcyhkyj0bx79+7333+3trZevXo1PjKQSPTUwhDnsSz74cOHFStWeHp6njlz5tatW4cPH3ZychJ2XVu3bm1ubqaPM0MC+oFf7969a21tzTBMUFCQXC7/MSBbrdWqtVrp/9+elpZ2+vRpT09PhmH09PSePXvGHRe8jA8ePLCysvL29obpSKvVlpWVOTk5TZo06fXr1xg+lmU/f/7s4+NjZWUVGRlJ72lISIihoeHhw4fh78GybEtLi4+Pj7m5eVRUFD6XyWSyc+fOjRo16sCBAxKJBMpHo9HExcWZmpouWbIE/kKwQs2aNWvixInZ2dlDPPx8dTwHeA78MzgAZHL79u3ffvvNxcVlSde1dOnSZcuWLVmyZN68eQYGBh4eHk1NTaAXOrO1tfX06dNjx451dXVNTk5ua2vDR2+aiV69ejVlypSlS5dWV1djZlGr1ZGRkUZGRps2bSJjX4886Atko/lXr17NmTMnKSlJLpcDoNDfI0eOWFhYPH78GPMHHFmOHz/OMIyJiUlMTAwZNliWffv27ZQpUxiGGTlyZElJCR4hJdsjcXzmkHAASPrgwYMYl4SEBMx/5KutUqna29tXrFjBMIydnR2JEVw8T548KRQK9fX179y5g1Gj1REKrFy5kmEYa2vrgoKCvpENHu/o6Ni2bRvDMAKBIDk5mWATy7JpaWkWFhYMwzg7O1dVVUE84CmuUqmwfjMxMcFT5F1N9BB5ePDSpUt6enr6+vo3btxAK0D5crkcHtg7duwQCoXW1tZpaWl4Fj368OGDvb09wzBr1qyRSCR40+AJiraePn3q5eXFg+whkc/ulUBnAVS1t7fX1NQ4OTkxDBMSEkLSAjiF4aipqfHy8mIYZuXKlfX19X2rvO7NDUnOtWvXfH19GxoaSBrfv3/v7u6OVwMAFII0VCC7qKho7ty5kyZNEgqFwcHBtHKmVkhuqYN0i3IGYcnWdFmylf9Vffz4ES4Zenp6QqEQxmlMctAwdXV17u7uJiYmUVFReLMwdR0+fJhhmO3bt9NXzZs3bxoaGnp6ejY2NsIgrVQqX716ZWNjY2dnR3D87t27RkZG8+bNA5/xOpeWlo4fP97KyiorKwvi0draunDhQoZh7t69izJqtVqpVJ48eZJhmI0bN/ZtCyDm8AmeAzwHfjoONDc3e3l5nT9/vrm5GS8+9nhotdr09HR7e/tjx45huqeJ5vjx4/r6+hMmTCgqKmJZFgt4bpnTp08zDHP8+HGude/Lly/Ozs5jx46tqKhA4R559W2QnZKSAtszEYSKvnz54u7uPnny5A8fPgCuQTkeO3aMYRhTU9PY2FjAI/SwE8nt27cPRvsHDx5A9/Egu8dRGdpMgOxDhw4BZCclJaF+AtkajUYmkwErjx07Fm5GmCY1Gs2pU6eEQqGRkdGDBw8gSQQjMGevXr0aa6eXL19+k/KvoXg7OjZv3gzrV0pKCgkPy7JNTU1LliyBxR3GbC7O3rBhA7rw6NEjkhwipnvi8uXL+vr6BgYGERERuEuwA5Px77//DsrT09PRNQD3jx8/AmT7+PhwQTbxraGh4f79++3t7d/qb5clW6Ni40pqTAM+mexk/6eE/S/736/UaFhW863H/733MV5Qdp8/f545cyZ0XHeQ3dbWFhQUZGBgMGXKlPz8fBTQAbI07sPE0NbW1o0bNwLkcX2l7ty5Y2xsbGJiEhERQQCXaCOZJG1Ot3qkk9sL9Pr06dNbtmyBu8jQgGwly34rTrZaq1Wp1f/VfJVelmXz8/ONjY2FQiG6D5CNUbh3756Zmdm0adPevn2L2QFaJSEhgWGYcePGlZaW4q1ftmyZSCQ6fvw4TDnovlgsXrJkiUAg2Lt3b0dHR2tr69KlSxmGOXLkSEdHB7in1Wrb2tqwxAoODpbL5SzLJicnW1hYWFpalpSUcBVFWlqamZmZvb19Xl5ejxzmM3kO8Bz42TlQXFx84cIFOHtwX3+5XH7gwAFra+tHjx5B5cJefOvWLQsLCyMjo/v37+MbPlfTooagoCCGYXbt2oXPZVA+9fX1Tk5O9vb25eXl0Hg9sq5XkA23Pzi30Zd0VI2/2dnZVlZW27dvl8lkoBXNhISEMAxjbGwcExODOQM2DJZlz5492+l1wDDMjRs3eJDd43gMRyYXZJuamgLXQnTIHEgg+z//+c/nz58JTBPIhjmKJIkLC7y8vGAP7j/I3rp1K0B2amoqZl/Ig1gsXrduHXxC7t+/T99MsFrbvHmzQCAwNDR8/Pgx9+XhiiU33TfIZlkWINva2jojIwM9AkKqqamxs7NjGMbHx6e9vZ1eOSRgBqPMPoeMB9l9sqf3m1jSA7F9/vwZLkmwQOAWFUhMTBwxYoS+vv6JEye4fmi0SsRI9Y1feyfk23fg7XD9+nWxWAyxpGdevnw5ZswYPT2969evQ8JBDJDly5cvCwoKysvL5XI5HukPkagnLCxs48aNzc3NkOG9e/d+N8jWfPXh6wfI/q9Gg//wyuTm5pqbm+vp6WVnZ3MXzGKxeM2aNQzDrFixAs5aGDKtVltcXGxjYyMSicLDw1mWffbs2ahRo0xMTOLi4lAD9FKnl8iRI0cEAoGTk9OXL1/evHljYWGhp6eH/a/0pnc66B87dkwoFE6fPv3du3edu/DBExcXF5lMxlUUpaWl06dP79xYFBoails0UnyC5wDPgV+AA7BDE2SFzoGm+vTp0/z586dPn15dXQ1QpNFoiouLHRwcGIbx9/dvb28nrQKoQwAJ3/MdHR1fv35NZfLy8kaMGOHh4SEWiwkadedhryAbUxQZO0ElPc+y7IULF0xNTaOjo7nOK51dAsg2MTGJjo5GD/FXLpfDu1dfX//hw4fAT6QBqWY+MeQcgDzBXYRANgSFZEgul8OSPW7cuE+fPmHc4SARGhoqEAiMjIwiIyNJ8ggxKJVKgGwbG5uCgoJvEg9fUliyDQ0NU1JSaDmn1Wq/fPkC333QqRPGC27lAwXZ+vr6N2/ehABzkTGBbBsbm8zMTGIIohzY2toyDOPl5YWVK6EftVr94MGDysrKPl4qDhN4kM1hxkCSUBpYn3/58mXWrFkMwxw9ehRsp7/19fXe3t4Mw0ycODEvL+/t27dZWVnPnz9/+/YtDdxwg2yKKIe3CX/R1zdv3owbN27EiBH49oLMpqamGzdubNu2bfny5TNnzhw3btzu3btLS0tJxvrgE9iSkZHh7u7+/PlztVodGBgIW+/QgeysCuFyte0etlLGarUKVqH5+ulF0wWt/xdeq7VasmQXFBR0B9kajebjx49OTk4CgWD79u1w0CJtX1dXN2nSJIZhtm3bptFobt261Wl5sbGxwQclfL4AG2/fvi0UCk1MTHJzc6OiouiLGc1zKBYeHt65krG2tn7y5Elzc7ObmxvDMKtXr8ZdKlxfXw/14u3t3dzc3Aef+Vs8B3gO/OwcINQKPJORkTFq1KjAwECJRAKd0GlTg3uzmZlZSkrKhw8fnj179uLFi+Li4ubmZljcUPLRo0ewu61YsQKBGZqamrZu3WpjYwNrMlft6/CtL5CtU5R+InzbokWLnJ2dq6urkQ8k1zkpwl3EzMwsNjaWQLZCoUhISLCysoJ1sLGxkWYU9IEq5xNDzgEMzYEDBxiGMTMzg/GYJh4k1Go1QLaDgwPcRQBNVCrVyZMnBQKBsbFxVFQUPUXzpVqt9vLyEggEgwDZBgYG8K4mGbh9+7apqSnDMIsWLfr06RPFGAGm37hxI3ZYDsiS3bmbGN7kRDwlYPGysbGhWAfo1+fPn+Eu4uXlJZPJqDzLsu/evVu7dm1RUREFuOhzvHiQ3Sd7er8J1QFLdn19fW+W7JycnN9++41hmBkzZgQGBs6dO9fW1tbCwmLMmDGBgYFwGu69kWG5Q5pNq9U+efJkxIgRs2fPxsIVHwYPHDjg6elZWFjY1tZWVla2atUqkUjk6en5/v37bxKk0WgaGhr8/Pxu3LgBcL9jxw6GYfbt2weQjeUHLSa5xKByuoWfX30/2K/uH0ptlyVbxbJX+guyMTr5+flmZmbd3UUKCgpsbW2FQuGRI0e4uJllWalUigGdO3duS0sLPNn+85//wEpEhVmWffz4sZ6eHsMwMTEx8OS2s7PDlh68laAhMjKyc0u3UCi8e/duaWnpmDFjGIYJCAggNYXPZWKxGEuyGTNmfPz48Zvc5gvwHOA58DNygDtlI92pCkJCQkaOHIk9adAbzc3NHh4e2IoWFBS0ZMmS8ePHjxgxws7OztfXNycnBzAdiPfMmTPm5uYMw7i5ud27dw/TTWxsLDaWwCrdI68GCbLz8/Pt7e0DAgIUCgWmQ6o9NDQUPrW7du26c+fOzZs3w8LCtm3bNmbMmFGjRu3evRvgicoTCyiHTwwtB7iWbH19/ZCQkGfPnmV3XZmZmVlZWZmZmQ8fPoT5Z+zYsYAmEC+1Wn369GmRSGRoaLhv377MzMynXRcezMrKevr0KYJ+EMjWmcV1+gJL9pYtW+Aucv/+/cbGRkQXOX36tKOjo4GBwYIFC3Jzc/Ea0ONqtdrf338QIFskEu3duzc7O7uT1MyuK+PPC3s9uSAbwlxbW4tl68yZM6OiohCcOz4+PiIiwsfHx9HRsaioqI+XimjWanmQzWHGQJI6ILu7TzYK3Lx5ExEk3dzcLl269OTJk8ePHwcFBY0cOZJhGG9vb9qJOJDGh6xsaGiooaHhmTNnSE+mpqZOmjTp1atXNA2kpaVZWVnp6+tfunQJ+LKP5judl44dO7Znzx5odqVSGRAQoAOydR6nhsiuw4WeGpZVsV/N0ipW+9XNeehAdnp6urW1deeeyJMnT+KLBN5o7MqYM2cOwzCTJ09+//49tIGjo+Pbt2+xckAXsKsSHoZhYWF4/ceNG4dtRjRxsCyblJRkZmbGMMylS5eysrIQcWXfvn3cnmq1Wrlcjs3TEydOrKys1GEU/5PnQP+0Os+nfzoHSOmBUJZlGxoaFi1a5OLi8v79e8wdLMsWFxdjQd7598SJE6mpqZmZmRcuXECIDjc3N5zFAcXVaW4LCQlBYAYDAwMHB4fHjx/DitHdlsFl0GBAdqd+x5ogNjaW2xmgK7iLCIVCV1dXLy+vpUuXurq62tra6uvrT5ky5eLFix8+fCDKqLdcmvj00HIAIBvmIpFING7cOGdn5xkzZsycOdPZ2Xn6nxdmKS7IxkeWP/74A5HIJkyYMG3aNCcnp+nTpzs5OTl3XTNnzsTyjguyQT9N6jTckBaFQkEg28PDw8vLy9XVdcyYMTY2Nr6+vtevX6+qqqJ4ZMQKtVq9adOmQYBsBI4EtdTfmTNnTp8+HVBs1KhRvbmLWFlZeXh4dIJ+T0/PBQsWuLi4WFhY2NvbFxYW9r2W+JNsHmT/yYkB/tsjyOZGF8HHjRMnTkIR/2oAACAASURBVMCFID4+HiOCUDkXLlzo9NLu3CZ74cIFyP8A2/+u4pDz9+/fz5kzZ8WKFbW1tTAwNzc3r1ixwtHRMScnJ6/rys/Pj4uLGzduHMMwq1atwjdKrspGVeSdFRMTM3/+/LKyMrybHR0dsGQfOHCAwmvqkE4qmt5HLvQcDpCN+h89emRlZaWnp/fHH38QyEbXOjo6ALInTpz49u1bfKGaMmUKTg6i1TXLss+fP0f0xpMnT2J344QJEyj8EXrEsmxKSgpi3p85cyYtLQ2R7A8cOMDtKZb3a9euhUIoLS3VYRT/k+cAecnSnKWT4Fn0U3CAq+swleCbZ2BgILY2QiumpaUBvYSEhEilUqiLjo6OxMRE6JANGza0tLRAfbEs+/Hjx2XLluHbmr6+vp+fX1lZGdcu0CNzBgOy6+rqFi5cOHnyZOwZB7mQzs7+AGSbm5tHRka2t7fLZLLGxsasrKyAgAATExN9ff0lS5ZgfQCC6PEe6eMzv58DABn42GpoaHjlypXiruvNmzevX78uLi5+8+bNy5cvEW7MwcEBlmw4JKnV6lOnTsEnOzQ0tOTP69WrV8XFxfgFN0eE8CMxQKM4SBkyCgwEOxbgslAo3L1797lz52A2HjduHAIUAEBwoQY2PnYH2TqTKBdPsCyLjY/6+vqHDx9+9epVUVEROguyCwsLV61aBWdQchfBC/np0yeQtHr16sbGRpxeIZfLa2pqrly5MmvWrMLCQu5r3PsYqTtYFctHF+mdQb3d+SbI1mq1HR0de/fuZRhm/Pjx5eXlJHtarbalpWX69OkMwyxduhTbzHXEqbd2hyQfQP/IkSNz58598eIFREWj0SAm3ahRoyh666JFi5YuXTpjxoypU6f6+/vjFF+8Ndy/oKq6utrLywu7A/F6KpVKuDwFBQUBZHfvJveloN5R5vCB7MzMzJEjRwJkw7cK+3A0Go1CocDnL0dHx/LycuzQcHR0LCsrg5YAnSzLZmdnI2L9+fPnsSVj/PjxiGdFEwdANmwEFy9ezM7OxuI5ODgYUkQlZTIZ9mI6ODjAak4M4RM8B0jqaMLCLIZ4r93fLJ5j/3wOwE+sc0CPHTtmZWUF5Qk4wbJsTEyMoaFh59bqlJQUwhJarVYikSCUmb29PR1x3dLSEhoaunjx4mPHjuFAD5yk8ebNG4r61yNDBgOy8/PzbWxs/Pz8yH+cZhEC2WZmZrQnEjquM6jw8ePHcQKfn58fxRgmDdgjfXzm93OAC7KNjY113KAxdgqFAogTPtkkhSqVChsfDQ0N7927B2JgloNQajQazFs6IPvx48eXLl260nVdvnw5LCwsNjYWAtPR0YEvvxDujo6Oa9euwV9/+fLliIbTfRtBj5ZsoofLJUgUy7KXLl3SCeFHt4DjAwIChEJhHxsfvb29cawj7bRra2vbu3cvAvdyG+0lzYPsXhjzrexvgmyMyL59++B1UFVVxY1xxLIslmSTJk368uULSey3mh2a+yzLJiYmenh4xMXFkV1Wq9U+fPjQ2Nh48eLFDV1XY2NjfX19XV1dU1NTc3NzS0uLUqnEEa14ca5cuXK563r06BECiWzatKmysvL9+/dVVVUVFRXl5eWIxrNly5bS0tL379/DHsMFBFyZp+5RZi8ge6XaNvibGx/Rtd58sgsLC21tbfX09EJCQlCS7PEKhQJHX82ZM6exsXH//v0Mw0yaNKm4uBgrJdAJn2y4i3TOJkeOHOkMfW1vb49tx+gCtFBycrKRkZGent79+/fLysoQLiAwMJALshGo1NfXl2EYJycn3iebhIFPcDmAMz3o1UMiIiLiw4cP3GJ8+qfgADRhbW3tvHnzJk+eXFFRAY2BvzExMcbGxiKRKDU1lboDNRUREaGvr29oaIg9bI2NjUFBQU5OTsnJyQqF4vXr1xs3bsT6f82aNc3NzVzrAFWFxIBBNsuyFy9eNDMzu3LlClQnKTs0QyH86AACQmz19fXYVD5q1ChaH9DjOpTxP4eKAwDZmKKMjY2TkpJoikUTarVaLpcDZNvZ2cGSjcHFxkeRSGRgYICTHQhbI6FSqfAZl0A2hhsbjHBOO4Kjz5o1C9u/FAoFQHYnPIqPj2dZtrm5GefCiESijRs3EiriYgUdkI3pk1sAOTRJE8jW19dHnGwuP7HADQgIEAgECOGHB+EU++HDB2yn8/b2Rlw23AX0Lyoq6jxNmhriVtst/ReQ/fn/+d842ZqvA8DHye7GrW4ZGFPa+IgTHyF4kGEcLwJLNuQcWohl2aNHjzIM4+DgQDtou1U/xBkEJYuKitatW0cB6UlU4uPj9fX1Z8+ejQhTOCiBIrNi4dfW1ubh4QEHLbw4OGQnPz/f1tbW3t5+Wtfl7Ow8depUR0dHS0tLbDt2dHScN28eIoVz16j0yYUSYCA6j42Pf/XJfl4h/F6QrdVq379/P23aNIFAsGfPHtjdCWS3trZOnTqVYZgNGzao1eqbN28yDDNmzJjc3FwukRqNJjIyUk9Pz9TUNCcnJzIyEq5BXI929OLevXv6+vojR47MyMhobGzE9pL169frgOy2tjZE2qaTIIdYAvjqfn4OsCwbHh6OpR2CySIkMXbb//z9+xf1gOaCrKwsS0tLf39/sVhMmIFl2SdPnsDHOjExEVqa7mZnZ5uamurr68Mp+tatW8bGxhs3bmxtbUW1UqkUrnrGxsYo0xtnBwayWZaVyWTe3t5jxowpLCzkznZEIhdkk66HspPL5ThP28zMjM7Y40F2b2MzVPk6IBsrMwIEGDgC2QAlsPxh1g8NDdXT00OodkLnkDN4I+EwGhsbG64TxZMnT27cuHGt6woPD7969WpCQgIs2VyQ/fDhQ0yrlZWVy5cvZxjGyMgoJCQEgSe5ETx6A9l4K0Aqy7K1tbWFhYUIKxkWFiYSiQhk60iaSqXigmzcBVtqamoQws/b25s+16CzaIg+fH9rjP7ik00gmz+M5lt8+9/70Bt1dXUIRgGfbIwRxisqKsrIyGj06NF0vAjEiWVZuGtPmTKlpqamn819ZzFIXV5e3oYNG+7fv0+RmKEGNRpNUlJS58mpdnZ25KWt6rqgSCUSiVgsVigUSUlJ4X9e165dCw8Pf/ToUWlp6apVq1xdXWfNmuXm5jZnzhw3N7fZs2ePHj1aJBKNGjXKxcXF09MzLy8PIkp9IdhKib5A9tc42S+6QPa3Q/hhILpbsrHMFovFcPDw8fFpa2tD63ijKyoqfvvtN6FQGBYWxrLsixcvrK2tzc3Nsf4nypVK5R9//CEQCBwdHWtra1+9emVhYWFsbPzkyRNSRFqtVqlU4msb4mTjvWYYxsPDA2fT0Iv/4cMHZ2dnBDzpx0lSRAif+BdxgGXZsrKymzdvRkRE3Oi6wsPD79279/nz538RF36VruLdP3funKmp6a1bt7iIAhsfsR8mIiICWgv9xm4Qc3NzMzMzQBR/f3+BQHD+/HmY4WAvqKqqcnZ2Zhhm586dhM67c27AILukpMTBwcHLywt6k/QXUFfnpMgF2QSAUKytrQ2Okubm5tzwKFzt351EPuc7OaADsnHcEUU3R+UymQyhNuzt7SmEH2brkydPikQiY2NjnPiIoaSRJUu2jY3Ny5cv6a5Go6GzizG+uIXtR+QuAsQP99NXr15hV6+VldXt27cRkgxyhReA65MN+EXvDFYFarX64sWLp0+fxoFwly5dEggEIpEIx6qjpyRsPYJsVMsF2VKplNspMJMiaH5raHoC2Wr+xMdvse3P+zog+/jx45BJGpH8/Hw7OzsLCwtytqNRxiaEhQsX4ltEH0rwz9YG/y/B6Kqqqk2bNuGIXK6JQSwWFxcXP3/+3Nzc3NDQMCwsjF5A9LGjoyM+Pv7FixekSJFATyFvUqkUu1za29uRbm9vR5zsffv2tba2IjQ4ls3UGRJ4SvQCstmv0UX+F2T3K042F2Tr6elxT3wEDdevXzc2NqYIhrQ0zczMNDY2HjVqVEFBQWe4+sbGxgULFohEovPnz3Pt+nChFggE27ZtUyqVbW1t2C557tw57kKrvb0dJqVt27aB54joZ29vz/XeZlm2oKDAuutKS0sDS4lLfILnAHGApipuYlgVCDXNJ4aQA5gs2tvbV6xY8Z///Acxwah+BOaDaW/fvn20IMdAp6enGxsbjx49GkEO8Ln+ypUr5K8P/Yww22vXru3o6KCadRIDA9kajebixYvW1tbXrl0jmSMYBHQPtwQTE5OYmBiuqVuhUNy6dQt7NufPn9/Q0ABSIMc6ZPE/h4oDALsqlQqOjyYmJvDQwPBBYliWbW9vX7ZsGT7awlsD46JWq0NDQwlk08RPY6fVaoHOraysYE0E3qUC3KkdZieVSgWQLRQKyXcFIYTv37+P8Fvjxo17+PAh8Acq1Gg0cD81NTXFoRU6GlCpVObk5Hh6eqanpyPA2ZUrVwQCgZ6eHh2rTvACNW/fvp1hGGtra9r4CNT+8eNHuIusXr0ax6oTiiJp798A8SC7f3zqs9SXL18Qwi80NJT7jQWBmfz8/EQi0Y4dO2CbhGCr1WpsFTh79iwAH+mrPpsazE2cpgRXTn9//9OnTzc1NYnF4qamppaWltbW1s+fP1++fDk8PLympgan6owdO/b58+ckwDKZLCkpacuWLeT3CTHr8S89BVp3796NEH4UJVCnD/QCUoLegq9r16442V3uIgMG2WBpQUGBiYmJnp5eZmYmV+FrtdrKykoXF5eRI0dyv1tqtdozZ84wDOPn54eJTa1Wh4WFGRoa+vj4NDU1gU6WZSsqKiZNmmRlZZWeno4XFofOLFmyBFv+8ba+e/fO2dnZ3Nw8ISEB02p9ff3s2bMFAkFycjKRpFarr1+/TidM6XCJ/8lzgOfAL8MBAiosy75+/dre3p72EFIfoSvOnz8vEonmzp3b2NhIFhytVnvu3DkDAwP4W2u1WkRKDQoKkkqlZNrrVIDHjx8XCATHjh3rY9E+MJDd2Ni4dOnS8ePHl5aWQhVyO6NUKiUSCbaKI+yrQqFAZnV19dWrVxGS0NLSMiUlhcw8mDOo53xiaDkA9srlchh7DA0Nw8PDqQmIC8uyra2tsBJZWVlhcGEr6ujowCze6Rl58eJFmrEAlxEqBHuYDA0NYSPXmcu5P2EGlslknp6ecHcj+ItiEokkNDQUQbtcXV1fvnyJQx9ZlpVIJIh/IhKJ7t27J5VK5XK5rOtqbW2tqKi4fv26o6Ojm5tbTU0NiD927JhAINDX1z916pQONMF2YB8fn87Yuubm5rCD0jtWWFiIyD7z58/Hu0fSTqzrX4IH2f3jU++lWJb98OED9nIcOXKExghDrNFoMjMzx44dO3r06MzMTKzzWZatrKx0cHBwdnauqqrC0A8ryNZoNF++fPHz8xsxYoS7u/uSJUuWL1++ePHipUuXLlq0aPbs2S4uLq9evYL/MVz9nJ2dHzx4UFJSUlhYeOHCBVdX1+joaArD1yO85ipbeq3wegYFBdGJjzq8pJKU+BbIfl4h/H/VtoHs/yft+8RHMDYtLQ0xrSgOJvLRyoULF0xMTHbt2kVfhOrr6+fPn29gYAB1gXEsKytzcXGxt7fH2eyo4ebNm4aGhps3b0Z8mM5I+R8/fpw9ezY2UUASNBrNgwcPRowYgb0cYJFKpbp8+TLDMJs2bUKOVqttaGhYvny5hYVFcnIyeeno8Ir/yXOA58AvwAFSlWq1+sKFC2ZmZnfv3iW9RB3ETDF79uxOn8Nbt27hgznLsgigB1MIlvdxcXEjRoyYPn06nYSFc8EWLlwIZ0VC3lQ5JQYAsjUaDZznli9f3tbWhkmLVJhUKs3NzT137tyYMWMMDAwMDQ0793KuWbNm3bp1K1eudHFxsbW1tbOz8/PzS09PhwGDniVq+MSQc0CpVL569erSpUsTJkyAg/KMGTNu3bqFaFlqtVoqlebk5Ozfv9/a2trAwMDY2NjHxyc+Pr6xsbG0tPTKlSuTJ0/W19c3MTFxcXG5efPm27dvYf+WyWTZ2dlHjhwZOXKkoaGhkZHRqlWrYmNjP378SIBGR6yxLTc0NBSOpAYGBp1H9N2+ffvdu3f0SENDw6ZNm4yNjU1NTefMmXP37t3O4JSdW51CQkJsbGwMDQ1FItG0adO8vb3XrFnj3XUtWbJk+vTpI0aMwJTcedJ7aWlpRETEtGnThEKhsbFx5/6wq1evFhUVgZ6Ojo7CwsLQ0FA7Ozs9PT19ff3ly5dHR0d//PixoaEhMTHRy8tLT09PJBJZW1vv378/JyenpaVF5yt8/0aKB9n949NfS0EzaDSa1tbWziVfSEiIpaWlvr6+u7v706dPy8vL5XI5MBw+1Ny5c2fChAnu7u7x8fFlZWXPnj3z9fWdM2eOjqP2XxsZyl+d7tRBQUEWFhaGhoZCoRDCg12/2M8QEBAgl8vVanVLS8vOnTuxrUpPT8/Gxsbe3n7SpElXr14lH24yvRMfuAkduvfv329iYnLgwAGuiYVbhrA1Jb4fZP+364z1T58+ZWVl+fj4QG9s3rz5xYsXHz584HrCdMZO2blzJzpYUVHx+vXr4ODgiRMnRkREIDIafEiUSuWjR4/c3Ny8vb3z8vLevXuXnJw8Z86c5cuXl5SU4MMUpsDMzMyZM2euXLny6dOnVVVVKSkp8+bNW7ZsGc46BqPUanVTU9O+ffsmT558/vz5ioqKN2/eHD58eMqUKefOnSOnGi6X+DTPAZ4DvwwHoAe0Wi2W9A4ODjjBimAGeoqFek5Ozty5cx0cHK5fv15WVlZYWHjgwIEpU6bcuHGD/EJbW1tPnjzZGfrTx8fn8ePHZWVlBQUFe/bssbOzwyFifbBuACBbrVYnJia6uLhcv34dPq/cyaCtrS0zMzM5OTk6OvrBgweRkZFRXVd0dHRUVFR0dPSjR49KSkrw8b2POaMPWvlbg+CAQqHIzc1NTk6Oi4uLjo6O7LpSU1PLysrwMUEikeTk5MTFxcV0XZGRkXFxcU+ePMEOwqSkpOjoaNxKSEhITk6myUwikWRmZiYmJmKIo6Ki4uLiUlJSqqurSZQBaumvQqHIy8ujOmNjY6OiohITEysqKjCPAjO9f/8+JiYmLi4uNjY2NTW1uro6Pz8/Pj4+MjISlHT/CyIjIyNxTkdpaSm3lbi4uMTERBzarNVqZTJZXl5ebGxsdHQ0/sbHxz98+LCysrLTM+Hx48fIjIuLe/DgQWJi4tOnT3Fw4ED5r2Z5kD1Qnn0tT/qhtrY2JycnISEhMjISg/X48eP8/HxYfKEiETA7Nzf36NGja9as8ff337Zt2/nz58vKyiBUXHA5GGr68UznbpOHDx9G//WK+vOKjY2FWKKmurq6zkhz3t7e06dPd3d337dv37Nnz2QyGX3c60eD/7dISUlJbGxscXExdDK9elSCuk+JoQLZ5eXlaWlpGJe4ruvJkyeEidEdlmWbmpqSk5N37ty5adOmzZs3BwcHZ2VlYcMGDbRGo+no6KioqDh16tS6deu2bNni7+9/9epVbFrFqh4gW6VSvXv37tSpUxs3btyyZcvmzZsvXbpUUVHBrQofNMRicVJS0vbt2zd2XcHBwenp6YjrQhUSl/gEzwGeA78eB8rLyxcsWBAcHNzHRmeVSvX+/fszZ874+vquX79+06ZNhw8fzs3NhZs1TNQajUYikaSnpwcHB/v4+GzatGnr1q0hISHPnz9vb2/nqtbuPBwAyIYebGlpIYsL6TV88iMs1UcC6q/7TNCdMj5nqDgACeAOCr6AkK8zfmLq5RajyZibSWmaRCkHCe53E51bvf2khuBPokMJDGO9PdtjPljHvcVtgrqvU4DkmZuPNCb4gY6Imu0phB+/8bHffOxtpAiI0wc+bKiVSqVNTU0SiQTDDW3T79YGX7C7wOjkwD+BdDHCNLW2tkqlUqwE8DYNQjFSQ709y22UekiZPflkf9td5L8ajVqrpaa7J2iA0BBiVLe0tEilUoVCQaqD6KFXXqVStf154VlyC0GdmGs6OjrEYjEYiI7Ty0tTDB6Xy+USiaS1tZVWXCgJGrgE8GmeAzwHfiUOYLdMe9fV4/sOVUA6Si6Xi8XitrY2QA4oHGIItFznCWhSqRTFyDJIR95QYW5iYCCbVCGq4Oo10ly0hRy6Dx0giMNNcOng08PEAe4MRLMULc5g0cE3EaRpqiafVwwoIXKaUHVkgOjnIhsqjARNvdQKPUW3SGCoDCW4hXtLk0yiAH52L0ziSsVobcB9ZEBNd2+FB9ndeTKgHBIbegrigXyMjo6M0U888p0jSO32nSBxojcL7SKf/nIrITrpzeLe7X/6mx2kF4oSXCWsC7JVLHsl65s+2XAXgWbgdhlKg6YJGibuMr77+0X8oVtcUqmDyKT3lNsKaQ/UwJ2D6HGUIcb2OOnSXT7Bc4DnwK/BAa4y0ekRKRyuMoHWQklasdNPsvtwc7hKRqcJrVY7AJBNDxPROsqxx5+kiCnRN0HUCp8YDg5wETACP5MtkOYnmoMx/VMBzFJcEfwmhVwkQWLT21Ncie+tzM+Vz4PsQY+XjuQM4uegm/6eB7k6kOAgEU8107tAt5CgAkOY4LZF1VJmzyBbtLjvjY8A2dzOdn95qQlq9PsTqLN7u4PL+X56+Bp4DvAc4DnQNwcGA7Kpxm+qNirJJ/4hHOgbZANPk9mJUDWti+hWP4f+B2CIfwhjeySDB9k9sqU/mTqSM4if/WllyMt0fy90jKxokSC1Tr+GnB5aMHMT3PTQgmxSFMPREWKdDku787yfOcNHJF8zzwGeAzwHwIHvAtk8E39GDmAihJWavpnSrI8PDtQvFKa5kxJUgE/0wQEeZPfBnIHe0sGjA/050OaGsDwX8w1htf2siizKlPgekK3uCq2Nv/0k4G8pxuV5b+m/hTC+UZ4DPAf+VRzgQfa/ari/dpaAMn3OxqTL/RSrwxR6RCef/9k3B3iQ3Td/BnR3oKhap/yA2vqVChO2psS/AWT3x9r9K40y3xeeAzwH/pkc4EH2P3Nchp0qrkc/4Ah3Whr25v8dDfAgewjHWQc0D/TnEFIyuKpgTx3cs9/zFGFrSvwCILufzOzNht3Px7+H7fyzPAd4DvxcHBgmtcCD7J9LDIaMWpInQthDVjVf0Z8c4EH2n5wYgn8Hiqp1yg8BBT9nFYStKfHvAdncD3fdAffPOZ481TwHeA4MPQd09MMQNsCD7CFk5k9TFclTd0cRAt8/TWf+wYTyIHsIB0cHNA/05xBS0p+qiLz+FB7WMoStKfELgGxiLyX64CHKcL/U8f5vfbCLv8Vz4N/Jgf4ok0FwZgAguzf4BYXF1eCgAznd6e5echB0848MiAMUjI+eomnmHzUDcWVGoVBIJJK2tjacoU2UUwgUbs4/M82D7CEZF8S06ei6SJJJsXAFGM2p1WqZTNbY2Pj582exWEyPDAkx3SsBeaQelUoljj8guYVrFm0y7l7DIHIQ2x6Ntre34yDDHushfUuJvwtkgwClUimRSEA/CEYvuHfFYrFUKqUjIXT6haMfZDKZVCptb2+niP46xaAo5HK5tOtSKBQ0EKT9uj/C5/y8HKBhlclkSqWSXknu7iOVSiWXy7nih/7iWRxfIpVKJRKJVCqld5b77vy8/PnZKScfV4wsgjT0ofqwrsZxVGKxGBqAKiFuoLaOjg5514XjhJFJEkWFkUAlsq6LhESnDP3sF8iWSCT5+fnPnj3LysrKzs5+9uxZdnZ2VlZWRteVn5+vUCikUunTp0+RgwJPnz59/PhxRkbGs2fPioqKPn/+TEqzN9KJLD4xVByQy+X5+fnp6elPnz599uwZxigzM/Pdu3e9mbH/xtHB9KnVat+9excREbFr1y4/P79jx47hLHf6+PuznIrMg+zvFGNC0i0tLTdv3kxJSaHz/+gWElC4LMvW1tbGxMTs3Llz165d58+ff/PmDcWd/E5iensc7wum7fr6+rt3727fvt3Pzy8gICA2NralpQUB6bvP671V+M18qHi8v+/fv9+zZ09UVBRpV53HCR9Q4m8B2TReSUlJgYGBdXV19DpjgFiW/fz58927d4ODg3ft2hUUFJSUlCSRSDDi1CmWZRsbG2/fvh0YGLhr167du3cnJibiZGMdxcWybH5+/pEjR/bu3RsUFHTmzJmKigqsuIZbJIhaPjHcHJBKpdnZ2U/+vB49epSenn7jxo22tjY6CIJmOpVKlZeXFxYWVltbSwKJBETi06dPERERmzdv9vHx2b59e2xsLCSQ1M5wd4evv28OEPZlWVYulz98+PDy5ctisbjHp1QqVUFBwdGjR3ft2hUcHHz27Nm3b99yATpmDY1GU1JScvr06Y0bN65du/bIkSNZWVkdHR29wQyg6ubm5pCQkLCwMDpKVkeiiKS+QDbprNTU1IkTJ1paWpqZmZmbm48YMcLc3NzU1NTMzMzY2HjZsmVSqbStre3atWs7duywt7e3sLAwMzObOHHivHnz3N3dXVxcnJyc3N3dd+3alZubC5qIAj4xrBwQi8UPHjzYuHHjqFGjTE1NR4wY4e7ufvLkyYKCAsgEWifZRWJYSeq7cpZl8/LyvL29T58+fe/ePRcXF5FItHz58oaGBmg6YAUiuO/a/t67PMgeNP8JuTY3N8fGxi5fvtzExOTEiRM02+loNJZlxWJxdHT0okWLXFxcjh07lpeX19jY2NHR8WNEhWXZ169fe3l5mZmZCYVCpusaOXLktm3b3r17N+TWdLwFEonk4MGDRkZGwcHBHR0dXBhNnKdMSvxgkA3+Y7yKi4unTJliZWVVVVXF5YlSqSwuLl67du3cuXNv3Ljx6NGjkydPzp49+9ChQw0NDTQTaTSa8vLyNWvWuLq63rx589GjR6dOnZo5c+aRI0fq6uq40Fkul9+5c8fZ2dnf3z8xMTE+Pt7Hx8fDwyMtLY1r4yQu8YmfiwM0T6Wmpjo43YhlywAAIABJREFUOFhYWJiampqYmBgbG5uYmKxduxbfkSA5LMtKpdI3b94cPnx40qRJY8aMKSoqIgWCjqvV6sLCwuXLl1tYWODlZRjG0tJy+/bt1dXVpHZ+Li79YtTSoIvF4szMzK1bt1pZWS1cuLChoUGnpxqNRqlU3rlzZ8aMGZs2bUpJSYmJifH19V28ePHjx49hj4AAKJXKmJgYNzc3IyMjjLtQKLSzszt37lwnjObqTPI3AzQPDw83Njb28vKSy+UkS9wEkdQXyAZgl8lkAQEBo0ePdnFxmTNnzty5cz08PNzd3efOnTthwgShUBgcHIyqVSrVhw8fVq5cyTCMoaHh2bNn33ddRUVFd+/e9fT01NfXnzx58v3792GQJyL4xLByQK1WV1ZWzpo1i2EYa2vruLg4sVhMkjGsTQ+icrFYvG7dOjc3t5qaGo1Gk5mZOWfOHH9///r6eogZvujhCyDNvoNo6Ac8woPsQTMZgKm8vDw8PNzf39/Y2JhhmKNHjxIy4wqDRqP58OHD7t277ezsli9fnp2drVAoUJIQ9vCJCpqora319vb28PD4448/rl27dujQoalTpzIMo6ent2XLltbWVpohBs0TPEh6X6VSxcbGjho1imGYffv2KRQK7mdxaoXKU+LHg2wMVltb28aNGxmGsbW1hVGZelRfX79u3TobG5t79+5h6OVy+YkTJ0xNTY8fP052mebm5rVr11pZWd25cwdfBlDM2tq602ItlUrRNY1GEx8fb2lp6enpSXqjuLh41qxZU6ZMefHiBZcVxCg+8RNxAKMvk8m2bt1qZ2c36c9r4sSJ06dPT0xMxPuOv+3t7fHx8aGhoTNnzmQYxt7e/s2bN5BJaAmWZSsrKxcvXrxkyZJz585FRETs3bt38uTJQqFQT09v79697e3tPxFzfm1Sa2trb926tWfPntGjRzMM4+np2dTUhC6TjlWpVImJidbW1suXL6+vr4fnWGFhoaurq4uLS35+PjQAy7KpqamOjo7r1q27dOnS5cuXt/2f9r4EJqqka/t2k6aBIEpQIIgSUIkiBNAJi8Q1CM7nAgEBAwpRkbhNxJGor2TcIjpGtrCGRYILURGDgnEQo4BxFCOgAcQfGQlrWAM0nV7o6e7798uT76S/BhFxGXX6JpC6t+tWnXvq1KmnTp06FR5uZmbGMIyxsXFWVpaGoqAlxNLSUhsbG4ZhAgICCEqRRCFBrTARyIbCqqmp8fT0vHjxYldXV39/f29vL/739fUdPXrUxMQEa7g0hh07doxhGAMDg+vXr6MyKM2qqio7OzuGYWxsbF69ekUUaBNflANoF5FIhMmPjY1NfX09aRYNGfqilEymcJZlKyoqTE1Nvb29MY9UKBStra1dXV3k+SSTyUZGRmihhwRvMuV/5TxakD1lhsPRtr29vaurq6GhAarjt99+0wDZEOC2traQkBAej+fl5UVmY5lMNi7onDJJE7yoUCiSk5P9/PxgoIXXU2Vl5YoVKzCoV1RUEOUTlDOZn+RyuWz0qq6u9vLysre319HRiYqKgq4f2x2oj1PiK4NsjHBKpTIlJWXlypUmJiZz5swhSzaounTpkqGhoaenZ3t7O0ZKrAyYmZnNmTOnuroaNOfn50+fPt3Dw6Ojo4PWtWpqamxtbS0tLR88eIARZ2BgYN26dQzDZGZmkq5TeWT+9ttvDMPs3LlTYxScDNu1eb4pDgBU/Pnnn2vXrr19+3ZjY2NDQ8Pr16/r6+vfvHkjEolALbrD8PBwQ0PD4OBgbGwsn8+fM2dOTU0NZICkKCYmZsuWLc3NzQRanj17BsuUnZ0dLN/fFAf+ncSwLDswMNDQ0NDc3Ozr68swDKCCOjeQx8vLi8Ph5ObmjtUAERER8MuXSCShoaFHjhzBOjnLsiMjI5cvX4blwtvbe3h4mNQm6aXW1taQkBBnZ2cul+vr60sORSRRGuplIpCNoaKwsDA9PV0kEkGsaajo6+tbv369k5NTU1MT6IDqP3XqFED21atXydwIUT548KCuri6Hw7ly5Yo6U7TpL8oBuVw+PDzs5+fHMMy8efPq6upIs5AAEQE0F6Qn70uMHc7fl3Pyz+VyeUpKir6+vpeXV19fH5A0oSVSf0jg18kX/vVzakH21HgOIUS7K5XKrq4uNzc3hmHUQTZKZllWIBAcPnxYX19/8eLFjx49ItmYvCRPjUh6i2VZoVC4ffv2e/fukXqFnrx48eK0adMMDAwuXrxI+T8xAbEXCASRkZGnT5/euXMnn8+Piooi471G+dTHKfH1QTbLsvfu3QsICIiPj58zZ87s2bMx1cdUqre319fXl8/nHz16lBqdZdm+vr61a9fq6OgcPHhQLpcLBIJNmzZxOJxjx47hYzG+DAwM+Pj4cDicgwcP4nlxcbGxsfGsWbNevXqFrwbTSkpKjIyM5s2bV1lZqcEl7e33xQF4gKic+3ft2gUkhK6H5kaaNIBUKoWkZWVlqTqjBshWKpU9PT2hoaHl5eUYGdFBWJZNTk7m8/nTpk3TIpZvQTzQoDAnC4XCHTt2MAzj5eXV09ND5KHpi4qKjIyM5s6di91caH2lUonn8+fPhzG7srIyPDy8vb1dXW8LBIKdO3cyDGNra1tbW0tqE4UIBILffvvt6NGjR44c0dXV9fX1FYlEJHvqCSJpIpANFAXoTJtUaFrw5MkTExOT8PBwUu4SiWRkZAQg29DQMC8vj0qAGTIuLg7LvsnJyeTgQqRoE1+IAwqFQiAQYNpnbW09McjGaESyohrAXr58+ezZszdv3mB3Edbp0LLI1jN6yeVyiUTS2NhYXV0NN0oNFE6Zq0evlpYWPCGNBtE6ceIEj8dbt27d4OAgkQHrHVaNh4aG6uvrnzx5UldXRxueMCEkX6uOjg781NTUVF9fjzRK6+joQMlCobCxsbGqqqq1tZVelEqlb9++raqqevfuHfJrfMVHtZEWZH8UuygzgWyIRGdn57JlyxiGOX78OJ5Qo8jl8sLCwpkzZ6rc6U6ePAm/ZMJVpB+p5C+RwI69pKSksftvqqurbWxsdHV109LS1MVJoVAMDg42NjZWVlY2NzdjcYZ07AREwtIxMjICL5r+/v59+/bp6ur++uuv6k6o6iUQEyjxKSD7b4Xib4Xio45VZ1m2u7vb19c3LS3t2bNnM2fONDc3J5CtVCofP35saWlpaGiYk5NDiw8sy0ql0kOHDjEM4+jo2NXVVVtba2xszOPxsEZKBnKpVHrkyBEOh+Pu7v7u3TulUrl3716GYZycnNDTKWddXd3ChQv5fH5MTMzEQQnUGahNf5scePLkibW1taOj4y+//JKXl9fc3IzeAe1B0g5MBoSUnZ09FmTD2Sw7OxuWRJJAmUxWUVExa9YsIyOj3Nzcb5MJ/yqqaNakVCqHh4cBsr29vcldhDQbNICbmxtMdVCtLMu+fPnS1taWz+efO3dOLpffu3fvjz/+wAZHjCkQoezsbIZhrK2tAbIhS/gpJyfHx8dHtRAHoOLn5wcATFiFEtQ0E4FsZKIPU0+wLBsXF2dsbEwudEqlcmRkRIXAjh8/zjDMtGnTrl27hm8GcVKpNCIigjt6FRUVEd1EijbxhTigUCiGh4cBsm1sbAhkk0SOrZdl2c7OznPnzm3btu3AgQO7d+9evXq1j49Pbm4uxi2FQtHV1XXt2rVff/11+fLlcXFxDQ0Ne/bssba2njVrlouLS05ODuA4Coe1Ly0tLSQkJDIyMiQkxN3dPTw8PDs7+9atW0VFRS0tLVlZWRERET/99BOHw5kzZ05ERMTevXtjYmI6OzshLT09PQkJCaGhoQcPHty3bx9c6DIyMtDHJBLJ27dv8/LyduzY8fPPP1dWVl64cAHryOfOnautrc3MzNy+ffvq1asLCwsrKip27Njh4OBgamrq6uqal5cnFovv3bun2iTh5ORkbm7u7OyckZGBoD9j+TPJJ1qQPUlGaWSDqsHMR6FQvA9kA735+PgwDLNw4cKKioo3b96UlJQ8fPiwvr6eJv8ahX+J25GRkaGhIYL+VEVNTY2VlZWxsfGtW7do+UggEKSlpe3evTskJGTlypV2dnb79u2DB93YEqgoJGCtuH///rJlyx48eDAyMrJnzx7YegERxpZAaIMS6h1frlTKWOXfCoWMZf+7cVLGskkPG3S85Zb72P83zCqVElaiYP9mWcUouv4vwv4okM2yrEQiOXPmzOHDh/v7+1+8eDFz5kwzMzNyWpPJZJmZmVwu18zMrLS0FJAI/5VKZVZWlo6OjqGh4fPnz/Py8uAr+eTJE3wLuCGTyVJSUng8npmZ2YMHDwYHB5cvX84wjI+PD1QQYBPLsl1dXStXrmQYxtfXV31g1mCy9vbb54BqjgSkwTAMl8s1MDCwt7c/dOhQTU0NiCdph9kIIOTixYvjgmyxWIxYkMiMEuRy+bNnz2bNmmVmZvbo0aNvnyf/KgqFQmFYWBiHw1m3bl1fXx99O6IPwSjj7+8vFovR9Pjf0dEB5RAUFNTf3y8WizV2xkNsLl26xDCMq6vrwMAAlaxUKmtqagICAvLz82Uy2alTp3R0dAhkq2fTSH8YZNMLsCZCiQ8PD2/cuNHR0RG+IngIm3d0dDSBbAL1LMsWFRXBUX39+vXkATN2SKDqtInPxYFxQTaGH9JE6nWxLNvR0REYGGhvb19SUiIUCsVi8f3795cuXWpkZHTmzBnI5du3b0+dOmVhYcHn8zds2LBp06aDBw9evHjx559/5nA49vb2VVVVVOzIyMiFCxcWLlx45coVoVA4ODgYFhaG4XP+/PlLliy5fft2dXX1zZs34dbi5OSUl5d3586dR48e9ff3KxSKvr6+0NDQRYsW3b17F4GBHz9+7OLiglVmsVisMo2fOHECu80sLS337t27bt26uXPnMgyzefPmkpKSnTt3osbg4OCQkJDff//98uXLGzdu5HA4Tk5Op06dCgwMTEpKKigogHXQ3NycdkjQh3xUQguyP4pdlPmDIJtsk+Xl5fCfc3Nz279//5IlS0xMTPT19W1tbSMjI3t7ezUs31TFZ0zQboGxZZaWls6cOdPR0REWVoSd+u233zw8PJ4+faryf6ipqfH29ubxeN7e3q2treP2R/Vi4USxdevW9PR0mUwmkUh2796N3ecikYiMcBqv4Fa9cEp/BZB9/fp1Hx+furo6pVL54sUL09ELU32FQiEWizFk2NjYPH36FBMAjDXYlqSnp6eaRF2/fj0qKophGCsrK+xagwxg6pKXl6evr8/n8y9dulRbW4s9Sbt374aNCmyRyWRka3BxcWlpaVHnkjb9fXFALBbn5uYGBwe7uLiYmJggLgSHw1m6dOmLFy9oZZIWzCcA2fhwMngTJmFZ9u7duwzDLF++vKOj4/vizw9PrUgkCg0NHQuylUrly5cvFyxYwDDMrl27NED20NDQxo0bGYZZuXIlvERIZ2LQwXiBzRuRkZG4BTPFYjGsftj9curUKS6X+zlBNs3wsOxSWVlpY2MD/3GycEMzQmPy+fyIiIjMzMysrKwLFy5ERETMnz9/wYIFkZGRb968gSZV/4AfXib+wQ+Uy+VCoXBcS7a6DiLlorJZRUdHqzZWY1EVGEIul2dlZenr61tYWOTn5yNzX1+fp6cnwzB2dnb37t2Dc1JlZaWVlZWenl5mZibhj8rKyrlz57q5ufX09EDflZaWmpqa6unpJSYmtra2QnBVhwj85z//wZZh2k+AcKcnT57kcDjwykXHUCgUBQUF5ubmM2fOzMrKEolEAoEgKSmJYRg+n7979254g5w5c6a0tFQmk4EwHo8XHBxcX18P55MnT55YWVlxOJy1a9fSbpienh5XV1culxsfH0+fMIUW1ILsKTCNZHICSzYt/2VmZvL5fIZhPDw84uLi7ty5U1hYeODAASMjI4ZhgoKCOjs7SY1OjZipvQU9+fvvv0+bNu306dMIGwfU6ODgAFssbBB37tyZPn06j8eLj4+XSqXjVkfGGFUXO3HixP79+9FfZDKZOsgmVaxeCOFpSnw1S7ZcLq+trfX19b18+TI8eZ4/f24+esGSrVQqBwcHw8PD4QGJDY5Az2j9kpISeBjGxsaGhYUxDDN//nwAdJpoKZXKgoICtHhcXFxZWRlQFzy5ISrILBQKg4KCGIZZtGjR69ev1bmkTX9fHJDL5So3IdUks7u7+/HjxydPnnR0dORwOAzDrFq1CrufSZMQfhrXko1+MbbvyOXy6OhoDodz4cKF94VM/r6Y9iNRC5DN5XLHWrLLy8tnzZrFMMyvv/5KihcqdHh4GBoAmwkJ8xBnsGnS09PT3NwcC2t4USwWx8fHb926lbySTp8+zeFwALLp9XETH7Zkk4BCNUP3XbhwwcTE5PLly7S6R5oRIJvH4zk4OKxevdrV1XX+/PnY77hs2bKsrKyBgQF1dT8uWdqHn5ED6iB73rx55MuPVsD0iSZRLMv+9ddftra2pqamT548ofZlWba1tdXDwwNRq3t6euRy+dDQEAzPYWFhKE0mk/X29mJTdnR0NC3XZmRkcLlcb29v7PvGQv+qVau4XO6xY8douiUSiQ4fPszlcr28vOisvpGRkebmZnt7e1VgAQQQIGqHhob8/f25XO7q1auxMfzWrVuqqAIWFhYVFRVAVxKJBNiloaHBwcFBT08vKysLE0KZTNbe3o4QEIcPH8asF51qy5YtDMPs27ePzu2bQotoQfYUmEZD48QgGyVD25iYmBQVFQHXKpVKkUj0+++/83g8VaRbbP/4lJnSFD4BIoSlSW9vb8TZVSqV/f39Pj4+Tk5OqmXH169fNzY2vn37lqJBbdq0SX0Hz9h6WZYtKCjw8PAgXwuFQrFnzx4ul0s+2eO+hYfqWpfSX9SSLRaLDxw4cPr0aYrhXVlZOXv2bAsLC3WQvXXrVkzUYe2GAKD1Hz16NG3aNIZhzp49i9Fx4cKFr1+/Jt0FVhcVFRkbG6tCx/7+++8lJSUIdXzkyBFqd+QXi8UhISEMwyxYsKC2tnYsr7RPviMOYNSAAMjl8vr6+sDAQC6Xq1qujI2NRYsDvRCGeR/Ipu6g/vnt7e2urq5r165FCHaSJfU82vQ/xYEJQPaDBw9IA2B2hPbFZtng4GBom9raWg37C2SppKTExMQkKioKIUHx8NGjR2vWrAH8ABLG5kM/P7/3WUaIMx8G2WR1hkxLpdLe3t5169YtWrSooaGBghZrgGx9ff1Lly6JRCKpVNre3l5UVLR161Z9fX0ej+fn50fn7oydSRBl2sTn4sC4IBtWNFojA2xFcxQUFPB4PFtb27q6OjyBjEokkmPHjvF4PBMTk8rKSiy/bt68mWGY0NBQcjnt7+/38PBgGObw4cMIiC6Xy8+dOwcnJ4obL5FIQkJCuFxuVFQU9QEVID569CjDMGvWrKEQfizLlpaWGhgYzJw588WLF7THEZJ54cIFAwMDc3Pz+/fvw6bF4XCsrKxqamoQkR7KkWVZgGw+n4+wPrBk9/f3r169GjGYYR1EsRiMd+zY8SkRUrUge2oyjEFxYpANeYMLwfz589+8eUMzOpZle3t7nZycGIZZv349lkSmRsnk36LhHAsvAoHg9OnTbm5uMFpDCF+9emVmZmZubu7t7e3l5bV+/fp169atX7/e2dl58eLFYWFh7e3tUKRUmvos96+//vL397969SrBC4VCsXfvXi6XizjZRK06ICAAQQlIODJ/OZAtlUozMzO3bt1Ke4iVSmVlZaXF6PXmzRuooKGhoe3btzMMs3jxYliX1Vu/rKwMluz4+HjE2F64cCHF2IbWgi8iQHZcXNyDBw9MTU0Zhjl69CgxBN8uFosB6LWWbOLMd5qAkNCSJkS6qalp1apVDMMEBgbSXJ26Esuy6iCbPly9X9BDkUgUHR29atUqrK5ogQpx5htJTOAuUlZWhq3wiFYElIz/QqEwMDCQYRh7e3uoIDyHDCgUioGBAb/RC37eaPfe3t49e/YkJiaSky3LsqdPn4YnKu22H1eQlErlh0E2ZJT0skKhePz4sbm5eVBQEELnkFlR3V3E0NCQnApImR47dgwac9u2bcPDwxrTiG+k8X48MiYJsiFPWCPDsqz6KcQQgJycHKzO3717l2VZkUgELxRYsmFKHAuyFQpFZmYmj8czNTV9/vw5ZFEqle7atYvP56enp+MJ9kgRyMZ51Kg3ISEB9mnsDyORY1k2Pz/fyMhIV1f32rVrLMvCkj137tzq6moC2cAcr1+/tre35/F42dnZ2KcLD1fo5ejo6LEgOywsTAuyv36PUIdZ4258hFSowrodPHgQq/+NjY00muJXeBfY29vjCOUvPUySnoSwFRYWurq63rhxg9S3Uqm8e/cun8/39vbu7u7u6enp7Ozs7u7u7+8fGr2gEqVSaXFxcVZWVk5OzsWLF7Ozs9PT00tKSgQCwf79+8PDw9va2rq6ujr+98JnRkRENDc3d3Z2YuHlnwXZYHVFRYW7u3tWVlZnZ2dPT093d3dHR4fqyGuz0au8vBxRiUQi0ZEjR+Augl1r6q1fUlIChaM6wgyOZPPmzVO3ZEPnFBQUGBgYqDZMX7x48eXLl9bW1gzD7NmzB0MPScvw8HBAQAACj2h9sr9+v/6MNVJ3Q5kEleLj43V0dFasWEH2RVIL7wPZGlQBluTn5y9dupQiNECEaMVV4xXt7dfngFAoDA0NZRhmrLvIy5cvraysxnUXEQqFMAu6uLgg1j5UBEw2EokkOjp6/fr1DQ0NmKRhuf748eOBgYE1NTXd3d2dnZ1dXV3d3d1Hjx7lcDi+vr7v3r1rb28XCoXvG2ImC7JBCjRaQkKCvr5+YmIiwTLodHWQbWBggAGG5FKhUDQ3Ny9atAjnDmqju381uVQoFCKRCH4d5NFIw4+GtpLJZJGRkYhfQ21Egnj37l0sxNy+fRvr8ih2+/btaGiWZfv7+1esWMHhcKKiomDJZlm2sbHR09NTT09v165d3d3d8ABxd3dfunQpLRyrg+y1a9cODAwQVjhx4gQCC2AnIk0ZYeQ2MTHhcrkA2YWFhTj+AxYIhN1FOQ0NDfb29rq6ullZWQSye3t7AbIRfBcizbIsLNmhoaFakP3VBJUqUodZE4BslmXPnDnD4XAWLFhAapHkEKdiWVtbk7cGlf/lElhmefXqVUhIiPpBARikCwoKuFzusmXLVCs2iN1Lgze6GEL7eXp68ng8fX19Q0NDndHL19e3vLzc0tLS3t7e3d3d1dXVbfRyd3e3sLDgcrmzZ892d3f38vIib2/6RvXOMvbhl7BkY5iIiYmZMWPGTz/9tHz5cjc3t5UrV3p4eDg7O2M9UxUdxcPDY+/evUNDQ6mpqTgGsry8nCAR1jGuX7+uo6Ojp6dXVlaGLf8WFhZYzoLJH2NhTk6Ojo6OiYlJaWlpT0+Pu7s7wzDBwcHAXgSye3t7vb29sb6hjS5CwvADJICMWZZ98OCBsbGxh4cHWUxIoiYJsmUy2fPnz4OCgm7cuEFHjVI/hWy/D079AJz8Xj5heHj4fSC7u7sbGmDbtm2ID0aWjp6eHi8vL4Zh/P39BwcHabhHhitXrvj4+FBwfbCiqalJdU65tbX1ihUr3EcvNzc3Dw8PS0tLYJLly5d7eHjk5+cTXNHg4YdBNsQLrykUiqGhocDAQCsrq2fPnmE8w4KmhruIgYEBhfAju6NMJoP/67Rp09TniBo0aW8/LwcmBtm04oawffX19WfPnsVxQjhcA3MngICioqIZo9fDhw/VLdk7duwgcAOQDT8QKCmouaqqqo0bN06bNi08PDwzM/PAgQMbNmwoKSmhMHkaIBtBRcCKjIwMHo/H5XILCwsJNEAyS0pKjI2NjYyMiouLWZZVB9mYnmIYViqVBLIzMzPVQTaiekVHR1OHJJC9bds2Lcj+vNI4mdImA7LR+rm5uXp6epaWls+fP6fRFD9hOc/W1hYR2b/CuAhIV1VVFRgYmJWVBVsaqAJJt27dMjQ0nDNnTnt7u/o6HjqXRCIRCoVSqbSgoCBp9EpISEhKSoqPj793796rV688PT0dHBwcHR2d/vdydnbGFh9TU1NHR0c3NzccqKHRR8DzcR9+CZANVqelpS1ZssTZ2RnEOjo6Ojg4LFq0SEdHh8vlLlq0SLX3KCQkRCAQUDTi27dvY6BCCXK5PCYmhsPhLFy4sK2t7fnz5zNmzDAyMvrjjz/AMSAeqVR67tw5LpeLJWCZTAbr/sqVKwlpQTs1NTX99NNPXC738OHDdCjgZARSm+fb5ACJNIHsZ8+eGRsbb9q0ibYBkFqYGGQTSnn27FlgYOCVK1cgY/ThuIVkfgVlQvVqE+Ny4H0gGyM7TpNZvXo1DMzo/jKZrLGx0dHRUUdH58SJE7SZlQ56DA4OpsNlARuwRc3Pz8/BwcHJycnZ2Rk6zcHBYc6cORwOx8DAQBUbzcnJKTc3F84kY6n9MMgmeYJGq66uVnnr+vv79/f3g3SyKGhYsvPz8zG0oFaWZYeGhpYuXcowzPTp08vLy+nFsWRpn3xGDkwMsqGnRkZGVFrpxIkT6enpDx8+RNis2NhYPCf9cvnyZT6f7+DggBAxw8PDiFKMk4pBc39//8qVK+EnSpZstP758+cPHToUFxd3/vz5GzduwO2JbAPqIHvNmjUA2RC/x48fm5iYcDicmJgYGl/xYkFBgco3yc7ODrFBNEA2Sa86yM7IyIDjLGJqakH2ZxS2z1LUJEG2Uql8+vTp3LlzDQ0NcUAJjbUqizIs2V5eXthprS4Jn4XIsYXI5fK//vpr165dqampUqlU3YFPIBDU1dWVlZVNnz5dFeE0Li5OLpfjYAGM7mKx+NatW5gqQMI1/uPc1uHhYbFYLFG7du/ezTBMZGTk0NBQf38/zlgh8KGhgYlmyvAlQDYoHxkZEYvFw6OXaPQSi8XPnz+3tLS0sLCorKyLmIoTAAARf0lEQVREcGJE3MdqUmJiIkA2urZIJMIupR07doyMjPT19bm4uHC53ISEBNi58TlCoRBjalhYGIKF5+Xl8fn8uXPnYkUYTGBZ9vHjx7NGr4cPH34FeSBuaxOfnQNoPixU0ojAsiwO+4yOjkaNhLAxAR7XJ1udtsbGxq1btyYnJwOcUfn9/f1NTU0IVaGeX5v+pzjwPpAN1XHlyhVdXV1ra+t3796h6aGNKyoqZs+ebWlp+eDBA9KNCoXi3r17Pj4+f/75J9kcR0ZG5HJ5R0dHS0uLVCoViUSIZYy0VCrF/H/z5s1DQ0Mikeh9CHuyPtngI6pPTU01NTVNTk7GPICEeKwl++bNm/gMfKRcLr98+TKCK61atYrU3z/VSP+eeicG2SSCxcXFCxcuhPcnArb7+fnBMRoaTTUoHjp0SBUq6+TJkwjKKxQK4S4yMchWKpUDAwN79+6Njo4WCoUkjqgaUzWkaePjypUrAbLRZ3p6etasWcMwzM8//0xep/jpzJkz+vr6WHdWt2QDc1NH0oLs70jgJw+y+/r64NgTGRmJCJJocVqLOHPmDOTkK4CqpqamXbt2xcbGDgwMiESiwcFBgUAgFAp7e3tTU1MzMjJaWloQeGf+/PmPHz8mUuVyeVFR0Y4dO9Q9yzW6CVlWNMD3gQMHdHR0Dh06RAeSazQ04WlKqHeKzw6yaURAQoPaV69ezZkzx8LCAn7VaBS5XH7+/HldXd3AwEDEFIJO+OuvvxYtWjRz5kyYruVyeWxsrK6u7qZNmxABHR/y7t07FxeXGTNm3Lx5E2qktbXV1dVVR0cHXm3IJpPJkpOTORyOj4/P4OCgBpe0t98XBxCAgfacYTldIpH88ssvc+fOLSsrg7TTvmEIxrggG4KqVCrr6+t37NiRmJiI/isQCDBFbG9vT0hIyM7OBsj+Cprk+2qLf4TacUE26Zy3b986ODjw+fz79++j6QFQExIS+Hx+QEAAvMXg3VdaWhoaGnr37t2hoSHB6IWjPOrr6w8fPlxWVoYS0O6k0M6fP88wjJ+fH35V164aDPmwJVv9he7u7vXr11tZWcErjvQpjDGwtcCoYGRklJqaimFPIpF0dHTk5OTAi2XmzJk3btyASyKVoF6LNv15OYDQjwCpKt/N+/fvC0cvxBkdHh5uaWnJzMy0tbWl04Wys7P19PTMzc2Li4tpdEd0jhUrVrx58waCNTw8DB/HHTt2iMViWKFaW1uxXrF//36JRALZuHnzpoGBgcoQdfr06aSkpKysrOvXrxcXF1dVVQ0MDFAwS6FQiJBkK1as6OzshL0KI+7Vq1enTZuGoZQE/d27dytWrHB2dsY2R5Zlr169qtraCP8BWgHEKFtbW7tgwQLaaglqu7u7EQvlwIEDtFeGZVmEMsDuXupdH9su2ugiH8sxyk+aUQWXm5qaFi9ezDAMoj2qqzOWZe/fvz937lwrK6uysjLgaQpDaWdnRzGVqeQvkZDL5b29vaGhoRYWFv7+/tu2bdu6dWtwcPCWLVuCgoJ+/vnnpUuXIiBPfHw8Nn//9NNPt2/fbmxsrKurS01N9fDwyM3NxcrPWAoJB4z9CVs/o6Ki0NfGIgBiFyW+AsjGqibFz6IOW11dbWlpaWZmBpCNrg184+rqamVlVVFRATpZls3JyQHyBiZWKBTd3d0uLi6zZ88mrxh0eRMTE39//9bR03zwelxcHPY+Iv7VyMhId3f3pk2bZsyYcePGjbFcGstY7ZNvmQM3btxQ2XdOnjzZ2NhIqx9//PHH0qVLVeul8PEDwsYoAAkExsK2eBIzjDItLS0bNmyYPXu2n5/f9u3bAwMDAwICAgMDg4KC1qxZs3Tp0mfPnmnhyjciEgqFAuFQORyOp6dnT08P2pfIk0qlZ8+e1dHR2bNnDy3utbS0eHl5mZqa5ufnI//IyEhZWZmdnZ2jo6O/v39QUBAOqgsevVxcXNasWYMDp8cqT4DszZs307HqVLtG4uNA9pMnT2bNmrVx40bSejBvy2QysVhcUVERGxs7b948Ho+nq6vr7OwcFhYWERERHBy8fPlyGxsbKysrPz+/27dvU+xhMs5rkKW9/VwcEIvFZWVlx48ft7CwwG4qV1fX4ODgsLCw7du3b9u2LSAgwN3d3dTUVEdHJzw8HPOiwcHBs2fPzps3z9XV9fr16zU1NQ8fPgwPD/f09Lx//z4wcV9fX35+/sKFC3k83pIlS4qKihAqIT093czMjMfjubm5FRcXDw4OyuXyJ0+eLFmyRHf0MjAwMDQ0NBi9zMzMNmzY8PDhQ1VEv6ampmvXrjk5Oeno6FhYWMTGxr548QIRbJRKpUAgSEhIsLGxsbOzy8nJefnyZVlZ2f79+729vYuLizHBKysrCwkJ0dXV1dfX37dv3+PHjyGoIyMjTU1N586dMzIyMjQ0DAgIqKioGB4ebmtrS0tLs7Gx4XK5S5cuLSws7Ovr6+zsvHnzpqOjI4/Hc3FxuXPnDh2g87GNogXZH8sx5MdgBmee58+fnz592tjYmMvlrlmzBkemY1hFZrFYnJqaumjRojVr1ty8efPly5elpaVBQUHLly/HaQJkEp4aMZN5a2ho6PDhwzhsksfjjW5W/O8/LpfL4XB0dXURCxIHl4aHh8MdS3VCobW1ta2trYODQ2xsrEAgmAL4O3LkCJ/PP3LkCDwlxlJLwwMlPgyyuf/ziceqE76hyRIqra6uXrBggZWVlTrIhp9YYWGhi4vL5s2bHz161NDQUFhYuHr1alWIwxcvXuCjECzo7t27bm5u/v7+FRUVdXV1t27d8vT03LBhA875o/lwT0/P/v377ezs4uPja2tra2pqoqOj7ezszp07Nzw8PMGkZSwDtU++QQ6cOXOGN3q5ubmlpqbeu3cvJSUlLCwsKSmJDlggTAw/rqKiIi8vLz09venTpx8/fvzp06etra1AICpXq/379xsYGPD5fF1dXfUujH23ERERWrH5FsRAFVEKB+WmpaVZW1vr6OjY2NhcvHixqqoKDsxEZE9PT2RkpIODQ1JS0qtXr2pqao4cOWJvb3/+/PmhoSFMverr6728vLhcLp/Phzip/zc2NsaRGhoIHqaBhIQEXV3dgIAAWk6hqjUSHwGyFQrFtWvXFixYkJycTOAYox0mFlevXk1NTU1KSkpISEhMTExISEhOTk5ISIiPj09JSVEdrvvy5cuBgQFsRoHy1So7jfb47LcCgeDWrVsZGRnYQZWcnJySkoIGSklJSU5OTkpKSk5OTkxMTElJqaurg58ollEePHiwffv2ZcuWqQ7U2Lp169mzZ9++fQtjm0KhaGtry83NTU1NTUxMTEpKunjxYkNDw9u3b3Nzc7FtKykp6dKlSwiMLRKJzp07t3nz5gMHDgQHB2/YsEGF193d3RcvXmxiYuLt7d3W1lZeXp6VlZWWlpaUlJSSkpKenn7z5k3MI8kaUVZWtmvXrpUrV/r6+gYGBsbExNTW1mLDYmdnZ15eXmpqKgQvJSXl6tWrMG6JxeJHjx5lZmampKQkJiampqZev369vb39xYsX6enpyJ+ampqTk9PW1vb69evMzMzk5GQI86VLl+rr66cG1LQge2ryTGrh7du3165dQ0MkJiamp6dfvny5uLhYKpUSHgVEKy8vj4yM9PT0HA1y6hcVFYVWg6bS0JJTo2qCt3p7e3NzcxNHLyg9dKukpCTIG6K2Y8myr68vMTHR29t7/vz5jo6OO3fufPDgAcwtE1Txvp8qKiqSkpL+/PNPYohGTsLWlJgcyP6FfSNilUoJK1Gwf7Os6hzYv/H3t0IhVyrlGtX831vCN3hM/O/p6cnOzs7NzR0cHMRYhcUHcKa+vj4yMtLX1zcgIMDX1zcmJqarqwvfhQJxzl91dXVUVJSfn19gYOD69etjYmIaGxvVdzmjZIlEcu3atS1btgQEBKjs3Nu3b79z5w5GH7Kg/1+qtXffDQfevXt38OBBV1fXBQsWODs7b9myJTY2trq6emRkZOySjkwmKy0tTU9PJ02SkpJy+fLluro6yENnZyfGMho7UlNTU1JS0H+Tk5NxdJGGVH83zPqBCEUo64KCgrS0tJSUlPj4+KSkpIyMjPz8/I6ODvpQKI2hoaErV64EBQX5+voGBQWFhobeunULnq5wrnv9+nVaWlpGRgbaGugoefQCesEOdSoWCaisqqqq5OTke/fuqe8P0ciJ248D2QKBoLm5mfx036fWx61J+/B74QAhWpZlBQJBe3t7a2trT08P9BF+xTiNsfN9/ymPRCJJS0vbtGlTdXW1SCTCDq3e3t7u7u6WlpYbN25s2LABKIQkCkMmwQJCXQqFYnh4mEgixP8pvCUEMG4hRAPg2rh53vdQC7Lfx5mJn1NzkwhpyJiGEGIbq0gkwj6V7u5usVhMm0Ymruuz/KpB3ri36hVJJJLe3t729naQqv7TR6XRX1Dd+xAACTAlvgLI1viK9zGE+hQyKJVKoVDY0dHR3Nzc0dFBcYfgsUYfiE0mHR0dra2tvb29WBeF7Vw9D2gYGBhoa2trb2+ns2Y1aNPefo8cwOl97e3tLS0tra2tAwMDFMyHpOV7/C4tzVPmgPqoQYXAd7+tra2zs3NoaIhkA0becfUS6SIUMlalUOGwRaqrU/pJPfERIBtlISibur5WL06b/jE4AMEiew8wzVghnkBG1X969OiRra3t0aNH1Q2QYBTLsm1tbfv27cMhoLQwQt6cxE/UTl7a6j2BoDllVk+o51R/TulxM2BtmkAAdU56azIJLcieDJcmzoPW0fgPw6eGosTDD6q8iaub2q8a5E18C1kiCf8UXaoOsqlSjU+g8imhzqLxNz7+113kkyzZRAMpDZBHBJM/CajCr3iL8oBR9BBF4T+VBo2h/mnqVZPiovzqhVBObeK744C6GxKIp5al2+/uo7QEfwoHIAAaJWg8hG6hh+pqR+NFuiW5wrv0nDTPBwv5CJD9UZQRKdrEd8oBjeYmSaLnk/kuyOXp06f5fP7mzZtbWlpokoaV366urvj4+DNnzsCjFIKLkqlGqojEHWs9tNBMGcZNjC1HI9u4GaguGqc13prMrRZkT4ZLE+dB64xFURpyiP1t6rB74mI/769E5AcT6vWqT+HUn39sGuWoY1P1Eoh1lJgEyN7wuUC2xuxUw95Mk2oiGBN7jfGMCqFeiSe0oDE2A+Wk/ktPKEGVahPfHQewsxZNCV++sTLz3X2UluBP4QCEYdwSoPpodIDwkNqEitD4T6WRutAQMDxXV6rjVj2pEH7ve1P7/IfngIZU4XtJ+Cbz+SghLy9vxowZ06ZN27hxY1JS0t27dx89epSXl3fmzJnNmzf/5z//6ejoIFGeTLEfleeDuGfcDFQFdUV6MvmEFmRPnlfvy0mto5FBQw7HlVWNV77cLRH5wcSXoGHivkPDACXeA7KV0v8uf7JsUnkDd4Pc8sCn+GRrfKZ6Y6lTi1b7Z9tOg1Tt7XfBAczWsBxES1gQ7A/2wall+C7Y8i8kEq35UR9OKmjixEeVOUHmj7BkT1CK9ictB8ZyAGMny7KDg4MXLlxYuHChrq4un8+fPn26iYnJ3Llz165dm5OTo36q0dhCPv3J1FQqIRJKTIESLcieAtM0XqHm03j+Td0SkR9MfH2ySYAp8fVBtrql+etzQFvjj8oBQG2Nr/tgH5xaBo1atLffCAfQmv8UMZMxEGhB9j/VOj9+vQSyEf/h9evXRUVFWVlZmZmZ169ff/r0aWdnJ7nWTUZYp8ayqalUIJJP7MBakD21JlN/i5pP/eG3liYiP5j4+pQTtqbEJED2ps9rycZXq9uzvz4ftDX+eByAc9Hncrv68fjzb/iiTxyjvwKLtCD7KzD5314FBlfqDJRQX6z5cjz6IO6ZIMMnUqUF2Z/IQPX1308v6suVMIEIafz05Wh4X8mErSnxT4Hs91Gofa7lwNQ4gM6FdRLSFVMrSvvWd8oBDQX71W4nz67/D/bHB6rsThCyAAAAAElFTkSuQmCC)"
   ]
  },
  {
   "cell_type": "code",
   "execution_count": null,
   "metadata": {
    "colab": {
     "base_uri": "https://localhost:8080/"
    },
    "executionInfo": {
     "elapsed": 49,
     "status": "ok",
     "timestamp": 1749531119365,
     "user": {
      "displayName": "최두성",
      "userId": "08438271081794727685"
     },
     "user_tz": -540
    },
    "id": "mmu6BycMvf7h",
    "outputId": "f4524375-b606-4b88-f323-6eef56e8ded4"
   },
   "outputs": [
    {
     "name": "stderr",
     "output_type": "stream",
     "text": [
      "average_tokens_across_devices is set to True but it is invalid when world size is1. Turn it to False automatically.\n"
     ]
    }
   ],
   "source": [
    "#Define hyper-parameters\n",
    "from trl import SFTConfig\n",
    "from transformers import Qwen2VLProcessor\n",
    "from qwen_vl_utils import process_vision_info\n",
    "\n",
    "args = SFTConfig(\n",
    "    output_dir = \"qwen2-7b-instruct-description\", #파라미터 저장할 파일 경로\n",
    "    num_train_epochs=10, #epoch수\n",
    "    per_device_train_batch_size=2, #배치사이즈, 클수록 좋지만 메모리 사이즈 고려해서 값 설정\n",
    "    gradient_accumulation_steps = 32, #지정 수 만큼 그레디언트 누적 후 한번에 backpropagation 수행\n",
    "    gradient_checkpointing = True, #계산시 사용되는 메모리 아끼기 위한 방법임. 계산의 중간값들을 계산하지 필요할 때 다시 계산함\n",
    "    optim = \"adamw_torch_fused\", #옵티마이저 설정함\n",
    "    logging_steps = 5, #log 정보를 출력한 step 단위\n",
    "    save_strategy = \"epoch\", #epoch마다 파라마터를 저장함. checking point가 epoch임\n",
    "    learning_rate = 2e-4, #학습률\n",
    "    bf16=True, # use bfloat16 precision\n",
    "    tf32=True, # use tf32 precision\n",
    "    warmup_ratio=0.03,                      # warmup ratio based on QLoRA paper\n",
    "    lr_scheduler_type=\"constant\",           # use constant learning rate scheduler\n",
    "    push_to_hub=True,                       # push model to hub\n",
    "    report_to=\"tensorboard\",                # report metrics to tensorboard\n",
    "    gradient_checkpointing_kwargs = {\"use_reentrant\": False}, # use reentrant checkpointing\n",
    "    dataset_text_field=\"\", # need a dummy field for collator\n",
    "    dataset_kwargs = {\"skip_prepare_dataset\": True} # important for collator\n",
    ")\n",
    "args.remove_unused_columns=False"
   ]
  },
  {
   "cell_type": "markdown",
   "metadata": {
    "id": "g-RY7SO1mYFd"
   },
   "source": [
    "## Collate: batch size의 데이터셋 만들기"
   ]
  },
  {
   "cell_type": "code",
   "execution_count": null,
   "metadata": {
    "id": "r9f3mY1fWRll"
   },
   "outputs": [],
   "source": [
    "#Create custom dataset\n",
    "#이미지 입력을 처리하기 위해서 Qwen2 모델은 process_vision_info 메서드를 지원함/ 다른 모델 사용할때 해당 모델이 지원하는 메서드를 확인해야 함\n",
    "\n",
    "#Data collator, 데이터를 배치사이즈로 묶는 작업을 진행함\n",
    "def collate_fn(examples):\n",
    "\n",
    "  #apply_chat_template는 messages 에 정의된 prompt를 role에 따라 정리함 text로\n",
    "  #이때 image 태그도 포함됨. 이거 학습하게 하지 않기 위해 뒤에서 이 부분 제거해줘야 함\n",
    "  #이때 tokenize=False 이면 출력을 string으로 제공함\n",
    "  \"\"\"\n",
    "  <|system|>\n",
    "  You are a helpful assistant.\n",
    "  <|user|>\n",
    "  What is the category of the Apple iPhone? <image>\n",
    "  <|assistant|>\n",
    "  Smartphones.\n",
    "  \"\"\"\n",
    "  texts = [processor.apply_chat_template(example[\"messages\"], tokenizer=False) for example in examples]\n",
    "\n",
    "  #process_vision_info의 역할은\n",
    "  # 1) messages안에 있는 다양한 형식으로 정의된 image(\"http://\", \"file://\", \"data:image\")에 대해서 PIL.Image.Image 객체로 변환하고\n",
    "  # 2) 이미지의 크기를 리사이즈함\n",
    "  image_inputs = [process_vision_info(example[\"messages\"])[0] for example in examples]\n",
    "\n",
    "  #Tokenize the texts and process the images\n",
    "  batch = processor(text=texts, images=image_inputs, return_tensors=\"pt\", padding=True)\n",
    "\n",
    "  \"\"\"\n",
    "    위 processor의 출력은 VLM(Vision-Language Model)에 입력으로 들어갈 수 있도록\n",
    "    텍스트와 이미지를 각각 PyTorch 텐서 형태로 전처리한 결과입니다.\n",
    "\n",
    "    1. input_ids (torch.LongTensor):\n",
    "       - apply_chat_template로 생성된 텍스트를 tokenizer가 정수 인덱스 시퀀스로 토큰화한 결과\n",
    "       - shape: (batch_size, sequence_length) # system·user·assistant 역할이 포함된 전체 대화 시퀀스를 토큰화한 뒤,\n",
    "                                              # 배치 내 가장 긴 시퀀스에 맞춰 padding을 적용한 결과\n",
    "       - 예: [[101, 1045, 2293, 2023, 3185, 102], [...], ...]\n",
    "\n",
    "    2. attention_mask (torch.LongTensor):\n",
    "       - input_ids에서 실제 토큰은 1, padding된 위치는 0으로 마스킹\n",
    "       - shape: (batch_size, sequence_length)\n",
    "       - 예: [[1, 1, 1, 1, 1, 1], [1, 1, 1, 0, 0, 0], ...]\n",
    "\n",
    "    3. pixel_values (torch.FloatTensor):\n",
    "       - vlm이 이해할 수 있는 형태로 텐서 변환 진행\n",
    "       - shape: (batch_size, num_channels, height, width)\n",
    "       - 예: (2, 3, 224, 224) → RGB 이미지 2장, 224x224 픽셀\n",
    "       - 각 픽셀 값은 0~1 사이로 정규화되며, vision encoder 입력으로 사용됨\n",
    "  \"\"\"\n",
    "\n",
    "\n",
    "  # 이제 input_ids는 정답 처리가 될거임. 현재는 입력과 출력에 대한 정보를 모두 Instruction model의 상황임\n",
    "  # 대체로는 출력만 학습하도록 설계함\n",
    "  # 이를 위해 현재 input_ids에는 <image>, padding의 임베딩 벡터들을 찾아서 무의미한 값으로 바꿀것임\n",
    "\n",
    "  labels = batch[\"input_ids\"].clone()\n",
    "  #pad token 무시하기\n",
    "  labels[labels == processor.tokenizer.pad_token_id] = -100\n",
    "\n",
    "  #이미지 태그 무시하기\n",
    "  if isinstance(processor, Qwen2VLProcessor):\n",
    "    image_tokens = [151652,151653,151655]\n",
    "  else:\n",
    "    image_tokens = [processor.tokenizer.convert_tokens_to_ids(processor.image_token)]\n",
    "  for image_token_id in image_tokens:\n",
    "    labels[labels == image_token_id] = -100\n",
    "  batch[\"labels\"] = labels\n",
    "\n",
    "  return batch"
   ]
  },
  {
   "cell_type": "markdown",
   "metadata": {
    "id": "G6iGwlRTO4jr"
   },
   "source": [
    "Insturction Modeling(IM)\n",
    "- 기존에는 출력만 학습하는데 반해, 입력과 출력 모두를 학습시키는 방법임\n",
    "- 이 방법은 입력이 출력에 비해 상당히 길거나, 학습데이터 수가 적을 때 효과적인 방법임. 이때 overfitting이 많이 되는데 IM이 이런 효과를 줄여줌\n",
    "- 즉, 학습자원이 부족할 때 실용적인 방법이란것임!"
   ]
  },
  {
   "cell_type": "code",
   "execution_count": null,
   "metadata": {
    "colab": {
     "base_uri": "https://localhost:8080/"
    },
    "collapsed": true,
    "executionInfo": {
     "elapsed": 1607,
     "status": "ok",
     "timestamp": 1749531120995,
     "user": {
      "displayName": "최두성",
      "userId": "08438271081794727685"
     },
     "user_tz": -540
    },
    "id": "gy2P4FR5gn61",
    "outputId": "f0edd5fa-0791-40b3-f195-71ec8f104423"
   },
   "outputs": [
    {
     "name": "stderr",
     "output_type": "stream",
     "text": [
      "No label_names provided for model class `PeftModelForCausalLM`. Since `PeftModel` hides base models input arguments, if label_names is not given, label_names can't be set automatically within `Trainer`. Note that empty label_names list will be used instead.\n"
     ]
    }
   ],
   "source": [
    "#SFTTrainer를 통해서 학습을 진행함\n",
    "\n",
    "from trl import SFTTrainer\n",
    "\n",
    "trainer = SFTTrainer(\n",
    "    model=model,\n",
    "    args=args,\n",
    "    train_dataset=dataset,\n",
    "    data_collator=collate_fn,\n",
    "    peft_config=peft_config,\n",
    "    processing_class=processor.tokenizer,\n",
    ")"
   ]
  },
  {
   "cell_type": "markdown",
   "metadata": {
    "id": "hODYUMK5CjkX"
   },
   "source": [
    "## processor.apply_chat_template 예시"
   ]
  },
  {
   "cell_type": "code",
   "execution_count": null,
   "metadata": {
    "collapsed": true,
    "id": "BZGHQJnluirF"
   },
   "outputs": [],
   "source": [
    "# from transformers import AutoProcessor, LlavaOnevisionForConditionalGeneration\n",
    "\n",
    "# model = LlavaOnevisionForConditionalGeneration.from_pretrained(\"llava-hf/llava-onevision-qwen2-0.5b-ov-hf\")\n",
    "# processor = AutoProcessor.fro.m_pretrained(\"llava-hf/llava-onevision-qwen2-0.5b-ov-hf\")\n",
    "\n",
    "# messages = [\n",
    "#     {\n",
    "#       \"role\": \"system\",\n",
    "#       \"content\": [{\"type\": \"text\", \"text\": \"You are a friendly chatbot who always responds in the style of a pirate\"}],\n",
    "#     },\n",
    "#     {\n",
    "#       \"role\": \"user\",\n",
    "#       \"content\": [\n",
    "#             {\"type\": \"image\", \"url\": \"http://images.cocodataset.org/val2017/000000039769.jpg\"},\n",
    "#             {\"type\": \"text\", \"text\": \"What are these?\"},\n",
    "#         ],\n",
    "#     },\n",
    "# ]"
   ]
  },
  {
   "cell_type": "code",
   "execution_count": null,
   "metadata": {
    "id": "7ShtqQj8u1oW"
   },
   "outputs": [],
   "source": [
    "# processed_chat = processor.apply_chat_template(messages, add_generation_prompt=True, tokenize=False, return_dict=True, return_tensors=\"pt\")\n",
    "# processed_chat"
   ]
  },
  {
   "cell_type": "code",
   "execution_count": null,
   "metadata": {
    "id": "Vnb-21Zy9S4q"
   },
   "outputs": [],
   "source": [
    "# processed_chat = processor.apply_chat_template(messages, add_generation_prompt=True, tokenize=True, return_dict=True, return_tensors=\"pt\")\n",
    "# processed_chat"
   ]
  },
  {
   "cell_type": "markdown",
   "metadata": {
    "id": "taPCR7CMmGzN"
   },
   "source": [
    "## Train model"
   ]
  },
  {
   "cell_type": "code",
   "execution_count": null,
   "metadata": {
    "id": "sNu9p7n9f3dL"
   },
   "outputs": [],
   "source": [
    "torch.cuda.empty_cache()"
   ]
  },
  {
   "cell_type": "code",
   "execution_count": null,
   "metadata": {
    "colab": {
     "base_uri": "https://localhost:8080/",
     "height": 599
    },
    "collapsed": true,
    "executionInfo": {
     "elapsed": 216871,
     "status": "ok",
     "timestamp": 1749531338274,
     "user": {
      "displayName": "최두성",
      "userId": "08438271081794727685"
     },
     "user_tz": -540
    },
    "id": "XXI0qbuojJTv",
    "outputId": "69895b9f-f31c-4695-ace9-cb45084870ec"
   },
   "outputs": [
    {
     "name": "stderr",
     "output_type": "stream",
     "text": [
      "`use_cache=True` is incompatible with gradient checkpointing. Setting `use_cache=False`...\n",
      "`loss_type=None` was set in the config but it is unrecognised.Using the default loss: `ForCausalLMLoss`.\n",
      "/usr/local/lib/python3.11/dist-packages/torch/utils/checkpoint.py:1399: FutureWarning: `torch.cpu.amp.autocast(args...)` is deprecated. Please use `torch.amp.autocast('cpu', args...)` instead.\n",
      "  with device_autocast_ctx, torch.cpu.amp.autocast(**cpu_autocast_kwargs), recompute_context:  # type: ignore[attr-defined]\n"
     ]
    },
    {
     "data": {
      "text/html": [
       "\n",
       "    <div>\n",
       "      \n",
       "      <progress value='10' max='10' style='width:300px; height:20px; vertical-align: middle;'></progress>\n",
       "      [10/10 03:06, Epoch 10/10]\n",
       "    </div>\n",
       "    <table border=\"1\" class=\"dataframe\">\n",
       "  <thead>\n",
       " <tr style=\"text-align: left;\">\n",
       "      <th>Step</th>\n",
       "      <th>Training Loss</th>\n",
       "    </tr>\n",
       "  </thead>\n",
       "  <tbody>\n",
       "    <tr>\n",
       "      <td>5</td>\n",
       "      <td>7.694100</td>\n",
       "    </tr>\n",
       "    <tr>\n",
       "      <td>10</td>\n",
       "      <td>7.123600</td>\n",
       "    </tr>\n",
       "  </tbody>\n",
       "</table><p>"
      ],
      "text/plain": [
       "<IPython.core.display.HTML object>"
      ]
     },
     "metadata": {},
     "output_type": "display_data"
    },
    {
     "name": "stderr",
     "output_type": "stream",
     "text": [
      "/usr/local/lib/python3.11/dist-packages/torch/utils/checkpoint.py:1399: FutureWarning: `torch.cpu.amp.autocast(args...)` is deprecated. Please use `torch.amp.autocast('cpu', args...)` instead.\n",
      "  with device_autocast_ctx, torch.cpu.amp.autocast(**cpu_autocast_kwargs), recompute_context:  # type: ignore[attr-defined]\n",
      "/usr/local/lib/python3.11/dist-packages/torch/utils/checkpoint.py:1399: FutureWarning: `torch.cpu.amp.autocast(args...)` is deprecated. Please use `torch.amp.autocast('cpu', args...)` instead.\n",
      "  with device_autocast_ctx, torch.cpu.amp.autocast(**cpu_autocast_kwargs), recompute_context:  # type: ignore[attr-defined]\n",
      "/usr/local/lib/python3.11/dist-packages/torch/utils/checkpoint.py:1399: FutureWarning: `torch.cpu.amp.autocast(args...)` is deprecated. Please use `torch.amp.autocast('cpu', args...)` instead.\n",
      "  with device_autocast_ctx, torch.cpu.amp.autocast(**cpu_autocast_kwargs), recompute_context:  # type: ignore[attr-defined]\n",
      "/usr/local/lib/python3.11/dist-packages/torch/utils/checkpoint.py:1399: FutureWarning: `torch.cpu.amp.autocast(args...)` is deprecated. Please use `torch.amp.autocast('cpu', args...)` instead.\n",
      "  with device_autocast_ctx, torch.cpu.amp.autocast(**cpu_autocast_kwargs), recompute_context:  # type: ignore[attr-defined]\n",
      "/usr/local/lib/python3.11/dist-packages/torch/utils/checkpoint.py:1399: FutureWarning: `torch.cpu.amp.autocast(args...)` is deprecated. Please use `torch.amp.autocast('cpu', args...)` instead.\n",
      "  with device_autocast_ctx, torch.cpu.amp.autocast(**cpu_autocast_kwargs), recompute_context:  # type: ignore[attr-defined]\n",
      "/usr/local/lib/python3.11/dist-packages/torch/utils/checkpoint.py:1399: FutureWarning: `torch.cpu.amp.autocast(args...)` is deprecated. Please use `torch.amp.autocast('cpu', args...)` instead.\n",
      "  with device_autocast_ctx, torch.cpu.amp.autocast(**cpu_autocast_kwargs), recompute_context:  # type: ignore[attr-defined]\n",
      "/usr/local/lib/python3.11/dist-packages/torch/utils/checkpoint.py:1399: FutureWarning: `torch.cpu.amp.autocast(args...)` is deprecated. Please use `torch.amp.autocast('cpu', args...)` instead.\n",
      "  with device_autocast_ctx, torch.cpu.amp.autocast(**cpu_autocast_kwargs), recompute_context:  # type: ignore[attr-defined]\n",
      "/usr/local/lib/python3.11/dist-packages/torch/utils/checkpoint.py:1399: FutureWarning: `torch.cpu.amp.autocast(args...)` is deprecated. Please use `torch.amp.autocast('cpu', args...)` instead.\n",
      "  with device_autocast_ctx, torch.cpu.amp.autocast(**cpu_autocast_kwargs), recompute_context:  # type: ignore[attr-defined]\n",
      "/usr/local/lib/python3.11/dist-packages/torch/utils/checkpoint.py:1399: FutureWarning: `torch.cpu.amp.autocast(args...)` is deprecated. Please use `torch.amp.autocast('cpu', args...)` instead.\n",
      "  with device_autocast_ctx, torch.cpu.amp.autocast(**cpu_autocast_kwargs), recompute_context:  # type: ignore[attr-defined]\n",
      "No files have been modified since last commit. Skipping to prevent empty commit.\n",
      "WARNING:huggingface_hub.hf_api:No files have been modified since last commit. Skipping to prevent empty commit.\n"
     ]
    }
   ],
   "source": [
    "# 훈련 시작\n",
    "trainer.train()\n",
    "\n",
    "# 모델 저장\n",
    "trainer.save_model(args.output_dir)"
   ]
  },
  {
   "cell_type": "code",
   "execution_count": null,
   "metadata": {
    "colab": {
     "base_uri": "https://localhost:8080/"
    },
    "executionInfo": {
     "elapsed": 22729,
     "status": "ok",
     "timestamp": 1749531530050,
     "user": {
      "displayName": "최두성",
      "userId": "08438271081794727685"
     },
     "user_tz": -540
    },
    "id": "AGmFfd89k0Qz",
    "outputId": "cfb0a007-7caa-4bad-a351-66054d12708f"
   },
   "outputs": [
    {
     "name": "stdout",
     "output_type": "stream",
     "text": [
      "Mounted at /content/drive\n"
     ]
    }
   ],
   "source": [
    "from google.colab import drive\n",
    "drive.mount('/content/drive')"
   ]
  },
  {
   "cell_type": "code",
   "execution_count": null,
   "metadata": {
    "colab": {
     "base_uri": "https://localhost:8080/"
    },
    "executionInfo": {
     "elapsed": 11,
     "status": "ok",
     "timestamp": 1749531537021,
     "user": {
      "displayName": "최두성",
      "userId": "08438271081794727685"
     },
     "user_tz": -540
    },
    "id": "r-dTVYSOd_a5",
    "outputId": "df9d21a8-38e5-4299-f5c0-1e88028fe82d"
   },
   "outputs": [
    {
     "name": "stdout",
     "output_type": "stream",
     "text": [
      "cwd: /content\n",
      "['qwen2-7b-instruct-description/checkpoint-6', 'qwen2-7b-instruct-description/tokenizer.json', 'qwen2-7b-instruct-description/checkpoint-4', 'qwen2-7b-instruct-description/adapter_config.json', 'qwen2-7b-instruct-description/README.md', 'qwen2-7b-instruct-description/special_tokens_map.json', 'qwen2-7b-instruct-description/tokenizer_config.json', 'qwen2-7b-instruct-description/checkpoint-2', 'qwen2-7b-instruct-description/chat_template.jinja', 'qwen2-7b-instruct-description/checkpoint-8', 'qwen2-7b-instruct-description/checkpoint-9', 'qwen2-7b-instruct-description/runs', 'qwen2-7b-instruct-description/checkpoint-1', 'qwen2-7b-instruct-description/checkpoint-10', 'qwen2-7b-instruct-description/added_tokens.json', 'qwen2-7b-instruct-description/checkpoint-3', 'qwen2-7b-instruct-description/adapter_model.safetensors', 'qwen2-7b-instruct-description/vocab.json', 'qwen2-7b-instruct-description/checkpoint-5', 'qwen2-7b-instruct-description/training_args.bin', 'qwen2-7b-instruct-description/merges.txt', 'qwen2-7b-instruct-description/checkpoint-7']\n"
     ]
    }
   ],
   "source": [
    "import os, glob\n",
    "\n",
    "# 현재 작업 디렉터리 확인\n",
    "print(\"cwd:\", os.getcwd())\n",
    "\n",
    "# 모델 폴더가 실제로 있는지 확인\n",
    "print(glob.glob(\"qwen2-7b-instruct-description/*\"))"
   ]
  },
  {
   "cell_type": "code",
   "execution_count": null,
   "metadata": {
    "id": "dB-j05qBlC8h"
   },
   "outputs": [],
   "source": [
    "!cp -r /content/qwen2-7b-instruct-description /content/drive/MyDrive/VLM_checkpoints"
   ]
  },
  {
   "cell_type": "code",
   "execution_count": null,
   "metadata": {
    "id": "-V9Slei6lEoP"
   },
   "outputs": [],
   "source": []
  }
 ],
 "metadata": {
  "accelerator": "GPU",
  "colab": {
   "authorship_tag": "ABX9TyP73q9LOHhZ7oMZ2pD7qepd",
   "collapsed_sections": [
    "tnU2qNvhnEsN",
    "RX0AVfv2m1k1",
    "lj9S6G_lmqo9",
    "V0o8qSytmlz0",
    "g-RY7SO1mYFd",
    "l7w0rlFhmKEN"
   ],
   "gpuType": "A100",
   "machine_shape": "hm",
   "provenance": []
  },
  "kernelspec": {
   "display_name": "Python 3",
   "name": "python3"
  },
  "language_info": {
   "name": "python"
  },
  "widgets": {
   "application/vnd.jupyter.widget-state+json": {
    "05038d80d6cc405a936d5a9eb1217f22": {
     "model_module": "@jupyter-widgets/base",
     "model_module_version": "1.2.0",
     "model_name": "LayoutModel",
     "state": {
      "_model_module": "@jupyter-widgets/base",
      "_model_module_version": "1.2.0",
      "_model_name": "LayoutModel",
      "_view_count": null,
      "_view_module": "@jupyter-widgets/base",
      "_view_module_version": "1.2.0",
      "_view_name": "LayoutView",
      "align_content": null,
      "align_items": null,
      "align_self": null,
      "border": null,
      "bottom": null,
      "display": null,
      "flex": null,
      "flex_flow": null,
      "grid_area": null,
      "grid_auto_columns": null,
      "grid_auto_flow": null,
      "grid_auto_rows": null,
      "grid_column": null,
      "grid_gap": null,
      "grid_row": null,
      "grid_template_areas": null,
      "grid_template_columns": null,
      "grid_template_rows": null,
      "height": null,
      "justify_content": null,
      "justify_items": null,
      "left": null,
      "margin": null,
      "max_height": null,
      "max_width": null,
      "min_height": null,
      "min_width": null,
      "object_fit": null,
      "object_position": null,
      "order": null,
      "overflow": null,
      "overflow_x": null,
      "overflow_y": null,
      "padding": null,
      "right": null,
      "top": null,
      "visibility": null,
      "width": null
     }
    },
    "1bed8a4e8ca34311a77c257c13bdd162": {
     "model_module": "@jupyter-widgets/base",
     "model_module_version": "1.2.0",
     "model_name": "LayoutModel",
     "state": {
      "_model_module": "@jupyter-widgets/base",
      "_model_module_version": "1.2.0",
      "_model_name": "LayoutModel",
      "_view_count": null,
      "_view_module": "@jupyter-widgets/base",
      "_view_module_version": "1.2.0",
      "_view_name": "LayoutView",
      "align_content": null,
      "align_items": null,
      "align_self": null,
      "border": null,
      "bottom": null,
      "display": null,
      "flex": null,
      "flex_flow": null,
      "grid_area": null,
      "grid_auto_columns": null,
      "grid_auto_flow": null,
      "grid_auto_rows": null,
      "grid_column": null,
      "grid_gap": null,
      "grid_row": null,
      "grid_template_areas": null,
      "grid_template_columns": null,
      "grid_template_rows": null,
      "height": null,
      "justify_content": null,
      "justify_items": null,
      "left": null,
      "margin": null,
      "max_height": null,
      "max_width": null,
      "min_height": null,
      "min_width": null,
      "object_fit": null,
      "object_position": null,
      "order": null,
      "overflow": null,
      "overflow_x": null,
      "overflow_y": null,
      "padding": null,
      "right": null,
      "top": null,
      "visibility": null,
      "width": null
     }
    },
    "21349c52f4974624b89cbd889a0b6707": {
     "model_module": "@jupyter-widgets/base",
     "model_module_version": "1.2.0",
     "model_name": "LayoutModel",
     "state": {
      "_model_module": "@jupyter-widgets/base",
      "_model_module_version": "1.2.0",
      "_model_name": "LayoutModel",
      "_view_count": null,
      "_view_module": "@jupyter-widgets/base",
      "_view_module_version": "1.2.0",
      "_view_name": "LayoutView",
      "align_content": null,
      "align_items": null,
      "align_self": null,
      "border": null,
      "bottom": null,
      "display": null,
      "flex": null,
      "flex_flow": null,
      "grid_area": null,
      "grid_auto_columns": null,
      "grid_auto_flow": null,
      "grid_auto_rows": null,
      "grid_column": null,
      "grid_gap": null,
      "grid_row": null,
      "grid_template_areas": null,
      "grid_template_columns": null,
      "grid_template_rows": null,
      "height": null,
      "justify_content": null,
      "justify_items": null,
      "left": null,
      "margin": null,
      "max_height": null,
      "max_width": null,
      "min_height": null,
      "min_width": null,
      "object_fit": null,
      "object_position": null,
      "order": null,
      "overflow": null,
      "overflow_x": null,
      "overflow_y": null,
      "padding": null,
      "right": null,
      "top": null,
      "visibility": null,
      "width": null
     }
    },
    "2e2f593d187341efb2aa9b7f453e780d": {
     "model_module": "@jupyter-widgets/base",
     "model_module_version": "1.2.0",
     "model_name": "LayoutModel",
     "state": {
      "_model_module": "@jupyter-widgets/base",
      "_model_module_version": "1.2.0",
      "_model_name": "LayoutModel",
      "_view_count": null,
      "_view_module": "@jupyter-widgets/base",
      "_view_module_version": "1.2.0",
      "_view_name": "LayoutView",
      "align_content": null,
      "align_items": null,
      "align_self": null,
      "border": null,
      "bottom": null,
      "display": null,
      "flex": null,
      "flex_flow": null,
      "grid_area": null,
      "grid_auto_columns": null,
      "grid_auto_flow": null,
      "grid_auto_rows": null,
      "grid_column": null,
      "grid_gap": null,
      "grid_row": null,
      "grid_template_areas": null,
      "grid_template_columns": null,
      "grid_template_rows": null,
      "height": null,
      "justify_content": null,
      "justify_items": null,
      "left": null,
      "margin": null,
      "max_height": null,
      "max_width": null,
      "min_height": null,
      "min_width": null,
      "object_fit": null,
      "object_position": null,
      "order": null,
      "overflow": null,
      "overflow_x": null,
      "overflow_y": null,
      "padding": null,
      "right": null,
      "top": null,
      "visibility": null,
      "width": null
     }
    },
    "700d65d42c40462897cae5504ca1725f": {
     "model_module": "@jupyter-widgets/controls",
     "model_module_version": "1.5.0",
     "model_name": "HTMLModel",
     "state": {
      "_dom_classes": [],
      "_model_module": "@jupyter-widgets/controls",
      "_model_module_version": "1.5.0",
      "_model_name": "HTMLModel",
      "_view_count": null,
      "_view_module": "@jupyter-widgets/controls",
      "_view_module_version": "1.5.0",
      "_view_name": "HTMLView",
      "description": "",
      "description_tooltip": null,
      "layout": "IPY_MODEL_1bed8a4e8ca34311a77c257c13bdd162",
      "placeholder": "​",
      "style": "IPY_MODEL_c3f7f5e6df0e4346acbe5011b34cd902",
      "value": "Loading checkpoint shards: 100%"
     }
    },
    "907a1348caa54295a69cefae709d5a00": {
     "model_module": "@jupyter-widgets/controls",
     "model_module_version": "1.5.0",
     "model_name": "DescriptionStyleModel",
     "state": {
      "_model_module": "@jupyter-widgets/controls",
      "_model_module_version": "1.5.0",
      "_model_name": "DescriptionStyleModel",
      "_view_count": null,
      "_view_module": "@jupyter-widgets/base",
      "_view_module_version": "1.2.0",
      "_view_name": "StyleView",
      "description_width": ""
     }
    },
    "c3f7f5e6df0e4346acbe5011b34cd902": {
     "model_module": "@jupyter-widgets/controls",
     "model_module_version": "1.5.0",
     "model_name": "DescriptionStyleModel",
     "state": {
      "_model_module": "@jupyter-widgets/controls",
      "_model_module_version": "1.5.0",
      "_model_name": "DescriptionStyleModel",
      "_view_count": null,
      "_view_module": "@jupyter-widgets/base",
      "_view_module_version": "1.2.0",
      "_view_name": "StyleView",
      "description_width": ""
     }
    },
    "c4364cd7855549c3a09e7eb2b9c7f1e8": {
     "model_module": "@jupyter-widgets/controls",
     "model_module_version": "1.5.0",
     "model_name": "ProgressStyleModel",
     "state": {
      "_model_module": "@jupyter-widgets/controls",
      "_model_module_version": "1.5.0",
      "_model_name": "ProgressStyleModel",
      "_view_count": null,
      "_view_module": "@jupyter-widgets/base",
      "_view_module_version": "1.2.0",
      "_view_name": "StyleView",
      "bar_color": null,
      "description_width": ""
     }
    },
    "f0169d472933456fbc07001aa3301536": {
     "model_module": "@jupyter-widgets/controls",
     "model_module_version": "1.5.0",
     "model_name": "HTMLModel",
     "state": {
      "_dom_classes": [],
      "_model_module": "@jupyter-widgets/controls",
      "_model_module_version": "1.5.0",
      "_model_name": "HTMLModel",
      "_view_count": null,
      "_view_module": "@jupyter-widgets/controls",
      "_view_module_version": "1.5.0",
      "_view_name": "HTMLView",
      "description": "",
      "description_tooltip": null,
      "layout": "IPY_MODEL_2e2f593d187341efb2aa9b7f453e780d",
      "placeholder": "​",
      "style": "IPY_MODEL_907a1348caa54295a69cefae709d5a00",
      "value": " 5/5 [00:18&lt;00:00,  3.07s/it]"
     }
    },
    "f07bcf9c5cb245f4bcddf05789132b65": {
     "model_module": "@jupyter-widgets/controls",
     "model_module_version": "1.5.0",
     "model_name": "FloatProgressModel",
     "state": {
      "_dom_classes": [],
      "_model_module": "@jupyter-widgets/controls",
      "_model_module_version": "1.5.0",
      "_model_name": "FloatProgressModel",
      "_view_count": null,
      "_view_module": "@jupyter-widgets/controls",
      "_view_module_version": "1.5.0",
      "_view_name": "ProgressView",
      "bar_style": "success",
      "description": "",
      "description_tooltip": null,
      "layout": "IPY_MODEL_21349c52f4974624b89cbd889a0b6707",
      "max": 5,
      "min": 0,
      "orientation": "horizontal",
      "style": "IPY_MODEL_c4364cd7855549c3a09e7eb2b9c7f1e8",
      "value": 5
     }
    },
    "f1fbcca915f34e60b2b591125dac7efa": {
     "model_module": "@jupyter-widgets/controls",
     "model_module_version": "1.5.0",
     "model_name": "HBoxModel",
     "state": {
      "_dom_classes": [],
      "_model_module": "@jupyter-widgets/controls",
      "_model_module_version": "1.5.0",
      "_model_name": "HBoxModel",
      "_view_count": null,
      "_view_module": "@jupyter-widgets/controls",
      "_view_module_version": "1.5.0",
      "_view_name": "HBoxView",
      "box_style": "",
      "children": [
       "IPY_MODEL_700d65d42c40462897cae5504ca1725f",
       "IPY_MODEL_f07bcf9c5cb245f4bcddf05789132b65",
       "IPY_MODEL_f0169d472933456fbc07001aa3301536"
      ],
      "layout": "IPY_MODEL_05038d80d6cc405a936d5a9eb1217f22"
     }
    }
   }
  }
 },
 "nbformat": 4,
 "nbformat_minor": 0
}
